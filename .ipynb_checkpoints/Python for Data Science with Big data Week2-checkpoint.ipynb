{
 "cells": [
  {
   "cell_type": "markdown",
   "id": "055dded7",
   "metadata": {},
   "source": [
    "# Introduction to Python\n",
    "\n",
    "## How to use Markdown\n",
    "\n",
    "**Mathematical symbols**<br>\n",
    "$ mathematical symbols $\n",
    "\n",
    "**Monospace font**<br>\n",
    "`string`\n",
    "\n",
    "**Indenting** <br>\n",
    "> Text that will be indented when the Markdown is rendered.\n",
    "\n",
    "**Bullets** <br>\n",
    "- Main bullet point\n",
    "     - Sub bullet point\n",
    "\n",
    "**Numbered lists** <br>\n",
    "1. Numbered item\n",
    "1. Numbered item\n",
    "1. Numbered item\n",
    "     1. Substep"
   ]
  },
  {
   "cell_type": "markdown",
   "id": "ef0789a6",
   "metadata": {},
   "source": [
    "## Start to Python"
   ]
  },
  {
   "cell_type": "markdown",
   "id": "1a417fa8",
   "metadata": {},
   "source": [
    "### Basic Data Type\n",
    "- Integer\n",
    "- Float\n",
    "- String"
   ]
  },
  {
   "cell_type": "code",
   "execution_count": 1,
   "id": "18e9998f",
   "metadata": {},
   "outputs": [
    {
     "data": {
      "text/plain": [
       "10"
      ]
     },
     "execution_count": 1,
     "metadata": {},
     "output_type": "execute_result"
    }
   ],
   "source": [
    "10"
   ]
  },
  {
   "cell_type": "code",
   "execution_count": 3,
   "id": "6b91d1cf",
   "metadata": {},
   "outputs": [
    {
     "data": {
      "text/plain": [
       "10.5"
      ]
     },
     "execution_count": 3,
     "metadata": {},
     "output_type": "execute_result"
    }
   ],
   "source": [
    "10.50"
   ]
  },
  {
   "cell_type": "code",
   "execution_count": 4,
   "id": "1ac0b84a",
   "metadata": {},
   "outputs": [
    {
     "data": {
      "text/plain": [
       "'Hello Python'"
      ]
     },
     "execution_count": 4,
     "metadata": {},
     "output_type": "execute_result"
    }
   ],
   "source": [
    "\"Hello Python\""
   ]
  },
  {
   "cell_type": "markdown",
   "id": "3ed15181",
   "metadata": {},
   "source": [
    "## Operator Precedences (Calculate)"
   ]
  },
  {
   "cell_type": "code",
   "execution_count": 5,
   "id": "64687565",
   "metadata": {},
   "outputs": [
    {
     "data": {
      "text/plain": [
       "13.0"
      ]
     },
     "execution_count": 5,
     "metadata": {},
     "output_type": "execute_result"
    }
   ],
   "source": [
    "2+5*6/3+(7-2*3)"
   ]
  },
  {
   "cell_type": "code",
   "execution_count": 10,
   "id": "b728aec5",
   "metadata": {},
   "outputs": [
    {
     "data": {
      "text/plain": [
       "256"
      ]
     },
     "execution_count": 10,
     "metadata": {},
     "output_type": "execute_result"
    }
   ],
   "source": [
    "# ** ยกกำลัง 2^(2^3)\n",
    "2**2**3"
   ]
  },
  {
   "cell_type": "code",
   "execution_count": null,
   "id": "77c1a17f",
   "metadata": {},
   "outputs": [],
   "source": []
  }
 ],
 "metadata": {
  "kernelspec": {
   "display_name": "Python 3 (ipykernel)",
   "language": "python",
   "name": "python3"
  },
  "language_info": {
   "codemirror_mode": {
    "name": "ipython",
    "version": 3
   },
   "file_extension": ".py",
   "mimetype": "text/x-python",
   "name": "python",
   "nbconvert_exporter": "python",
   "pygments_lexer": "ipython3",
   "version": "3.10.9"
  }
 },
 "nbformat": 4,
 "nbformat_minor": 5
}
