{
 "cells": [
  {
   "cell_type": "markdown",
   "id": "747ed26e",
   "metadata": {},
   "source": [
    "*สอน Machine Learning เบื้องต้น: การพยากรณ์ราคาขาย Big Mac ด้วย Simple Linear Regression*<br>\n",
    "https://www.youtube.com/watch?v=1Rkt8Zk3KBM"
   ]
  },
  {
   "cell_type": "code",
   "execution_count": 1,
   "id": "71545573",
   "metadata": {},
   "outputs": [],
   "source": [
    "import pandas as pd\n",
    "import seaborn as sb\n",
    "import numpy as np\n",
    "import matplotlib.pyplot as plt\n",
    "%matplotlib inline\n",
    "%config InlineBackend.figure_format = \"retina\""
   ]
  },
  {
   "cell_type": "code",
   "execution_count": 29,
   "id": "6386c8af",
   "metadata": {},
   "outputs": [
    {
     "data": {
      "text/html": [
       "<div>\n",
       "<style scoped>\n",
       "    .dataframe tbody tr th:only-of-type {\n",
       "        vertical-align: middle;\n",
       "    }\n",
       "\n",
       "    .dataframe tbody tr th {\n",
       "        vertical-align: top;\n",
       "    }\n",
       "\n",
       "    .dataframe thead th {\n",
       "        text-align: right;\n",
       "    }\n",
       "</style>\n",
       "<table border=\"1\" class=\"dataframe\">\n",
       "  <thead>\n",
       "    <tr style=\"text-align: right;\">\n",
       "      <th></th>\n",
       "      <th>date</th>\n",
       "      <th>iso_a3</th>\n",
       "      <th>currency_code</th>\n",
       "      <th>name</th>\n",
       "      <th>local_price</th>\n",
       "      <th>dollar_ex</th>\n",
       "      <th>dollar_price</th>\n",
       "      <th>GDP_bigmac</th>\n",
       "      <th>adj_price</th>\n",
       "      <th>USD</th>\n",
       "      <th>EUR</th>\n",
       "      <th>GBP</th>\n",
       "      <th>JPY</th>\n",
       "      <th>CNY</th>\n",
       "    </tr>\n",
       "  </thead>\n",
       "  <tbody>\n",
       "    <tr>\n",
       "      <th>0</th>\n",
       "      <td>2000-04-01</td>\n",
       "      <td>ARG</td>\n",
       "      <td>ARS</td>\n",
       "      <td>Argentina</td>\n",
       "      <td>2.50</td>\n",
       "      <td>1.000000</td>\n",
       "      <td>2.500000</td>\n",
       "      <td>7803.328512</td>\n",
       "      <td>1.922652</td>\n",
       "      <td>0.39117</td>\n",
       "      <td>NaN</td>\n",
       "      <td>-0.06626</td>\n",
       "      <td>0.10096</td>\n",
       "      <td>0.97153</td>\n",
       "    </tr>\n",
       "    <tr>\n",
       "      <th>1</th>\n",
       "      <td>2000-04-01</td>\n",
       "      <td>AUS</td>\n",
       "      <td>AUD</td>\n",
       "      <td>Australia</td>\n",
       "      <td>2.59</td>\n",
       "      <td>1.680000</td>\n",
       "      <td>1.541667</td>\n",
       "      <td>29144.876973</td>\n",
       "      <td>2.301550</td>\n",
       "      <td>-0.28335</td>\n",
       "      <td>NaN</td>\n",
       "      <td>-0.51898</td>\n",
       "      <td>-0.43285</td>\n",
       "      <td>0.01563</td>\n",
       "    </tr>\n",
       "    <tr>\n",
       "      <th>2</th>\n",
       "      <td>2000-04-01</td>\n",
       "      <td>BRA</td>\n",
       "      <td>BRL</td>\n",
       "      <td>Brazil</td>\n",
       "      <td>2.95</td>\n",
       "      <td>1.790000</td>\n",
       "      <td>1.648045</td>\n",
       "      <td>4822.738983</td>\n",
       "      <td>1.869734</td>\n",
       "      <td>-0.05696</td>\n",
       "      <td>NaN</td>\n",
       "      <td>-0.36704</td>\n",
       "      <td>-0.25369</td>\n",
       "      <td>0.33645</td>\n",
       "    </tr>\n",
       "    <tr>\n",
       "      <th>3</th>\n",
       "      <td>2000-04-01</td>\n",
       "      <td>GBR</td>\n",
       "      <td>GBP</td>\n",
       "      <td>Britain</td>\n",
       "      <td>1.90</td>\n",
       "      <td>0.632911</td>\n",
       "      <td>3.002000</td>\n",
       "      <td>20932.924968</td>\n",
       "      <td>2.155755</td>\n",
       "      <td>0.48988</td>\n",
       "      <td>NaN</td>\n",
       "      <td>0.00000</td>\n",
       "      <td>0.17908</td>\n",
       "      <td>1.11143</td>\n",
       "    </tr>\n",
       "    <tr>\n",
       "      <th>4</th>\n",
       "      <td>2000-04-01</td>\n",
       "      <td>CAN</td>\n",
       "      <td>CAD</td>\n",
       "      <td>Canada</td>\n",
       "      <td>2.85</td>\n",
       "      <td>1.470000</td>\n",
       "      <td>1.938776</td>\n",
       "      <td>26087.329235</td>\n",
       "      <td>2.247266</td>\n",
       "      <td>-0.07698</td>\n",
       "      <td>NaN</td>\n",
       "      <td>-0.38047</td>\n",
       "      <td>-0.26953</td>\n",
       "      <td>0.30809</td>\n",
       "    </tr>\n",
       "  </tbody>\n",
       "</table>\n",
       "</div>"
      ],
      "text/plain": [
       "        date iso_a3 currency_code       name  local_price  dollar_ex  \\\n",
       "0 2000-04-01    ARG           ARS  Argentina         2.50   1.000000   \n",
       "1 2000-04-01    AUS           AUD  Australia         2.59   1.680000   \n",
       "2 2000-04-01    BRA           BRL     Brazil         2.95   1.790000   \n",
       "3 2000-04-01    GBR           GBP    Britain         1.90   0.632911   \n",
       "4 2000-04-01    CAN           CAD     Canada         2.85   1.470000   \n",
       "\n",
       "   dollar_price    GDP_bigmac  adj_price      USD  EUR      GBP      JPY  \\\n",
       "0      2.500000   7803.328512   1.922652  0.39117  NaN -0.06626  0.10096   \n",
       "1      1.541667  29144.876973   2.301550 -0.28335  NaN -0.51898 -0.43285   \n",
       "2      1.648045   4822.738983   1.869734 -0.05696  NaN -0.36704 -0.25369   \n",
       "3      3.002000  20932.924968   2.155755  0.48988  NaN  0.00000  0.17908   \n",
       "4      1.938776  26087.329235   2.247266 -0.07698  NaN -0.38047 -0.26953   \n",
       "\n",
       "       CNY  \n",
       "0  0.97153  \n",
       "1  0.01563  \n",
       "2  0.33645  \n",
       "3  1.11143  \n",
       "4  0.30809  "
      ]
     },
     "execution_count": 29,
     "metadata": {},
     "output_type": "execute_result"
    }
   ],
   "source": [
    "dataURL = \"https://raw.githubusercontent.com/TheEconomist/big-mac-data/master/output-data/big-mac-adjusted-index.csv\"\n",
    "df = pd.read_csv(dataURL, parse_dates=['date'])\n",
    "df.head()"
   ]
  },
  {
   "cell_type": "code",
   "execution_count": 7,
   "id": "7e321953",
   "metadata": {},
   "outputs": [
    {
     "name": "stdout",
     "output_type": "stream",
     "text": [
      "<class 'pandas.core.frame.DataFrame'>\n",
      "RangeIndex: 1386 entries, 0 to 1385\n",
      "Data columns (total 14 columns):\n",
      " #   Column         Non-Null Count  Dtype         \n",
      "---  ------         --------------  -----         \n",
      " 0   date           1386 non-null   datetime64[ns]\n",
      " 1   iso_a3         1386 non-null   object        \n",
      " 2   currency_code  1386 non-null   object        \n",
      " 3   name           1386 non-null   object        \n",
      " 4   local_price    1386 non-null   float64       \n",
      " 5   dollar_ex      1386 non-null   float64       \n",
      " 6   dollar_price   1386 non-null   float64       \n",
      " 7   GDP_bigmac     1386 non-null   float64       \n",
      " 8   adj_price      1386 non-null   float64       \n",
      " 9   USD            1386 non-null   float64       \n",
      " 10  EUR            1359 non-null   float64       \n",
      " 11  GBP            1386 non-null   float64       \n",
      " 12  JPY            1386 non-null   float64       \n",
      " 13  CNY            1386 non-null   float64       \n",
      "dtypes: datetime64[ns](1), float64(10), object(3)\n",
      "memory usage: 151.7+ KB\n"
     ]
    }
   ],
   "source": [
    "df.info()"
   ]
  },
  {
   "cell_type": "markdown",
   "id": "8c676915",
   "metadata": {},
   "source": [
    "### เรียกดูข้อมูลตั้งแต่เดือนที่ 1 ของปี 2019 "
   ]
  },
  {
   "cell_type": "code",
   "execution_count": 30,
   "id": "7df2dd53",
   "metadata": {},
   "outputs": [
    {
     "data": {
      "text/html": [
       "<div>\n",
       "<style scoped>\n",
       "    .dataframe tbody tr th:only-of-type {\n",
       "        vertical-align: middle;\n",
       "    }\n",
       "\n",
       "    .dataframe tbody tr th {\n",
       "        vertical-align: top;\n",
       "    }\n",
       "\n",
       "    .dataframe thead th {\n",
       "        text-align: right;\n",
       "    }\n",
       "</style>\n",
       "<table border=\"1\" class=\"dataframe\">\n",
       "  <thead>\n",
       "    <tr style=\"text-align: right;\">\n",
       "      <th></th>\n",
       "      <th>date</th>\n",
       "      <th>iso_a3</th>\n",
       "      <th>currency_code</th>\n",
       "      <th>name</th>\n",
       "      <th>local_price</th>\n",
       "      <th>dollar_ex</th>\n",
       "      <th>dollar_price</th>\n",
       "      <th>GDP_bigmac</th>\n",
       "      <th>adj_price</th>\n",
       "      <th>USD</th>\n",
       "      <th>EUR</th>\n",
       "      <th>GBP</th>\n",
       "      <th>JPY</th>\n",
       "      <th>CNY</th>\n",
       "    </tr>\n",
       "  </thead>\n",
       "  <tbody>\n",
       "    <tr>\n",
       "      <th>1279</th>\n",
       "      <td>2022-01-01</td>\n",
       "      <td>ARG</td>\n",
       "      <td>ARS</td>\n",
       "      <td>Argentina</td>\n",
       "      <td>450.0</td>\n",
       "      <td>105.016500</td>\n",
       "      <td>4.285041</td>\n",
       "      <td>11351.731709</td>\n",
       "      <td>3.444162</td>\n",
       "      <td>0.15202</td>\n",
       "      <td>0.02288</td>\n",
       "      <td>0.09054</td>\n",
       "      <td>0.61112</td>\n",
       "      <td>0.15290</td>\n",
       "    </tr>\n",
       "    <tr>\n",
       "      <th>1280</th>\n",
       "      <td>2022-01-01</td>\n",
       "      <td>AUS</td>\n",
       "      <td>AUD</td>\n",
       "      <td>Australia</td>\n",
       "      <td>6.4</td>\n",
       "      <td>1.419346</td>\n",
       "      <td>4.509120</td>\n",
       "      <td>66547.874925</td>\n",
       "      <td>4.610098</td>\n",
       "      <td>-0.09433</td>\n",
       "      <td>-0.19585</td>\n",
       "      <td>-0.14266</td>\n",
       "      <td>0.26660</td>\n",
       "      <td>-0.09364</td>\n",
       "    </tr>\n",
       "    <tr>\n",
       "      <th>1281</th>\n",
       "      <td>2022-01-01</td>\n",
       "      <td>AZE</td>\n",
       "      <td>AZN</td>\n",
       "      <td>Azerbaijan</td>\n",
       "      <td>4.5</td>\n",
       "      <td>1.699000</td>\n",
       "      <td>2.648617</td>\n",
       "      <td>10277.655360</td>\n",
       "      <td>3.421474</td>\n",
       "      <td>-0.28321</td>\n",
       "      <td>-0.36356</td>\n",
       "      <td>-0.32146</td>\n",
       "      <td>0.00245</td>\n",
       "      <td>-0.28266</td>\n",
       "    </tr>\n",
       "    <tr>\n",
       "      <th>1282</th>\n",
       "      <td>2022-01-01</td>\n",
       "      <td>BHR</td>\n",
       "      <td>BHD</td>\n",
       "      <td>Bahrain</td>\n",
       "      <td>1.5</td>\n",
       "      <td>0.377000</td>\n",
       "      <td>3.978780</td>\n",
       "      <td>33018.894720</td>\n",
       "      <td>3.901848</td>\n",
       "      <td>-0.05579</td>\n",
       "      <td>-0.16164</td>\n",
       "      <td>-0.10618</td>\n",
       "      <td>0.32049</td>\n",
       "      <td>-0.05507</td>\n",
       "    </tr>\n",
       "    <tr>\n",
       "      <th>1283</th>\n",
       "      <td>2022-01-01</td>\n",
       "      <td>BRA</td>\n",
       "      <td>BRL</td>\n",
       "      <td>Brazil</td>\n",
       "      <td>22.9</td>\n",
       "      <td>5.310000</td>\n",
       "      <td>4.312618</td>\n",
       "      <td>8984.791714</td>\n",
       "      <td>3.394164</td>\n",
       "      <td>0.17651</td>\n",
       "      <td>0.04463</td>\n",
       "      <td>0.11373</td>\n",
       "      <td>0.64537</td>\n",
       "      <td>0.17741</td>\n",
       "    </tr>\n",
       "  </tbody>\n",
       "</table>\n",
       "</div>"
      ],
      "text/plain": [
       "           date iso_a3 currency_code        name  local_price   dollar_ex  \\\n",
       "1279 2022-01-01    ARG           ARS   Argentina        450.0  105.016500   \n",
       "1280 2022-01-01    AUS           AUD   Australia          6.4    1.419346   \n",
       "1281 2022-01-01    AZE           AZN  Azerbaijan          4.5    1.699000   \n",
       "1282 2022-01-01    BHR           BHD     Bahrain          1.5    0.377000   \n",
       "1283 2022-01-01    BRA           BRL      Brazil         22.9    5.310000   \n",
       "\n",
       "      dollar_price    GDP_bigmac  adj_price      USD      EUR      GBP  \\\n",
       "1279      4.285041  11351.731709   3.444162  0.15202  0.02288  0.09054   \n",
       "1280      4.509120  66547.874925   4.610098 -0.09433 -0.19585 -0.14266   \n",
       "1281      2.648617  10277.655360   3.421474 -0.28321 -0.36356 -0.32146   \n",
       "1282      3.978780  33018.894720   3.901848 -0.05579 -0.16164 -0.10618   \n",
       "1283      4.312618   8984.791714   3.394164  0.17651  0.04463  0.11373   \n",
       "\n",
       "          JPY      CNY  \n",
       "1279  0.61112  0.15290  \n",
       "1280  0.26660 -0.09364  \n",
       "1281  0.00245 -0.28266  \n",
       "1282  0.32049 -0.05507  \n",
       "1283  0.64537  0.17741  "
      ]
     },
     "execution_count": 30,
     "metadata": {},
     "output_type": "execute_result"
    }
   ],
   "source": [
    "df = df[(df['date'].dt.year==2022) & (df['date'].dt.month==1)]\n",
    "df.head()"
   ]
  },
  {
   "cell_type": "code",
   "execution_count": 31,
   "id": "4a3bf2df",
   "metadata": {},
   "outputs": [
    {
     "data": {
      "text/plain": [
       "<seaborn.axisgrid.FacetGrid at 0x18d101ca2f0>"
      ]
     },
     "execution_count": 31,
     "metadata": {},
     "output_type": "execute_result"
    },
    {
     "data": {
      "text/plain": [
       "<Figure size 1600x900 with 0 Axes>"
      ]
     },
     "metadata": {},
     "output_type": "display_data"
    },
    {
     "data": {
      "image/png": "[encoded data removed]",
      "text/plain": [
       "<Figure size 500x500 with 1 Axes>"
      ]
     },
     "metadata": {
      "image/png": {
       "height": 490,
       "width": 489
      }
     },
     "output_type": "display_data"
    }
   ],
   "source": [
    "plt.figure(figsize=(16, 9))\n",
    "sb.lmplot(x='GDP_bigmac', y='dollar_price', data=df, ci=None) #ในคลิปเป็น GDP_dollor ข้อมูลน่าจะถูกปรับปรุงชื่อ Column"
   ]
  },
  {
   "cell_type": "markdown",
   "id": "01dbcc91",
   "metadata": {},
   "source": [
    "### import sklearn เพื่อเรียกใช้ model LinearRegression"
   ]
  },
  {
   "cell_type": "code",
   "execution_count": 50,
   "id": "a7426c1f",
   "metadata": {},
   "outputs": [],
   "source": [
    "import sklearn\n",
    "from sklearn.linear_model import LinearRegression"
   ]
  },
  {
   "cell_type": "code",
   "execution_count": 40,
   "id": "a3655bf4",
   "metadata": {},
   "outputs": [
    {
     "data": {
      "text/html": [
       "<style>#sk-container-id-3 {color: black;background-color: white;}#sk-container-id-3 pre{padding: 0;}#sk-container-id-3 div.sk-toggleable {background-color: white;}#sk-container-id-3 label.sk-toggleable__label {cursor: pointer;display: block;width: 100%;margin-bottom: 0;padding: 0.3em;box-sizing: border-box;text-align: center;}#sk-container-id-3 label.sk-toggleable__label-arrow:before {content: \"▸\";float: left;margin-right: 0.25em;color: #696969;}#sk-container-id-3 label.sk-toggleable__label-arrow:hover:before {color: black;}#sk-container-id-3 div.sk-estimator:hover label.sk-toggleable__label-arrow:before {color: black;}#sk-container-id-3 div.sk-toggleable__content {max-height: 0;max-width: 0;overflow: hidden;text-align: left;background-color: #f0f8ff;}#sk-container-id-3 div.sk-toggleable__content pre {margin: 0.2em;color: black;border-radius: 0.25em;background-color: #f0f8ff;}#sk-container-id-3 input.sk-toggleable__control:checked~div.sk-toggleable__content {max-height: 200px;max-width: 100%;overflow: auto;}#sk-container-id-3 input.sk-toggleable__control:checked~label.sk-toggleable__label-arrow:before {content: \"▾\";}#sk-container-id-3 div.sk-estimator input.sk-toggleable__control:checked~label.sk-toggleable__label {background-color: #d4ebff;}#sk-container-id-3 div.sk-label input.sk-toggleable__control:checked~label.sk-toggleable__label {background-color: #d4ebff;}#sk-container-id-3 input.sk-hidden--visually {border: 0;clip: rect(1px 1px 1px 1px);clip: rect(1px, 1px, 1px, 1px);height: 1px;margin: -1px;overflow: hidden;padding: 0;position: absolute;width: 1px;}#sk-container-id-3 div.sk-estimator {font-family: monospace;background-color: #f0f8ff;border: 1px dotted black;border-radius: 0.25em;box-sizing: border-box;margin-bottom: 0.5em;}#sk-container-id-3 div.sk-estimator:hover {background-color: #d4ebff;}#sk-container-id-3 div.sk-parallel-item::after {content: \"\";width: 100%;border-bottom: 1px solid gray;flex-grow: 1;}#sk-container-id-3 div.sk-label:hover label.sk-toggleable__label {background-color: #d4ebff;}#sk-container-id-3 div.sk-serial::before {content: \"\";position: absolute;border-left: 1px solid gray;box-sizing: border-box;top: 0;bottom: 0;left: 50%;z-index: 0;}#sk-container-id-3 div.sk-serial {display: flex;flex-direction: column;align-items: center;background-color: white;padding-right: 0.2em;padding-left: 0.2em;position: relative;}#sk-container-id-3 div.sk-item {position: relative;z-index: 1;}#sk-container-id-3 div.sk-parallel {display: flex;align-items: stretch;justify-content: center;background-color: white;position: relative;}#sk-container-id-3 div.sk-item::before, #sk-container-id-3 div.sk-parallel-item::before {content: \"\";position: absolute;border-left: 1px solid gray;box-sizing: border-box;top: 0;bottom: 0;left: 50%;z-index: -1;}#sk-container-id-3 div.sk-parallel-item {display: flex;flex-direction: column;z-index: 1;position: relative;background-color: white;}#sk-container-id-3 div.sk-parallel-item:first-child::after {align-self: flex-end;width: 50%;}#sk-container-id-3 div.sk-parallel-item:last-child::after {align-self: flex-start;width: 50%;}#sk-container-id-3 div.sk-parallel-item:only-child::after {width: 0;}#sk-container-id-3 div.sk-dashed-wrapped {border: 1px dashed gray;margin: 0 0.4em 0.5em 0.4em;box-sizing: border-box;padding-bottom: 0.4em;background-color: white;}#sk-container-id-3 div.sk-label label {font-family: monospace;font-weight: bold;display: inline-block;line-height: 1.2em;}#sk-container-id-3 div.sk-label-container {text-align: center;}#sk-container-id-3 div.sk-container {/* jupyter's `normalize.less` sets `[hidden] { display: none; }` but bootstrap.min.css set `[hidden] { display: none !important; }` so we also need the `!important` here to be able to override the default hidden behavior on the sphinx rendered scikit-learn.org. See: https://github.com/scikit-learn/scikit-learn/issues/21755 */display: inline-block !important;position: relative;}#sk-container-id-3 div.sk-text-repr-fallback {display: none;}</style><div id=\"sk-container-id-3\" class=\"sk-top-container\"><div class=\"sk-text-repr-fallback\"><pre>LinearRegression()</pre><b>In a Jupyter environment, please rerun this cell to show the HTML representation or trust the notebook. <br />On GitHub, the HTML representation is unable to render, please try loading this page with nbviewer.org.</b></div><div class=\"sk-container\" hidden><div class=\"sk-item\"><div class=\"sk-estimator sk-toggleable\"><input class=\"sk-toggleable__control sk-hidden--visually\" id=\"sk-estimator-id-3\" type=\"checkbox\" checked><label for=\"sk-estimator-id-3\" class=\"sk-toggleable__label sk-toggleable__label-arrow\">LinearRegression</label><div class=\"sk-toggleable__content\"><pre>LinearRegression()</pre></div></div></div></div></div>"
      ],
      "text/plain": [
       "LinearRegression()"
      ]
     },
     "execution_count": 40,
     "metadata": {},
     "output_type": "execute_result"
    }
   ],
   "source": [
    "model = LinearRegression() # create object/instance (create an instance from LinearRegression class)\n",
    "model\n",
    "#defualt -> LinearRegression(copy_X=True, fitintercept=true, n_jobs=None, normalize=False)"
   ]
  },
  {
   "cell_type": "code",
   "execution_count": 41,
   "id": "4cd6efb2",
   "metadata": {},
   "outputs": [
    {
     "data": {
      "text/plain": [
       "1279    11351.731709\n",
       "1280    66547.874925\n",
       "1281    10277.655360\n",
       "1282    33018.894720\n",
       "1283     8984.791714\n",
       "Name: GDP_bigmac, dtype: float64"
      ]
     },
     "execution_count": 41,
     "metadata": {},
     "output_type": "execute_result"
    }
   ],
   "source": [
    "df['GDP_bigmac'].head() # pandas Series"
   ]
  },
  {
   "cell_type": "code",
   "execution_count": 42,
   "id": "bb5d6e3c",
   "metadata": {},
   "outputs": [
    {
     "data": {
      "text/html": [
       "<div>\n",
       "<style scoped>\n",
       "    .dataframe tbody tr th:only-of-type {\n",
       "        vertical-align: middle;\n",
       "    }\n",
       "\n",
       "    .dataframe tbody tr th {\n",
       "        vertical-align: top;\n",
       "    }\n",
       "\n",
       "    .dataframe thead th {\n",
       "        text-align: right;\n",
       "    }\n",
       "</style>\n",
       "<table border=\"1\" class=\"dataframe\">\n",
       "  <thead>\n",
       "    <tr style=\"text-align: right;\">\n",
       "      <th></th>\n",
       "      <th>GDP_bigmac</th>\n",
       "    </tr>\n",
       "  </thead>\n",
       "  <tbody>\n",
       "    <tr>\n",
       "      <th>1279</th>\n",
       "      <td>11351.731709</td>\n",
       "    </tr>\n",
       "    <tr>\n",
       "      <th>1280</th>\n",
       "      <td>66547.874925</td>\n",
       "    </tr>\n",
       "    <tr>\n",
       "      <th>1281</th>\n",
       "      <td>10277.655360</td>\n",
       "    </tr>\n",
       "    <tr>\n",
       "      <th>1282</th>\n",
       "      <td>33018.894720</td>\n",
       "    </tr>\n",
       "    <tr>\n",
       "      <th>1283</th>\n",
       "      <td>8984.791714</td>\n",
       "    </tr>\n",
       "  </tbody>\n",
       "</table>\n",
       "</div>"
      ],
      "text/plain": [
       "        GDP_bigmac\n",
       "1279  11351.731709\n",
       "1280  66547.874925\n",
       "1281  10277.655360\n",
       "1282  33018.894720\n",
       "1283   8984.791714"
      ]
     },
     "execution_count": 42,
     "metadata": {},
     "output_type": "execute_result"
    }
   ],
   "source": [
    "df[['GDP_bigmac']].head() #expect 2D Array เราใช้ตัวนี้ในการ training model"
   ]
  },
  {
   "cell_type": "markdown",
   "id": "91ccc8e9",
   "metadata": {},
   "source": [
    "#### ข้อควรระวังก่อนส่งไป model.fit, param X เราต้องใช้ 2D Array ในการ training model, Y ใช้ 1 มิติปกติ โยนเข้าไปได้เลย"
   ]
  },
  {
   "cell_type": "code",
   "execution_count": 57,
   "id": "4806d787",
   "metadata": {},
   "outputs": [],
   "source": [
    "X_Data = df[['GDP_bigmac']]\n",
    "y_Data = df.dollar_price"
   ]
  },
  {
   "cell_type": "code",
   "execution_count": 58,
   "id": "5aca4d3d",
   "metadata": {},
   "outputs": [
    {
     "data": {
      "text/html": [
       "<style>#sk-container-id-7 {color: black;background-color: white;}#sk-container-id-7 pre{padding: 0;}#sk-container-id-7 div.sk-toggleable {background-color: white;}#sk-container-id-7 label.sk-toggleable__label {cursor: pointer;display: block;width: 100%;margin-bottom: 0;padding: 0.3em;box-sizing: border-box;text-align: center;}#sk-container-id-7 label.sk-toggleable__label-arrow:before {content: \"▸\";float: left;margin-right: 0.25em;color: #696969;}#sk-container-id-7 label.sk-toggleable__label-arrow:hover:before {color: black;}#sk-container-id-7 div.sk-estimator:hover label.sk-toggleable__label-arrow:before {color: black;}#sk-container-id-7 div.sk-toggleable__content {max-height: 0;max-width: 0;overflow: hidden;text-align: left;background-color: #f0f8ff;}#sk-container-id-7 div.sk-toggleable__content pre {margin: 0.2em;color: black;border-radius: 0.25em;background-color: #f0f8ff;}#sk-container-id-7 input.sk-toggleable__control:checked~div.sk-toggleable__content {max-height: 200px;max-width: 100%;overflow: auto;}#sk-container-id-7 input.sk-toggleable__control:checked~label.sk-toggleable__label-arrow:before {content: \"▾\";}#sk-container-id-7 div.sk-estimator input.sk-toggleable__control:checked~label.sk-toggleable__label {background-color: #d4ebff;}#sk-container-id-7 div.sk-label input.sk-toggleable__control:checked~label.sk-toggleable__label {background-color: #d4ebff;}#sk-container-id-7 input.sk-hidden--visually {border: 0;clip: rect(1px 1px 1px 1px);clip: rect(1px, 1px, 1px, 1px);height: 1px;margin: -1px;overflow: hidden;padding: 0;position: absolute;width: 1px;}#sk-container-id-7 div.sk-estimator {font-family: monospace;background-color: #f0f8ff;border: 1px dotted black;border-radius: 0.25em;box-sizing: border-box;margin-bottom: 0.5em;}#sk-container-id-7 div.sk-estimator:hover {background-color: #d4ebff;}#sk-container-id-7 div.sk-parallel-item::after {content: \"\";width: 100%;border-bottom: 1px solid gray;flex-grow: 1;}#sk-container-id-7 div.sk-label:hover label.sk-toggleable__label {background-color: #d4ebff;}#sk-container-id-7 div.sk-serial::before {content: \"\";position: absolute;border-left: 1px solid gray;box-sizing: border-box;top: 0;bottom: 0;left: 50%;z-index: 0;}#sk-container-id-7 div.sk-serial {display: flex;flex-direction: column;align-items: center;background-color: white;padding-right: 0.2em;padding-left: 0.2em;position: relative;}#sk-container-id-7 div.sk-item {position: relative;z-index: 1;}#sk-container-id-7 div.sk-parallel {display: flex;align-items: stretch;justify-content: center;background-color: white;position: relative;}#sk-container-id-7 div.sk-item::before, #sk-container-id-7 div.sk-parallel-item::before {content: \"\";position: absolute;border-left: 1px solid gray;box-sizing: border-box;top: 0;bottom: 0;left: 50%;z-index: -1;}#sk-container-id-7 div.sk-parallel-item {display: flex;flex-direction: column;z-index: 1;position: relative;background-color: white;}#sk-container-id-7 div.sk-parallel-item:first-child::after {align-self: flex-end;width: 50%;}#sk-container-id-7 div.sk-parallel-item:last-child::after {align-self: flex-start;width: 50%;}#sk-container-id-7 div.sk-parallel-item:only-child::after {width: 0;}#sk-container-id-7 div.sk-dashed-wrapped {border: 1px dashed gray;margin: 0 0.4em 0.5em 0.4em;box-sizing: border-box;padding-bottom: 0.4em;background-color: white;}#sk-container-id-7 div.sk-label label {font-family: monospace;font-weight: bold;display: inline-block;line-height: 1.2em;}#sk-container-id-7 div.sk-label-container {text-align: center;}#sk-container-id-7 div.sk-container {/* jupyter's `normalize.less` sets `[hidden] { display: none; }` but bootstrap.min.css set `[hidden] { display: none !important; }` so we also need the `!important` here to be able to override the default hidden behavior on the sphinx rendered scikit-learn.org. See: https://github.com/scikit-learn/scikit-learn/issues/21755 */display: inline-block !important;position: relative;}#sk-container-id-7 div.sk-text-repr-fallback {display: none;}</style><div id=\"sk-container-id-7\" class=\"sk-top-container\"><div class=\"sk-text-repr-fallback\"><pre>LinearRegression()</pre><b>In a Jupyter environment, please rerun this cell to show the HTML representation or trust the notebook. <br />On GitHub, the HTML representation is unable to render, please try loading this page with nbviewer.org.</b></div><div class=\"sk-container\" hidden><div class=\"sk-item\"><div class=\"sk-estimator sk-toggleable\"><input class=\"sk-toggleable__control sk-hidden--visually\" id=\"sk-estimator-id-7\" type=\"checkbox\" checked><label for=\"sk-estimator-id-7\" class=\"sk-toggleable__label sk-toggleable__label-arrow\">LinearRegression</label><div class=\"sk-toggleable__content\"><pre>LinearRegression()</pre></div></div></div></div></div>"
      ],
      "text/plain": [
       "LinearRegression()"
      ]
     },
     "execution_count": 58,
     "metadata": {},
     "output_type": "execute_result"
    }
   ],
   "source": [
    "model.fit(X_Data, y_Data)"
   ]
  },
  {
   "cell_type": "markdown",
   "id": "3b34553f",
   "metadata": {},
   "source": [
    "*ค่า R-Squared* <br>คือตัวสถิติที่ใช้วัดว่าตัวแบบคณิตศาสตร์ที่ได้นี้มีความสมรูปกับข้อมูลมากน้อยอย่างไร หรือรู้จักกัน ในอีกความหมายหนึ่งว่าเป็น ค่าสัมประสิทธิ์แสดงการตัดสินใจ (Coefficient of Determination) หรือ ค่าสัมประสิทธิ์แสดง การตัดสินใจเชิงซ้อน (Coefficient of Multiple Determination) สำหรับการวิเคราะห์การถดถอยแบบพหุคูณ (Multiple Regression)\n",
    "\n",
    "นิยามของค่า R-Squared คือ ค่าความผันแปรของตัวแปรตอบสนองที่สามารถอธิบายได้มีอยู่ในตัวแบบเชิงเส้นนี้ กี่เปอร์เซ็นต์ จะมีค่าอยู่ระหว่าง  0%  - 100%\n",
    "- 0% แสดงให้เห็นว่า ตัวแบบคณิตศาสาตร์ที่ได้มานั้นไม่สามารถอธิบายความผันแปรของค่าตัวแปรตอบสนอง ต่างที่กระจายรอบค่าเฉลี่ยได้เลย\n",
    "- 100% แสดงให้เห็นว่า ตัวแบบคณิตศาสาตร์ที่ได้มานั้นสามารถอธิบายความผันแปรของค่าตัวแปรตอบสนอง ต่างที่กระจายรอบค่าเฉลี่ยได้เป็นอย่างดี\n",
    "อ้างอิง\n",
    "https://www.tpa.or.th/writer/read_this_book_topic.php?bookID=3086&read=true"
   ]
  },
  {
   "cell_type": "code",
   "execution_count": 59,
   "id": "08d2dc69",
   "metadata": {},
   "outputs": [
    {
     "data": {
      "text/plain": [
       "0.19797421824685357"
      ]
     },
     "execution_count": 59,
     "metadata": {},
     "output_type": "execute_result"
    }
   ],
   "source": [
    "model.score(X_Data, y_Data) #R-squared"
   ]
  },
  {
   "cell_type": "code",
   "execution_count": 60,
   "id": "99cbb704",
   "metadata": {},
   "outputs": [
    {
     "data": {
      "text/plain": [
       "3.1538009506590607"
      ]
     },
     "execution_count": 60,
     "metadata": {},
     "output_type": "execute_result"
    }
   ],
   "source": [
    "model.intercept_"
   ]
  },
  {
   "cell_type": "code",
   "execution_count": null,
   "id": "faacbe2b",
   "metadata": {},
   "outputs": [],
   "source": []
  }
 ],
 "metadata": {
  "kernelspec": {
   "display_name": "Python 3 (ipykernel)",
   "language": "python",
   "name": "python3"
  },
  "language_info": {
   "codemirror_mode": {
    "name": "ipython",
    "version": 3
   },
   "file_extension": ".py",
   "mimetype": "text/x-python",
   "name": "python",
   "nbconvert_exporter": "python",
   "pygments_lexer": "ipython3",
   "version": "3.10.9"
  }
 },
 "nbformat": 4,
 "nbformat_minor": 5
}
