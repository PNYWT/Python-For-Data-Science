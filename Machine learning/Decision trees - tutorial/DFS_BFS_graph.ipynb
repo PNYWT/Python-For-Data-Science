{
 "cells": [
  {
   "cell_type": "code",
   "execution_count": 22,
   "metadata": {},
   "outputs": [],
   "source": [
    "# Using a Python Dictionary as an adjacency list to prepresent graph\n",
    "graph = {\n",
    "    'A' : ['B','C'],\n",
    "    'B' : ['D','E'],\n",
    "    'C' : ['F','G'],\n",
    "    'D' : [],\n",
    "    'E' : ['H'],\n",
    "    'F' : [],\n",
    "    'G' : ['I','J'],\n",
    "    'H' : [],\n",
    "    'I' : [],\n",
    "    'J' : []\n",
    "}"
   ]
  },
  {
   "cell_type": "code",
   "execution_count": 23,
   "metadata": {},
   "outputs": [],
   "source": [
    "visited = []\n",
    "queue = []\n",
    "def bfs(visited,graph,node):\n",
    "    visited.append(node)\n",
    "    queue.append(node)\n",
    "    while queue:\n",
    "        s = queue.pop(0)\n",
    "        print (s, end = \" \")\n",
    "        for neighbour in graph[s]:\n",
    "            if neighbour not in visited:\n",
    "                visited.append(neighbour)\n",
    "                queue.append(neighbour)\n",
    "                "
   ]
  },
  {
   "cell_type": "code",
   "execution_count": 24,
   "metadata": {},
   "outputs": [
    {
     "name": "stdout",
     "output_type": "stream",
     "text": [
      "A B C D E F G H I J "
     ]
    }
   ],
   "source": [
    "bfs(visited,graph,'A')"
   ]
  },
  {
   "cell_type": "code",
   "execution_count": 25,
   "metadata": {},
   "outputs": [],
   "source": [
    "visited = set() # Set to keep track of visited nodes.\n",
    "\n",
    "def dfs(visited, graph, node):\n",
    "    if node not in visited:\n",
    "        print(node)\n",
    "        visited.add(node)\n",
    "        for neighbour in graph[node]:\n",
    "            dfs(visited, graph, neighbour)"
   ]
  },
  {
   "cell_type": "code",
   "execution_count": 26,
   "metadata": {},
   "outputs": [
    {
     "name": "stdout",
     "output_type": "stream",
     "text": [
      "A\n",
      "B\n",
      "D\n",
      "E\n",
      "H\n",
      "C\n",
      "F\n",
      "G\n",
      "I\n",
      "J\n"
     ]
    }
   ],
   "source": [
    "dfs(visited,graph,'A')"
   ]
  },
  {
   "cell_type": "code",
   "execution_count": 29,
   "metadata": {},
   "outputs": [],
   "source": [
    "visited = set() # Set to keep track of visited nodes.\n",
    "limited = 2\n",
    "level = 0\n",
    "\n",
    "def dls(visited, graph, node,level,limited):\n",
    "    if level <= limited:\n",
    "        if node not in visited:\n",
    "            print(node)\n",
    "            visited.add(node)\n",
    "            for neighbour in graph[node]:\n",
    "                dls(visited, graph, neighbour,level+1,limited)"
   ]
  },
  {
   "cell_type": "code",
   "execution_count": 30,
   "metadata": {},
   "outputs": [
    {
     "name": "stdout",
     "output_type": "stream",
     "text": [
      "A\n",
      "B\n",
      "D\n",
      "E\n",
      "C\n",
      "F\n",
      "G\n"
     ]
    }
   ],
   "source": [
    "dls(visited,graph,'A',level,limited)"
   ]
  },
  {
   "cell_type": "code",
   "execution_count": 31,
   "metadata": {},
   "outputs": [],
   "source": [
    "visited = set() # Set to keep track of visited nodes.\n",
    "limited = 4\n",
    "level = 0\n",
    "\n",
    "def idds(visited, graph, node,level,limited):\n",
    "    for i in range(1,limited):\n",
    "        visited = set()\n",
    "        dls(visited,graph,node,level,i)\n",
    "        print(\"--------------------\")"
   ]
  },
  {
   "cell_type": "code",
   "execution_count": 32,
   "metadata": {},
   "outputs": [
    {
     "name": "stdout",
     "output_type": "stream",
     "text": [
      "A\n",
      "B\n",
      "C\n",
      "--------------------\n",
      "A\n",
      "B\n",
      "D\n",
      "E\n",
      "C\n",
      "F\n",
      "G\n",
      "--------------------\n",
      "A\n",
      "B\n",
      "D\n",
      "E\n",
      "H\n",
      "C\n",
      "F\n",
      "G\n",
      "I\n",
      "J\n",
      "--------------------\n"
     ]
    }
   ],
   "source": [
    "idds(visited,graph,'A',level,limited)"
   ]
  },
  {
   "cell_type": "code",
   "execution_count": null,
   "metadata": {},
   "outputs": [],
   "source": []
  }
 ],
 "metadata": {
  "kernelspec": {
   "display_name": "Python 3",
   "language": "python",
   "name": "python3"
  },
  "language_info": {
   "codemirror_mode": {
    "name": "ipython",
    "version": 3
   },
   "file_extension": ".py",
   "mimetype": "text/x-python",
   "name": "python",
   "nbconvert_exporter": "python",
   "pygments_lexer": "ipython3",
   "version": "3.8.1"
  }
 },
 "nbformat": 4,
 "nbformat_minor": 4
}
