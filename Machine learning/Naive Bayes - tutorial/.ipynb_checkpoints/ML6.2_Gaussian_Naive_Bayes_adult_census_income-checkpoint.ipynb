{
 "cells": [
  {
   "cell_type": "markdown",
   "id": "136c56d6",
   "metadata": {},
   "source": [
    "# ทำนายรายได้ประชากรด้วย GaussianNB จากข้อมูลที่เก็บจริง ไม่ได้โหลดมากจาก sklearn\n",
    "\n",
    "ดู Attribute เช่น การศึกษา เพศ การแต่งงาน จากนั้นประเมินหา income ว่าจะได้มากกว่าหรือน้อยกว่า 50k<br>\n",
    "Attribute คือ x<br>\n",
    "มากกว่าหรือน้อยกว่า 50k เป็น Class คือ y_Test ผลเฉลย<br>\n"
   ]
  },
  {
   "cell_type": "code",
   "execution_count": 2,
   "id": "0998183a",
   "metadata": {},
   "outputs": [],
   "source": [
    "import pandas as pd\n",
    "from sklearn.preprocessing import LabelEncoder\n",
    "from sklearn.model_selection import train_test_split\n",
    "from sklearn.naive_bayes import GaussianNB\n",
    "from sklearn.metrics import accuracy_score, classification_report"
   ]
  },
  {
   "cell_type": "code",
   "execution_count": 3,
   "id": "e59b5008",
   "metadata": {},
   "outputs": [],
   "source": [
    "# func Clean Data เพราะมีข้อมูลบางส่วนที่เป็นไม่ระบุค่า หรือตัวเลขแปลกๆ\n",
    "# ในที่นี้เราจะจัดทำเข้ารหัสข้อความให้เป็นตัวเลขทั้งหมด\n",
    "def cleanData(dataset):\n",
    "    for column in dataset.columns:\n",
    "        if dataset[column].dtype == type(object): #วนหาค่า dataset ในแต่ละ idx ว่าเป็น type object หรือไม่\n",
    "            lbEncoder = LabelEncoder()\n",
    "            dataset[column] = lbEncoder.fit_transform(dataset[column]) #เข้ารหัสข้อความให้เป็นตัวเลข\n",
    "    return dataset"
   ]
  },
  {
   "cell_type": "code",
   "execution_count": 4,
   "id": "2ee0bcb8",
   "metadata": {},
   "outputs": [],
   "source": [
    "# func split แบ่งเพื่อเลือก Attribute(เลือก age -> country) และ class(เลือก income) แยกเก็บลงในตัวแปร\n",
    "def split_Attribute_Class(dataset,columnName): \n",
    "    attribute_Select = dataset.drop(columnName, axis=1) #Attribute(เลือก age -> country)\n",
    "    class_Select = dataset[columnName].copy() #class(เลือก income)\n",
    "    return attribute_Select, class_Select"
   ]
  },
  {
   "cell_type": "code",
   "execution_count": 6,
   "id": "78b50dce",
   "metadata": {},
   "outputs": [
    {
     "name": "stdout",
     "output_type": "stream",
     "text": [
      "   age  workclass  fnlwgt  education  education.num  marital.status  \\\n",
      "0   90          0   77053         11              9               6   \n",
      "1   82          4  132870         11              9               6   \n",
      "2   66          0  186061         15             10               6   \n",
      "3   54          4  140359          5              4               0   \n",
      "4   41          4  264663         15             10               5   \n",
      "\n",
      "   occupation  relationship  race  sex  capital.gain  capital.loss  \\\n",
      "0           0             1     4    0             0          4356   \n",
      "1           4             1     4    0             0          4356   \n",
      "2           0             4     2    0             0          4356   \n",
      "3           7             4     4    0             0          3900   \n",
      "4          10             3     4    0             0          3900   \n",
      "\n",
      "   hours.per.week  native.country  income  \n",
      "0              40              39       0  \n",
      "1              18              39       0  \n",
      "2              40              39       0  \n",
      "3              40              39       0  \n",
      "4              40              39       0  \n"
     ]
    }
   ],
   "source": [
    "#local\n",
    "path = \"https://raw.githubusercontent.com/PNYWT/Python_MachineLearning/main/Mechine%20Learning/FileData/adult_census_income.csv\"\n",
    "dataset = pd.read_csv(path)\n",
    "#หลังจาก Clean Data แล้ว income <= 50k คือ 0 และ >=50k คือ 1\n",
    "dataset = cleanData(dataset)\n",
    "print(dataset.head())"
   ]
  },
  {
   "cell_type": "code",
   "execution_count": 7,
   "id": "733aec0e",
   "metadata": {},
   "outputs": [],
   "source": [
    "# Split data จาก Data ทั้งหมดแยกเป็น Training-Test\n",
    "data_Training, data_Test = train_test_split(dataset, train_size=0.7, test_size=0.3)\n",
    "\n",
    "#เลือก Attribute(เลือก age -> country) และเลือก class(เลือก income) เก็บในตัวแปร สำหรับเข้า Traning model\n",
    "x_Training, y_Training = split_Attribute_Class(data_Training, \"income\")\n",
    "#เลือก Attribute(เลือก age -> country) และเลือก class(เลือก income) เก็บในตัวแปร สำหรับเข้า Test model\n",
    "x_Test, y_Test = split_Attribute_Class(data_Test, \"income\")"
   ]
  },
  {
   "cell_type": "code",
   "execution_count": 8,
   "id": "dbd38355",
   "metadata": {},
   "outputs": [],
   "source": [
    "#Select model\n",
    "model = GaussianNB()\n",
    "model.fit(x_Training, y_Training)\n",
    "\n",
    "#prediction\n",
    "y_Predic = model.predict(x_Test)"
   ]
  },
  {
   "cell_type": "code",
   "execution_count": 9,
   "id": "212f7403",
   "metadata": {},
   "outputs": [
    {
     "name": "stdout",
     "output_type": "stream",
     "text": [
      "Accuracy -> 79.60 %\n",
      "Predict     0     1   All\n",
      "Real                     \n",
      "0        7055   349  7404\n",
      "1        1644   721  2365\n",
      "All      8699  1070  9769\n"
     ]
    }
   ],
   "source": [
    "# วัดประสิทธิภาพของ model เปรียบเทียบกับผลเฉลย y_Test โดยเราจะดู Accuracy Score หรือ classification_report\n",
    "print(\"Accuracy -> {0:.2f} %\".format(accuracy_score(y_Test, y_Predic)*100))\n",
    "# print(classification_report(y_Test, y_Predic))\n",
    "print(pd.crosstab(y_Test, y_Predic, rownames=[\"Real\"], colnames=[\"Predict\"], margins=True))"
   ]
  },
  {
   "cell_type": "markdown",
   "id": "34e72182",
   "metadata": {},
   "source": [
    "Accuracy -> 79.38 % ยังถือว่าไม่ผ่านตามกำหนด"
   ]
  },
  {
   "cell_type": "code",
   "execution_count": null,
   "id": "f0702d35",
   "metadata": {},
   "outputs": [],
   "source": []
  }
 ],
 "metadata": {
  "kernelspec": {
   "display_name": "Python 3 (ipykernel)",
   "language": "python",
   "name": "python3"
  },
  "language_info": {
   "codemirror_mode": {
    "name": "ipython",
    "version": 3
   },
   "file_extension": ".py",
   "mimetype": "text/x-python",
   "name": "python",
   "nbconvert_exporter": "python",
   "pygments_lexer": "ipython3",
   "version": "3.10.9"
  }
 },
 "nbformat": 4,
 "nbformat_minor": 5
}
