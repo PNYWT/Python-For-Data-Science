{
 "cells": [
  {
   "cell_type": "markdown",
   "metadata": {},
   "source": [
    "พื้นฐานความน่าจะเป็นจนถึง Naive Bayes Classifier\n",
    "https://www.youtube.com/watch?v=rSmvnEp-p2s"
   ]
  },
  {
   "cell_type": "markdown",
   "metadata": {
    "id": "R8jMSVk78_ep"
   },
   "source": [
    "**Fundamentals**\n",
    "\n",
    "<img src=\"https://drive.google.com/uc?export=view&id=1oEczJvBjaeaJ0QPu1tmbd4d_EVWSWEjF\" width=\"60%\">\n",
    "\n",
    "$\\Omega : \\text{Sample space}$\n",
    "\n",
    "$E_i : Events, Example:E_1=\\{2\\}$\n",
    "\n",
    "$P(\\cdot) : \\text{The probability of an event.}$\n",
    "\n",
    "$|E| : \\text{Cardinality of a set E}$\n",
    "\n",
    "$P(E)=\\frac{|E|}{|\\Omega|} : \\text{The probability of an event E}$\n",
    "\n",
    "$P(A|B) : \\text{The conditional probability of A given B}$\n",
    "\n",
    "$\\emptyset : \\text{Empty set}, \\emptyset=\\{\\}$\n",
    "\n",
    "$A \\cup B: \\text{A union B}$\n",
    "\n",
    "$A \\cap B: \\text{A intersect B}$\n",
    "\n",
    "$A \\cap B = \\emptyset: \\text{A disjoint B}$\n",
    "\n",
    "$P(A) > 0 \\text{ and }  P(B) > 0,$ called independent if the occurence of one event does not affect the  probability of the other, ex. $P(A|B)=P(A), P(B|A)=P(B)$\n",
    "\n",
    "$P(A|B) = \\frac{|A \\cap B|}{|B|} = \\frac{\\frac{|A \\cap B|}{|\\Omega|}}{\\frac{|B|}{|\\Omega|}} = \\frac{P(A \\cap B)}{P(B)}$\n",
    "\n",
    "$P(A \\cap B)=P(A|B)P(B)$\n",
    "\n",
    "$P(A \\cup B) = P(A)+P(B)-P(A \\cap B)$\n",
    "\n",
    "$P(A \\cup B)+P(A \\cap B) = P(A)+P(B)$\n",
    "\n",
    "$P(A \\cap B) = P(A)+P(B) - P(A \\cup B)$"
   ]
  },
  {
   "cell_type": "markdown",
   "metadata": {
    "id": "r-0DMJJROsLA"
   },
   "source": [
    "**Total Probability Theorem**\n",
    "\n",
    "<img src=\"https://drive.google.com/uc?export=view&id=1ggRvFJDiLUJouLtVi6dGVDl0fCTx0rnk\" width=\"70%\">\n",
    "\n",
    "For event $A_i\\ ,\\ i\\in\\{1,2,3,...,n\\}$\n",
    "\n",
    "1. $A_1 \\cup A_2 \\cup A_3 \\cup .... \\cup A_n = \\Omega$\n",
    "\n",
    "2. $A_i \\cap A_j = \\emptyset \\text{ for } i \\ne j$\n",
    "\n",
    "3. $A_i \\ne \\emptyset$\n",
    "\n",
    "The totoal probability theorem can be written as:\n",
    "\n",
    "$P(B)=P(B \\cap A_1)+P(B \\cap A_2)+P(B \\cap A_3)+....+P(B \\cap A_n) - P(B \\cap A_1 \\cap A_2 \\cap .... \\cap A_n)$\n",
    "\n",
    "\n",
    "$P(B)=P(B|A_1)P(A_1)+P(B|A_2)P(A_2)+P(B|A_3)P(A_3)+...+P(B|A_n)P(A_n)$\n",
    "\n",
    "$P(B)=\\sum_{i=1}^n P(B|A_i)P(A_i)$\n",
    "\n",
    "Note: $P(B|A)P(A) = \\frac{P(B \\cap A)}{P(A)}P(A) = P(B \\cap A)$"
   ]
  },
  {
   "cell_type": "markdown",
   "metadata": {
    "id": "Rw8SEbCXVlHN"
   },
   "source": [
    "**Bay's theorem**\n",
    "\n",
    "$A \\ne \\emptyset, B \\ne \\emptyset$\n",
    "\n",
    "$P(A|B)=\\frac{|A \\cap B|}{|B|} = \\frac{\\frac{|A \\cap B|}{\\Omega}}{\\frac{|B|}{\\Omega}} = \\frac{P(A \\cap B)}{P(B)}$\n",
    "\n",
    "$P(A \\cap B)=P(A|B)P(B)$\n",
    "\n",
    "$P(B|A)=\\frac{|B \\cap A|}{|A|} = \\frac{\\frac{|B \\cap A|}{\\Omega}}{\\frac{|A|}{\\Omega}} = \\frac{P(A \\cap B)}{P(A)}$\n",
    "\n",
    "$P(B \\cap A)=P(B|A)P(A)$\n",
    "\n",
    "$P(A \\cap B)=P(A|B)P(B)=P(B|A)P(A)$\n",
    "\n",
    "$P(A|B)=\\frac{P(B|A)P(A)}{P(B)}$\n",
    "\n"
   ]
  },
  {
   "cell_type": "markdown",
   "metadata": {
    "id": "YYiV2mWrZvs6"
   },
   "source": [
    "**Naive Bays Classifier**\n",
    "\n",
    "$n = \\text{instances (or cases)}$\n",
    "\n",
    "$x_i, i=1,2,3,4,...,n$ (a case consits of $p$ artirbutes)\n",
    "\n",
    "$x_{ip}=\\{x_{i1}, x_{i2}, x_{i3},...,x_{ip}\\}$\n",
    "\n",
    "$y \\in \\{y_1,y_2,y_3,...,y_n\\}$\n",
    "\n",
    "$P(Y=y_j|X=x_i)$\n",
    "\n",
    "\\# | $Outlook\\ x_{i1}$|$Temp\\ x_{i2}$|$\\cdots$|$Wind\\ x_{ip}$|$y_j$\n",
    "--- |--- | --- | --- | --- | ---\n",
    "1 | Sunny |Hot | $\\cdots$ | Weak | Yes\n",
    "2 | Rain |Cool | $\\cdots$ | Strong | No\n",
    "3 | Overcast |Mild | $\\cdots$ | Weak | Yes\n",
    "4 | Overcast |Mild | $\\cdots$ | Weak | No\n",
    "5 | Sunny |Hot | $\\cdots$ | Weak | Yes\n",
    "6 | Overcast |Mild | $\\cdots$ | Weak | unknown\n",
    "\n",
    "$P(y_j|x_i)=\\frac{P(x_i|y_j)P(y_j)}{P(x_i)}$\n",
    "\n",
    "$P(y_j|x_i)=\\frac{P(x_{i1}|y_j)\\cdot P(x_{i2}|y_j)\\cdot ... \\cdot P(x_{ip}|y_j)P(y_j)}{P(x_i)}$\n",
    "\n",
    "$P(y_j|x_i)=\\frac{\\prod_{k=1}^p P(x_{ik}|y_j) P(y_j)}{P(x_i)}$\n",
    "\n",
    "$\\hat y=argmax_{y_j} P(y_j)\\prod_{k=1}^p P(x_{ik},y_j)$\n"
   ]
  },
  {
   "cell_type": "markdown",
   "metadata": {
    "id": "zPAQmM3kLXUE"
   },
   "source": [
    "Example:\n",
    "\n",
    "\\# | $Outlook(O)$|$Temp(T)$|$Humid(H)$|$Wind(W)$|$y_j$\n",
    "--- |--- | --- | --- | --- | ---\n",
    "1 | Sunny |Hot | High | Weak | No\n",
    "2 | Sunny |Hot | High | Strong | No\n",
    "3 | Overcast |Hot | High | Weak | Yes\n",
    "4 | Rain |Mild | High | Weak | Yes\n",
    "5 | Rain |Cool | Normal | Weak | Yes\n",
    "6 | Rain |Cool | Normal | Strong | No\n",
    "7 | Overcast |Cool | Normal | Strong | Yes\n",
    "8 | Sunny |Mild | High | Weak | No\n",
    "9 | Sunny |Cool | Normal | Weak | Yes\n",
    "10 | Rain |Mild | Normal | Weak | Yes\n",
    "11 | Sunny |Mild | Normal | Strong | Yes\n",
    "12 | Overcast |Mild | High | Strong | Yes\n",
    "13 | Overcast |Hot | Normal | Weak | Yes\n",
    "14 | Rain |Mild | High | Strong | No\n",
    "\n",
    "$\\ $\n",
    "\n",
    "$\\hat y=argmax_{y_j} P(y_j)\\prod_{k=1}^p P(x_{ik},y_j)$\n",
    "\n",
    "$\\hat y=P(O=sunny, T=cool, H=high, W=strong)P(y_j)$\n",
    "\n",
    "$P(y_{yes})=9/14=0.64$\n",
    "\n",
    "$P(y_{no})=5/14=0.36$\n",
    "\n",
    "$\\hat y_{yes} = P(O=sunny|yes) \\cdot P(T=cool|yes) \\cdot P(H=high|yes) \\cdot P(W=strong|yes) \\cdot P(y_{yes})$\n",
    "\n",
    "$\\hat y_{yes} = 2/9 \\cdot 3/9 \\cdot 3/9 \\cdot 3/9 \\cdot 0.64$\n",
    "\n",
    "$\\hat y_{yes} = 0.22 \\cdot 0.33 \\cdot 0.33 \\cdot 0.33 \\cdot 0.64$\n",
    "\n",
    "$\\hat y_{yes} = 0.0050$\n",
    "\n",
    "$\\hat y_{no} = P(O=sunny|no) \\cdot P(T=cool|no) \\cdot P(H=high|no) \\cdot P(W=strong|no) \\cdot P(y_{no})$\n",
    "\n",
    "$\\hat y_{no} = 3/5 \\cdot 1/5  \\cdot 4/5 \\cdot 3/5 \\cdot 0.36$\n",
    "\n",
    "$\\hat y_{no} = 0.6 \\cdot 0.2 \\cdot 0.8 \\cdot 0.6  \\cdot 0.36$\n",
    "\n",
    "$\\hat y_{no} = 0.02$\n",
    "\n",
    "$\\hat y = argmax(\\hat y_{yes}, \\hat y_{no})$\n",
    "\n",
    "$\\hat y = argmax(0.0050, 0.02)$\n",
    "\n",
    "$\\hat y = no$\n"
   ]
  },
  {
   "cell_type": "code",
   "execution_count": null,
   "metadata": {
    "colab": {
     "base_uri": "https://localhost:8080/"
    },
    "id": "1I7wnvvZF9Z9",
    "outputId": "052680ab-3dcb-4000-eefc-bd27c55ee58e"
   },
   "outputs": [
    {
     "name": "stdout",
     "output_type": "stream",
     "text": [
      "--2023-02-16 02:40:43--  https://raw.githubusercontent.com/thongchaic/datasets/master/IRIS.csv\n",
      "Resolving raw.githubusercontent.com (raw.githubusercontent.com)... 185.199.108.133, 185.199.109.133, 185.199.110.133, ...\n",
      "Connecting to raw.githubusercontent.com (raw.githubusercontent.com)|185.199.108.133|:443... connected.\n",
      "HTTP request sent, awaiting response... 200 OK\n",
      "Length: 4617 (4.5K) [text/plain]\n",
      "Saving to: ‘IRIS.csv’\n",
      "\n",
      "\r",
      "IRIS.csv              0%[                    ]       0  --.-KB/s               \r",
      "IRIS.csv            100%[===================>]   4.51K  --.-KB/s    in 0s      \n",
      "\n",
      "2023-02-16 02:40:43 (49.1 MB/s) - ‘IRIS.csv’ saved [4617/4617]\n",
      "\n"
     ]
    }
   ],
   "source": [
    "!wget https://raw.githubusercontent.com/thongchaic/datasets/master/IRIS.csv"
   ]
  },
  {
   "cell_type": "code",
   "execution_count": null,
   "metadata": {
    "colab": {
     "base_uri": "https://localhost:8080/",
     "height": 499
    },
    "id": "RrkVm6ouSHtm",
    "outputId": "5bab33c1-6656-41a6-8612-e37ecd8c8271"
   },
   "outputs": [
    {
     "name": "stdout",
     "output_type": "stream",
     "text": [
      "(150,)\n",
      "(150, 2)\n",
      "[[1.         1.08979592 1.17959184 ... 5.22040816 5.31020408 5.4       ]\n",
      " [1.         1.08979592 1.17959184 ... 5.22040816 5.31020408 5.4       ]\n",
      " [1.         1.08979592 1.17959184 ... 5.22040816 5.31020408 5.4       ]\n",
      " ...\n",
      " [1.         1.08979592 1.17959184 ... 5.22040816 5.31020408 5.4       ]\n",
      " [1.         1.08979592 1.17959184 ... 5.22040816 5.31020408 5.4       ]\n",
      " [1.         1.08979592 1.17959184 ... 5.22040816 5.31020408 5.4       ]]\n"
     ]
    },
    {
     "data": {
      "text/plain": [
       "<matplotlib.collections.PathCollection at 0x7f88fb5b7730>"
      ]
     },
     "execution_count": 15,
     "metadata": {},
     "output_type": "execute_result"
    },
    {
     "data": {
      "image/png": "[encoded data removed]",
      "text/plain": [
       "<Figure size 576x360 with 1 Axes>"
      ]
     },
     "metadata": {
      "needs_background": "light"
     },
     "output_type": "display_data"
    }
   ],
   "source": [
    "import numpy as np\n",
    "import pandas as pd\n",
    "import matplotlib.pyplot as plt\n",
    "from sklearn.naive_bayes import GaussianNB\n",
    "iris = pd.read_csv(\"IRIS.csv\")\n",
    "data = iris.iloc[:,1:3].values\n",
    "labels = iris['species'].replace({\"Iris-setosa\":0,\"Iris-versicolor\":1,\"Iris-virginica\":2}).copy().values\n",
    "print(labels.shape)\n",
    "print(data.shape)\n",
    "\n",
    "model = GaussianNB(priors=None)\n",
    "model.fit(data,labels)\n",
    "\n",
    "N=50\n",
    "X=np.linspace( min(data[:,0])-1 , max(data[:,0])+1 , N)\n",
    "Y=np.linspace( min(data[:,1])-1 , max(data[:,1])+1 , N)\n",
    "#print(X,Y)\n",
    "X, Y = np.meshgrid(X,Y)\n",
    "print(X)\n",
    "z = np.array([ model.predict([[x,y]])[0] for x, y in zip(X.ravel(), Y.ravel()) ])\n",
    "Z = z.reshape(X.shape)\n",
    "#print(Z)\n",
    "plt.figure(figsize=(8,5))\n",
    "plt.contourf(X,Y,Z,2,alpha=.2,colors=(\"red\",\"green\",\"blue\"))\n",
    "setosa = iris[ iris['species'] == 'Iris-setosa' ].values\n",
    "versicolor = iris[ iris['species'] == 'Iris-versicolor' ].values\n",
    "virginica = iris[ iris['species'] == 'Iris-virginica' ].values\n",
    "#print(setosa)\n",
    "plt.scatter(setosa[:,1],setosa[:,2],color=\"red\")\n",
    "plt.scatter(versicolor[:,1],versicolor[:,2],color=\"green\")\n",
    "plt.scatter(virginica[:,1],virginica[:,2],color=\"blue\")"
   ]
  }
 ],
 "metadata": {
  "colab": {
   "provenance": []
  },
  "kernelspec": {
   "display_name": "Python 3 (ipykernel)",
   "language": "python",
   "name": "python3"
  },
  "language_info": {
   "codemirror_mode": {
    "name": "ipython",
    "version": 3
   },
   "file_extension": ".py",
   "mimetype": "text/x-python",
   "name": "python",
   "nbconvert_exporter": "python",
   "pygments_lexer": "ipython3",
   "version": "3.10.9"
  }
 },
 "nbformat": 4,
 "nbformat_minor": 1
}
