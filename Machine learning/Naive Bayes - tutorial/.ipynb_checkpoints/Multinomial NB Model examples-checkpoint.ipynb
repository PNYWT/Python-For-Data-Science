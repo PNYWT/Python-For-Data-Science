{
 "cells": [
  {
   "cell_type": "code",
   "execution_count": 3,
   "id": "d50e7834",
   "metadata": {},
   "outputs": [
    {
     "name": "stdout",
     "output_type": "stream",
     "text": [
      "Predicted Labels: ['yes']\n"
     ]
    }
   ],
   "source": [
    "from sklearn.naive_bayes import MultinomialNB\n",
    "from sklearn.feature_extraction.text import CountVectorizer\n",
    "\n",
    "# ตัวอย่างข้อมูลฝึกอบรม\n",
    "train_data = [\n",
    "    'Chinese Beijing Chinese',\n",
    "    'Chinese Chinese Shanghai',\n",
    "    'Chinese Macao',\n",
    "    'Tokyo Japan Chinese'\n",
    "]\n",
    "train_labels = ['yes', 'yes', 'yes', 'no']\n",
    "\n",
    "# ตัวอย่างข้อมูลที่ใช้ในการทดสอบ\n",
    "test_data = ['Chinese Chinese Chinese Tokyo Japan']\n",
    "\n",
    "# สร้างเวกเตอร์จากข้อมูลฝึกอบรมโดยใช้ CountVectorizer\n",
    "vectorizer = CountVectorizer()\n",
    "X_train = vectorizer.fit_transform(train_data)\n",
    "\n",
    "# สร้างโมเดล Naive Bayes แบบ Multinomial\n",
    "model = MultinomialNB()\n",
    "\n",
    "# ฝึกโมเดลโดยใช้ข้อมูลฝึกอบรมและป้ายกำกับ\n",
    "model.fit(X_train, train_labels)\n",
    "\n",
    "# แปลงข้อมูลทดสอบให้สอดคล้องกับเวกเตอร์ที่ใช้ในการฝึกโมเดล\n",
    "X_test = vectorizer.transform(test_data)\n",
    "\n",
    "# ทำนายผลโดยใช้โมเดลที่ฝึกอบรม\n",
    "predictions = model.predict(X_test)\n",
    "\n",
    "# แสดงผลลัพธ์\n",
    "print('Predicted Labels:', predictions)"
   ]
  },
  {
   "cell_type": "markdown",
   "id": "1dedb1b7",
   "metadata": {},
   "source": [
    "มีข้อมูลตัวอย่างเกี่ยวกับการจำแนกอีเมล์อย่างง่าย โดยมีคุณลักษณะ (features) เป็นคำที่ปรากฏในเนื้อหาของอีเมล์ และคลาส (class) เป็น \"spam\" หรือ \"ham\" ซึ่งบ่งบอกว่าเป็นอีเมล์สแปมหรือไม่สแปม"
   ]
  },
  {
   "cell_type": "code",
   "execution_count": 5,
   "id": "f045b9af",
   "metadata": {},
   "outputs": [
    {
     "name": "stdout",
     "output_type": "stream",
     "text": [
      "X_new    (0, 1)\t1\n",
      "  (0, 17)\t1\n",
      "  (0, 23)\t1\n",
      "Prediction: ['spam']\n"
     ]
    }
   ],
   "source": [
    "from sklearn.feature_extraction.text import CountVectorizer\n",
    "from sklearn.naive_bayes import MultinomialNB\n",
    "\n",
    "# ข้อมูลตัวอย่าง\n",
    "emails = [\n",
    "    'Buy now, limited time offer!',\n",
    "    'Congratulations, you have won a prize!',\n",
    "    'Meeting reminder for tomorrow',\n",
    "    'Please review the document',\n",
    "    'Get the latest updates from our website'\n",
    "]\n",
    "\n",
    "# คลาสของข้อมูลตัวอย่าง\n",
    "labels = ['spam', 'spam', 'ham', 'ham', 'ham']\n",
    "\n",
    "# สร้างเวกเตอร์คำ\n",
    "vectorizer = CountVectorizer()\n",
    "X = vectorizer.fit_transform(emails)\n",
    "\n",
    "# สร้างโมเดล Multinomial Naive Bayes\n",
    "model = MultinomialNB()\n",
    "\n",
    "# ฝึกโมเดล\n",
    "model.fit(X, labels)\n",
    "\n",
    "# ทำนายคลาสของข้อมูลใหม่\n",
    "new_email = ['Congratulations, you are the lucky winner!']\n",
    "X_new = vectorizer.transform(new_email) #vectorized เพื่อแปลงข้อความเป็นเวกเตอร์ของคำ\n",
    "print(\"X_new \",X_new)\n",
    "prediction = model.predict(X_new)\n",
    "\n",
    "print('Prediction:', prediction)"
   ]
  },
  {
   "cell_type": "code",
   "execution_count": null,
   "id": "db496b7c",
   "metadata": {},
   "outputs": [],
   "source": []
  }
 ],
 "metadata": {
  "kernelspec": {
   "display_name": "Python 3 (ipykernel)",
   "language": "python",
   "name": "python3"
  },
  "language_info": {
   "codemirror_mode": {
    "name": "ipython",
    "version": 3
   },
   "file_extension": ".py",
   "mimetype": "text/x-python",
   "name": "python",
   "nbconvert_exporter": "python",
   "pygments_lexer": "ipython3",
   "version": "3.10.9"
  }
 },
 "nbformat": 4,
 "nbformat_minor": 5
}
