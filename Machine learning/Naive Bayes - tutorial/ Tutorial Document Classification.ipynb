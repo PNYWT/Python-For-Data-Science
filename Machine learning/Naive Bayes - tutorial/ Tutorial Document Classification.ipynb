{
 "cells": [
  {
   "cell_type": "markdown",
   "id": "4aba33b2",
   "metadata": {},
   "source": [
    "# Lab\n",
    "https://www.youtube.com/watch?v=zlVJ2_N_Olo"
   ]
  },
  {
   "cell_type": "code",
   "execution_count": 1,
   "id": "ba273bb7",
   "metadata": {},
   "outputs": [
    {
     "name": "stdout",
     "output_type": "stream",
     "text": [
      "Predicted Labels: ['yes' 'yes' 'yes' 'no']\n"
     ]
    }
   ],
   "source": [
    "from sklearn.naive_bayes import MultinomialNB\n",
    "from sklearn.feature_extraction.text import CountVectorizer\n",
    "\n",
    "# ตัวอย่างข้อมูลฝึกอบรม\n",
    "train_data = [\n",
    "    'The price of crude oil has increased significatly',\n",
    "    'Demand for crude oil outstrips supply',\n",
    "    'Some people do not like the flavor of olive oil',\n",
    "    'The food was very oily',\n",
    "    \"Curde oil is in short supply\",\n",
    "    \"Use a bit of cooking oil in the frying pan\"\n",
    "]\n",
    "train_labels = ['yes', 'yes', 'no', 'no', 'yes', 'no']\n",
    "\n",
    "# ตัวอย่างข้อมูลที่ใช้ในการทดสอบ\n",
    "test_data = ['Oil platforms extract cude oil',\n",
    "            \"Canola oil is supposed to be healthy\",\n",
    "            \"Iraq has significant oil reserves\",\n",
    "            \"There are different types of cooking oil\"]\n",
    "\n",
    "# สร้างเวกเตอร์จากข้อมูลฝึกอบรมโดยใช้ CountVectorizer\n",
    "vectorizer = CountVectorizer()\n",
    "X_train = vectorizer.fit_transform(train_data)\n",
    "\n",
    "# สร้างโมเดล Naive Bayes แบบ Multinomial\n",
    "model = MultinomialNB()\n",
    "\n",
    "# ฝึกโมเดลโดยใช้ข้อมูลฝึกอบรมและป้ายกำกับ\n",
    "model.fit(X_train, train_labels)\n",
    "\n",
    "# แปลงข้อมูลทดสอบให้สอดคล้องกับเวกเตอร์ที่ใช้ในการฝึกโมเดล\n",
    "X_test = vectorizer.transform(test_data)\n",
    "\n",
    "# ทำนายผลโดยใช้โมเดลที่ฝึกอบรม\n",
    "predictions = model.predict(X_test)\n",
    "\n",
    "# แสดงผลลัพธ์\n",
    "print('Predicted Labels:', predictions)"
   ]
  }
 ],
 "metadata": {
  "kernelspec": {
   "display_name": "Python 3 (ipykernel)",
   "language": "python",
   "name": "python3"
  },
  "language_info": {
   "codemirror_mode": {
    "name": "ipython",
    "version": 3
   },
   "file_extension": ".py",
   "mimetype": "text/x-python",
   "name": "python",
   "nbconvert_exporter": "python",
   "pygments_lexer": "ipython3",
   "version": "3.10.9"
  }
 },
 "nbformat": 4,
 "nbformat_minor": 5
}
