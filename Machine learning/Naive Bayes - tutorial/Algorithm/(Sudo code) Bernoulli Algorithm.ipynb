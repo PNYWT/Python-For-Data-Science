{
 "cells": [
  {
   "cell_type": "code",
   "execution_count": 13,
   "id": "a46ae396",
   "metadata": {},
   "outputs": [
    {
     "name": "stdout",
     "output_type": "stream",
     "text": [
      "P(0 = yes | class) = 0.14285714285714285\n",
      "P(0 = no | class) = 0.14285714285714285\n",
      "P(1 = yes | class) = 0.14285714285714285\n",
      "P(1 = no | class) = 0.14285714285714285\n"
     ]
    }
   ],
   "source": [
    "def calculate_cond_probs(data, labels, features):\n",
    "    classes = list(set(labels))  # หาคลาสทั้งหมด\n",
    "    num_features = len(features)  # จำนวนคุณลักษณะ\n",
    "    cond_probs = {}  # เก็บความน่าจะเป็นเงื่อนไขของคุณลักษณะแต่ละคลาส\n",
    "\n",
    "    for f in range(num_features):  # วนลูปตามจำนวนคุณลักษณะ\n",
    "        feature_counts = [0] * len(classes)  # สร้างรายการเก็บจำนวนคุณลักษณะในแต่ละคลาส\n",
    "\n",
    "        for i, example in enumerate(data):  # วนลูปในข้อมูลตัวอย่างทั้งหมด\n",
    "            if example[f] == features[f]:  # ตรวจสอบว่าคุณลักษณะปรากฏในตัวอย่างหรือไม่\n",
    "                feature_counts[classes.index(labels[i])] += 1  # นับคุณลักษณะในคลาสที่เกี่ยวข้อง\n",
    "\n",
    "        for cls in classes:  # คำนวณความน่าจะเป็นของคุณลักษณะในแต่ละคลาสและเก็บใน cond_probs\n",
    "            cond_probs[(f, cls)] = (feature_counts[classes.index(cls)] + 1) / (\n",
    "                    labels.count(cls) + 2)  # ใช้ Smoothing ด้วยการเพิ่ม 1 ที่จำนวนคุณลักษณะและจำนวนคลาส\n",
    "\n",
    "    return cond_probs\n",
    "\n",
    "data = [\n",
    "    [1, 'sunny', 'hot'],\n",
    "    [2, 'sunny', 'hot'],\n",
    "    [3, 'overcast', 'hot'],\n",
    "    [4, 'rainy', 'mild'],\n",
    "    [5, 'rainy', 'cool'],\n",
    "    [6, 'rainy', 'cool'],\n",
    "    [7, 'overcast', 'cool'],\n",
    "    [8, 'sunny', 'mild'],\n",
    "    [9, 'sunny', 'cool'],\n",
    "    [10, 'rainy', 'mild'],\n",
    "]\n",
    "labels = ['yes', 'yes', 'yes', 'no', 'no', 'no', 'yes', 'no', 'yes', 'no']\n",
    "features = ['sunny', 'hot']  # ตัวอย่างเลือกคุณลักษณะ sunny และ hot\n",
    "\n",
    "cond_probs = calculate_cond_probs(data, labels, features)\n",
    "\n",
    "# แสดง Conditional Probabilities\n",
    "for feature, cls in cond_probs.keys():\n",
    "    print('P({} = {} | class) = {}'.format(feature, cls, cond_probs[(feature, cls)]))\n"
   ]
  },
  {
   "cell_type": "code",
   "execution_count": null,
   "id": "e317e35a",
   "metadata": {},
   "outputs": [],
   "source": []
  }
 ],
 "metadata": {
  "kernelspec": {
   "display_name": "Python 3 (ipykernel)",
   "language": "python",
   "name": "python3"
  },
  "language_info": {
   "codemirror_mode": {
    "name": "ipython",
    "version": 3
   },
   "file_extension": ".py",
   "mimetype": "text/x-python",
   "name": "python",
   "nbconvert_exporter": "python",
   "pygments_lexer": "ipython3",
   "version": "3.10.9"
  }
 },
 "nbformat": 4,
 "nbformat_minor": 5
}
