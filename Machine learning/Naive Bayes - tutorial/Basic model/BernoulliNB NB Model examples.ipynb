{
 "cells": [
  {
   "cell_type": "markdown",
   "id": "186a58a2",
   "metadata": {},
   "source": [
    "มีข้อมูลตัวอย่างเกี่ยวกับการจำแนกอีเมล์อย่างง่าย โดยมีคุณลักษณะ (features) เป็นคำที่ปรากฏหรือไม่ปรากฏในเนื้อหาของอีเมล์ และคลาส (class) เป็น \"spam\" หรือ \"ham\" ซึ่งบ่งบอกว่าเป็นอีเมล์สแปมหรือไม่สแปม"
   ]
  },
  {
   "cell_type": "code",
   "execution_count": 2,
   "id": "4c943afc",
   "metadata": {},
   "outputs": [
    {
     "name": "stdout",
     "output_type": "stream",
     "text": [
      "Prediction: ['ham']\n"
     ]
    }
   ],
   "source": [
    "from sklearn.feature_extraction.text import CountVectorizer\n",
    "from sklearn.naive_bayes import BernoulliNB\n",
    "\n",
    "# ข้อมูลตัวอย่าง\n",
    "emails = [\n",
    "    'Buy now, limited time offer!',\n",
    "    'Congratulations, you have won a prize!',\n",
    "    'Meeting reminder for tomorrow',\n",
    "    'Please review the document',\n",
    "    'Get the latest updates from our website'\n",
    "]\n",
    "\n",
    "# คลาสของข้อมูลตัวอย่าง\n",
    "labels = ['spam', 'spam', 'ham', 'ham', 'ham']\n",
    "\n",
    "# สร้างเวกเตอร์คำ\n",
    "vectorizer = CountVectorizer(binary=True)\n",
    "X = vectorizer.fit_transform(emails)\n",
    "\n",
    "# สร้างโมเดล Bernoulli Naive Bayes\n",
    "model = BernoulliNB()\n",
    "\n",
    "# ฝึกโมเดล\n",
    "model.fit(X, labels)\n",
    "\n",
    "# ทำนายคลาสของข้อมูลใหม่\n",
    "new_email = ['Congratulations, you are the lucky winner!']\n",
    "X_new = vectorizer.transform(new_email)\n",
    "prediction = model.predict(X_new)\n",
    "\n",
    "print('Prediction:', prediction)"
   ]
  },
  {
   "cell_type": "code",
   "execution_count": null,
   "id": "e2a064b9",
   "metadata": {},
   "outputs": [],
   "source": []
  }
 ],
 "metadata": {
  "kernelspec": {
   "display_name": "Python 3 (ipykernel)",
   "language": "python",
   "name": "python3"
  },
  "language_info": {
   "codemirror_mode": {
    "name": "ipython",
    "version": 3
   },
   "file_extension": ".py",
   "mimetype": "text/x-python",
   "name": "python",
   "nbconvert_exporter": "python",
   "pygments_lexer": "ipython3",
   "version": "3.10.9"
  }
 },
 "nbformat": 4,
 "nbformat_minor": 5
}
