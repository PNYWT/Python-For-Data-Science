{
 "cells": [
  {
   "cell_type": "code",
   "execution_count": 24,
   "id": "9a9ded71",
   "metadata": {},
   "outputs": [],
   "source": [
    "def calculate_prior_probs(labels):\n",
    "    classes = set(labels)\n",
    "    prior_probs = {}\n",
    "    total_count = len(labels)\n",
    "    \n",
    "    for cls in classes:\n",
    "        prior_probs[cls] = labels.count(cls) / total_count\n",
    "    \n",
    "    return prior_probs"
   ]
  },
  {
   "cell_type": "code",
   "execution_count": 25,
   "id": "3715f1bf",
   "metadata": {},
   "outputs": [],
   "source": [
    "def calculate_cond_probs(data, labels, features):\n",
    "    classes = list(set(labels)) # เก็บ Class ทั้งหมดใส่ array\n",
    "    num_features = len(features) # นับ feature ทั้งหมด\n",
    "    cond_probs = {} #\n",
    "    \n",
    "    for f in range(num_features): # Loop ตามจำนวนรอบของ feature\n",
    "        feature_counts = [0] * len(classes) #สร้างรายการ (list) ที่มีขนาดเท่ากับจำนวน class\n",
    "        for i, example in enumerate(data):\n",
    "            if example[f] == features[f]:\n",
    "                feature_counts[classes.index(labels[i])] += 1\n",
    "        for cls in classes:\n",
    "            cond_probs[(f, cls)] = (feature_counts[classes.index(cls)] + 1) / (labels.count(cls) + len(features))\n",
    "    \n",
    "    return cond_probs"
   ]
  },
  {
   "cell_type": "code",
   "execution_count": 26,
   "id": "16b2ae3b",
   "metadata": {},
   "outputs": [],
   "source": [
    "# ตัวอย่างการใช้งาน\n",
    "data = [\n",
    "    [1, 'sunny', 'hot'],\n",
    "    [2, 'sunny', 'hot'],\n",
    "    [3, 'overcast', 'hot'],\n",
    "    [4, 'rainy', 'mild'],\n",
    "    [5, 'rainy', 'cool'],\n",
    "    [6, 'rainy', 'cool'],\n",
    "    [7, 'overcast', 'cool'],\n",
    "    [8, 'sunny', 'mild'],\n",
    "    [9, 'sunny', 'cool'],\n",
    "    [10, 'rainy', 'mild'],\n",
    "]"
   ]
  },
  {
   "cell_type": "code",
   "execution_count": 27,
   "id": "022d2deb",
   "metadata": {},
   "outputs": [],
   "source": [
    "labels = ['no', 'no', 'yes', 'yes', 'yes', 'no', 'yes', 'no', 'yes', 'yes']\n",
    "features = ['overcast', 'cool']"
   ]
  },
  {
   "cell_type": "code",
   "execution_count": 30,
   "id": "ae51f681",
   "metadata": {},
   "outputs": [],
   "source": [
    "prior_probs = calculate_prior_probs(labels)\n",
    "# print(\"data -> {}\".format(data))\n",
    "# print(\"labels -> {}\".format(labels))\n",
    "# print(\"features -> {}\".format(features))\n",
    "cond_probs = calculate_cond_probs(data, labels, features)"
   ]
  },
  {
   "cell_type": "code",
   "execution_count": 29,
   "id": "6cae6c06",
   "metadata": {},
   "outputs": [
    {
     "name": "stdout",
     "output_type": "stream",
     "text": [
      "Prior Probabilities:\n",
      "yes : 0.6\n",
      "no : 0.4\n",
      "Conditional Probabilities:\n",
      "P(0 | yes) = 0.125\n",
      "P(0 | no) = 0.16666666666666666\n",
      "P(1 | yes) = 0.125\n",
      "P(1 | no) = 0.16666666666666666\n"
     ]
    }
   ],
   "source": [
    "print('Prior Probabilities:')\n",
    "for cls, prob in prior_probs.items():\n",
    "    print(cls, ':', prob)\n",
    "\n",
    "print('Conditional Probabilities:')\n",
    "for feature, cls in cond_probs.keys():\n",
    "    print('P({} | {}) = {}'.format(feature, cls, cond_probs[(feature, cls)]))"
   ]
  },
  {
   "cell_type": "code",
   "execution_count": null,
   "id": "d37dd87b",
   "metadata": {},
   "outputs": [],
   "source": []
  }
 ],
 "metadata": {
  "kernelspec": {
   "display_name": "Python 3 (ipykernel)",
   "language": "python",
   "name": "python3"
  },
  "language_info": {
   "codemirror_mode": {
    "name": "ipython",
    "version": 3
   },
   "file_extension": ".py",
   "mimetype": "text/x-python",
   "name": "python",
   "nbconvert_exporter": "python",
   "pygments_lexer": "ipython3",
   "version": "3.10.9"
  }
 },
 "nbformat": 4,
 "nbformat_minor": 5
}
