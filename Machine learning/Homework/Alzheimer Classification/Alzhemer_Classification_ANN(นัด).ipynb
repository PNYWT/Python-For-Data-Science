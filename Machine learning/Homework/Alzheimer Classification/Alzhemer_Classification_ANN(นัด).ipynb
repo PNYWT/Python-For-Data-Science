{
 "cells": [
  {
   "cell_type": "code",
   "execution_count": null,
   "metadata": {
    "colab": {
     "base_uri": "https://localhost:8080/"
    },
    "id": "n1QpYTR1fE_6",
    "outputId": "28177139-3505-414c-f804-79a521fc7394"
   },
   "outputs": [],
   "source": [
    "# from google.colab import drive\n",
    "# drive.mount('/content/drive',force_remount=True)"
   ]
  },
  {
   "cell_type": "code",
   "execution_count": null,
   "metadata": {
    "id": "gNVzcHarcfic"
   },
   "outputs": [],
   "source": [
    "import numpy as np\n",
    "import pandas as pd\n",
    "\n",
    "import seaborn as sns"
   ]
  },
  {
   "cell_type": "code",
   "execution_count": null,
   "metadata": {
    "colab": {
     "base_uri": "https://localhost:8080/",
     "height": 513
    },
    "id": "cgr0QemRfJ12",
    "outputId": "66e8205c-41ec-49ae-c0bd-a7b54dbc81b8"
   },
   "outputs": [],
   "source": [
    "df = pd.read_csv('Alzheimer.csv')\n",
    "df"
   ]
  },
  {
   "cell_type": "code",
   "execution_count": null,
   "metadata": {
    "colab": {
     "base_uri": "https://localhost:8080/"
    },
    "id": "i7btAed4fbLs",
    "outputId": "75ea5b85-cd12-43db-805d-b61eac8edd9c"
   },
   "outputs": [],
   "source": [
    "df.info()"
   ]
  },
  {
   "cell_type": "markdown",
   "metadata": {
    "id": "1JmpZllWz9hE"
   },
   "source": [
    "# Preprocessing Data"
   ]
  },
  {
   "cell_type": "markdown",
   "metadata": {
    "id": "wBESxT7E0CET"
   },
   "source": [
    "Label Encoder"
   ]
  },
  {
   "cell_type": "code",
   "execution_count": null,
   "metadata": {
    "colab": {
     "base_uri": "https://localhost:8080/",
     "height": 243
    },
    "id": "s1dlbKuSwJOJ",
    "outputId": "68b7b0ff-56cf-4ef0-fc78-daf7fc58351f"
   },
   "outputs": [],
   "source": [
    "#LabelEncoder to Encode Multiple Columns\n",
    "from sklearn.preprocessing import LabelEncoder\n",
    "\n",
    "cols = ['Education', 'family history', 'Occupation', 'Triglycerides', 'smoking_status']\n",
    "\n",
    "df[cols] = df[cols].apply(LabelEncoder().fit_transform)\n",
    "df.head()"
   ]
  },
  {
   "cell_type": "code",
   "execution_count": null,
   "metadata": {
    "colab": {
     "base_uri": "https://localhost:8080/"
    },
    "id": "D4kNF4GYgPRW",
    "outputId": "d13a7ec2-6ffa-4c5c-c783-b51af64875e4"
   },
   "outputs": [],
   "source": [
    "#Check for missing values\n",
    "df.isna().sum()"
   ]
  },
  {
   "cell_type": "markdown",
   "metadata": {
    "id": "-iFm-nSg0FWr"
   },
   "source": [
    "# Hanlde missing value of BMI Column"
   ]
  },
  {
   "cell_type": "code",
   "execution_count": null,
   "metadata": {
    "colab": {
     "base_uri": "https://localhost:8080/"
    },
    "id": "8W_1NSqZRBtP",
    "outputId": "3e57ee1b-cca2-415f-cb8f-82c071e8c3f1"
   },
   "outputs": [],
   "source": [
    "df_filter = df.loc[df['BMI'].notnull(),:]\n",
    "df_filter['alzheimer'].value_counts()"
   ]
  },
  {
   "cell_type": "code",
   "execution_count": null,
   "metadata": {
    "id": "Lps5iiYNgUwp"
   },
   "outputs": [],
   "source": [
    "#fill na in BMI column with mean\n",
    "df = df.dropna(subset=['BMI'])"
   ]
  },
  {
   "cell_type": "code",
   "execution_count": null,
   "metadata": {
    "colab": {
     "base_uri": "https://localhost:8080/"
    },
    "id": "_DIB8kJ-Yp_p",
    "outputId": "fc33dd17-54f7-4a5b-f1da-0a8bae7874ef"
   },
   "outputs": [],
   "source": [
    "df.isna().sum()"
   ]
  },
  {
   "cell_type": "code",
   "execution_count": null,
   "metadata": {
    "colab": {
     "base_uri": "https://localhost:8080/"
    },
    "id": "KBGH6FDCSd43",
    "outputId": "8f8c039d-7e33-48d4-c9f6-81d74bffe09c"
   },
   "outputs": [],
   "source": [
    "df.alzheimer.value_counts()"
   ]
  },
  {
   "cell_type": "code",
   "execution_count": null,
   "metadata": {
    "colab": {
     "base_uri": "https://localhost:8080/",
     "height": 447
    },
    "id": "w3DPZiV1uYch",
    "outputId": "49a33916-c784-466c-f339-d63df2ea7025"
   },
   "outputs": [],
   "source": [
    "target_count = df.alzheimer.value_counts()\n",
    "target_count.plot(kind='bar', title='Count (target)');"
   ]
  },
  {
   "cell_type": "code",
   "execution_count": null,
   "metadata": {
    "colab": {
     "base_uri": "https://localhost:8080/",
     "height": 681
    },
    "id": "V1zRdQYWbUxS",
    "outputId": "e4b1ab4d-a170-4136-c64b-39072d1358e4"
   },
   "outputs": [],
   "source": [
    "sns.pairplot(data=df,\n",
    "             diag_kind=\"kde\")"
   ]
  },
  {
   "cell_type": "markdown",
   "metadata": {
    "id": "yZ2GsXzGz4LR"
   },
   "source": [
    "# Create feature and label data"
   ]
  },
  {
   "cell_type": "code",
   "execution_count": null,
   "metadata": {
    "colab": {
     "base_uri": "https://localhost:8080/",
     "height": 461
    },
    "id": "F4f83eEByuPx",
    "outputId": "0410a3cf-c55b-448c-ae68-d470bec0dcd5"
   },
   "outputs": [],
   "source": [
    "#Remove HN of ID patiant and Label class\n",
    "X = df.loc[:,~((df.columns=='alzheimer') | (df.columns=='HN'))]\n",
    "X"
   ]
  },
  {
   "cell_type": "code",
   "execution_count": null,
   "metadata": {
    "colab": {
     "base_uri": "https://localhost:8080/"
    },
    "id": "9IeW9GPY1r7b",
    "outputId": "2bbb197d-9e72-4fe4-83d4-a49f63135dc7"
   },
   "outputs": [],
   "source": [
    "y = df['alzheimer']\n",
    "y"
   ]
  },
  {
   "cell_type": "code",
   "execution_count": null,
   "metadata": {
    "colab": {
     "base_uri": "https://localhost:8080/"
    },
    "id": "cmP9bZjj1xCA",
    "outputId": "e01667b1-6352-48bd-ee59-46c28c410af4"
   },
   "outputs": [],
   "source": [
    "y.value_counts()"
   ]
  },
  {
   "cell_type": "markdown",
   "metadata": {
    "id": "JpvEoKM3jVbn"
   },
   "source": [
    "# Split Train-Test Data"
   ]
  },
  {
   "cell_type": "code",
   "execution_count": null,
   "metadata": {
    "id": "ou5shbl-11GK"
   },
   "outputs": [],
   "source": [
    "# Your code (use random_state=1234)\n",
    "from sklearn.model_selection import train_test_split\n",
    "X_train, X_test, y_train, y_test = train_test_split(X,\n",
    "                                                    y,\n",
    "                                                    test_size=0.3,\n",
    "                                                    random_state=1234)"
   ]
  },
  {
   "cell_type": "code",
   "execution_count": null,
   "metadata": {
    "colab": {
     "base_uri": "https://localhost:8080/"
    },
    "id": "wv_wPAoo2GJV",
    "outputId": "de856a9b-66d8-4d0a-ffe7-491063f7d7e1"
   },
   "outputs": [],
   "source": [
    "X_train.shape"
   ]
  },
  {
   "cell_type": "code",
   "execution_count": null,
   "metadata": {
    "colab": {
     "base_uri": "https://localhost:8080/"
    },
    "id": "rOn-VzUZ2Pqw",
    "outputId": "b2c237ce-7017-44d2-d492-b64f90246258"
   },
   "outputs": [],
   "source": [
    "y_train.value_counts()"
   ]
  },
  {
   "cell_type": "code",
   "execution_count": null,
   "metadata": {
    "colab": {
     "base_uri": "https://localhost:8080/"
    },
    "id": "IB63S8GZ2LXP",
    "outputId": "2bb55af2-bf6a-48a5-c7ed-cb2c920008d4"
   },
   "outputs": [],
   "source": [
    "X_test.shape"
   ]
  },
  {
   "cell_type": "code",
   "execution_count": null,
   "metadata": {
    "colab": {
     "base_uri": "https://localhost:8080/"
    },
    "id": "7N_1-nST2OSG",
    "outputId": "e5b78122-acb6-4149-f28f-cfb25673c2e9"
   },
   "outputs": [],
   "source": [
    "y_test.value_counts()"
   ]
  },
  {
   "cell_type": "code",
   "execution_count": null,
   "metadata": {
    "id": "x3GijgVkZZz3"
   },
   "outputs": [],
   "source": [
    "X_train = X_train.reset_index(drop=True)\n",
    "X_test = X_test.reset_index(drop=True)\n",
    "y_train = y_train.reset_index(drop=True)\n",
    "y_test = y_test.reset_index(drop=True)"
   ]
  },
  {
   "cell_type": "markdown",
   "metadata": {
    "id": "HEfksRpf2Zbr"
   },
   "source": [
    "# Feature Data Scaling"
   ]
  },
  {
   "cell_type": "code",
   "execution_count": null,
   "metadata": {
    "colab": {
     "base_uri": "https://localhost:8080/"
    },
    "id": "Q3mUQtzy2UFs",
    "outputId": "f484893b-89d7-4f01-9040-b226a9abc10b"
   },
   "outputs": [],
   "source": [
    "df.std(numeric_only=True)"
   ]
  },
  {
   "cell_type": "code",
   "execution_count": null,
   "metadata": {
    "colab": {
     "base_uri": "https://localhost:8080/",
     "height": 74
    },
    "id": "03xfSkiv2nQ2",
    "outputId": "fd604921-30f1-43a4-8185-b9bfacc73e90"
   },
   "outputs": [],
   "source": [
    "from sklearn.preprocessing import StandardScaler\n",
    "scaler = StandardScaler()\n",
    "scaler.fit(X_train)"
   ]
  },
  {
   "cell_type": "code",
   "execution_count": null,
   "metadata": {
    "id": "IKQ2MFZ42pPt"
   },
   "outputs": [],
   "source": [
    "X_train_sc = scaler.transform(X_train)\n",
    "X_train_sc = pd.DataFrame(X_train_sc, columns=X_train.columns)"
   ]
  },
  {
   "cell_type": "code",
   "execution_count": null,
   "metadata": {
    "id": "-oRxsTRn2tT9"
   },
   "outputs": [],
   "source": [
    "X_test_sc = scaler.transform(X_test)\n",
    "X_test_sc = pd.DataFrame(X_test_sc, columns=X_test.columns)"
   ]
  },
  {
   "cell_type": "code",
   "execution_count": null,
   "metadata": {
    "colab": {
     "base_uri": "https://localhost:8080/"
    },
    "id": "I2KfnD6E2vVC",
    "outputId": "0f1ae3da-52e2-40a1-d632-67afdc5de38a"
   },
   "outputs": [],
   "source": [
    "X_train_sc.std(numeric_only=True)"
   ]
  },
  {
   "cell_type": "code",
   "execution_count": null,
   "metadata": {
    "colab": {
     "base_uri": "https://localhost:8080/"
    },
    "id": "ZueUnFkiaIgx",
    "outputId": "3adfc2bb-9798-4844-a33e-fdefaa619b34"
   },
   "outputs": [],
   "source": [
    "X_test_sc.std(numeric_only=True)"
   ]
  },
  {
   "cell_type": "markdown",
   "metadata": {
    "id": "KD8Z88kT5-TB"
   },
   "source": [
    "# Classification with ANN model"
   ]
  },
  {
   "cell_type": "code",
   "execution_count": null,
   "metadata": {
    "id": "Et_hZf5BfWjW"
   },
   "outputs": [],
   "source": [
    "from sklearn.model_selection import GridSearchCV\n",
    "from sklearn.neural_network import MLPClassifier\n",
    "from sklearn.model_selection import StratifiedKFold\n",
    "import sklearn.metrics as metrics"
   ]
  },
  {
   "cell_type": "code",
   "execution_count": null,
   "metadata": {
    "id": "1EkBpw-b58_G"
   },
   "outputs": [],
   "source": [
    "ann = MLPClassifier(activation='relu',\n",
    "                    solver='adam',\n",
    "                    random_state=1234, # random number generation for weights and bias initialization\n",
    "                    learning_rate='adaptive',\n",
    "                    max_iter=700\n",
    "                   )"
   ]
  },
  {
   "cell_type": "code",
   "execution_count": null,
   "metadata": {
    "id": "TeMOFRGg3EMa"
   },
   "outputs": [],
   "source": [
    "skf = StratifiedKFold(n_splits=10,\n",
    "                      shuffle=True,\n",
    "                      random_state=1234)"
   ]
  },
  {
   "cell_type": "code",
   "execution_count": null,
   "metadata": {
    "id": "fAIXrrpYjcNs"
   },
   "outputs": [],
   "source": [
    "parameters = {'batch_size': [16, 32, 64, 128],\n",
    "              'hidden_layer_sizes': [(24, 12, 6), (64, 24, 12, 6), (200, 50, 50, 25)]\n",
    "              }"
   ]
  },
  {
   "cell_type": "code",
   "execution_count": null,
   "metadata": {
    "id": "EciB1E5FjYAB"
   },
   "outputs": [],
   "source": [
    "grid_search = GridSearchCV(estimator = ann,\n",
    "                           param_grid = parameters,\n",
    "                           cv = skf)"
   ]
  },
  {
   "cell_type": "code",
   "execution_count": null,
   "metadata": {
    "id": "poKW_UV6j-kE"
   },
   "outputs": [],
   "source": [
    "grid_result = grid_search.fit(X_train, y_train)"
   ]
  },
  {
   "cell_type": "code",
   "execution_count": null,
   "metadata": {
    "colab": {
     "base_uri": "https://localhost:8080/"
    },
    "id": "n97O4hJSlytf",
    "outputId": "13794563-ffb3-47d0-eea9-fa6fa3e6078a"
   },
   "outputs": [],
   "source": [
    "# summarize results\n",
    "print(\"Best: %f using %s\" % (grid_result.best_score_, grid_result.best_params_))"
   ]
  },
  {
   "cell_type": "markdown",
   "metadata": {
    "id": "X380YN7jpD78"
   },
   "source": [
    "Train model with best batch_size"
   ]
  },
  {
   "cell_type": "code",
   "execution_count": null,
   "metadata": {
    "id": "k0fpgCEhpChc"
   },
   "outputs": [],
   "source": [
    "ann_optimal = MLPClassifier(hidden_layer_sizes=(24, 12, 6),\n",
    "                    activation='relu',\n",
    "                    solver='adam',\n",
    "                    random_state=1234, # random number generation for weights and bias initialization\n",
    "                    learning_rate='adaptive',\n",
    "                    max_iter=700,\n",
    "                    batch_size=16\n",
    "                   )"
   ]
  },
  {
   "cell_type": "code",
   "execution_count": null,
   "metadata": {
    "colab": {
     "base_uri": "https://localhost:8080/",
     "height": 92
    },
    "id": "a6T8zGPrtHea",
    "outputId": "7087a47c-a00a-4a98-d0c3-eb53ede5675a"
   },
   "outputs": [],
   "source": [
    "ann_optimal.fit(X=X_train_sc, y=y_train)"
   ]
  },
  {
   "cell_type": "code",
   "execution_count": null,
   "metadata": {
    "colab": {
     "base_uri": "https://localhost:8080/"
    },
    "id": "v-aqN7qQtNIi",
    "outputId": "c1f1f9fa-9228-4ae1-9f28-6b1a64f53383"
   },
   "outputs": [],
   "source": [
    "y_pred_test = ann_optimal.predict(X_test_sc)\n",
    "y_pred_test"
   ]
  },
  {
   "cell_type": "code",
   "execution_count": null,
   "metadata": {
    "colab": {
     "base_uri": "https://localhost:8080/"
    },
    "id": "NlwunIndtyhn",
    "outputId": "50c69c97-56c2-4177-aa79-9dc7f9abd267"
   },
   "outputs": [],
   "source": [
    "result_df = pd.DataFrame(y_pred_test)\n",
    "result_df.value_counts()"
   ]
  },
  {
   "cell_type": "markdown",
   "metadata": {
    "id": "7KePBuKUjl4B"
   },
   "source": [
    "# Performance of ANN model"
   ]
  },
  {
   "cell_type": "code",
   "execution_count": null,
   "metadata": {
    "id": "AvBgbA7s8Apg"
   },
   "outputs": [],
   "source": [
    "conf_mat = metrics.confusion_matrix(y_test, y_pred_test, labels=[0,1])"
   ]
  },
  {
   "cell_type": "code",
   "execution_count": null,
   "metadata": {
    "colab": {
     "base_uri": "https://localhost:8080/",
     "height": 467
    },
    "id": "PYzL87jSBd9v",
    "outputId": "21af4911-7cb2-4bf6-ac2b-a80df9b45447"
   },
   "outputs": [],
   "source": [
    "metrics.ConfusionMatrixDisplay(conf_mat,\n",
    "                               display_labels=[0,1]).plot()"
   ]
  },
  {
   "cell_type": "code",
   "execution_count": null,
   "metadata": {
    "colab": {
     "base_uri": "https://localhost:8080/"
    },
    "id": "ObJgj3JP8W6n",
    "outputId": "ebd66dd4-9093-42b5-fdf3-128ba186330f"
   },
   "outputs": [],
   "source": [
    "print(metrics.classification_report(y_test, y_pred_test))"
   ]
  }
 ],
 "metadata": {
  "colab": {
   "provenance": []
  },
  "kernelspec": {
   "display_name": "Python 3 (ipykernel)",
   "language": "python",
   "name": "python3"
  },
  "language_info": {
   "codemirror_mode": {
    "name": "ipython",
    "version": 3
   },
   "file_extension": ".py",
   "mimetype": "text/x-python",
   "name": "python",
   "nbconvert_exporter": "python",
   "pygments_lexer": "ipython3",
   "version": "3.8.17"
  },
  "varInspector": {
   "cols": {
    "lenName": 16,
    "lenType": 16,
    "lenVar": 40
   },
   "kernels_config": {
    "python": {
     "delete_cmd_postfix": "",
     "delete_cmd_prefix": "del ",
     "library": "var_list.py",
     "varRefreshCmd": "print(var_dic_list())"
    },
    "r": {
     "delete_cmd_postfix": ") ",
     "delete_cmd_prefix": "rm(",
     "library": "var_list.r",
     "varRefreshCmd": "cat(var_dic_list()) "
    }
   },
   "types_to_exclude": [
    "module",
    "function",
    "builtin_function_or_method",
    "instance",
    "_Feature"
   ],
   "window_display": false
  }
 },
 "nbformat": 4,
 "nbformat_minor": 1
}
