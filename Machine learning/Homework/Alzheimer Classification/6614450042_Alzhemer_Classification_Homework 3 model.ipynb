{
 "cells": [
  {
   "cell_type": "code",
   "execution_count": 88,
   "id": "090fd83a",
   "metadata": {},
   "outputs": [],
   "source": [
    "import pandas as pd\n",
    "import numpy as np"
   ]
  },
  {
   "cell_type": "code",
   "execution_count": 89,
   "id": "88d55712",
   "metadata": {
    "scrolled": true
   },
   "outputs": [
    {
     "data": {
      "text/html": [
       "<div>\n",
       "<style scoped>\n",
       "    .dataframe tbody tr th:only-of-type {\n",
       "        vertical-align: middle;\n",
       "    }\n",
       "\n",
       "    .dataframe tbody tr th {\n",
       "        vertical-align: top;\n",
       "    }\n",
       "\n",
       "    .dataframe thead th {\n",
       "        text-align: right;\n",
       "    }\n",
       "</style>\n",
       "<table border=\"1\" class=\"dataframe\">\n",
       "  <thead>\n",
       "    <tr style=\"text-align: right;\">\n",
       "      <th></th>\n",
       "      <th>HN</th>\n",
       "      <th>Education</th>\n",
       "      <th>age</th>\n",
       "      <th>hypertension</th>\n",
       "      <th>heart_disease</th>\n",
       "      <th>family history</th>\n",
       "      <th>Occupation</th>\n",
       "      <th>Triglycerides</th>\n",
       "      <th>Blood Sugar</th>\n",
       "      <th>BMI</th>\n",
       "      <th>smoking_status</th>\n",
       "      <th>alzheimer</th>\n",
       "    </tr>\n",
       "  </thead>\n",
       "  <tbody>\n",
       "    <tr>\n",
       "      <th>0</th>\n",
       "      <td>11046</td>\n",
       "      <td>Secondary School</td>\n",
       "      <td>67.0</td>\n",
       "      <td>0</td>\n",
       "      <td>1</td>\n",
       "      <td>Yes</td>\n",
       "      <td>Private</td>\n",
       "      <td>Normal</td>\n",
       "      <td>228.69</td>\n",
       "      <td>36.6</td>\n",
       "      <td>formerly smoked</td>\n",
       "      <td>1</td>\n",
       "    </tr>\n",
       "    <tr>\n",
       "      <th>1</th>\n",
       "      <td>51676</td>\n",
       "      <td>Bachelor</td>\n",
       "      <td>61.0</td>\n",
       "      <td>0</td>\n",
       "      <td>0</td>\n",
       "      <td>Yes</td>\n",
       "      <td>Freelance</td>\n",
       "      <td>High</td>\n",
       "      <td>202.21</td>\n",
       "      <td>NaN</td>\n",
       "      <td>never smoked</td>\n",
       "      <td>1</td>\n",
       "    </tr>\n",
       "    <tr>\n",
       "      <th>2</th>\n",
       "      <td>35112</td>\n",
       "      <td>Secondary School</td>\n",
       "      <td>80.0</td>\n",
       "      <td>0</td>\n",
       "      <td>1</td>\n",
       "      <td>Yes</td>\n",
       "      <td>Private</td>\n",
       "      <td>High</td>\n",
       "      <td>105.92</td>\n",
       "      <td>32.5</td>\n",
       "      <td>never smoked</td>\n",
       "      <td>1</td>\n",
       "    </tr>\n",
       "    <tr>\n",
       "      <th>3</th>\n",
       "      <td>67182</td>\n",
       "      <td>Bachelor</td>\n",
       "      <td>49.0</td>\n",
       "      <td>0</td>\n",
       "      <td>0</td>\n",
       "      <td>Yes</td>\n",
       "      <td>Private</td>\n",
       "      <td>Normal</td>\n",
       "      <td>171.23</td>\n",
       "      <td>34.4</td>\n",
       "      <td>smokes</td>\n",
       "      <td>1</td>\n",
       "    </tr>\n",
       "    <tr>\n",
       "      <th>4</th>\n",
       "      <td>1665</td>\n",
       "      <td>Bachelor</td>\n",
       "      <td>79.0</td>\n",
       "      <td>1</td>\n",
       "      <td>0</td>\n",
       "      <td>Yes</td>\n",
       "      <td>Freelance</td>\n",
       "      <td>High</td>\n",
       "      <td>174.12</td>\n",
       "      <td>24.0</td>\n",
       "      <td>never smoked</td>\n",
       "      <td>1</td>\n",
       "    </tr>\n",
       "    <tr>\n",
       "      <th>...</th>\n",
       "      <td>...</td>\n",
       "      <td>...</td>\n",
       "      <td>...</td>\n",
       "      <td>...</td>\n",
       "      <td>...</td>\n",
       "      <td>...</td>\n",
       "      <td>...</td>\n",
       "      <td>...</td>\n",
       "      <td>...</td>\n",
       "      <td>...</td>\n",
       "      <td>...</td>\n",
       "      <td>...</td>\n",
       "    </tr>\n",
       "    <tr>\n",
       "      <th>4095</th>\n",
       "      <td>68398</td>\n",
       "      <td>Secondary School</td>\n",
       "      <td>82.0</td>\n",
       "      <td>1</td>\n",
       "      <td>0</td>\n",
       "      <td>Yes</td>\n",
       "      <td>Freelance</td>\n",
       "      <td>High</td>\n",
       "      <td>71.97</td>\n",
       "      <td>28.3</td>\n",
       "      <td>never smoked</td>\n",
       "      <td>0</td>\n",
       "    </tr>\n",
       "    <tr>\n",
       "      <th>4096</th>\n",
       "      <td>14180</td>\n",
       "      <td>Bachelor</td>\n",
       "      <td>13.0</td>\n",
       "      <td>0</td>\n",
       "      <td>0</td>\n",
       "      <td>No</td>\n",
       "      <td>Farmer</td>\n",
       "      <td>High</td>\n",
       "      <td>103.08</td>\n",
       "      <td>18.6</td>\n",
       "      <td>Unknown</td>\n",
       "      <td>0</td>\n",
       "    </tr>\n",
       "    <tr>\n",
       "      <th>4097</th>\n",
       "      <td>44873</td>\n",
       "      <td>Bachelor</td>\n",
       "      <td>81.0</td>\n",
       "      <td>0</td>\n",
       "      <td>0</td>\n",
       "      <td>Yes</td>\n",
       "      <td>Freelance</td>\n",
       "      <td>Normal</td>\n",
       "      <td>125.20</td>\n",
       "      <td>40.0</td>\n",
       "      <td>never smoked</td>\n",
       "      <td>0</td>\n",
       "    </tr>\n",
       "    <tr>\n",
       "      <th>4098</th>\n",
       "      <td>19723</td>\n",
       "      <td>Bachelor</td>\n",
       "      <td>35.0</td>\n",
       "      <td>0</td>\n",
       "      <td>0</td>\n",
       "      <td>Yes</td>\n",
       "      <td>Freelance</td>\n",
       "      <td>High</td>\n",
       "      <td>82.99</td>\n",
       "      <td>30.6</td>\n",
       "      <td>never smoked</td>\n",
       "      <td>0</td>\n",
       "    </tr>\n",
       "    <tr>\n",
       "      <th>4099</th>\n",
       "      <td>44679</td>\n",
       "      <td>Bachelor</td>\n",
       "      <td>44.0</td>\n",
       "      <td>0</td>\n",
       "      <td>0</td>\n",
       "      <td>Yes</td>\n",
       "      <td>Officer</td>\n",
       "      <td>Normal</td>\n",
       "      <td>85.28</td>\n",
       "      <td>26.2</td>\n",
       "      <td>Unknown</td>\n",
       "      <td>0</td>\n",
       "    </tr>\n",
       "  </tbody>\n",
       "</table>\n",
       "<p>4100 rows × 12 columns</p>\n",
       "</div>"
      ],
      "text/plain": [
       "         HN         Education   age  hypertension  heart_disease  \\\n",
       "0     11046  Secondary School  67.0             0              1   \n",
       "1     51676          Bachelor  61.0             0              0   \n",
       "2     35112  Secondary School  80.0             0              1   \n",
       "3     67182          Bachelor  49.0             0              0   \n",
       "4      1665          Bachelor  79.0             1              0   \n",
       "...     ...               ...   ...           ...            ...   \n",
       "4095  68398  Secondary School  82.0             1              0   \n",
       "4096  14180          Bachelor  13.0             0              0   \n",
       "4097  44873          Bachelor  81.0             0              0   \n",
       "4098  19723          Bachelor  35.0             0              0   \n",
       "4099  44679          Bachelor  44.0             0              0   \n",
       "\n",
       "     family history Occupation Triglycerides  Blood Sugar   BMI  \\\n",
       "0               Yes    Private        Normal       228.69  36.6   \n",
       "1               Yes  Freelance          High       202.21   NaN   \n",
       "2               Yes    Private          High       105.92  32.5   \n",
       "3               Yes    Private        Normal       171.23  34.4   \n",
       "4               Yes  Freelance          High       174.12  24.0   \n",
       "...             ...        ...           ...          ...   ...   \n",
       "4095            Yes  Freelance          High        71.97  28.3   \n",
       "4096             No     Farmer          High       103.08  18.6   \n",
       "4097            Yes  Freelance        Normal       125.20  40.0   \n",
       "4098            Yes  Freelance          High        82.99  30.6   \n",
       "4099            Yes    Officer        Normal        85.28  26.2   \n",
       "\n",
       "       smoking_status  alzheimer  \n",
       "0     formerly smoked          1  \n",
       "1        never smoked          1  \n",
       "2        never smoked          1  \n",
       "3              smokes          1  \n",
       "4        never smoked          1  \n",
       "...               ...        ...  \n",
       "4095     never smoked          0  \n",
       "4096          Unknown          0  \n",
       "4097     never smoked          0  \n",
       "4098     never smoked          0  \n",
       "4099          Unknown          0  \n",
       "\n",
       "[4100 rows x 12 columns]"
      ]
     },
     "execution_count": 89,
     "metadata": {},
     "output_type": "execute_result"
    }
   ],
   "source": [
    "dataSet = pd.read_csv(\"Alzheimer.csv\")\n",
    "dataSet"
   ]
  },
  {
   "cell_type": "markdown",
   "id": "bde3e6ec",
   "metadata": {},
   "source": []
  },
  {
   "cell_type": "markdown",
   "id": "580726b7",
   "metadata": {},
   "source": [
    "# MARK: Data Processing"
   ]
  },
  {
   "cell_type": "code",
   "execution_count": 90,
   "id": "39a27f02",
   "metadata": {},
   "outputs": [
    {
     "name": "stdout",
     "output_type": "stream",
     "text": [
      "<class 'pandas.core.frame.DataFrame'>\n",
      "RangeIndex: 4100 entries, 0 to 4099\n",
      "Data columns (total 12 columns):\n",
      " #   Column          Non-Null Count  Dtype  \n",
      "---  ------          --------------  -----  \n",
      " 0   HN              4100 non-null   int64  \n",
      " 1   Education       4100 non-null   object \n",
      " 2   age             4100 non-null   float64\n",
      " 3   hypertension    4100 non-null   int64  \n",
      " 4   heart_disease   4100 non-null   int64  \n",
      " 5   family history  4100 non-null   object \n",
      " 6   Occupation      4100 non-null   object \n",
      " 7   Triglycerides   4100 non-null   object \n",
      " 8   Blood Sugar     4100 non-null   float64\n",
      " 9   BMI             3936 non-null   float64\n",
      " 10  smoking_status  4100 non-null   object \n",
      " 11  alzheimer       4100 non-null   int64  \n",
      "dtypes: float64(3), int64(4), object(5)\n",
      "memory usage: 384.5+ KB\n"
     ]
    }
   ],
   "source": [
    "dataSet.info()"
   ]
  },
  {
   "cell_type": "code",
   "execution_count": 91,
   "id": "d61bb8d0",
   "metadata": {
    "scrolled": true
   },
   "outputs": [
    {
     "data": {
      "text/plain": [
       "HN                  0\n",
       "Education           0\n",
       "age                 0\n",
       "hypertension        0\n",
       "heart_disease       0\n",
       "family history      0\n",
       "Occupation          0\n",
       "Triglycerides       0\n",
       "Blood Sugar         0\n",
       "BMI               164\n",
       "smoking_status      0\n",
       "alzheimer           0\n",
       "dtype: int64"
      ]
     },
     "execution_count": 91,
     "metadata": {},
     "output_type": "execute_result"
    }
   ],
   "source": [
    "dataSet.isna().sum()"
   ]
  },
  {
   "cell_type": "markdown",
   "id": "cfca83bd",
   "metadata": {},
   "source": [
    "### MARK: เลือกที่จะ drop ทิ้งเพราะว่า Null มีจำนวนไม่เยอะมาก ไม่มีผลต่อ data เท่าที่ควร และ ไม่สามารถหาค่า BMI มาแทนที่ได้เพราะไม่มี weight และ height ของผู้ป่วย"
   ]
  },
  {
   "cell_type": "code",
   "execution_count": 92,
   "id": "a3f4e5c4",
   "metadata": {},
   "outputs": [
    {
     "data": {
      "text/plain": [
       "HN                0\n",
       "Education         0\n",
       "age               0\n",
       "hypertension      0\n",
       "heart_disease     0\n",
       "family history    0\n",
       "Occupation        0\n",
       "Triglycerides     0\n",
       "Blood Sugar       0\n",
       "BMI               0\n",
       "smoking_status    0\n",
       "alzheimer         0\n",
       "dtype: int64"
      ]
     },
     "execution_count": 92,
     "metadata": {},
     "output_type": "execute_result"
    }
   ],
   "source": [
    "dataSet = dataSet.dropna()\n",
    "dataSet.isna().sum()"
   ]
  },
  {
   "cell_type": "markdown",
   "id": "b166cba3",
   "metadata": {},
   "source": [
    "### MARK: ตรวจสอบ Class Target จำนวนเหมาะสมกันหรือไม่"
   ]
  },
  {
   "cell_type": "code",
   "execution_count": 93,
   "id": "f2e2b26d",
   "metadata": {},
   "outputs": [
    {
     "name": "stdout",
     "output_type": "stream",
     "text": [
      "Target == 1 -> 202\n"
     ]
    }
   ],
   "source": [
    "print(\"Target == 1 ->\", len(dataSet.loc[dataSet[\"alzheimer\"] == 1, \"alzheimer\"]))"
   ]
  },
  {
   "cell_type": "code",
   "execution_count": 94,
   "id": "d8ce5ebf",
   "metadata": {},
   "outputs": [
    {
     "name": "stdout",
     "output_type": "stream",
     "text": [
      "Target == 1 -> 3734\n"
     ]
    }
   ],
   "source": [
    "print(\"Target == 1 ->\", len(dataSet.loc[dataSet[\"alzheimer\"] == 0, \"alzheimer\"]))"
   ]
  },
  {
   "cell_type": "markdown",
   "id": "49de70e7",
   "metadata": {},
   "source": [
    "### MARK: ปรับข้อมูล เป็น 0,1"
   ]
  },
  {
   "cell_type": "code",
   "execution_count": 95,
   "id": "255ebb44",
   "metadata": {
    "scrolled": true
   },
   "outputs": [
    {
     "data": {
      "text/html": [
       "<div>\n",
       "<style scoped>\n",
       "    .dataframe tbody tr th:only-of-type {\n",
       "        vertical-align: middle;\n",
       "    }\n",
       "\n",
       "    .dataframe tbody tr th {\n",
       "        vertical-align: top;\n",
       "    }\n",
       "\n",
       "    .dataframe thead th {\n",
       "        text-align: right;\n",
       "    }\n",
       "</style>\n",
       "<table border=\"1\" class=\"dataframe\">\n",
       "  <thead>\n",
       "    <tr style=\"text-align: right;\">\n",
       "      <th></th>\n",
       "      <th>HN</th>\n",
       "      <th>Education</th>\n",
       "      <th>age</th>\n",
       "      <th>hypertension</th>\n",
       "      <th>heart_disease</th>\n",
       "      <th>family history</th>\n",
       "      <th>Occupation</th>\n",
       "      <th>Triglycerides</th>\n",
       "      <th>Blood Sugar</th>\n",
       "      <th>BMI</th>\n",
       "      <th>smoking_status</th>\n",
       "      <th>alzheimer</th>\n",
       "    </tr>\n",
       "  </thead>\n",
       "  <tbody>\n",
       "    <tr>\n",
       "      <th>0</th>\n",
       "      <td>11046</td>\n",
       "      <td>Secondary School</td>\n",
       "      <td>67.0</td>\n",
       "      <td>0</td>\n",
       "      <td>1</td>\n",
       "      <td>Yes</td>\n",
       "      <td>Private</td>\n",
       "      <td>Normal</td>\n",
       "      <td>228.69</td>\n",
       "      <td>36.6</td>\n",
       "      <td>formerly smoked</td>\n",
       "      <td>1</td>\n",
       "    </tr>\n",
       "    <tr>\n",
       "      <th>2</th>\n",
       "      <td>35112</td>\n",
       "      <td>Secondary School</td>\n",
       "      <td>80.0</td>\n",
       "      <td>0</td>\n",
       "      <td>1</td>\n",
       "      <td>Yes</td>\n",
       "      <td>Private</td>\n",
       "      <td>High</td>\n",
       "      <td>105.92</td>\n",
       "      <td>32.5</td>\n",
       "      <td>never smoked</td>\n",
       "      <td>1</td>\n",
       "    </tr>\n",
       "    <tr>\n",
       "      <th>3</th>\n",
       "      <td>67182</td>\n",
       "      <td>Bachelor</td>\n",
       "      <td>49.0</td>\n",
       "      <td>0</td>\n",
       "      <td>0</td>\n",
       "      <td>Yes</td>\n",
       "      <td>Private</td>\n",
       "      <td>Normal</td>\n",
       "      <td>171.23</td>\n",
       "      <td>34.4</td>\n",
       "      <td>smokes</td>\n",
       "      <td>1</td>\n",
       "    </tr>\n",
       "    <tr>\n",
       "      <th>4</th>\n",
       "      <td>1665</td>\n",
       "      <td>Bachelor</td>\n",
       "      <td>79.0</td>\n",
       "      <td>1</td>\n",
       "      <td>0</td>\n",
       "      <td>Yes</td>\n",
       "      <td>Freelance</td>\n",
       "      <td>High</td>\n",
       "      <td>174.12</td>\n",
       "      <td>24.0</td>\n",
       "      <td>never smoked</td>\n",
       "      <td>1</td>\n",
       "    </tr>\n",
       "    <tr>\n",
       "      <th>5</th>\n",
       "      <td>66889</td>\n",
       "      <td>Secondary School</td>\n",
       "      <td>81.0</td>\n",
       "      <td>0</td>\n",
       "      <td>0</td>\n",
       "      <td>Yes</td>\n",
       "      <td>Private</td>\n",
       "      <td>Normal</td>\n",
       "      <td>186.21</td>\n",
       "      <td>29.0</td>\n",
       "      <td>formerly smoked</td>\n",
       "      <td>1</td>\n",
       "    </tr>\n",
       "  </tbody>\n",
       "</table>\n",
       "</div>"
      ],
      "text/plain": [
       "      HN         Education   age  hypertension  heart_disease family history  \\\n",
       "0  11046  Secondary School  67.0             0              1            Yes   \n",
       "2  35112  Secondary School  80.0             0              1            Yes   \n",
       "3  67182          Bachelor  49.0             0              0            Yes   \n",
       "4   1665          Bachelor  79.0             1              0            Yes   \n",
       "5  66889  Secondary School  81.0             0              0            Yes   \n",
       "\n",
       "  Occupation Triglycerides  Blood Sugar   BMI   smoking_status  alzheimer  \n",
       "0    Private        Normal       228.69  36.6  formerly smoked          1  \n",
       "2    Private          High       105.92  32.5     never smoked          1  \n",
       "3    Private        Normal       171.23  34.4           smokes          1  \n",
       "4  Freelance          High       174.12  24.0     never smoked          1  \n",
       "5    Private        Normal       186.21  29.0  formerly smoked          1  "
      ]
     },
     "execution_count": 95,
     "metadata": {},
     "output_type": "execute_result"
    }
   ],
   "source": [
    "dataSet.head()"
   ]
  },
  {
   "cell_type": "code",
   "execution_count": 96,
   "id": "351cd5c4",
   "metadata": {},
   "outputs": [
    {
     "data": {
      "text/plain": [
       "array(['Secondary School', 'Bachelor'], dtype=object)"
      ]
     },
     "execution_count": 96,
     "metadata": {},
     "output_type": "execute_result"
    }
   ],
   "source": [
    "dataSet['Education'].unique()"
   ]
  },
  {
   "cell_type": "code",
   "execution_count": 97,
   "id": "74584f4c",
   "metadata": {},
   "outputs": [
    {
     "name": "stderr",
     "output_type": "stream",
     "text": [
      "/var/folders/gc/m_ppj8w50ggfmxvn8lf4jwxm0000gp/T/ipykernel_97258/1587614070.py:1: SettingWithCopyWarning: \n",
      "A value is trying to be set on a copy of a slice from a DataFrame.\n",
      "Try using .loc[row_indexer,col_indexer] = value instead\n",
      "\n",
      "See the caveats in the documentation: https://pandas.pydata.org/pandas-docs/stable/user_guide/indexing.html#returning-a-view-versus-a-copy\n",
      "  dataSet[\"Education\"] = dataSet[\"Education\"].replace({'Bachelor': 1, 'Secondary School': 0})\n"
     ]
    }
   ],
   "source": [
    "dataSet[\"Education\"] = dataSet[\"Education\"].replace({'Bachelor': 1, 'Secondary School': 0})"
   ]
  },
  {
   "cell_type": "code",
   "execution_count": 98,
   "id": "0a36d4a0",
   "metadata": {},
   "outputs": [
    {
     "data": {
      "text/plain": [
       "array(['Yes', 'No'], dtype=object)"
      ]
     },
     "execution_count": 98,
     "metadata": {},
     "output_type": "execute_result"
    }
   ],
   "source": [
    "dataSet['family history'].unique()"
   ]
  },
  {
   "cell_type": "code",
   "execution_count": 99,
   "id": "fd231b01",
   "metadata": {},
   "outputs": [
    {
     "name": "stderr",
     "output_type": "stream",
     "text": [
      "/var/folders/gc/m_ppj8w50ggfmxvn8lf4jwxm0000gp/T/ipykernel_97258/2561453130.py:1: SettingWithCopyWarning: \n",
      "A value is trying to be set on a copy of a slice from a DataFrame.\n",
      "Try using .loc[row_indexer,col_indexer] = value instead\n",
      "\n",
      "See the caveats in the documentation: https://pandas.pydata.org/pandas-docs/stable/user_guide/indexing.html#returning-a-view-versus-a-copy\n",
      "  dataSet[\"family history\"] = dataSet[\"family history\"].replace({'Yes': 1, 'No': 0})\n"
     ]
    }
   ],
   "source": [
    "dataSet[\"family history\"] = dataSet[\"family history\"].replace({'Yes': 1, 'No': 0})"
   ]
  },
  {
   "cell_type": "code",
   "execution_count": 100,
   "id": "7058598d",
   "metadata": {},
   "outputs": [
    {
     "data": {
      "text/plain": [
       "array(['Private', 'Freelance', 'Officer', 'Farmer', 'Never_worked'],\n",
       "      dtype=object)"
      ]
     },
     "execution_count": 100,
     "metadata": {},
     "output_type": "execute_result"
    }
   ],
   "source": [
    "dataSet['Occupation'].unique()"
   ]
  },
  {
   "cell_type": "code",
   "execution_count": 101,
   "id": "ad797fb4",
   "metadata": {},
   "outputs": [
    {
     "name": "stderr",
     "output_type": "stream",
     "text": [
      "/var/folders/gc/m_ppj8w50ggfmxvn8lf4jwxm0000gp/T/ipykernel_97258/3379441214.py:1: SettingWithCopyWarning: \n",
      "A value is trying to be set on a copy of a slice from a DataFrame.\n",
      "Try using .loc[row_indexer,col_indexer] = value instead\n",
      "\n",
      "See the caveats in the documentation: https://pandas.pydata.org/pandas-docs/stable/user_guide/indexing.html#returning-a-view-versus-a-copy\n",
      "  dataSet[\"Occupation\"] = dataSet[\"Occupation\"].replace({'Private': 0\n"
     ]
    }
   ],
   "source": [
    "dataSet[\"Occupation\"] = dataSet[\"Occupation\"].replace({'Private': 0\n",
    "                                                       , 'Freelance': 1\n",
    "                                                       , \"Officer\":2\n",
    "                                                       , \"Farmer\":3\n",
    "                                                       , \"Never_worked\":4})"
   ]
  },
  {
   "cell_type": "code",
   "execution_count": 102,
   "id": "98069db6",
   "metadata": {},
   "outputs": [
    {
     "data": {
      "text/plain": [
       "array(['Normal', 'High'], dtype=object)"
      ]
     },
     "execution_count": 102,
     "metadata": {},
     "output_type": "execute_result"
    }
   ],
   "source": [
    "dataSet['Triglycerides'].unique()"
   ]
  },
  {
   "cell_type": "code",
   "execution_count": 103,
   "id": "6128da57",
   "metadata": {},
   "outputs": [
    {
     "name": "stderr",
     "output_type": "stream",
     "text": [
      "/var/folders/gc/m_ppj8w50ggfmxvn8lf4jwxm0000gp/T/ipykernel_97258/956614456.py:1: SettingWithCopyWarning: \n",
      "A value is trying to be set on a copy of a slice from a DataFrame.\n",
      "Try using .loc[row_indexer,col_indexer] = value instead\n",
      "\n",
      "See the caveats in the documentation: https://pandas.pydata.org/pandas-docs/stable/user_guide/indexing.html#returning-a-view-versus-a-copy\n",
      "  dataSet['Triglycerides'] = dataSet['Triglycerides'].replace({'High': 1,'Normal': 0})\n"
     ]
    }
   ],
   "source": [
    "dataSet['Triglycerides'] = dataSet['Triglycerides'].replace({'High': 1,'Normal': 0})"
   ]
  },
  {
   "cell_type": "code",
   "execution_count": 104,
   "id": "bed3295e",
   "metadata": {},
   "outputs": [
    {
     "data": {
      "text/plain": [
       "array(['formerly smoked', 'never smoked', 'smokes', 'Unknown'],\n",
       "      dtype=object)"
      ]
     },
     "execution_count": 104,
     "metadata": {},
     "output_type": "execute_result"
    }
   ],
   "source": [
    "dataSet[\"smoking_status\"].unique()"
   ]
  },
  {
   "cell_type": "code",
   "execution_count": 105,
   "id": "7af82404",
   "metadata": {},
   "outputs": [
    {
     "name": "stderr",
     "output_type": "stream",
     "text": [
      "/var/folders/gc/m_ppj8w50ggfmxvn8lf4jwxm0000gp/T/ipykernel_97258/1295391749.py:1: SettingWithCopyWarning: \n",
      "A value is trying to be set on a copy of a slice from a DataFrame.\n",
      "Try using .loc[row_indexer,col_indexer] = value instead\n",
      "\n",
      "See the caveats in the documentation: https://pandas.pydata.org/pandas-docs/stable/user_guide/indexing.html#returning-a-view-versus-a-copy\n",
      "  dataSet[\"smoking_status\"] = dataSet[\"smoking_status\"].replace({'formerly smoked': 0\n"
     ]
    }
   ],
   "source": [
    "dataSet[\"smoking_status\"] = dataSet[\"smoking_status\"].replace({'formerly smoked': 0\n",
    "                                                               , 'never smoked': 1\n",
    "                                                               , \"smokes\":2\n",
    "                                                               , \"Unknown\":3})"
   ]
  },
  {
   "cell_type": "code",
   "execution_count": 106,
   "id": "048e1411",
   "metadata": {},
   "outputs": [
    {
     "data": {
      "text/html": [
       "<div>\n",
       "<style scoped>\n",
       "    .dataframe tbody tr th:only-of-type {\n",
       "        vertical-align: middle;\n",
       "    }\n",
       "\n",
       "    .dataframe tbody tr th {\n",
       "        vertical-align: top;\n",
       "    }\n",
       "\n",
       "    .dataframe thead th {\n",
       "        text-align: right;\n",
       "    }\n",
       "</style>\n",
       "<table border=\"1\" class=\"dataframe\">\n",
       "  <thead>\n",
       "    <tr style=\"text-align: right;\">\n",
       "      <th></th>\n",
       "      <th>HN</th>\n",
       "      <th>Education</th>\n",
       "      <th>age</th>\n",
       "      <th>hypertension</th>\n",
       "      <th>heart_disease</th>\n",
       "      <th>family history</th>\n",
       "      <th>Occupation</th>\n",
       "      <th>Triglycerides</th>\n",
       "      <th>Blood Sugar</th>\n",
       "      <th>BMI</th>\n",
       "      <th>smoking_status</th>\n",
       "      <th>alzheimer</th>\n",
       "    </tr>\n",
       "  </thead>\n",
       "  <tbody>\n",
       "    <tr>\n",
       "      <th>0</th>\n",
       "      <td>11046</td>\n",
       "      <td>0</td>\n",
       "      <td>67.0</td>\n",
       "      <td>0</td>\n",
       "      <td>1</td>\n",
       "      <td>1</td>\n",
       "      <td>0</td>\n",
       "      <td>0</td>\n",
       "      <td>228.69</td>\n",
       "      <td>36.6</td>\n",
       "      <td>0</td>\n",
       "      <td>1</td>\n",
       "    </tr>\n",
       "    <tr>\n",
       "      <th>2</th>\n",
       "      <td>35112</td>\n",
       "      <td>0</td>\n",
       "      <td>80.0</td>\n",
       "      <td>0</td>\n",
       "      <td>1</td>\n",
       "      <td>1</td>\n",
       "      <td>0</td>\n",
       "      <td>1</td>\n",
       "      <td>105.92</td>\n",
       "      <td>32.5</td>\n",
       "      <td>1</td>\n",
       "      <td>1</td>\n",
       "    </tr>\n",
       "    <tr>\n",
       "      <th>3</th>\n",
       "      <td>67182</td>\n",
       "      <td>1</td>\n",
       "      <td>49.0</td>\n",
       "      <td>0</td>\n",
       "      <td>0</td>\n",
       "      <td>1</td>\n",
       "      <td>0</td>\n",
       "      <td>0</td>\n",
       "      <td>171.23</td>\n",
       "      <td>34.4</td>\n",
       "      <td>2</td>\n",
       "      <td>1</td>\n",
       "    </tr>\n",
       "    <tr>\n",
       "      <th>4</th>\n",
       "      <td>1665</td>\n",
       "      <td>1</td>\n",
       "      <td>79.0</td>\n",
       "      <td>1</td>\n",
       "      <td>0</td>\n",
       "      <td>1</td>\n",
       "      <td>1</td>\n",
       "      <td>1</td>\n",
       "      <td>174.12</td>\n",
       "      <td>24.0</td>\n",
       "      <td>1</td>\n",
       "      <td>1</td>\n",
       "    </tr>\n",
       "    <tr>\n",
       "      <th>5</th>\n",
       "      <td>66889</td>\n",
       "      <td>0</td>\n",
       "      <td>81.0</td>\n",
       "      <td>0</td>\n",
       "      <td>0</td>\n",
       "      <td>1</td>\n",
       "      <td>0</td>\n",
       "      <td>0</td>\n",
       "      <td>186.21</td>\n",
       "      <td>29.0</td>\n",
       "      <td>0</td>\n",
       "      <td>1</td>\n",
       "    </tr>\n",
       "    <tr>\n",
       "      <th>...</th>\n",
       "      <td>...</td>\n",
       "      <td>...</td>\n",
       "      <td>...</td>\n",
       "      <td>...</td>\n",
       "      <td>...</td>\n",
       "      <td>...</td>\n",
       "      <td>...</td>\n",
       "      <td>...</td>\n",
       "      <td>...</td>\n",
       "      <td>...</td>\n",
       "      <td>...</td>\n",
       "      <td>...</td>\n",
       "    </tr>\n",
       "    <tr>\n",
       "      <th>4095</th>\n",
       "      <td>68398</td>\n",
       "      <td>0</td>\n",
       "      <td>82.0</td>\n",
       "      <td>1</td>\n",
       "      <td>0</td>\n",
       "      <td>1</td>\n",
       "      <td>1</td>\n",
       "      <td>1</td>\n",
       "      <td>71.97</td>\n",
       "      <td>28.3</td>\n",
       "      <td>1</td>\n",
       "      <td>0</td>\n",
       "    </tr>\n",
       "    <tr>\n",
       "      <th>4096</th>\n",
       "      <td>14180</td>\n",
       "      <td>1</td>\n",
       "      <td>13.0</td>\n",
       "      <td>0</td>\n",
       "      <td>0</td>\n",
       "      <td>0</td>\n",
       "      <td>3</td>\n",
       "      <td>1</td>\n",
       "      <td>103.08</td>\n",
       "      <td>18.6</td>\n",
       "      <td>3</td>\n",
       "      <td>0</td>\n",
       "    </tr>\n",
       "    <tr>\n",
       "      <th>4097</th>\n",
       "      <td>44873</td>\n",
       "      <td>1</td>\n",
       "      <td>81.0</td>\n",
       "      <td>0</td>\n",
       "      <td>0</td>\n",
       "      <td>1</td>\n",
       "      <td>1</td>\n",
       "      <td>0</td>\n",
       "      <td>125.20</td>\n",
       "      <td>40.0</td>\n",
       "      <td>1</td>\n",
       "      <td>0</td>\n",
       "    </tr>\n",
       "    <tr>\n",
       "      <th>4098</th>\n",
       "      <td>19723</td>\n",
       "      <td>1</td>\n",
       "      <td>35.0</td>\n",
       "      <td>0</td>\n",
       "      <td>0</td>\n",
       "      <td>1</td>\n",
       "      <td>1</td>\n",
       "      <td>1</td>\n",
       "      <td>82.99</td>\n",
       "      <td>30.6</td>\n",
       "      <td>1</td>\n",
       "      <td>0</td>\n",
       "    </tr>\n",
       "    <tr>\n",
       "      <th>4099</th>\n",
       "      <td>44679</td>\n",
       "      <td>1</td>\n",
       "      <td>44.0</td>\n",
       "      <td>0</td>\n",
       "      <td>0</td>\n",
       "      <td>1</td>\n",
       "      <td>2</td>\n",
       "      <td>0</td>\n",
       "      <td>85.28</td>\n",
       "      <td>26.2</td>\n",
       "      <td>3</td>\n",
       "      <td>0</td>\n",
       "    </tr>\n",
       "  </tbody>\n",
       "</table>\n",
       "<p>3936 rows × 12 columns</p>\n",
       "</div>"
      ],
      "text/plain": [
       "         HN  Education   age  hypertension  heart_disease  family history  \\\n",
       "0     11046          0  67.0             0              1               1   \n",
       "2     35112          0  80.0             0              1               1   \n",
       "3     67182          1  49.0             0              0               1   \n",
       "4      1665          1  79.0             1              0               1   \n",
       "5     66889          0  81.0             0              0               1   \n",
       "...     ...        ...   ...           ...            ...             ...   \n",
       "4095  68398          0  82.0             1              0               1   \n",
       "4096  14180          1  13.0             0              0               0   \n",
       "4097  44873          1  81.0             0              0               1   \n",
       "4098  19723          1  35.0             0              0               1   \n",
       "4099  44679          1  44.0             0              0               1   \n",
       "\n",
       "      Occupation  Triglycerides  Blood Sugar   BMI  smoking_status  alzheimer  \n",
       "0              0              0       228.69  36.6               0          1  \n",
       "2              0              1       105.92  32.5               1          1  \n",
       "3              0              0       171.23  34.4               2          1  \n",
       "4              1              1       174.12  24.0               1          1  \n",
       "5              0              0       186.21  29.0               0          1  \n",
       "...          ...            ...          ...   ...             ...        ...  \n",
       "4095           1              1        71.97  28.3               1          0  \n",
       "4096           3              1       103.08  18.6               3          0  \n",
       "4097           1              0       125.20  40.0               1          0  \n",
       "4098           1              1        82.99  30.6               1          0  \n",
       "4099           2              0        85.28  26.2               3          0  \n",
       "\n",
       "[3936 rows x 12 columns]"
      ]
     },
     "execution_count": 106,
     "metadata": {},
     "output_type": "execute_result"
    }
   ],
   "source": [
    "dataSet"
   ]
  },
  {
   "cell_type": "markdown",
   "id": "c1d11e3f",
   "metadata": {},
   "source": [
    "### SMOTE (Synthetic Minority Over-sampling Technique): วิธีการที่ใช้การสร้างตัวอย่างสัญญาณเทียบเท่าจากคลาสน้อยโดยการผสมคุณลักษณะของตัวอย่างในคลาสน้อย"
   ]
  },
  {
   "cell_type": "code",
   "execution_count": 107,
   "id": "f607ea9b",
   "metadata": {},
   "outputs": [],
   "source": [
    "from imblearn.over_sampling import SMOTE"
   ]
  },
  {
   "cell_type": "code",
   "execution_count": 108,
   "id": "d306302d",
   "metadata": {},
   "outputs": [
    {
     "data": {
      "text/html": [
       "<div>\n",
       "<style scoped>\n",
       "    .dataframe tbody tr th:only-of-type {\n",
       "        vertical-align: middle;\n",
       "    }\n",
       "\n",
       "    .dataframe tbody tr th {\n",
       "        vertical-align: top;\n",
       "    }\n",
       "\n",
       "    .dataframe thead th {\n",
       "        text-align: right;\n",
       "    }\n",
       "</style>\n",
       "<table border=\"1\" class=\"dataframe\">\n",
       "  <thead>\n",
       "    <tr style=\"text-align: right;\">\n",
       "      <th></th>\n",
       "      <th>HN</th>\n",
       "      <th>Education</th>\n",
       "      <th>age</th>\n",
       "      <th>hypertension</th>\n",
       "      <th>heart_disease</th>\n",
       "      <th>family history</th>\n",
       "      <th>Occupation</th>\n",
       "      <th>Triglycerides</th>\n",
       "      <th>Blood Sugar</th>\n",
       "      <th>BMI</th>\n",
       "      <th>smoking_status</th>\n",
       "      <th>alzheimer</th>\n",
       "    </tr>\n",
       "  </thead>\n",
       "  <tbody>\n",
       "    <tr>\n",
       "      <th>0</th>\n",
       "      <td>11046</td>\n",
       "      <td>0</td>\n",
       "      <td>67.000000</td>\n",
       "      <td>0</td>\n",
       "      <td>1</td>\n",
       "      <td>1</td>\n",
       "      <td>0</td>\n",
       "      <td>0</td>\n",
       "      <td>228.690000</td>\n",
       "      <td>36.600000</td>\n",
       "      <td>0</td>\n",
       "      <td>1</td>\n",
       "    </tr>\n",
       "    <tr>\n",
       "      <th>1</th>\n",
       "      <td>35112</td>\n",
       "      <td>0</td>\n",
       "      <td>80.000000</td>\n",
       "      <td>0</td>\n",
       "      <td>1</td>\n",
       "      <td>1</td>\n",
       "      <td>0</td>\n",
       "      <td>1</td>\n",
       "      <td>105.920000</td>\n",
       "      <td>32.500000</td>\n",
       "      <td>1</td>\n",
       "      <td>1</td>\n",
       "    </tr>\n",
       "    <tr>\n",
       "      <th>2</th>\n",
       "      <td>67182</td>\n",
       "      <td>1</td>\n",
       "      <td>49.000000</td>\n",
       "      <td>0</td>\n",
       "      <td>0</td>\n",
       "      <td>1</td>\n",
       "      <td>0</td>\n",
       "      <td>0</td>\n",
       "      <td>171.230000</td>\n",
       "      <td>34.400000</td>\n",
       "      <td>2</td>\n",
       "      <td>1</td>\n",
       "    </tr>\n",
       "    <tr>\n",
       "      <th>3</th>\n",
       "      <td>1665</td>\n",
       "      <td>1</td>\n",
       "      <td>79.000000</td>\n",
       "      <td>1</td>\n",
       "      <td>0</td>\n",
       "      <td>1</td>\n",
       "      <td>1</td>\n",
       "      <td>1</td>\n",
       "      <td>174.120000</td>\n",
       "      <td>24.000000</td>\n",
       "      <td>1</td>\n",
       "      <td>1</td>\n",
       "    </tr>\n",
       "    <tr>\n",
       "      <th>4</th>\n",
       "      <td>66889</td>\n",
       "      <td>0</td>\n",
       "      <td>81.000000</td>\n",
       "      <td>0</td>\n",
       "      <td>0</td>\n",
       "      <td>1</td>\n",
       "      <td>0</td>\n",
       "      <td>0</td>\n",
       "      <td>186.210000</td>\n",
       "      <td>29.000000</td>\n",
       "      <td>0</td>\n",
       "      <td>1</td>\n",
       "    </tr>\n",
       "    <tr>\n",
       "      <th>...</th>\n",
       "      <td>...</td>\n",
       "      <td>...</td>\n",
       "      <td>...</td>\n",
       "      <td>...</td>\n",
       "      <td>...</td>\n",
       "      <td>...</td>\n",
       "      <td>...</td>\n",
       "      <td>...</td>\n",
       "      <td>...</td>\n",
       "      <td>...</td>\n",
       "      <td>...</td>\n",
       "      <td>...</td>\n",
       "    </tr>\n",
       "    <tr>\n",
       "      <th>7463</th>\n",
       "      <td>30672</td>\n",
       "      <td>1</td>\n",
       "      <td>75.191424</td>\n",
       "      <td>0</td>\n",
       "      <td>0</td>\n",
       "      <td>1</td>\n",
       "      <td>0</td>\n",
       "      <td>1</td>\n",
       "      <td>194.120077</td>\n",
       "      <td>26.485145</td>\n",
       "      <td>2</td>\n",
       "      <td>1</td>\n",
       "    </tr>\n",
       "    <tr>\n",
       "      <th>7464</th>\n",
       "      <td>24693</td>\n",
       "      <td>1</td>\n",
       "      <td>72.881772</td>\n",
       "      <td>1</td>\n",
       "      <td>0</td>\n",
       "      <td>1</td>\n",
       "      <td>0</td>\n",
       "      <td>0</td>\n",
       "      <td>96.711335</td>\n",
       "      <td>23.964137</td>\n",
       "      <td>0</td>\n",
       "      <td>1</td>\n",
       "    </tr>\n",
       "    <tr>\n",
       "      <th>7465</th>\n",
       "      <td>54110</td>\n",
       "      <td>0</td>\n",
       "      <td>77.381014</td>\n",
       "      <td>0</td>\n",
       "      <td>1</td>\n",
       "      <td>0</td>\n",
       "      <td>1</td>\n",
       "      <td>0</td>\n",
       "      <td>242.308074</td>\n",
       "      <td>30.616399</td>\n",
       "      <td>0</td>\n",
       "      <td>1</td>\n",
       "    </tr>\n",
       "    <tr>\n",
       "      <th>7466</th>\n",
       "      <td>14088</td>\n",
       "      <td>0</td>\n",
       "      <td>49.649492</td>\n",
       "      <td>0</td>\n",
       "      <td>0</td>\n",
       "      <td>0</td>\n",
       "      <td>1</td>\n",
       "      <td>0</td>\n",
       "      <td>145.680693</td>\n",
       "      <td>37.617562</td>\n",
       "      <td>1</td>\n",
       "      <td>1</td>\n",
       "    </tr>\n",
       "    <tr>\n",
       "      <th>7467</th>\n",
       "      <td>94573</td>\n",
       "      <td>0</td>\n",
       "      <td>76.744143</td>\n",
       "      <td>0</td>\n",
       "      <td>0</td>\n",
       "      <td>1</td>\n",
       "      <td>0</td>\n",
       "      <td>0</td>\n",
       "      <td>82.486500</td>\n",
       "      <td>24.492047</td>\n",
       "      <td>0</td>\n",
       "      <td>1</td>\n",
       "    </tr>\n",
       "  </tbody>\n",
       "</table>\n",
       "<p>7468 rows × 12 columns</p>\n",
       "</div>"
      ],
      "text/plain": [
       "         HN  Education        age  hypertension  heart_disease  \\\n",
       "0     11046          0  67.000000             0              1   \n",
       "1     35112          0  80.000000             0              1   \n",
       "2     67182          1  49.000000             0              0   \n",
       "3      1665          1  79.000000             1              0   \n",
       "4     66889          0  81.000000             0              0   \n",
       "...     ...        ...        ...           ...            ...   \n",
       "7463  30672          1  75.191424             0              0   \n",
       "7464  24693          1  72.881772             1              0   \n",
       "7465  54110          0  77.381014             0              1   \n",
       "7466  14088          0  49.649492             0              0   \n",
       "7467  94573          0  76.744143             0              0   \n",
       "\n",
       "      family history  Occupation  Triglycerides  Blood Sugar        BMI  \\\n",
       "0                  1           0              0   228.690000  36.600000   \n",
       "1                  1           0              1   105.920000  32.500000   \n",
       "2                  1           0              0   171.230000  34.400000   \n",
       "3                  1           1              1   174.120000  24.000000   \n",
       "4                  1           0              0   186.210000  29.000000   \n",
       "...              ...         ...            ...          ...        ...   \n",
       "7463               1           0              1   194.120077  26.485145   \n",
       "7464               1           0              0    96.711335  23.964137   \n",
       "7465               0           1              0   242.308074  30.616399   \n",
       "7466               0           1              0   145.680693  37.617562   \n",
       "7467               1           0              0    82.486500  24.492047   \n",
       "\n",
       "      smoking_status  alzheimer  \n",
       "0                  0          1  \n",
       "1                  1          1  \n",
       "2                  2          1  \n",
       "3                  1          1  \n",
       "4                  0          1  \n",
       "...              ...        ...  \n",
       "7463               2          1  \n",
       "7464               0          1  \n",
       "7465               0          1  \n",
       "7466               1          1  \n",
       "7467               0          1  \n",
       "\n",
       "[7468 rows x 12 columns]"
      ]
     },
     "execution_count": 108,
     "metadata": {},
     "output_type": "execute_result"
    }
   ],
   "source": [
    "X = dataSet.drop('alzheimer', axis=1)\n",
    "y = dataSet['alzheimer']\n",
    "\n",
    "# สร้างตัวกำหนด SMOTE\n",
    "smote = SMOTE(sampling_strategy='auto', random_state=42)  # 'auto' จะทำให้คลาสน้อยมีจำนวนเทียบเท่าคลาสมาก\n",
    "\n",
    "# ทำ SMOTE\n",
    "X_resampled, y_resampled = smote.fit_resample(X, y)\n",
    "\n",
    "# แสดง Dataframe หลังจากทำ SMOTE\n",
    "resampled_df = pd.concat([X_resampled, y_resampled], axis=1)\n",
    "resampled_df"
   ]
  },
  {
   "cell_type": "markdown",
   "id": "46c2ce40",
   "metadata": {},
   "source": [
    "# MARK: แบ่งข้อมูล"
   ]
  },
  {
   "cell_type": "code",
   "execution_count": 127,
   "id": "ce62f09b",
   "metadata": {},
   "outputs": [],
   "source": [
    "from sklearn.model_selection import train_test_split\n",
    "from sklearn.metrics import accuracy_score, classification_report\n",
    "from sklearn import tree\n",
    "from sklearn.tree import plot_tree\n",
    "import matplotlib.pyplot as plt"
   ]
  },
  {
   "cell_type": "markdown",
   "id": "4a32e9a5",
   "metadata": {},
   "source": [
    "### MARK: train_test_split"
   ]
  },
  {
   "cell_type": "code",
   "execution_count": 110,
   "id": "dde3185a",
   "metadata": {},
   "outputs": [],
   "source": [
    "X = resampled_df.drop('alzheimer', axis=1)\n",
    "y = resampled_df[\"alzheimer\"]\n",
    "X_train, X_test, y_train, y_test = train_test_split(X, y, test_size=0.3, random_state=42)\n",
    "# random_state 42 เพื่อข้อมูลเหมือนกันทุกครั้ง"
   ]
  },
  {
   "cell_type": "code",
   "execution_count": 111,
   "id": "b3f20a1d",
   "metadata": {},
   "outputs": [],
   "source": [
    "# ลองใช้ Class target เท่ากัน ดู\n",
    "# dataSetSendModel = dataSet.loc[:(len(dataSet.loc[dataSet[\"alzheimer\"] == 1, \"alzheimer\"])-1)*2]\n",
    "# X = dataSet.drop('alzheimer', axis=1)\n",
    "# y = dataSet[\"alzheimer\"]\n",
    "# X_train, X_test, y_train, y_test = train_test_split(X, y, test_size=0.3, random_state=42)"
   ]
  },
  {
   "cell_type": "code",
   "execution_count": 112,
   "id": "c24d7ffa",
   "metadata": {
    "scrolled": true
   },
   "outputs": [
    {
     "data": {
      "text/html": [
       "<div>\n",
       "<style scoped>\n",
       "    .dataframe tbody tr th:only-of-type {\n",
       "        vertical-align: middle;\n",
       "    }\n",
       "\n",
       "    .dataframe tbody tr th {\n",
       "        vertical-align: top;\n",
       "    }\n",
       "\n",
       "    .dataframe thead th {\n",
       "        text-align: right;\n",
       "    }\n",
       "</style>\n",
       "<table border=\"1\" class=\"dataframe\">\n",
       "  <thead>\n",
       "    <tr style=\"text-align: right;\">\n",
       "      <th></th>\n",
       "      <th>HN</th>\n",
       "      <th>Education</th>\n",
       "      <th>age</th>\n",
       "      <th>hypertension</th>\n",
       "      <th>heart_disease</th>\n",
       "      <th>family history</th>\n",
       "      <th>Occupation</th>\n",
       "      <th>Triglycerides</th>\n",
       "      <th>Blood Sugar</th>\n",
       "      <th>BMI</th>\n",
       "      <th>smoking_status</th>\n",
       "    </tr>\n",
       "  </thead>\n",
       "  <tbody>\n",
       "    <tr>\n",
       "      <th>292</th>\n",
       "      <td>40840</td>\n",
       "      <td>1</td>\n",
       "      <td>49.000000</td>\n",
       "      <td>0</td>\n",
       "      <td>0</td>\n",
       "      <td>1</td>\n",
       "      <td>0</td>\n",
       "      <td>1</td>\n",
       "      <td>138.160000</td>\n",
       "      <td>19.400000</td>\n",
       "      <td>1</td>\n",
       "    </tr>\n",
       "    <tr>\n",
       "      <th>2605</th>\n",
       "      <td>4964</td>\n",
       "      <td>1</td>\n",
       "      <td>72.000000</td>\n",
       "      <td>1</td>\n",
       "      <td>0</td>\n",
       "      <td>1</td>\n",
       "      <td>0</td>\n",
       "      <td>1</td>\n",
       "      <td>90.870000</td>\n",
       "      <td>22.100000</td>\n",
       "      <td>1</td>\n",
       "    </tr>\n",
       "    <tr>\n",
       "      <th>5993</th>\n",
       "      <td>1705</td>\n",
       "      <td>1</td>\n",
       "      <td>72.304009</td>\n",
       "      <td>1</td>\n",
       "      <td>0</td>\n",
       "      <td>1</td>\n",
       "      <td>0</td>\n",
       "      <td>0</td>\n",
       "      <td>153.572872</td>\n",
       "      <td>25.052227</td>\n",
       "      <td>1</td>\n",
       "    </tr>\n",
       "    <tr>\n",
       "      <th>4100</th>\n",
       "      <td>16994</td>\n",
       "      <td>1</td>\n",
       "      <td>75.825320</td>\n",
       "      <td>1</td>\n",
       "      <td>0</td>\n",
       "      <td>0</td>\n",
       "      <td>0</td>\n",
       "      <td>0</td>\n",
       "      <td>163.613265</td>\n",
       "      <td>23.688223</td>\n",
       "      <td>1</td>\n",
       "    </tr>\n",
       "    <tr>\n",
       "      <th>6130</th>\n",
       "      <td>49213</td>\n",
       "      <td>0</td>\n",
       "      <td>73.443849</td>\n",
       "      <td>0</td>\n",
       "      <td>0</td>\n",
       "      <td>1</td>\n",
       "      <td>0</td>\n",
       "      <td>0</td>\n",
       "      <td>105.123200</td>\n",
       "      <td>25.691007</td>\n",
       "      <td>2</td>\n",
       "    </tr>\n",
       "  </tbody>\n",
       "</table>\n",
       "</div>"
      ],
      "text/plain": [
       "         HN  Education        age  hypertension  heart_disease  \\\n",
       "292   40840          1  49.000000             0              0   \n",
       "2605   4964          1  72.000000             1              0   \n",
       "5993   1705          1  72.304009             1              0   \n",
       "4100  16994          1  75.825320             1              0   \n",
       "6130  49213          0  73.443849             0              0   \n",
       "\n",
       "      family history  Occupation  Triglycerides  Blood Sugar        BMI  \\\n",
       "292                1           0              1   138.160000  19.400000   \n",
       "2605               1           0              1    90.870000  22.100000   \n",
       "5993               1           0              0   153.572872  25.052227   \n",
       "4100               0           0              0   163.613265  23.688223   \n",
       "6130               1           0              0   105.123200  25.691007   \n",
       "\n",
       "      smoking_status  \n",
       "292                1  \n",
       "2605               1  \n",
       "5993               1  \n",
       "4100               1  \n",
       "6130               2  "
      ]
     },
     "execution_count": 112,
     "metadata": {},
     "output_type": "execute_result"
    }
   ],
   "source": [
    "X_train.head()"
   ]
  },
  {
   "cell_type": "code",
   "execution_count": 113,
   "id": "9ffa593a",
   "metadata": {},
   "outputs": [
    {
     "name": "stdout",
     "output_type": "stream",
     "text": [
      "<class 'pandas.core.frame.DataFrame'>\n",
      "Int64Index: 5227 entries, 292 to 7270\n",
      "Data columns (total 11 columns):\n",
      " #   Column          Non-Null Count  Dtype  \n",
      "---  ------          --------------  -----  \n",
      " 0   HN              5227 non-null   int64  \n",
      " 1   Education       5227 non-null   int64  \n",
      " 2   age             5227 non-null   float64\n",
      " 3   hypertension    5227 non-null   int64  \n",
      " 4   heart_disease   5227 non-null   int64  \n",
      " 5   family history  5227 non-null   int64  \n",
      " 6   Occupation      5227 non-null   int64  \n",
      " 7   Triglycerides   5227 non-null   int64  \n",
      " 8   Blood Sugar     5227 non-null   float64\n",
      " 9   BMI             5227 non-null   float64\n",
      " 10  smoking_status  5227 non-null   int64  \n",
      "dtypes: float64(3), int64(8)\n",
      "memory usage: 490.0 KB\n"
     ]
    }
   ],
   "source": [
    "X_train.info()"
   ]
  },
  {
   "cell_type": "code",
   "execution_count": 114,
   "id": "c29bfd03",
   "metadata": {
    "scrolled": true
   },
   "outputs": [
    {
     "name": "stdout",
     "output_type": "stream",
     "text": [
      "<class 'pandas.core.series.Series'>\n",
      "Int64Index: 5227 entries, 292 to 7270\n",
      "Series name: alzheimer\n",
      "Non-Null Count  Dtype\n",
      "--------------  -----\n",
      "5227 non-null   int64\n",
      "dtypes: int64(1)\n",
      "memory usage: 81.7 KB\n"
     ]
    }
   ],
   "source": [
    "y_train.info()"
   ]
  },
  {
   "cell_type": "markdown",
   "id": "359ccd13",
   "metadata": {},
   "source": [
    "# Model 1 Decision tree"
   ]
  },
  {
   "cell_type": "markdown",
   "id": "1a66e3bf",
   "metadata": {},
   "source": [
    "### MARK: Decision tree model Start"
   ]
  },
  {
   "cell_type": "code",
   "execution_count": 115,
   "id": "ad1d722f",
   "metadata": {},
   "outputs": [],
   "source": [
    "clfModel = tree.DecisionTreeClassifier(criterion=\"gini\",class_weight='balanced',random_state=42)"
   ]
  },
  {
   "cell_type": "code",
   "execution_count": 116,
   "id": "c904f00b",
   "metadata": {},
   "outputs": [
    {
     "data": {
      "text/plain": [
       "{'ccp_alpha': 0.0,\n",
       " 'class_weight': 'balanced',\n",
       " 'criterion': 'gini',\n",
       " 'max_depth': None,\n",
       " 'max_features': None,\n",
       " 'max_leaf_nodes': None,\n",
       " 'min_impurity_decrease': 0.0,\n",
       " 'min_samples_leaf': 1,\n",
       " 'min_samples_split': 2,\n",
       " 'min_weight_fraction_leaf': 0.0,\n",
       " 'random_state': 42,\n",
       " 'splitter': 'best'}"
      ]
     },
     "execution_count": 116,
     "metadata": {},
     "output_type": "execute_result"
    }
   ],
   "source": [
    "clfModel.get_params()"
   ]
  },
  {
   "cell_type": "code",
   "execution_count": 117,
   "id": "12a9edee",
   "metadata": {
    "scrolled": true
   },
   "outputs": [
    {
     "data": {
      "text/html": [
       "<style>#sk-container-id-5 {color: black;}#sk-container-id-5 pre{padding: 0;}#sk-container-id-5 div.sk-toggleable {background-color: white;}#sk-container-id-5 label.sk-toggleable__label {cursor: pointer;display: block;width: 100%;margin-bottom: 0;padding: 0.3em;box-sizing: border-box;text-align: center;}#sk-container-id-5 label.sk-toggleable__label-arrow:before {content: \"▸\";float: left;margin-right: 0.25em;color: #696969;}#sk-container-id-5 label.sk-toggleable__label-arrow:hover:before {color: black;}#sk-container-id-5 div.sk-estimator:hover label.sk-toggleable__label-arrow:before {color: black;}#sk-container-id-5 div.sk-toggleable__content {max-height: 0;max-width: 0;overflow: hidden;text-align: left;background-color: #f0f8ff;}#sk-container-id-5 div.sk-toggleable__content pre {margin: 0.2em;color: black;border-radius: 0.25em;background-color: #f0f8ff;}#sk-container-id-5 input.sk-toggleable__control:checked~div.sk-toggleable__content {max-height: 200px;max-width: 100%;overflow: auto;}#sk-container-id-5 input.sk-toggleable__control:checked~label.sk-toggleable__label-arrow:before {content: \"▾\";}#sk-container-id-5 div.sk-estimator input.sk-toggleable__control:checked~label.sk-toggleable__label {background-color: #d4ebff;}#sk-container-id-5 div.sk-label input.sk-toggleable__control:checked~label.sk-toggleable__label {background-color: #d4ebff;}#sk-container-id-5 input.sk-hidden--visually {border: 0;clip: rect(1px 1px 1px 1px);clip: rect(1px, 1px, 1px, 1px);height: 1px;margin: -1px;overflow: hidden;padding: 0;position: absolute;width: 1px;}#sk-container-id-5 div.sk-estimator {font-family: monospace;background-color: #f0f8ff;border: 1px dotted black;border-radius: 0.25em;box-sizing: border-box;margin-bottom: 0.5em;}#sk-container-id-5 div.sk-estimator:hover {background-color: #d4ebff;}#sk-container-id-5 div.sk-parallel-item::after {content: \"\";width: 100%;border-bottom: 1px solid gray;flex-grow: 1;}#sk-container-id-5 div.sk-label:hover label.sk-toggleable__label {background-color: #d4ebff;}#sk-container-id-5 div.sk-serial::before {content: \"\";position: absolute;border-left: 1px solid gray;box-sizing: border-box;top: 0;bottom: 0;left: 50%;z-index: 0;}#sk-container-id-5 div.sk-serial {display: flex;flex-direction: column;align-items: center;background-color: white;padding-right: 0.2em;padding-left: 0.2em;position: relative;}#sk-container-id-5 div.sk-item {position: relative;z-index: 1;}#sk-container-id-5 div.sk-parallel {display: flex;align-items: stretch;justify-content: center;background-color: white;position: relative;}#sk-container-id-5 div.sk-item::before, #sk-container-id-5 div.sk-parallel-item::before {content: \"\";position: absolute;border-left: 1px solid gray;box-sizing: border-box;top: 0;bottom: 0;left: 50%;z-index: -1;}#sk-container-id-5 div.sk-parallel-item {display: flex;flex-direction: column;z-index: 1;position: relative;background-color: white;}#sk-container-id-5 div.sk-parallel-item:first-child::after {align-self: flex-end;width: 50%;}#sk-container-id-5 div.sk-parallel-item:last-child::after {align-self: flex-start;width: 50%;}#sk-container-id-5 div.sk-parallel-item:only-child::after {width: 0;}#sk-container-id-5 div.sk-dashed-wrapped {border: 1px dashed gray;margin: 0 0.4em 0.5em 0.4em;box-sizing: border-box;padding-bottom: 0.4em;background-color: white;}#sk-container-id-5 div.sk-label label {font-family: monospace;font-weight: bold;display: inline-block;line-height: 1.2em;}#sk-container-id-5 div.sk-label-container {text-align: center;}#sk-container-id-5 div.sk-container {/* jupyter's `normalize.less` sets `[hidden] { display: none; }` but bootstrap.min.css set `[hidden] { display: none !important; }` so we also need the `!important` here to be able to override the default hidden behavior on the sphinx rendered scikit-learn.org. See: https://github.com/scikit-learn/scikit-learn/issues/21755 */display: inline-block !important;position: relative;}#sk-container-id-5 div.sk-text-repr-fallback {display: none;}</style><div id=\"sk-container-id-5\" class=\"sk-top-container\"><div class=\"sk-text-repr-fallback\"><pre>DecisionTreeClassifier(class_weight=&#x27;balanced&#x27;, random_state=42)</pre><b>In a Jupyter environment, please rerun this cell to show the HTML representation or trust the notebook. <br />On GitHub, the HTML representation is unable to render, please try loading this page with nbviewer.org.</b></div><div class=\"sk-container\" hidden><div class=\"sk-item\"><div class=\"sk-estimator sk-toggleable\"><input class=\"sk-toggleable__control sk-hidden--visually\" id=\"sk-estimator-id-5\" type=\"checkbox\" checked><label for=\"sk-estimator-id-5\" class=\"sk-toggleable__label sk-toggleable__label-arrow\">DecisionTreeClassifier</label><div class=\"sk-toggleable__content\"><pre>DecisionTreeClassifier(class_weight=&#x27;balanced&#x27;, random_state=42)</pre></div></div></div></div></div>"
      ],
      "text/plain": [
       "DecisionTreeClassifier(class_weight='balanced', random_state=42)"
      ]
     },
     "execution_count": 117,
     "metadata": {},
     "output_type": "execute_result"
    }
   ],
   "source": [
    "clfModel.fit(X_train, y_train)"
   ]
  },
  {
   "cell_type": "code",
   "execution_count": 118,
   "id": "57f6e95c",
   "metadata": {},
   "outputs": [
    {
     "data": {
      "text/plain": [
       "age               0.463188\n",
       "HN                0.146503\n",
       "Blood Sugar       0.091505\n",
       "BMI               0.084030\n",
       "Occupation        0.069614\n",
       "smoking_status    0.061419\n",
       "Triglycerides     0.032931\n",
       "Education         0.018408\n",
       "family history    0.013382\n",
       "hypertension      0.009542\n",
       "heart_disease     0.009477\n",
       "dtype: float64"
      ]
     },
     "execution_count": 118,
     "metadata": {},
     "output_type": "execute_result"
    }
   ],
   "source": [
    "# feature ที่มีความสำคัญ\n",
    "fImportances = pd.Series(clfModel.feature_importances_, index=X_train.columns).sort_values(ascending=False)\n",
    "fImportances"
   ]
  },
  {
   "cell_type": "code",
   "execution_count": 119,
   "id": "0be857ac",
   "metadata": {},
   "outputs": [
    {
     "name": "stdout",
     "output_type": "stream",
     "text": [
      "ตัวอย่างข้อมูลชุดเรียนรู้ -> 1.0\n"
     ]
    }
   ],
   "source": [
    "print(\"ตัวอย่างข้อมูลชุดเรียนรู้ ->\",clfModel.score(X_train,y_train))\n",
    "# อันเดียวกัน\n",
    "# y_train_pred = clf.predict(X_train)\n",
    "# accuracy_score(y_train, y_train_pred)"
   ]
  },
  {
   "cell_type": "markdown",
   "id": "e0b26c2a",
   "metadata": {},
   "source": [
    "### MARK: Visualize Decision Tree"
   ]
  },
  {
   "cell_type": "code",
   "execution_count": 120,
   "id": "47f9090a",
   "metadata": {},
   "outputs": [
    {
     "data": {
      "image/png": "[encoded data removed]",
      "text/plain": [
       "<Figure size 1200x600 with 1 Axes>"
      ]
     },
     "metadata": {},
     "output_type": "display_data"
    }
   ],
   "source": [
    "plt.figure(figsize=(12, 6))\n",
    "tree.plot_tree(clfModel.fit(X_train, y_train))\n",
    "plt.show()"
   ]
  },
  {
   "cell_type": "markdown",
   "id": "6df0e73b",
   "metadata": {},
   "source": [
    "### MARK: Predict and Score Model"
   ]
  },
  {
   "cell_type": "code",
   "execution_count": 121,
   "id": "f6150903",
   "metadata": {},
   "outputs": [
    {
     "name": "stdout",
     "output_type": "stream",
     "text": [
      "ตัวอย่างข้อมูลชุดทดสอบ -> 0.895136099955377\n"
     ]
    }
   ],
   "source": [
    "y_pred = clfModel.predict(X_test)\n",
    "print(\"ตัวอย่างข้อมูลชุดทดสอบ ->\",accuracy_score(y_test, y_pred))"
   ]
  },
  {
   "cell_type": "code",
   "execution_count": 122,
   "id": "5ab2d62c",
   "metadata": {},
   "outputs": [
    {
     "data": {
      "text/html": [
       "<div>\n",
       "<style scoped>\n",
       "    .dataframe tbody tr th:only-of-type {\n",
       "        vertical-align: middle;\n",
       "    }\n",
       "\n",
       "    .dataframe tbody tr th {\n",
       "        vertical-align: top;\n",
       "    }\n",
       "\n",
       "    .dataframe thead th {\n",
       "        text-align: right;\n",
       "    }\n",
       "</style>\n",
       "<table border=\"1\" class=\"dataframe\">\n",
       "  <thead>\n",
       "    <tr style=\"text-align: right;\">\n",
       "      <th>col_0</th>\n",
       "      <th>0</th>\n",
       "      <th>1</th>\n",
       "    </tr>\n",
       "    <tr>\n",
       "      <th>alzheimer</th>\n",
       "      <th></th>\n",
       "      <th></th>\n",
       "    </tr>\n",
       "  </thead>\n",
       "  <tbody>\n",
       "    <tr>\n",
       "      <th>0</th>\n",
       "      <td>988</td>\n",
       "      <td>130</td>\n",
       "    </tr>\n",
       "    <tr>\n",
       "      <th>1</th>\n",
       "      <td>105</td>\n",
       "      <td>1018</td>\n",
       "    </tr>\n",
       "  </tbody>\n",
       "</table>\n",
       "</div>"
      ],
      "text/plain": [
       "col_0        0     1\n",
       "alzheimer           \n",
       "0          988   130\n",
       "1          105  1018"
      ]
     },
     "execution_count": 122,
     "metadata": {},
     "output_type": "execute_result"
    }
   ],
   "source": [
    "pd.crosstab(y_test, y_pred)"
   ]
  },
  {
   "cell_type": "code",
   "execution_count": 124,
   "id": "8cd7250d",
   "metadata": {},
   "outputs": [
    {
     "name": "stdout",
     "output_type": "stream",
     "text": [
      "Classification Report:\n",
      "               precision    recall  f1-score   support\n",
      "\n",
      "           0       0.90      0.88      0.89      1118\n",
      "           1       0.89      0.91      0.90      1123\n",
      "\n",
      "    accuracy                           0.90      2241\n",
      "   macro avg       0.90      0.90      0.90      2241\n",
      "weighted avg       0.90      0.90      0.90      2241\n",
      "\n"
     ]
    }
   ],
   "source": [
    "print(\"Classification Report:\\n\", classification_report(y_test, y_pred))"
   ]
  },
  {
   "cell_type": "code",
   "execution_count": 129,
   "id": "5eccbafe",
   "metadata": {},
   "outputs": [],
   "source": [
    "from sklearn import metrics"
   ]
  },
  {
   "cell_type": "code",
   "execution_count": 131,
   "id": "648333ad",
   "metadata": {},
   "outputs": [
    {
     "name": "stdout",
     "output_type": "stream",
     "text": [
      "Test set performance scores:\n",
      "accuracy: 0.90\n",
      "precision: 0.90\n",
      "recall: 0.90\n",
      "f1: 0.90\n",
      "auc: 0.90\n",
      "\n"
     ]
    }
   ],
   "source": [
    "acc = metrics.accuracy_score(y_test, y_pred)\n",
    "precision = metrics.precision_score(y_test, y_pred, average='weighted')\n",
    "recall = metrics.recall_score(y_test, y_pred, average='weighted')\n",
    "f1 = metrics.f1_score(y_test, y_pred, average='weighted')\n",
    "auc = metrics.roc_auc_score(y_test, y_pred)\n",
    "\n",
    "print(f\"Test set performance scores:\\n\"\n",
    "      f\"accuracy: {acc:.2f}\\n\"\n",
    "      f\"precision: {precision:.2f}\\n\"\n",
    "      f\"recall: {recall:.2f}\\n\"\n",
    "      f\"f1: {f1:.2f}\\n\"\n",
    "      f\"auc: {auc:.2f}\\n\"\n",
    "     )\n"
   ]
  },
  {
   "cell_type": "markdown",
   "id": "de14b596",
   "metadata": {},
   "source": [
    "### MARK: feature_importances"
   ]
  },
  {
   "cell_type": "code",
   "execution_count": null,
   "id": "5bd4d476",
   "metadata": {},
   "outputs": [],
   "source": [
    "np.array([X.columns.values.tolist(), list(clfModel.feature_importances_)]).T"
   ]
  },
  {
   "cell_type": "code",
   "execution_count": null,
   "id": "c1318803",
   "metadata": {},
   "outputs": [],
   "source": [
    "feature_names = X.columns.values.tolist()\n",
    "importances = clfModel.feature_importances_\n",
    "indices = np.argsort(importances)[::-1]"
   ]
  },
  {
   "cell_type": "code",
   "execution_count": null,
   "id": "9c1ac5f6",
   "metadata": {},
   "outputs": [],
   "source": [
    "plt.figure(figsize=(10, 6))\n",
    "plt.bar(range(X.shape[1]), importances[indices], align=\"center\")\n",
    "plt.xticks(range(X.shape[1]), [feature_names[i] for i in indices], rotation=90)\n",
    "plt.xlabel(\"Feature_names\")\n",
    "plt.ylabel(\"Importances\")\n",
    "plt.title(\"Feature importances\")\n",
    "plt.show()"
   ]
  },
  {
   "cell_type": "markdown",
   "id": "87b97f54",
   "metadata": {},
   "source": [
    "### MARK: ลอง Puring + เลือก Feature importances 4 อันดับแรก เข้า model"
   ]
  },
  {
   "cell_type": "code",
   "execution_count": null,
   "id": "88f21127",
   "metadata": {},
   "outputs": [],
   "source": [
    "from sklearn.model_selection import cross_val_score"
   ]
  },
  {
   "cell_type": "code",
   "execution_count": null,
   "id": "6ae9cb78",
   "metadata": {},
   "outputs": [],
   "source": [
    "feature_importances_Select = ['age', 'HN', 'Blood Sugar', 'BMI']"
   ]
  },
  {
   "cell_type": "code",
   "execution_count": null,
   "id": "a4688164",
   "metadata": {},
   "outputs": [],
   "source": [
    "X_feature_importances = resampled_df[feature_importances_Select]\n",
    "y_feature_importances = y\n",
    "X_trainIm, X_testIm, y_trainIm, y_testIm = train_test_split(X_feature_importances, y_feature_importances, test_size=0.3, random_state=42)"
   ]
  },
  {
   "cell_type": "code",
   "execution_count": null,
   "id": "72620d8f",
   "metadata": {},
   "outputs": [],
   "source": [
    "best_score = 0\n",
    "\n",
    "for md in range(1, 10): # iterate different maximum depth values\n",
    "    # train the model\n",
    "    treeModel = tree.DecisionTreeClassifier(criterion=\"gini\",class_weight='balanced', max_depth=md)\n",
    "    # perform cross-validation\n",
    "    scores = cross_val_score(treeModel, X_trainIm, y_trainIm, cv=10, scoring='accuracy')\n",
    "   \n",
    "    # compute mean cross-validation accuracy\n",
    "    score = np.mean(scores)\n",
    "    print(\"cross_val_score ->\",score)\n",
    "    \n",
    "    # if we got a better score, store the score and parameters\n",
    "    if score > best_score:\n",
    "        best_score = score\n",
    "        best_parameter = md"
   ]
  },
  {
   "cell_type": "markdown",
   "id": "3cc70549",
   "metadata": {},
   "source": [
    "### MARK: Select Feature importances Top 4"
   ]
  },
  {
   "cell_type": "code",
   "execution_count": null,
   "id": "5cb3f386",
   "metadata": {},
   "outputs": [],
   "source": [
    "clfModel_Im = tree.DecisionTreeClassifier(criterion=\"gini\",class_weight='balanced', random_state=42)"
   ]
  },
  {
   "cell_type": "code",
   "execution_count": null,
   "id": "8d2b3f0d",
   "metadata": {},
   "outputs": [],
   "source": [
    "clfModel_Im.fit(X_trainIm, y_trainIm)"
   ]
  },
  {
   "cell_type": "code",
   "execution_count": null,
   "id": "41397dc0",
   "metadata": {},
   "outputs": [],
   "source": [
    "print(\"ตัวอย่างข้อมูลชุดเรียนรู้ ->\",clfModel_Im.score(X_trainIm,y_trainIm))"
   ]
  },
  {
   "cell_type": "code",
   "execution_count": null,
   "id": "0bdc2023",
   "metadata": {},
   "outputs": [],
   "source": [
    "plt.figure(figsize=(12, 6))\n",
    "tree.plot_tree(clfModel_Im.fit(X_trainIm, y_trainIm))\n",
    "plt.show()"
   ]
  },
  {
   "cell_type": "code",
   "execution_count": null,
   "id": "5ce23a49",
   "metadata": {},
   "outputs": [],
   "source": [
    "y_predIm = clfModel_Im.predict(X_testIm)\n",
    "print(\"ตัวอย่างข้อมูลทดสอบ ->\",accuracy_score(y_testIm, y_predIm))"
   ]
  },
  {
   "cell_type": "code",
   "execution_count": null,
   "id": "82067020",
   "metadata": {},
   "outputs": [],
   "source": [
    "pd.crosstab(y_testIm, y_predIm)"
   ]
  },
  {
   "cell_type": "code",
   "execution_count": null,
   "id": "313b04c6",
   "metadata": {
    "scrolled": true
   },
   "outputs": [],
   "source": [
    "print(\"Classification Report:\\n\", classification_report(y_testIm, y_predIm))"
   ]
  },
  {
   "cell_type": "markdown",
   "id": "56ca3094",
   "metadata": {},
   "source": [
    "### MARK: Select Feature + max_depth = best_parameter"
   ]
  },
  {
   "cell_type": "code",
   "execution_count": null,
   "id": "d0f66c39",
   "metadata": {},
   "outputs": [],
   "source": [
    "print(\"best_parameter max_depth -> \",best_parameter)"
   ]
  },
  {
   "cell_type": "code",
   "execution_count": null,
   "id": "1a42dc61",
   "metadata": {},
   "outputs": [],
   "source": [
    "clfModel_Im = tree.DecisionTreeClassifier(criterion=\"gini\",class_weight='balanced', max_depth=best_parameter, random_state=42)"
   ]
  },
  {
   "cell_type": "code",
   "execution_count": null,
   "id": "f54a9890",
   "metadata": {},
   "outputs": [],
   "source": [
    "clfModel_Im.fit(X_trainIm, y_trainIm)"
   ]
  },
  {
   "cell_type": "code",
   "execution_count": null,
   "id": "9b198be2",
   "metadata": {},
   "outputs": [],
   "source": [
    "print(\"ตัวอย่างข้อมูลชุดเรียนรู้ ->\",clfModel_Im.score(X_trainIm,y_trainIm))"
   ]
  },
  {
   "cell_type": "code",
   "execution_count": null,
   "id": "0a0f6446",
   "metadata": {},
   "outputs": [],
   "source": [
    "plt.figure(figsize=(12, 6))\n",
    "tree.plot_tree(clfModel_Im.fit(X_trainIm, y_trainIm))\n",
    "plt.show()"
   ]
  },
  {
   "cell_type": "code",
   "execution_count": null,
   "id": "003f25f4",
   "metadata": {},
   "outputs": [],
   "source": [
    "y_predIm = clfModel_Im.predict(X_testIm)\n",
    "print(\"ตัวอย่างข้อมูลทดสอบ ->\",accuracy_score(y_testIm, y_predIm))"
   ]
  },
  {
   "cell_type": "code",
   "execution_count": null,
   "id": "0f4dbc97",
   "metadata": {},
   "outputs": [],
   "source": [
    "pd.crosstab(y_testIm, y_predIm)"
   ]
  },
  {
   "cell_type": "code",
   "execution_count": null,
   "id": "35abf6c0",
   "metadata": {
    "scrolled": true
   },
   "outputs": [],
   "source": [
    "print(\"Classification Report:\\n\", classification_report(y_testIm, y_predIm))"
   ]
  },
  {
   "cell_type": "markdown",
   "id": "d9a74950",
   "metadata": {},
   "source": [
    "# Model 2 K nearest neighbors"
   ]
  },
  {
   "cell_type": "code",
   "execution_count": null,
   "id": "ffc88fd4",
   "metadata": {},
   "outputs": [],
   "source": [
    "from sklearn.neighbors import KNeighborsClassifier\n",
    "from sklearn.preprocessing import StandardScaler"
   ]
  },
  {
   "cell_type": "code",
   "execution_count": null,
   "id": "1f5a2114",
   "metadata": {},
   "outputs": [],
   "source": [
    "k_values = [1, 3, 5, 7, 9, 11, 13, 15]"
   ]
  },
  {
   "cell_type": "code",
   "execution_count": null,
   "id": "6d7bf8a1",
   "metadata": {},
   "outputs": [],
   "source": [
    "accuracy_scores = []"
   ]
  },
  {
   "cell_type": "markdown",
   "id": "89532703",
   "metadata": {},
   "source": [
    "### หา K ที่มีค่า accuracy ดีที่สุด"
   ]
  },
  {
   "cell_type": "code",
   "execution_count": null,
   "id": "c7701998",
   "metadata": {},
   "outputs": [],
   "source": [
    "for k in k_values:\n",
    "    # สร้างโมเดล K-Nearest Neighbors ด้วยค่า K ปัจจุบัน\n",
    "    knn = KNeighborsClassifier(n_neighbors=k)\n",
    "    \n",
    "    # ทำการ Cross-validation และประเมินความถูกต้อง\n",
    "    scores = cross_val_score(knn, X, y, cv=10) \n",
    "    accuracy = np.mean(scores)\n",
    "    print(\"k\",k,\"->\",accuracy)\n",
    "    \n",
    "    # เพิ่มค่าความถูกต้องลงในรายการ\n",
    "    accuracy_scores.append(accuracy)"
   ]
  },
  {
   "cell_type": "code",
   "execution_count": null,
   "id": "68924608",
   "metadata": {},
   "outputs": [],
   "source": [
    "best_k = k_values[np.argmax(accuracy_scores)]\n",
    "best_accuracy = max(accuracy_scores)\n",
    "print(f\"ค่า K ที่ดีที่สุดคือ {best_k} ด้วยความถูกต้อง {best_accuracy:.2f}\")"
   ]
  },
  {
   "cell_type": "markdown",
   "id": "9fbde091",
   "metadata": {},
   "source": [
    "### MARK: ปรับ Scale"
   ]
  },
  {
   "cell_type": "code",
   "execution_count": null,
   "id": "4476d7e8",
   "metadata": {},
   "outputs": [],
   "source": [
    "scaler = StandardScaler()"
   ]
  },
  {
   "cell_type": "code",
   "execution_count": null,
   "id": "e9cf06b2",
   "metadata": {},
   "outputs": [],
   "source": [
    "X_train = scaler.fit_transform(X_train)\n",
    "X_test = scaler.fit_transform(X_test)"
   ]
  },
  {
   "cell_type": "markdown",
   "id": "c557cfb8",
   "metadata": {},
   "source": [
    "### MARK: KNN Start"
   ]
  },
  {
   "cell_type": "code",
   "execution_count": null,
   "id": "f37c0a8a",
   "metadata": {},
   "outputs": [],
   "source": [
    "knn = KNeighborsClassifier(n_neighbors=best_k) "
   ]
  },
  {
   "cell_type": "code",
   "execution_count": null,
   "id": "841099bb",
   "metadata": {},
   "outputs": [],
   "source": [
    "knn.get_params()"
   ]
  },
  {
   "cell_type": "code",
   "execution_count": null,
   "id": "24c87a40",
   "metadata": {},
   "outputs": [],
   "source": [
    "knn.fit(X_train, y_train)"
   ]
  },
  {
   "cell_type": "code",
   "execution_count": null,
   "id": "6b7a8526",
   "metadata": {},
   "outputs": [],
   "source": [
    "print(\"ตัวอย่างข้อมูลเรียนรู้ ->\",knn.score(X_train,y_train))"
   ]
  },
  {
   "cell_type": "markdown",
   "id": "6a0d9532",
   "metadata": {},
   "source": [
    "### MARK: Predict and Score Model"
   ]
  },
  {
   "cell_type": "code",
   "execution_count": null,
   "id": "59c2e7df",
   "metadata": {},
   "outputs": [],
   "source": [
    "y_pred = knn.predict(X_test) \n",
    "print(\"ตัวอย่างข้อมูลชุดทดสอบ ->\",accuracy_score(y_test, y_pred))"
   ]
  },
  {
   "cell_type": "code",
   "execution_count": null,
   "id": "7f12a329",
   "metadata": {
    "scrolled": false
   },
   "outputs": [],
   "source": [
    "print(\"Classification Report:\\n\", classification_report(y_test, y_pred))"
   ]
  },
  {
   "cell_type": "markdown",
   "id": "ee2f2309",
   "metadata": {},
   "source": [
    "### MARK: เลือก Feature importances 4 อันดับแรก เข้า model"
   ]
  },
  {
   "cell_type": "code",
   "execution_count": null,
   "id": "de980a00",
   "metadata": {},
   "outputs": [],
   "source": [
    "X_trainIm = scaler.fit_transform(X_trainIm)\n",
    "X_testIm = scaler.fit_transform(X_testIm)"
   ]
  },
  {
   "cell_type": "code",
   "execution_count": null,
   "id": "92f53096",
   "metadata": {},
   "outputs": [],
   "source": [
    "knn.fit(X_trainIm, y_trainIm)\n",
    "print(\"ตัวอย่างข้อมูลชุดเรียนรู้ ->\",knn.score(X_trainIm,y_trainIm))"
   ]
  },
  {
   "cell_type": "code",
   "execution_count": null,
   "id": "5e24d269",
   "metadata": {},
   "outputs": [],
   "source": [
    "y_predIm = knn.predict(X_testIm)\n",
    "print(\"ตัวอย่างข้อมูลทดสอบ ->\",accuracy_score(y_testIm, y_predIm))"
   ]
  },
  {
   "cell_type": "code",
   "execution_count": null,
   "id": "8032fd6d",
   "metadata": {},
   "outputs": [],
   "source": [
    "print(\"Classification Report:\\n\", classification_report(y_testIm, y_predIm))"
   ]
  },
  {
   "cell_type": "markdown",
   "id": "36849577",
   "metadata": {},
   "source": [
    "# Model 3 Neural Network"
   ]
  },
  {
   "cell_type": "code",
   "execution_count": null,
   "id": "d831a7aa",
   "metadata": {},
   "outputs": [],
   "source": [
    "from sklearn.neural_network import MLPClassifier"
   ]
  },
  {
   "cell_type": "markdown",
   "id": "da33d64b",
   "metadata": {},
   "source": [
    "### MARK: Neural Network Start"
   ]
  },
  {
   "cell_type": "code",
   "execution_count": null,
   "id": "d1e7ad6b",
   "metadata": {},
   "outputs": [],
   "source": [
    "nnClf = MLPClassifier(hidden_layer_sizes=(64, 32), max_iter=1000, random_state=42)"
   ]
  },
  {
   "cell_type": "code",
   "execution_count": null,
   "id": "21099d11",
   "metadata": {},
   "outputs": [],
   "source": [
    "nnClf.get_params()"
   ]
  },
  {
   "cell_type": "code",
   "execution_count": null,
   "id": "419808b1",
   "metadata": {},
   "outputs": [],
   "source": [
    "nnClf.fit(X_train,y_train)\n",
    "print(\"ตัวอย่างข้อมูลชุดทดสอบ ->\",nnClf.score(X_train,y_train))"
   ]
  },
  {
   "cell_type": "markdown",
   "id": "cd4e50f4",
   "metadata": {},
   "source": [
    "### MARK: Predict and Score Model"
   ]
  },
  {
   "cell_type": "code",
   "execution_count": null,
   "id": "83d08d6a",
   "metadata": {},
   "outputs": [],
   "source": [
    "y_pred = nnClf.predict(X_test) \n",
    "print(\"ตัวอย่างข้อมูลชุดทดสอบ ->\",accuracy_score(y_test, y_pred))"
   ]
  },
  {
   "cell_type": "code",
   "execution_count": null,
   "id": "ececdd50",
   "metadata": {},
   "outputs": [],
   "source": [
    "# print(\"Classification Report:\\n\", classification_report(y_test, y_pred))\n",
    "report = classification_report(y_test, y_pred)\n",
    "print(report)"
   ]
  },
  {
   "cell_type": "markdown",
   "id": "c15b7834",
   "metadata": {},
   "source": [
    "### MARK: เลือก Feature importances 4 อันดับแรก เข้า model"
   ]
  },
  {
   "cell_type": "code",
   "execution_count": null,
   "id": "7c713d56",
   "metadata": {},
   "outputs": [],
   "source": [
    "nnClf.fit(X_trainIm, y_trainIm)\n",
    "print(\"ตัวอย่างข้อมูลชุดเรียนรู้ ->\",nnClf.score(X_trainIm,y_trainIm))"
   ]
  },
  {
   "cell_type": "code",
   "execution_count": null,
   "id": "3dc56916",
   "metadata": {},
   "outputs": [],
   "source": [
    "y_predIm = nnClf.predict(X_testIm)\n",
    "print(\"ตัวอย่างข้อมูลทดสอบ ->\",accuracy_score(y_testIm, y_predIm))"
   ]
  },
  {
   "cell_type": "code",
   "execution_count": null,
   "id": "883116a8",
   "metadata": {},
   "outputs": [],
   "source": [
    "print(\"Classification Report:\\n\", classification_report(y_testIm, y_predIm))"
   ]
  }
 ],
 "metadata": {
  "kernelspec": {
   "display_name": "Python 3 (ipykernel)",
   "language": "python",
   "name": "python3"
  },
  "language_info": {
   "codemirror_mode": {
    "name": "ipython",
    "version": 3
   },
   "file_extension": ".py",
   "mimetype": "text/x-python",
   "name": "python",
   "nbconvert_exporter": "python",
   "pygments_lexer": "ipython3",
   "version": "3.11.4"
  },
  "varInspector": {
   "cols": {
    "lenName": 16,
    "lenType": 16,
    "lenVar": 40
   },
   "kernels_config": {
    "python": {
     "delete_cmd_postfix": "",
     "delete_cmd_prefix": "del ",
     "library": "var_list.py",
     "varRefreshCmd": "print(var_dic_list())"
    },
    "r": {
     "delete_cmd_postfix": ") ",
     "delete_cmd_prefix": "rm(",
     "library": "var_list.r",
     "varRefreshCmd": "cat(var_dic_list()) "
    }
   },
   "types_to_exclude": [
    "module",
    "function",
    "builtin_function_or_method",
    "instance",
    "_Feature"
   ],
   "window_display": false
  }
 },
 "nbformat": 4,
 "nbformat_minor": 5
}
