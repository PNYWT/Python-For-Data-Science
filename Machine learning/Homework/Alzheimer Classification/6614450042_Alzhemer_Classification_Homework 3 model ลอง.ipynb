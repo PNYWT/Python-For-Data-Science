{
 "cells": [
  {
   "cell_type": "code",
   "execution_count": 2,
   "id": "090fd83a",
   "metadata": {},
   "outputs": [],
   "source": [
    "import pandas as pd\n",
    "import numpy as np"
   ]
  },
  {
   "cell_type": "code",
   "execution_count": 3,
   "id": "88d55712",
   "metadata": {
    "scrolled": true
   },
   "outputs": [
    {
     "data": {
      "text/html": [
       "<div>\n",
       "<style scoped>\n",
       "    .dataframe tbody tr th:only-of-type {\n",
       "        vertical-align: middle;\n",
       "    }\n",
       "\n",
       "    .dataframe tbody tr th {\n",
       "        vertical-align: top;\n",
       "    }\n",
       "\n",
       "    .dataframe thead th {\n",
       "        text-align: right;\n",
       "    }\n",
       "</style>\n",
       "<table border=\"1\" class=\"dataframe\">\n",
       "  <thead>\n",
       "    <tr style=\"text-align: right;\">\n",
       "      <th></th>\n",
       "      <th>HN</th>\n",
       "      <th>Education</th>\n",
       "      <th>age</th>\n",
       "      <th>hypertension</th>\n",
       "      <th>heart_disease</th>\n",
       "      <th>family history</th>\n",
       "      <th>Occupation</th>\n",
       "      <th>Triglycerides</th>\n",
       "      <th>Blood Sugar</th>\n",
       "      <th>BMI</th>\n",
       "      <th>smoking_status</th>\n",
       "      <th>alzheimer</th>\n",
       "    </tr>\n",
       "  </thead>\n",
       "  <tbody>\n",
       "    <tr>\n",
       "      <th>0</th>\n",
       "      <td>11046</td>\n",
       "      <td>Secondary School</td>\n",
       "      <td>67.0</td>\n",
       "      <td>0</td>\n",
       "      <td>1</td>\n",
       "      <td>Yes</td>\n",
       "      <td>Private</td>\n",
       "      <td>Normal</td>\n",
       "      <td>228.69</td>\n",
       "      <td>36.6</td>\n",
       "      <td>formerly smoked</td>\n",
       "      <td>1</td>\n",
       "    </tr>\n",
       "    <tr>\n",
       "      <th>1</th>\n",
       "      <td>51676</td>\n",
       "      <td>Bachelor</td>\n",
       "      <td>61.0</td>\n",
       "      <td>0</td>\n",
       "      <td>0</td>\n",
       "      <td>Yes</td>\n",
       "      <td>Freelance</td>\n",
       "      <td>High</td>\n",
       "      <td>202.21</td>\n",
       "      <td>NaN</td>\n",
       "      <td>never smoked</td>\n",
       "      <td>1</td>\n",
       "    </tr>\n",
       "    <tr>\n",
       "      <th>2</th>\n",
       "      <td>35112</td>\n",
       "      <td>Secondary School</td>\n",
       "      <td>80.0</td>\n",
       "      <td>0</td>\n",
       "      <td>1</td>\n",
       "      <td>Yes</td>\n",
       "      <td>Private</td>\n",
       "      <td>High</td>\n",
       "      <td>105.92</td>\n",
       "      <td>32.5</td>\n",
       "      <td>never smoked</td>\n",
       "      <td>1</td>\n",
       "    </tr>\n",
       "    <tr>\n",
       "      <th>3</th>\n",
       "      <td>67182</td>\n",
       "      <td>Bachelor</td>\n",
       "      <td>49.0</td>\n",
       "      <td>0</td>\n",
       "      <td>0</td>\n",
       "      <td>Yes</td>\n",
       "      <td>Private</td>\n",
       "      <td>Normal</td>\n",
       "      <td>171.23</td>\n",
       "      <td>34.4</td>\n",
       "      <td>smokes</td>\n",
       "      <td>1</td>\n",
       "    </tr>\n",
       "    <tr>\n",
       "      <th>4</th>\n",
       "      <td>1665</td>\n",
       "      <td>Bachelor</td>\n",
       "      <td>79.0</td>\n",
       "      <td>1</td>\n",
       "      <td>0</td>\n",
       "      <td>Yes</td>\n",
       "      <td>Freelance</td>\n",
       "      <td>High</td>\n",
       "      <td>174.12</td>\n",
       "      <td>24.0</td>\n",
       "      <td>never smoked</td>\n",
       "      <td>1</td>\n",
       "    </tr>\n",
       "    <tr>\n",
       "      <th>...</th>\n",
       "      <td>...</td>\n",
       "      <td>...</td>\n",
       "      <td>...</td>\n",
       "      <td>...</td>\n",
       "      <td>...</td>\n",
       "      <td>...</td>\n",
       "      <td>...</td>\n",
       "      <td>...</td>\n",
       "      <td>...</td>\n",
       "      <td>...</td>\n",
       "      <td>...</td>\n",
       "      <td>...</td>\n",
       "    </tr>\n",
       "    <tr>\n",
       "      <th>4095</th>\n",
       "      <td>68398</td>\n",
       "      <td>Secondary School</td>\n",
       "      <td>82.0</td>\n",
       "      <td>1</td>\n",
       "      <td>0</td>\n",
       "      <td>Yes</td>\n",
       "      <td>Freelance</td>\n",
       "      <td>High</td>\n",
       "      <td>71.97</td>\n",
       "      <td>28.3</td>\n",
       "      <td>never smoked</td>\n",
       "      <td>0</td>\n",
       "    </tr>\n",
       "    <tr>\n",
       "      <th>4096</th>\n",
       "      <td>14180</td>\n",
       "      <td>Bachelor</td>\n",
       "      <td>13.0</td>\n",
       "      <td>0</td>\n",
       "      <td>0</td>\n",
       "      <td>No</td>\n",
       "      <td>Farmer</td>\n",
       "      <td>High</td>\n",
       "      <td>103.08</td>\n",
       "      <td>18.6</td>\n",
       "      <td>Unknown</td>\n",
       "      <td>0</td>\n",
       "    </tr>\n",
       "    <tr>\n",
       "      <th>4097</th>\n",
       "      <td>44873</td>\n",
       "      <td>Bachelor</td>\n",
       "      <td>81.0</td>\n",
       "      <td>0</td>\n",
       "      <td>0</td>\n",
       "      <td>Yes</td>\n",
       "      <td>Freelance</td>\n",
       "      <td>Normal</td>\n",
       "      <td>125.20</td>\n",
       "      <td>40.0</td>\n",
       "      <td>never smoked</td>\n",
       "      <td>0</td>\n",
       "    </tr>\n",
       "    <tr>\n",
       "      <th>4098</th>\n",
       "      <td>19723</td>\n",
       "      <td>Bachelor</td>\n",
       "      <td>35.0</td>\n",
       "      <td>0</td>\n",
       "      <td>0</td>\n",
       "      <td>Yes</td>\n",
       "      <td>Freelance</td>\n",
       "      <td>High</td>\n",
       "      <td>82.99</td>\n",
       "      <td>30.6</td>\n",
       "      <td>never smoked</td>\n",
       "      <td>0</td>\n",
       "    </tr>\n",
       "    <tr>\n",
       "      <th>4099</th>\n",
       "      <td>44679</td>\n",
       "      <td>Bachelor</td>\n",
       "      <td>44.0</td>\n",
       "      <td>0</td>\n",
       "      <td>0</td>\n",
       "      <td>Yes</td>\n",
       "      <td>Officer</td>\n",
       "      <td>Normal</td>\n",
       "      <td>85.28</td>\n",
       "      <td>26.2</td>\n",
       "      <td>Unknown</td>\n",
       "      <td>0</td>\n",
       "    </tr>\n",
       "  </tbody>\n",
       "</table>\n",
       "<p>4100 rows × 12 columns</p>\n",
       "</div>"
      ],
      "text/plain": [
       "         HN         Education   age  hypertension  heart_disease  \\\n",
       "0     11046  Secondary School  67.0             0              1   \n",
       "1     51676          Bachelor  61.0             0              0   \n",
       "2     35112  Secondary School  80.0             0              1   \n",
       "3     67182          Bachelor  49.0             0              0   \n",
       "4      1665          Bachelor  79.0             1              0   \n",
       "...     ...               ...   ...           ...            ...   \n",
       "4095  68398  Secondary School  82.0             1              0   \n",
       "4096  14180          Bachelor  13.0             0              0   \n",
       "4097  44873          Bachelor  81.0             0              0   \n",
       "4098  19723          Bachelor  35.0             0              0   \n",
       "4099  44679          Bachelor  44.0             0              0   \n",
       "\n",
       "     family history Occupation Triglycerides  Blood Sugar   BMI  \\\n",
       "0               Yes    Private        Normal       228.69  36.6   \n",
       "1               Yes  Freelance          High       202.21   NaN   \n",
       "2               Yes    Private          High       105.92  32.5   \n",
       "3               Yes    Private        Normal       171.23  34.4   \n",
       "4               Yes  Freelance          High       174.12  24.0   \n",
       "...             ...        ...           ...          ...   ...   \n",
       "4095            Yes  Freelance          High        71.97  28.3   \n",
       "4096             No     Farmer          High       103.08  18.6   \n",
       "4097            Yes  Freelance        Normal       125.20  40.0   \n",
       "4098            Yes  Freelance          High        82.99  30.6   \n",
       "4099            Yes    Officer        Normal        85.28  26.2   \n",
       "\n",
       "       smoking_status  alzheimer  \n",
       "0     formerly smoked          1  \n",
       "1        never smoked          1  \n",
       "2        never smoked          1  \n",
       "3              smokes          1  \n",
       "4        never smoked          1  \n",
       "...               ...        ...  \n",
       "4095     never smoked          0  \n",
       "4096          Unknown          0  \n",
       "4097     never smoked          0  \n",
       "4098     never smoked          0  \n",
       "4099          Unknown          0  \n",
       "\n",
       "[4100 rows x 12 columns]"
      ]
     },
     "execution_count": 3,
     "metadata": {},
     "output_type": "execute_result"
    }
   ],
   "source": [
    "dataSet = pd.read_csv(\"Alzheimer.csv\")\n",
    "dataSet"
   ]
  },
  {
   "cell_type": "markdown",
   "id": "bde3e6ec",
   "metadata": {},
   "source": []
  },
  {
   "cell_type": "markdown",
   "id": "580726b7",
   "metadata": {},
   "source": [
    "# MARK: Data Processing"
   ]
  },
  {
   "cell_type": "code",
   "execution_count": 4,
   "id": "39a27f02",
   "metadata": {},
   "outputs": [
    {
     "name": "stdout",
     "output_type": "stream",
     "text": [
      "<class 'pandas.core.frame.DataFrame'>\n",
      "RangeIndex: 4100 entries, 0 to 4099\n",
      "Data columns (total 12 columns):\n",
      " #   Column          Non-Null Count  Dtype  \n",
      "---  ------          --------------  -----  \n",
      " 0   HN              4100 non-null   int64  \n",
      " 1   Education       4100 non-null   object \n",
      " 2   age             4100 non-null   float64\n",
      " 3   hypertension    4100 non-null   int64  \n",
      " 4   heart_disease   4100 non-null   int64  \n",
      " 5   family history  4100 non-null   object \n",
      " 6   Occupation      4100 non-null   object \n",
      " 7   Triglycerides   4100 non-null   object \n",
      " 8   Blood Sugar     4100 non-null   float64\n",
      " 9   BMI             3936 non-null   float64\n",
      " 10  smoking_status  4100 non-null   object \n",
      " 11  alzheimer       4100 non-null   int64  \n",
      "dtypes: float64(3), int64(4), object(5)\n",
      "memory usage: 384.5+ KB\n"
     ]
    }
   ],
   "source": [
    "dataSet.info()"
   ]
  },
  {
   "cell_type": "code",
   "execution_count": 5,
   "id": "d61bb8d0",
   "metadata": {
    "scrolled": true
   },
   "outputs": [
    {
     "data": {
      "text/plain": [
       "HN                  0\n",
       "Education           0\n",
       "age                 0\n",
       "hypertension        0\n",
       "heart_disease       0\n",
       "family history      0\n",
       "Occupation          0\n",
       "Triglycerides       0\n",
       "Blood Sugar         0\n",
       "BMI               164\n",
       "smoking_status      0\n",
       "alzheimer           0\n",
       "dtype: int64"
      ]
     },
     "execution_count": 5,
     "metadata": {},
     "output_type": "execute_result"
    }
   ],
   "source": [
    "dataSet.isna().sum()"
   ]
  },
  {
   "cell_type": "markdown",
   "id": "cfca83bd",
   "metadata": {},
   "source": [
    "### MARK: เลือกที่จะ drop ทิ้งเพราะว่า Null มีจำนวนไม่เยอะมาก ไม่มีผลต่อ data เท่าที่ควร และ ไม่สามารถหาค่า BMI มาแทนที่ได้เพราะไม่มี weight และ height ของผู้ป่วย"
   ]
  },
  {
   "cell_type": "code",
   "execution_count": 6,
   "id": "a3f4e5c4",
   "metadata": {},
   "outputs": [
    {
     "data": {
      "text/plain": [
       "HN                0\n",
       "Education         0\n",
       "age               0\n",
       "hypertension      0\n",
       "heart_disease     0\n",
       "family history    0\n",
       "Occupation        0\n",
       "Triglycerides     0\n",
       "Blood Sugar       0\n",
       "BMI               0\n",
       "smoking_status    0\n",
       "alzheimer         0\n",
       "dtype: int64"
      ]
     },
     "execution_count": 6,
     "metadata": {},
     "output_type": "execute_result"
    }
   ],
   "source": [
    "dataSet = dataSet.dropna()\n",
    "dataSet.isna().sum()"
   ]
  },
  {
   "cell_type": "markdown",
   "id": "b166cba3",
   "metadata": {},
   "source": [
    "### MARK: ตรวจสอบ Class Target จำนวนเหมาะสมกันหรือไม่"
   ]
  },
  {
   "cell_type": "code",
   "execution_count": 7,
   "id": "f2e2b26d",
   "metadata": {},
   "outputs": [
    {
     "name": "stdout",
     "output_type": "stream",
     "text": [
      "Target == 1 -> 202\n"
     ]
    }
   ],
   "source": [
    "print(\"Target == 1 ->\", len(dataSet.loc[dataSet[\"alzheimer\"] == 1, \"alzheimer\"]))"
   ]
  },
  {
   "cell_type": "code",
   "execution_count": 8,
   "id": "d8ce5ebf",
   "metadata": {},
   "outputs": [
    {
     "name": "stdout",
     "output_type": "stream",
     "text": [
      "Target == 1 -> 3734\n"
     ]
    }
   ],
   "source": [
    "print(\"Target == 1 ->\", len(dataSet.loc[dataSet[\"alzheimer\"] == 0, \"alzheimer\"]))"
   ]
  },
  {
   "cell_type": "markdown",
   "id": "49de70e7",
   "metadata": {},
   "source": [
    "### MARK: ปรับข้อมูล เป็น 0,1"
   ]
  },
  {
   "cell_type": "code",
   "execution_count": 9,
   "id": "9f385174",
   "metadata": {},
   "outputs": [],
   "source": [
    "from sklearn.preprocessing import LabelEncoder"
   ]
  },
  {
   "cell_type": "code",
   "execution_count": 10,
   "id": "255ebb44",
   "metadata": {
    "scrolled": true
   },
   "outputs": [
    {
     "data": {
      "text/html": [
       "<div>\n",
       "<style scoped>\n",
       "    .dataframe tbody tr th:only-of-type {\n",
       "        vertical-align: middle;\n",
       "    }\n",
       "\n",
       "    .dataframe tbody tr th {\n",
       "        vertical-align: top;\n",
       "    }\n",
       "\n",
       "    .dataframe thead th {\n",
       "        text-align: right;\n",
       "    }\n",
       "</style>\n",
       "<table border=\"1\" class=\"dataframe\">\n",
       "  <thead>\n",
       "    <tr style=\"text-align: right;\">\n",
       "      <th></th>\n",
       "      <th>HN</th>\n",
       "      <th>Education</th>\n",
       "      <th>age</th>\n",
       "      <th>hypertension</th>\n",
       "      <th>heart_disease</th>\n",
       "      <th>family history</th>\n",
       "      <th>Occupation</th>\n",
       "      <th>Triglycerides</th>\n",
       "      <th>Blood Sugar</th>\n",
       "      <th>BMI</th>\n",
       "      <th>smoking_status</th>\n",
       "      <th>alzheimer</th>\n",
       "    </tr>\n",
       "  </thead>\n",
       "  <tbody>\n",
       "    <tr>\n",
       "      <th>0</th>\n",
       "      <td>11046</td>\n",
       "      <td>Secondary School</td>\n",
       "      <td>67.0</td>\n",
       "      <td>0</td>\n",
       "      <td>1</td>\n",
       "      <td>Yes</td>\n",
       "      <td>Private</td>\n",
       "      <td>Normal</td>\n",
       "      <td>228.69</td>\n",
       "      <td>36.6</td>\n",
       "      <td>formerly smoked</td>\n",
       "      <td>1</td>\n",
       "    </tr>\n",
       "    <tr>\n",
       "      <th>2</th>\n",
       "      <td>35112</td>\n",
       "      <td>Secondary School</td>\n",
       "      <td>80.0</td>\n",
       "      <td>0</td>\n",
       "      <td>1</td>\n",
       "      <td>Yes</td>\n",
       "      <td>Private</td>\n",
       "      <td>High</td>\n",
       "      <td>105.92</td>\n",
       "      <td>32.5</td>\n",
       "      <td>never smoked</td>\n",
       "      <td>1</td>\n",
       "    </tr>\n",
       "    <tr>\n",
       "      <th>3</th>\n",
       "      <td>67182</td>\n",
       "      <td>Bachelor</td>\n",
       "      <td>49.0</td>\n",
       "      <td>0</td>\n",
       "      <td>0</td>\n",
       "      <td>Yes</td>\n",
       "      <td>Private</td>\n",
       "      <td>Normal</td>\n",
       "      <td>171.23</td>\n",
       "      <td>34.4</td>\n",
       "      <td>smokes</td>\n",
       "      <td>1</td>\n",
       "    </tr>\n",
       "    <tr>\n",
       "      <th>4</th>\n",
       "      <td>1665</td>\n",
       "      <td>Bachelor</td>\n",
       "      <td>79.0</td>\n",
       "      <td>1</td>\n",
       "      <td>0</td>\n",
       "      <td>Yes</td>\n",
       "      <td>Freelance</td>\n",
       "      <td>High</td>\n",
       "      <td>174.12</td>\n",
       "      <td>24.0</td>\n",
       "      <td>never smoked</td>\n",
       "      <td>1</td>\n",
       "    </tr>\n",
       "    <tr>\n",
       "      <th>5</th>\n",
       "      <td>66889</td>\n",
       "      <td>Secondary School</td>\n",
       "      <td>81.0</td>\n",
       "      <td>0</td>\n",
       "      <td>0</td>\n",
       "      <td>Yes</td>\n",
       "      <td>Private</td>\n",
       "      <td>Normal</td>\n",
       "      <td>186.21</td>\n",
       "      <td>29.0</td>\n",
       "      <td>formerly smoked</td>\n",
       "      <td>1</td>\n",
       "    </tr>\n",
       "  </tbody>\n",
       "</table>\n",
       "</div>"
      ],
      "text/plain": [
       "      HN         Education   age  hypertension  heart_disease family history  \\\n",
       "0  11046  Secondary School  67.0             0              1            Yes   \n",
       "2  35112  Secondary School  80.0             0              1            Yes   \n",
       "3  67182          Bachelor  49.0             0              0            Yes   \n",
       "4   1665          Bachelor  79.0             1              0            Yes   \n",
       "5  66889  Secondary School  81.0             0              0            Yes   \n",
       "\n",
       "  Occupation Triglycerides  Blood Sugar   BMI   smoking_status  alzheimer  \n",
       "0    Private        Normal       228.69  36.6  formerly smoked          1  \n",
       "2    Private          High       105.92  32.5     never smoked          1  \n",
       "3    Private        Normal       171.23  34.4           smokes          1  \n",
       "4  Freelance          High       174.12  24.0     never smoked          1  \n",
       "5    Private        Normal       186.21  29.0  formerly smoked          1  "
      ]
     },
     "execution_count": 10,
     "metadata": {},
     "output_type": "execute_result"
    }
   ],
   "source": [
    "dataSet.head()"
   ]
  },
  {
   "cell_type": "code",
   "execution_count": 17,
   "id": "351cd5c4",
   "metadata": {},
   "outputs": [],
   "source": [
    "label_encoder = LabelEncoder()"
   ]
  },
  {
   "cell_type": "code",
   "execution_count": 18,
   "id": "74584f4c",
   "metadata": {},
   "outputs": [
    {
     "name": "stderr",
     "output_type": "stream",
     "text": [
      "/var/folders/gc/m_ppj8w50ggfmxvn8lf4jwxm0000gp/T/ipykernel_97448/1710966531.py:1: SettingWithCopyWarning: \n",
      "A value is trying to be set on a copy of a slice from a DataFrame.\n",
      "Try using .loc[row_indexer,col_indexer] = value instead\n",
      "\n",
      "See the caveats in the documentation: https://pandas.pydata.org/pandas-docs/stable/user_guide/indexing.html#returning-a-view-versus-a-copy\n",
      "  dataSet['Education'] = label_encoder.fit_transform(dataSet['Education'])\n"
     ]
    }
   ],
   "source": [
    "dataSet['Education'] = label_encoder.fit_transform(dataSet['Education'])"
   ]
  },
  {
   "cell_type": "code",
   "execution_count": 19,
   "id": "0a36d4a0",
   "metadata": {},
   "outputs": [
    {
     "name": "stderr",
     "output_type": "stream",
     "text": [
      "/var/folders/gc/m_ppj8w50ggfmxvn8lf4jwxm0000gp/T/ipykernel_97448/977167881.py:1: SettingWithCopyWarning: \n",
      "A value is trying to be set on a copy of a slice from a DataFrame.\n",
      "Try using .loc[row_indexer,col_indexer] = value instead\n",
      "\n",
      "See the caveats in the documentation: https://pandas.pydata.org/pandas-docs/stable/user_guide/indexing.html#returning-a-view-versus-a-copy\n",
      "  dataSet['family history'] = label_encoder.fit_transform(dataSet['family history'])\n"
     ]
    }
   ],
   "source": [
    "dataSet['family history'] = label_encoder.fit_transform(dataSet['family history'])"
   ]
  },
  {
   "cell_type": "code",
   "execution_count": 20,
   "id": "7058598d",
   "metadata": {},
   "outputs": [
    {
     "name": "stderr",
     "output_type": "stream",
     "text": [
      "/var/folders/gc/m_ppj8w50ggfmxvn8lf4jwxm0000gp/T/ipykernel_97448/3823213943.py:1: SettingWithCopyWarning: \n",
      "A value is trying to be set on a copy of a slice from a DataFrame.\n",
      "Try using .loc[row_indexer,col_indexer] = value instead\n",
      "\n",
      "See the caveats in the documentation: https://pandas.pydata.org/pandas-docs/stable/user_guide/indexing.html#returning-a-view-versus-a-copy\n",
      "  dataSet['Occupation'] = label_encoder.fit_transform(dataSet['Occupation'])\n"
     ]
    }
   ],
   "source": [
    "dataSet['Occupation'] = label_encoder.fit_transform(dataSet['Occupation'])"
   ]
  },
  {
   "cell_type": "code",
   "execution_count": 21,
   "id": "98069db6",
   "metadata": {},
   "outputs": [
    {
     "name": "stderr",
     "output_type": "stream",
     "text": [
      "/var/folders/gc/m_ppj8w50ggfmxvn8lf4jwxm0000gp/T/ipykernel_97448/4071484013.py:1: SettingWithCopyWarning: \n",
      "A value is trying to be set on a copy of a slice from a DataFrame.\n",
      "Try using .loc[row_indexer,col_indexer] = value instead\n",
      "\n",
      "See the caveats in the documentation: https://pandas.pydata.org/pandas-docs/stable/user_guide/indexing.html#returning-a-view-versus-a-copy\n",
      "  dataSet['Triglycerides'] = label_encoder.fit_transform(dataSet['Triglycerides'])\n"
     ]
    }
   ],
   "source": [
    "dataSet['Triglycerides'] = label_encoder.fit_transform(dataSet['Triglycerides'])"
   ]
  },
  {
   "cell_type": "code",
   "execution_count": 22,
   "id": "bed3295e",
   "metadata": {},
   "outputs": [
    {
     "name": "stderr",
     "output_type": "stream",
     "text": [
      "/var/folders/gc/m_ppj8w50ggfmxvn8lf4jwxm0000gp/T/ipykernel_97448/3163372059.py:1: SettingWithCopyWarning: \n",
      "A value is trying to be set on a copy of a slice from a DataFrame.\n",
      "Try using .loc[row_indexer,col_indexer] = value instead\n",
      "\n",
      "See the caveats in the documentation: https://pandas.pydata.org/pandas-docs/stable/user_guide/indexing.html#returning-a-view-versus-a-copy\n",
      "  dataSet['smoking_status'] = label_encoder.fit_transform(dataSet['smoking_status'])\n"
     ]
    }
   ],
   "source": [
    "dataSet['smoking_status'] = label_encoder.fit_transform(dataSet['smoking_status'])"
   ]
  },
  {
   "cell_type": "code",
   "execution_count": 23,
   "id": "dbd5afe7",
   "metadata": {},
   "outputs": [
    {
     "data": {
      "text/html": [
       "<div>\n",
       "<style scoped>\n",
       "    .dataframe tbody tr th:only-of-type {\n",
       "        vertical-align: middle;\n",
       "    }\n",
       "\n",
       "    .dataframe tbody tr th {\n",
       "        vertical-align: top;\n",
       "    }\n",
       "\n",
       "    .dataframe thead th {\n",
       "        text-align: right;\n",
       "    }\n",
       "</style>\n",
       "<table border=\"1\" class=\"dataframe\">\n",
       "  <thead>\n",
       "    <tr style=\"text-align: right;\">\n",
       "      <th></th>\n",
       "      <th>HN</th>\n",
       "      <th>Education</th>\n",
       "      <th>age</th>\n",
       "      <th>hypertension</th>\n",
       "      <th>heart_disease</th>\n",
       "      <th>family history</th>\n",
       "      <th>Occupation</th>\n",
       "      <th>Triglycerides</th>\n",
       "      <th>Blood Sugar</th>\n",
       "      <th>BMI</th>\n",
       "      <th>smoking_status</th>\n",
       "      <th>alzheimer</th>\n",
       "    </tr>\n",
       "  </thead>\n",
       "  <tbody>\n",
       "    <tr>\n",
       "      <th>0</th>\n",
       "      <td>11046</td>\n",
       "      <td>1</td>\n",
       "      <td>67.0</td>\n",
       "      <td>0</td>\n",
       "      <td>1</td>\n",
       "      <td>1</td>\n",
       "      <td>4</td>\n",
       "      <td>1</td>\n",
       "      <td>228.69</td>\n",
       "      <td>36.6</td>\n",
       "      <td>1</td>\n",
       "      <td>1</td>\n",
       "    </tr>\n",
       "    <tr>\n",
       "      <th>2</th>\n",
       "      <td>35112</td>\n",
       "      <td>1</td>\n",
       "      <td>80.0</td>\n",
       "      <td>0</td>\n",
       "      <td>1</td>\n",
       "      <td>1</td>\n",
       "      <td>4</td>\n",
       "      <td>0</td>\n",
       "      <td>105.92</td>\n",
       "      <td>32.5</td>\n",
       "      <td>2</td>\n",
       "      <td>1</td>\n",
       "    </tr>\n",
       "    <tr>\n",
       "      <th>3</th>\n",
       "      <td>67182</td>\n",
       "      <td>0</td>\n",
       "      <td>49.0</td>\n",
       "      <td>0</td>\n",
       "      <td>0</td>\n",
       "      <td>1</td>\n",
       "      <td>4</td>\n",
       "      <td>1</td>\n",
       "      <td>171.23</td>\n",
       "      <td>34.4</td>\n",
       "      <td>3</td>\n",
       "      <td>1</td>\n",
       "    </tr>\n",
       "    <tr>\n",
       "      <th>4</th>\n",
       "      <td>1665</td>\n",
       "      <td>0</td>\n",
       "      <td>79.0</td>\n",
       "      <td>1</td>\n",
       "      <td>0</td>\n",
       "      <td>1</td>\n",
       "      <td>1</td>\n",
       "      <td>0</td>\n",
       "      <td>174.12</td>\n",
       "      <td>24.0</td>\n",
       "      <td>2</td>\n",
       "      <td>1</td>\n",
       "    </tr>\n",
       "    <tr>\n",
       "      <th>5</th>\n",
       "      <td>66889</td>\n",
       "      <td>1</td>\n",
       "      <td>81.0</td>\n",
       "      <td>0</td>\n",
       "      <td>0</td>\n",
       "      <td>1</td>\n",
       "      <td>4</td>\n",
       "      <td>1</td>\n",
       "      <td>186.21</td>\n",
       "      <td>29.0</td>\n",
       "      <td>1</td>\n",
       "      <td>1</td>\n",
       "    </tr>\n",
       "    <tr>\n",
       "      <th>...</th>\n",
       "      <td>...</td>\n",
       "      <td>...</td>\n",
       "      <td>...</td>\n",
       "      <td>...</td>\n",
       "      <td>...</td>\n",
       "      <td>...</td>\n",
       "      <td>...</td>\n",
       "      <td>...</td>\n",
       "      <td>...</td>\n",
       "      <td>...</td>\n",
       "      <td>...</td>\n",
       "      <td>...</td>\n",
       "    </tr>\n",
       "    <tr>\n",
       "      <th>4095</th>\n",
       "      <td>68398</td>\n",
       "      <td>1</td>\n",
       "      <td>82.0</td>\n",
       "      <td>1</td>\n",
       "      <td>0</td>\n",
       "      <td>1</td>\n",
       "      <td>1</td>\n",
       "      <td>0</td>\n",
       "      <td>71.97</td>\n",
       "      <td>28.3</td>\n",
       "      <td>2</td>\n",
       "      <td>0</td>\n",
       "    </tr>\n",
       "    <tr>\n",
       "      <th>4096</th>\n",
       "      <td>14180</td>\n",
       "      <td>0</td>\n",
       "      <td>13.0</td>\n",
       "      <td>0</td>\n",
       "      <td>0</td>\n",
       "      <td>0</td>\n",
       "      <td>0</td>\n",
       "      <td>0</td>\n",
       "      <td>103.08</td>\n",
       "      <td>18.6</td>\n",
       "      <td>0</td>\n",
       "      <td>0</td>\n",
       "    </tr>\n",
       "    <tr>\n",
       "      <th>4097</th>\n",
       "      <td>44873</td>\n",
       "      <td>0</td>\n",
       "      <td>81.0</td>\n",
       "      <td>0</td>\n",
       "      <td>0</td>\n",
       "      <td>1</td>\n",
       "      <td>1</td>\n",
       "      <td>1</td>\n",
       "      <td>125.20</td>\n",
       "      <td>40.0</td>\n",
       "      <td>2</td>\n",
       "      <td>0</td>\n",
       "    </tr>\n",
       "    <tr>\n",
       "      <th>4098</th>\n",
       "      <td>19723</td>\n",
       "      <td>0</td>\n",
       "      <td>35.0</td>\n",
       "      <td>0</td>\n",
       "      <td>0</td>\n",
       "      <td>1</td>\n",
       "      <td>1</td>\n",
       "      <td>0</td>\n",
       "      <td>82.99</td>\n",
       "      <td>30.6</td>\n",
       "      <td>2</td>\n",
       "      <td>0</td>\n",
       "    </tr>\n",
       "    <tr>\n",
       "      <th>4099</th>\n",
       "      <td>44679</td>\n",
       "      <td>0</td>\n",
       "      <td>44.0</td>\n",
       "      <td>0</td>\n",
       "      <td>0</td>\n",
       "      <td>1</td>\n",
       "      <td>3</td>\n",
       "      <td>1</td>\n",
       "      <td>85.28</td>\n",
       "      <td>26.2</td>\n",
       "      <td>0</td>\n",
       "      <td>0</td>\n",
       "    </tr>\n",
       "  </tbody>\n",
       "</table>\n",
       "<p>3936 rows × 12 columns</p>\n",
       "</div>"
      ],
      "text/plain": [
       "         HN  Education   age  hypertension  heart_disease  family history  \\\n",
       "0     11046          1  67.0             0              1               1   \n",
       "2     35112          1  80.0             0              1               1   \n",
       "3     67182          0  49.0             0              0               1   \n",
       "4      1665          0  79.0             1              0               1   \n",
       "5     66889          1  81.0             0              0               1   \n",
       "...     ...        ...   ...           ...            ...             ...   \n",
       "4095  68398          1  82.0             1              0               1   \n",
       "4096  14180          0  13.0             0              0               0   \n",
       "4097  44873          0  81.0             0              0               1   \n",
       "4098  19723          0  35.0             0              0               1   \n",
       "4099  44679          0  44.0             0              0               1   \n",
       "\n",
       "      Occupation  Triglycerides  Blood Sugar   BMI  smoking_status  alzheimer  \n",
       "0              4              1       228.69  36.6               1          1  \n",
       "2              4              0       105.92  32.5               2          1  \n",
       "3              4              1       171.23  34.4               3          1  \n",
       "4              1              0       174.12  24.0               2          1  \n",
       "5              4              1       186.21  29.0               1          1  \n",
       "...          ...            ...          ...   ...             ...        ...  \n",
       "4095           1              0        71.97  28.3               2          0  \n",
       "4096           0              0       103.08  18.6               0          0  \n",
       "4097           1              1       125.20  40.0               2          0  \n",
       "4098           1              0        82.99  30.6               2          0  \n",
       "4099           3              1        85.28  26.2               0          0  \n",
       "\n",
       "[3936 rows x 12 columns]"
      ]
     },
     "execution_count": 23,
     "metadata": {},
     "output_type": "execute_result"
    }
   ],
   "source": [
    "dataSet"
   ]
  },
  {
   "cell_type": "markdown",
   "id": "c1d11e3f",
   "metadata": {},
   "source": [
    "### SMOTE (Synthetic Minority Over-sampling Technique): วิธีการที่ใช้การสร้างตัวอย่างสัญญาณเทียบเท่าจากคลาสน้อยโดยการผสมคุณลักษณะของตัวอย่างในคลาสน้อย"
   ]
  },
  {
   "cell_type": "code",
   "execution_count": null,
   "id": "f607ea9b",
   "metadata": {},
   "outputs": [],
   "source": [
    "from imblearn.over_sampling import SMOTE"
   ]
  },
  {
   "cell_type": "code",
   "execution_count": null,
   "id": "d306302d",
   "metadata": {},
   "outputs": [],
   "source": [
    "X = dataSet.drop('alzheimer', axis=1)\n",
    "y = dataSet['alzheimer']\n",
    "\n",
    "# สร้างตัวกำหนด SMOTE\n",
    "smote = SMOTE(sampling_strategy='auto', random_state=42)  # 'auto' จะทำให้คลาสน้อยมีจำนวนเทียบเท่าคลาสมาก\n",
    "\n",
    "# ทำ SMOTE\n",
    "X_resampled, y_resampled = smote.fit_resample(X, y)\n",
    "\n",
    "# แสดง Dataframe หลังจากทำ SMOTE\n",
    "resampled_df = pd.concat([X_resampled, y_resampled], axis=1)\n",
    "resampled_df"
   ]
  },
  {
   "cell_type": "markdown",
   "id": "46c2ce40",
   "metadata": {},
   "source": [
    "# MARK: แบ่งข้อมูล"
   ]
  },
  {
   "cell_type": "code",
   "execution_count": null,
   "id": "ce62f09b",
   "metadata": {},
   "outputs": [],
   "source": [
    "from sklearn.model_selection import train_test_split\n",
    "from sklearn.metrics import accuracy_score, classification_report\n",
    "from sklearn import tree\n",
    "from sklearn.tree import plot_tree\n",
    "import matplotlib.pyplot as plt"
   ]
  },
  {
   "cell_type": "markdown",
   "id": "4a32e9a5",
   "metadata": {},
   "source": [
    "### MARK: train_test_split"
   ]
  },
  {
   "cell_type": "code",
   "execution_count": null,
   "id": "dde3185a",
   "metadata": {},
   "outputs": [],
   "source": [
    "X = resampled_df.drop('alzheimer', axis=1)\n",
    "y = resampled_df[\"alzheimer\"]\n",
    "X_train, X_test, y_train, y_test = train_test_split(X, y, test_size=0.3, random_state=42)\n",
    "# random_state 42 เพื่อข้อมูลเหมือนกันทุกครั้ง"
   ]
  },
  {
   "cell_type": "code",
   "execution_count": null,
   "id": "b3f20a1d",
   "metadata": {},
   "outputs": [],
   "source": [
    "# ลองใช้ Class target เท่ากัน ดู\n",
    "# dataSetSendModel = dataSet.loc[:(len(dataSet.loc[dataSet[\"alzheimer\"] == 1, \"alzheimer\"])-1)*2]\n",
    "# X = dataSet.drop('alzheimer', axis=1)\n",
    "# y = dataSet[\"alzheimer\"]\n",
    "# X_train, X_test, y_train, y_test = train_test_split(X, y, test_size=0.3, random_state=42)"
   ]
  },
  {
   "cell_type": "code",
   "execution_count": null,
   "id": "c24d7ffa",
   "metadata": {},
   "outputs": [],
   "source": [
    "X_train.head()"
   ]
  },
  {
   "cell_type": "code",
   "execution_count": null,
   "id": "9ffa593a",
   "metadata": {},
   "outputs": [],
   "source": [
    "X_train.info()"
   ]
  },
  {
   "cell_type": "code",
   "execution_count": null,
   "id": "c29bfd03",
   "metadata": {
    "scrolled": true
   },
   "outputs": [],
   "source": [
    "y_train.info()"
   ]
  },
  {
   "cell_type": "markdown",
   "id": "359ccd13",
   "metadata": {},
   "source": [
    "# Model 1 Decision tree"
   ]
  },
  {
   "cell_type": "markdown",
   "id": "1a66e3bf",
   "metadata": {},
   "source": [
    "### MARK: Decision tree model Start"
   ]
  },
  {
   "cell_type": "code",
   "execution_count": null,
   "id": "ad1d722f",
   "metadata": {},
   "outputs": [],
   "source": [
    "clfModel = tree.DecisionTreeClassifier(criterion=\"gini\",class_weight='balanced',random_state=42)"
   ]
  },
  {
   "cell_type": "code",
   "execution_count": null,
   "id": "12a9edee",
   "metadata": {},
   "outputs": [],
   "source": [
    "clfModel.fit(X_train, y_train)"
   ]
  },
  {
   "cell_type": "code",
   "execution_count": null,
   "id": "57f6e95c",
   "metadata": {},
   "outputs": [],
   "source": [
    "# feature ที่มีความสำคัญ\n",
    "fImportances = pd.Series(clfModel.feature_importances_, index=X_train.columns).sort_values(ascending=False)\n",
    "fImportances"
   ]
  },
  {
   "cell_type": "code",
   "execution_count": null,
   "id": "0be857ac",
   "metadata": {},
   "outputs": [],
   "source": [
    "print(\"ตัวอย่างข้อมูลชุดเรียนรู้ ->\",clfModel.score(X_train,y_train))\n",
    "# อันเดียวกัน\n",
    "# y_train_pred = clf.predict(X_train)\n",
    "# accuracy_score(y_train, y_train_pred)"
   ]
  },
  {
   "cell_type": "markdown",
   "id": "e0b26c2a",
   "metadata": {},
   "source": [
    "### MARK: Visualize Decision Tree"
   ]
  },
  {
   "cell_type": "code",
   "execution_count": null,
   "id": "47f9090a",
   "metadata": {},
   "outputs": [],
   "source": [
    "plt.figure(figsize=(12, 6))\n",
    "tree.plot_tree(clfModel.fit(X_train, y_train))\n",
    "plt.show()"
   ]
  },
  {
   "cell_type": "markdown",
   "id": "6df0e73b",
   "metadata": {},
   "source": [
    "### MARK: Predict and Score Model"
   ]
  },
  {
   "cell_type": "code",
   "execution_count": null,
   "id": "f6150903",
   "metadata": {},
   "outputs": [],
   "source": [
    "y_pred = clfModel.predict(X_test)\n",
    "print(\"ตัวอย่างข้อมูลชุดทดสอบ ->\",accuracy_score(y_test, y_pred))"
   ]
  },
  {
   "cell_type": "code",
   "execution_count": null,
   "id": "5ab2d62c",
   "metadata": {},
   "outputs": [],
   "source": [
    "pd.crosstab(y_test, y_pred)"
   ]
  },
  {
   "cell_type": "code",
   "execution_count": null,
   "id": "8cd7250d",
   "metadata": {},
   "outputs": [],
   "source": [
    "print(\"Classification Report:\\n\", classification_report(y_test, y_pred))"
   ]
  },
  {
   "cell_type": "markdown",
   "id": "de14b596",
   "metadata": {},
   "source": [
    "### MARK: feature_importances"
   ]
  },
  {
   "cell_type": "code",
   "execution_count": null,
   "id": "5bd4d476",
   "metadata": {},
   "outputs": [],
   "source": [
    "np.array([X.columns.values.tolist(), list(clfModel.feature_importances_)]).T"
   ]
  },
  {
   "cell_type": "code",
   "execution_count": null,
   "id": "c1318803",
   "metadata": {},
   "outputs": [],
   "source": [
    "feature_names = X.columns.values.tolist()\n",
    "importances = clfModel.feature_importances_\n",
    "indices = np.argsort(importances)[::-1]"
   ]
  },
  {
   "cell_type": "code",
   "execution_count": null,
   "id": "9c1ac5f6",
   "metadata": {},
   "outputs": [],
   "source": [
    "plt.figure(figsize=(10, 6))\n",
    "plt.bar(range(X.shape[1]), importances[indices], align=\"center\")\n",
    "plt.xticks(range(X.shape[1]), [feature_names[i] for i in indices], rotation=90)\n",
    "plt.xlabel(\"Feature_names\")\n",
    "plt.ylabel(\"Importances\")\n",
    "plt.title(\"Feature importances\")\n",
    "plt.show()"
   ]
  },
  {
   "cell_type": "markdown",
   "id": "87b97f54",
   "metadata": {},
   "source": [
    "### MARK: ลอง Puring + เลือก Feature importances 4 อันดับแรก เข้า model"
   ]
  },
  {
   "cell_type": "code",
   "execution_count": null,
   "id": "88f21127",
   "metadata": {},
   "outputs": [],
   "source": [
    "from sklearn.model_selection import cross_val_score"
   ]
  },
  {
   "cell_type": "code",
   "execution_count": null,
   "id": "6ae9cb78",
   "metadata": {},
   "outputs": [],
   "source": [
    "feature_importances_Select = ['age', 'HN', 'Blood Sugar', 'BMI']"
   ]
  },
  {
   "cell_type": "code",
   "execution_count": null,
   "id": "a4688164",
   "metadata": {},
   "outputs": [],
   "source": [
    "X_feature_importances = resampled_df[feature_importances_Select]\n",
    "y_feature_importances = y\n",
    "X_trainIm, X_testIm, y_trainIm, y_testIm = train_test_split(X_feature_importances, y_feature_importances, test_size=0.3, random_state=42)"
   ]
  },
  {
   "cell_type": "code",
   "execution_count": null,
   "id": "72620d8f",
   "metadata": {},
   "outputs": [],
   "source": [
    "best_score = 0\n",
    "\n",
    "for md in range(1, 10): # iterate different maximum depth values\n",
    "    # train the model\n",
    "    treeModel = tree.DecisionTreeClassifier(criterion=\"gini\",class_weight='balanced', max_depth=md)\n",
    "    # perform cross-validation\n",
    "    scores = cross_val_score(treeModel, X_trainIm, y_trainIm, cv=10, scoring='accuracy')\n",
    "   \n",
    "    # compute mean cross-validation accuracy\n",
    "    score = np.mean(scores)\n",
    "    print(\"cross_val_score ->\",score)\n",
    "    \n",
    "    # if we got a better score, store the score and parameters\n",
    "    if score > best_score:\n",
    "        best_score = score\n",
    "        best_parameter = md"
   ]
  },
  {
   "cell_type": "markdown",
   "id": "3cc70549",
   "metadata": {},
   "source": [
    "### MARK: Select Feature importances Top 4"
   ]
  },
  {
   "cell_type": "code",
   "execution_count": null,
   "id": "5cb3f386",
   "metadata": {},
   "outputs": [],
   "source": [
    "clfModel_Im = tree.DecisionTreeClassifier(criterion=\"gini\",class_weight='balanced', random_state=42)"
   ]
  },
  {
   "cell_type": "code",
   "execution_count": null,
   "id": "8d2b3f0d",
   "metadata": {},
   "outputs": [],
   "source": [
    "clfModel_Im.fit(X_trainIm, y_trainIm)"
   ]
  },
  {
   "cell_type": "code",
   "execution_count": null,
   "id": "41397dc0",
   "metadata": {},
   "outputs": [],
   "source": [
    "print(\"ตัวอย่างข้อมูลชุดเรียนรู้ ->\",clfModel_Im.score(X_trainIm,y_trainIm))"
   ]
  },
  {
   "cell_type": "code",
   "execution_count": null,
   "id": "0bdc2023",
   "metadata": {},
   "outputs": [],
   "source": [
    "plt.figure(figsize=(12, 6))\n",
    "tree.plot_tree(clfModel_Im.fit(X_trainIm, y_trainIm))\n",
    "plt.show()"
   ]
  },
  {
   "cell_type": "code",
   "execution_count": null,
   "id": "5ce23a49",
   "metadata": {},
   "outputs": [],
   "source": [
    "y_predIm = clfModel_Im.predict(X_testIm)\n",
    "print(\"ตัวอย่างข้อมูลทดสอบ ->\",accuracy_score(y_testIm, y_predIm))"
   ]
  },
  {
   "cell_type": "code",
   "execution_count": null,
   "id": "82067020",
   "metadata": {},
   "outputs": [],
   "source": [
    "pd.crosstab(y_testIm, y_predIm)"
   ]
  },
  {
   "cell_type": "code",
   "execution_count": null,
   "id": "313b04c6",
   "metadata": {
    "scrolled": true
   },
   "outputs": [],
   "source": [
    "print(\"Classification Report:\\n\", classification_report(y_testIm, y_predIm))"
   ]
  },
  {
   "cell_type": "markdown",
   "id": "56ca3094",
   "metadata": {},
   "source": [
    "### MARK: Select Feature + max_depth = best_parameter"
   ]
  },
  {
   "cell_type": "code",
   "execution_count": null,
   "id": "d0f66c39",
   "metadata": {},
   "outputs": [],
   "source": [
    "print(\"best_parameter max_depth -> \",best_parameter)"
   ]
  },
  {
   "cell_type": "code",
   "execution_count": null,
   "id": "1a42dc61",
   "metadata": {},
   "outputs": [],
   "source": [
    "clfModel_Im = tree.DecisionTreeClassifier(criterion=\"gini\",class_weight='balanced', max_depth=best_parameter, random_state=42)"
   ]
  },
  {
   "cell_type": "code",
   "execution_count": null,
   "id": "f54a9890",
   "metadata": {},
   "outputs": [],
   "source": [
    "clfModel_Im.fit(X_trainIm, y_trainIm)"
   ]
  },
  {
   "cell_type": "code",
   "execution_count": null,
   "id": "9b198be2",
   "metadata": {},
   "outputs": [],
   "source": [
    "print(\"ตัวอย่างข้อมูลชุดเรียนรู้ ->\",clfModel_Im.score(X_trainIm,y_trainIm))"
   ]
  },
  {
   "cell_type": "code",
   "execution_count": null,
   "id": "0a0f6446",
   "metadata": {},
   "outputs": [],
   "source": [
    "plt.figure(figsize=(12, 6))\n",
    "tree.plot_tree(clfModel_Im.fit(X_trainIm, y_trainIm))\n",
    "plt.show()"
   ]
  },
  {
   "cell_type": "code",
   "execution_count": null,
   "id": "003f25f4",
   "metadata": {},
   "outputs": [],
   "source": [
    "y_predIm = clfModel_Im.predict(X_testIm)\n",
    "print(\"ตัวอย่างข้อมูลทดสอบ ->\",accuracy_score(y_testIm, y_predIm))"
   ]
  },
  {
   "cell_type": "code",
   "execution_count": null,
   "id": "0f4dbc97",
   "metadata": {},
   "outputs": [],
   "source": [
    "pd.crosstab(y_testIm, y_predIm)"
   ]
  },
  {
   "cell_type": "code",
   "execution_count": null,
   "id": "35abf6c0",
   "metadata": {
    "scrolled": true
   },
   "outputs": [],
   "source": [
    "print(\"Classification Report:\\n\", classification_report(y_testIm, y_predIm))"
   ]
  },
  {
   "cell_type": "markdown",
   "id": "d9a74950",
   "metadata": {},
   "source": [
    "# Model 2 K nearest neighbors"
   ]
  },
  {
   "cell_type": "code",
   "execution_count": null,
   "id": "ffc88fd4",
   "metadata": {},
   "outputs": [],
   "source": [
    "from sklearn.neighbors import KNeighborsClassifier\n",
    "from sklearn.preprocessing import StandardScaler"
   ]
  },
  {
   "cell_type": "code",
   "execution_count": null,
   "id": "1f5a2114",
   "metadata": {},
   "outputs": [],
   "source": [
    "k_values = [1, 3, 5, 7, 9, 11, 13, 15]"
   ]
  },
  {
   "cell_type": "code",
   "execution_count": null,
   "id": "6d7bf8a1",
   "metadata": {},
   "outputs": [],
   "source": [
    "accuracy_scores = []"
   ]
  },
  {
   "cell_type": "markdown",
   "id": "89532703",
   "metadata": {},
   "source": [
    "### หา K ที่มีค่า accuracy ดีที่สุด"
   ]
  },
  {
   "cell_type": "code",
   "execution_count": null,
   "id": "c7701998",
   "metadata": {},
   "outputs": [],
   "source": [
    "for k in k_values:\n",
    "    # สร้างโมเดล K-Nearest Neighbors ด้วยค่า K ปัจจุบัน\n",
    "    knn = KNeighborsClassifier(n_neighbors=k)\n",
    "    \n",
    "    # ทำการ Cross-validation และประเมินความถูกต้อง\n",
    "    scores = cross_val_score(knn, X, y, cv=10) \n",
    "    accuracy = np.mean(scores)\n",
    "    print(\"k\",k,\"->\",accuracy)\n",
    "    \n",
    "    # เพิ่มค่าความถูกต้องลงในรายการ\n",
    "    accuracy_scores.append(accuracy)"
   ]
  },
  {
   "cell_type": "code",
   "execution_count": null,
   "id": "68924608",
   "metadata": {},
   "outputs": [],
   "source": [
    "best_k = k_values[np.argmax(accuracy_scores)]\n",
    "best_accuracy = max(accuracy_scores)\n",
    "print(f\"ค่า K ที่ดีที่สุดคือ {best_k} ด้วยความถูกต้อง {best_accuracy:.2f}\")"
   ]
  },
  {
   "cell_type": "markdown",
   "id": "9fbde091",
   "metadata": {},
   "source": [
    "### MARK: ปรับ Scale"
   ]
  },
  {
   "cell_type": "code",
   "execution_count": null,
   "id": "4476d7e8",
   "metadata": {},
   "outputs": [],
   "source": [
    "scaler = StandardScaler()"
   ]
  },
  {
   "cell_type": "code",
   "execution_count": null,
   "id": "e9cf06b2",
   "metadata": {},
   "outputs": [],
   "source": [
    "X_train = scaler.fit_transform(X_train)\n",
    "X_test = scaler.fit_transform(X_test)"
   ]
  },
  {
   "cell_type": "markdown",
   "id": "c557cfb8",
   "metadata": {},
   "source": [
    "### MARK: KNN Start"
   ]
  },
  {
   "cell_type": "code",
   "execution_count": null,
   "id": "f37c0a8a",
   "metadata": {},
   "outputs": [],
   "source": [
    "knn = KNeighborsClassifier(n_neighbors=best_k) "
   ]
  },
  {
   "cell_type": "code",
   "execution_count": null,
   "id": "841099bb",
   "metadata": {},
   "outputs": [],
   "source": [
    "knn.get_params()"
   ]
  },
  {
   "cell_type": "code",
   "execution_count": null,
   "id": "24c87a40",
   "metadata": {},
   "outputs": [],
   "source": [
    "knn.fit(X_train, y_train)"
   ]
  },
  {
   "cell_type": "code",
   "execution_count": null,
   "id": "6b7a8526",
   "metadata": {},
   "outputs": [],
   "source": [
    "print(\"ตัวอย่างข้อมูลเรียนรู้ ->\",knn.score(X_train,y_train))"
   ]
  },
  {
   "cell_type": "markdown",
   "id": "6a0d9532",
   "metadata": {},
   "source": [
    "### MARK: Predict and Score Model"
   ]
  },
  {
   "cell_type": "code",
   "execution_count": null,
   "id": "59c2e7df",
   "metadata": {},
   "outputs": [],
   "source": [
    "y_pred = knn.predict(X_test) \n",
    "print(\"ตัวอย่างข้อมูลชุดทดสอบ ->\",accuracy_score(y_test, y_pred))"
   ]
  },
  {
   "cell_type": "code",
   "execution_count": null,
   "id": "7f12a329",
   "metadata": {
    "scrolled": false
   },
   "outputs": [],
   "source": [
    "print(\"Classification Report:\\n\", classification_report(y_test, y_pred))"
   ]
  },
  {
   "cell_type": "markdown",
   "id": "ee2f2309",
   "metadata": {},
   "source": [
    "### MARK: เลือก Feature importances 4 อันดับแรก เข้า model"
   ]
  },
  {
   "cell_type": "code",
   "execution_count": null,
   "id": "de980a00",
   "metadata": {},
   "outputs": [],
   "source": [
    "X_trainIm = scaler.fit_transform(X_trainIm)\n",
    "X_testIm = scaler.fit_transform(X_testIm)"
   ]
  },
  {
   "cell_type": "code",
   "execution_count": null,
   "id": "92f53096",
   "metadata": {},
   "outputs": [],
   "source": [
    "knn.fit(X_trainIm, y_trainIm)\n",
    "print(\"ตัวอย่างข้อมูลชุดเรียนรู้ ->\",knn.score(X_trainIm,y_trainIm))"
   ]
  },
  {
   "cell_type": "code",
   "execution_count": null,
   "id": "5e24d269",
   "metadata": {},
   "outputs": [],
   "source": [
    "y_predIm = knn.predict(X_testIm)\n",
    "print(\"ตัวอย่างข้อมูลทดสอบ ->\",accuracy_score(y_testIm, y_predIm))"
   ]
  },
  {
   "cell_type": "code",
   "execution_count": null,
   "id": "8032fd6d",
   "metadata": {},
   "outputs": [],
   "source": [
    "print(\"Classification Report:\\n\", classification_report(y_testIm, y_predIm))"
   ]
  },
  {
   "cell_type": "markdown",
   "id": "36849577",
   "metadata": {},
   "source": [
    "# Model 3 Neural Network"
   ]
  },
  {
   "cell_type": "code",
   "execution_count": null,
   "id": "d831a7aa",
   "metadata": {},
   "outputs": [],
   "source": [
    "from sklearn.neural_network import MLPClassifier"
   ]
  },
  {
   "cell_type": "markdown",
   "id": "da33d64b",
   "metadata": {},
   "source": [
    "### MARK: Neural Network Start"
   ]
  },
  {
   "cell_type": "code",
   "execution_count": null,
   "id": "d1e7ad6b",
   "metadata": {},
   "outputs": [],
   "source": [
    "nnClf = MLPClassifier(hidden_layer_sizes=(64, 32), max_iter=1000, random_state=42)"
   ]
  },
  {
   "cell_type": "code",
   "execution_count": null,
   "id": "21099d11",
   "metadata": {},
   "outputs": [],
   "source": [
    "nnClf.get_params()"
   ]
  },
  {
   "cell_type": "code",
   "execution_count": null,
   "id": "419808b1",
   "metadata": {},
   "outputs": [],
   "source": [
    "nnClf.fit(X_train,y_train)\n",
    "print(\"ตัวอย่างข้อมูลชุดทดสอบ ->\",nnClf.score(X_train,y_train))"
   ]
  },
  {
   "cell_type": "markdown",
   "id": "cd4e50f4",
   "metadata": {},
   "source": [
    "### MARK: Predict and Score Model"
   ]
  },
  {
   "cell_type": "code",
   "execution_count": null,
   "id": "83d08d6a",
   "metadata": {},
   "outputs": [],
   "source": [
    "y_pred = nnClf.predict(X_test) \n",
    "print(\"ตัวอย่างข้อมูลชุดทดสอบ ->\",accuracy_score(y_test, y_pred))"
   ]
  },
  {
   "cell_type": "code",
   "execution_count": null,
   "id": "ececdd50",
   "metadata": {},
   "outputs": [],
   "source": [
    "# print(\"Classification Report:\\n\", classification_report(y_test, y_pred))\n",
    "report = classification_report(y_test, y_pred)\n",
    "print(report)"
   ]
  },
  {
   "cell_type": "markdown",
   "id": "c15b7834",
   "metadata": {},
   "source": [
    "### MARK: เลือก Feature importances 4 อันดับแรก เข้า model"
   ]
  },
  {
   "cell_type": "code",
   "execution_count": null,
   "id": "7c713d56",
   "metadata": {},
   "outputs": [],
   "source": [
    "nnClf.fit(X_trainIm, y_trainIm)\n",
    "print(\"ตัวอย่างข้อมูลชุดเรียนรู้ ->\",nnClf.score(X_trainIm,y_trainIm))"
   ]
  },
  {
   "cell_type": "code",
   "execution_count": null,
   "id": "3dc56916",
   "metadata": {},
   "outputs": [],
   "source": [
    "y_predIm = nnClf.predict(X_testIm)\n",
    "print(\"ตัวอย่างข้อมูลทดสอบ ->\",accuracy_score(y_testIm, y_predIm))"
   ]
  },
  {
   "cell_type": "code",
   "execution_count": null,
   "id": "883116a8",
   "metadata": {},
   "outputs": [],
   "source": [
    "print(\"Classification Report:\\n\", classification_report(y_testIm, y_predIm))"
   ]
  }
 ],
 "metadata": {
  "kernelspec": {
   "display_name": "Python 3 (ipykernel)",
   "language": "python",
   "name": "python3"
  },
  "language_info": {
   "codemirror_mode": {
    "name": "ipython",
    "version": 3
   },
   "file_extension": ".py",
   "mimetype": "text/x-python",
   "name": "python",
   "nbconvert_exporter": "python",
   "pygments_lexer": "ipython3",
   "version": "3.11.4"
  },
  "varInspector": {
   "cols": {
    "lenName": 16,
    "lenType": 16,
    "lenVar": 40
   },
   "kernels_config": {
    "python": {
     "delete_cmd_postfix": "",
     "delete_cmd_prefix": "del ",
     "library": "var_list.py",
     "varRefreshCmd": "print(var_dic_list())"
    },
    "r": {
     "delete_cmd_postfix": ") ",
     "delete_cmd_prefix": "rm(",
     "library": "var_list.r",
     "varRefreshCmd": "cat(var_dic_list()) "
    }
   },
   "types_to_exclude": [
    "module",
    "function",
    "builtin_function_or_method",
    "instance",
    "_Feature"
   ],
   "window_display": false
  }
 },
 "nbformat": 4,
 "nbformat_minor": 5
}
