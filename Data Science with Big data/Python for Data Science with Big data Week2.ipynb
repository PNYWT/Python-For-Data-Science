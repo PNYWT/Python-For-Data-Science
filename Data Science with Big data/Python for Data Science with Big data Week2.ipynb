{
 "cells": [
  {
   "cell_type": "markdown",
   "id": "b98c1677",
   "metadata": {},
   "source": [
    "# Introduction to Python\n",
    "\n",
    "## How to use Markdown\n",
    "\n",
    "**Mathematical symbols**<br>\n",
    "$ mathematical symbols $\n",
    "\n",
    "**Monospace font**<br>\n",
    "`string`\n",
    "\n",
    "**Indenting** <br>\n",
    "> Text that will be indented when the Markdown is rendered.\n",
    "\n",
    "**Bullets** <br>\n",
    "- Main bullet point\n",
    "     - Sub bullet point\n",
    "\n",
    "**Numbered lists** <br>\n",
    "1. Numbered item\n",
    "1. Numbered item\n",
    "1. Numbered item\n",
    "     1. Substep"
   ]
  },
  {
   "cell_type": "markdown",
   "id": "98757c70",
   "metadata": {},
   "source": [
    "# Start to Python Crash Course"
   ]
  },
  {
   "cell_type": "markdown",
   "id": "3ede6edd",
   "metadata": {},
   "source": [
    "### Basic Data Type\n",
    "- Integer\n",
    "- Float\n",
    "- String"
   ]
  },
  {
   "cell_type": "code",
   "execution_count": 47,
   "id": "7c003140",
   "metadata": {},
   "outputs": [
    {
     "data": {
      "text/plain": [
       "10"
      ]
     },
     "execution_count": 47,
     "metadata": {},
     "output_type": "execute_result"
    }
   ],
   "source": [
    "10"
   ]
  },
  {
   "cell_type": "code",
   "execution_count": 48,
   "id": "f82312bd",
   "metadata": {},
   "outputs": [
    {
     "data": {
      "text/plain": [
       "10.5"
      ]
     },
     "execution_count": 48,
     "metadata": {},
     "output_type": "execute_result"
    }
   ],
   "source": [
    "10.50"
   ]
  },
  {
   "cell_type": "code",
   "execution_count": 49,
   "id": "8dfe2d36",
   "metadata": {},
   "outputs": [
    {
     "data": {
      "text/plain": [
       "'Hello Python'"
      ]
     },
     "execution_count": 49,
     "metadata": {},
     "output_type": "execute_result"
    }
   ],
   "source": [
    "\"Hello Python\""
   ]
  },
  {
   "cell_type": "code",
   "execution_count": 50,
   "id": "8277d486",
   "metadata": {},
   "outputs": [
    {
     "data": {
      "text/plain": [
       "\"I'm Python\""
      ]
     },
     "execution_count": 50,
     "metadata": {},
     "output_type": "execute_result"
    }
   ],
   "source": [
    "\"I\\'m Python\""
   ]
  },
  {
   "cell_type": "code",
   "execution_count": 51,
   "id": "5a034e3c",
   "metadata": {},
   "outputs": [
    {
     "data": {
      "text/plain": [
       "\"My name is John, I'm 36\""
      ]
     },
     "execution_count": 51,
     "metadata": {},
     "output_type": "execute_result"
    }
   ],
   "source": [
    "\"My name is {}, I'm {}\".format(\"John\",36)"
   ]
  },
  {
   "cell_type": "markdown",
   "id": "d34b6ce1",
   "metadata": {},
   "source": [
    "## Operator Precedences (Calculate)"
   ]
  },
  {
   "cell_type": "code",
   "execution_count": 52,
   "id": "199f9f69",
   "metadata": {},
   "outputs": [
    {
     "data": {
      "text/plain": [
       "13.0"
      ]
     },
     "execution_count": 52,
     "metadata": {},
     "output_type": "execute_result"
    }
   ],
   "source": [
    "2+5*6/3+(7-2*3)"
   ]
  },
  {
   "cell_type": "code",
   "execution_count": 53,
   "id": "d706f982",
   "metadata": {},
   "outputs": [
    {
     "data": {
      "text/plain": [
       "256"
      ]
     },
     "execution_count": 53,
     "metadata": {},
     "output_type": "execute_result"
    }
   ],
   "source": [
    "# ** ยกกำลัง 2^(2^3)\n",
    "2**2**3"
   ]
  },
  {
   "cell_type": "markdown",
   "id": "038c800f",
   "metadata": {},
   "source": [
    "## Statement"
   ]
  },
  {
   "cell_type": "markdown",
   "id": "d02e7013",
   "metadata": {},
   "source": [
    "**Assignment (variable)**"
   ]
  },
  {
   "cell_type": "code",
   "execution_count": 54,
   "id": "91253c77",
   "metadata": {},
   "outputs": [],
   "source": [
    "x = 10+6"
   ]
  },
  {
   "cell_type": "code",
   "execution_count": 55,
   "id": "48a037be",
   "metadata": {},
   "outputs": [
    {
     "name": "stdout",
     "output_type": "stream",
     "text": [
      "16\n"
     ]
    }
   ],
   "source": [
    "print(x)"
   ]
  },
  {
   "cell_type": "code",
   "execution_count": 56,
   "id": "273a5337",
   "metadata": {},
   "outputs": [],
   "source": [
    "dic = {\"ABC\":\"I\\'m Dictionary\"}"
   ]
  },
  {
   "cell_type": "code",
   "execution_count": 57,
   "id": "e8fd512e",
   "metadata": {},
   "outputs": [
    {
     "data": {
      "text/plain": [
       "\"I'm Dictionary\""
      ]
     },
     "execution_count": 57,
     "metadata": {},
     "output_type": "execute_result"
    }
   ],
   "source": [
    "dic[\"ABC\"]"
   ]
  },
  {
   "cell_type": "code",
   "execution_count": 58,
   "id": "dfb6a6cf",
   "metadata": {},
   "outputs": [],
   "source": [
    "arr = [1,2,3,4]"
   ]
  },
  {
   "cell_type": "code",
   "execution_count": 59,
   "id": "be7619a6",
   "metadata": {},
   "outputs": [
    {
     "data": {
      "text/plain": [
       "[1, 2, 3, 4]"
      ]
     },
     "execution_count": 59,
     "metadata": {},
     "output_type": "execute_result"
    }
   ],
   "source": [
    "arr"
   ]
  },
  {
   "cell_type": "markdown",
   "id": "e6cbc896",
   "metadata": {},
   "source": [
    "## Convert Type"
   ]
  },
  {
   "cell_type": "code",
   "execution_count": 60,
   "id": "d2c7ccdf",
   "metadata": {},
   "outputs": [
    {
     "name": "stdout",
     "output_type": "stream",
     "text": [
      "<class 'int'>\n",
      "<class 'str'>\n",
      "<class 'float'>\n"
     ]
    }
   ],
   "source": [
    "a = 1\n",
    "print(type(a))\n",
    "a = str(a)\n",
    "print(type(a))\n",
    "a = float(a)\n",
    "print(type(a))"
   ]
  },
  {
   "cell_type": "markdown",
   "id": "7e3b28cf",
   "metadata": {},
   "source": [
    "## Input"
   ]
  },
  {
   "cell_type": "code",
   "execution_count": 2,
   "id": "117c6912",
   "metadata": {},
   "outputs": [
    {
     "name": "stdout",
     "output_type": "stream",
     "text": [
      "Enter length in inch320\n"
     ]
    },
    {
     "data": {
      "text/plain": [
       "\"It'is, 26, feet 8 inch\""
      ]
     },
     "execution_count": 2,
     "metadata": {},
     "output_type": "execute_result"
    }
   ],
   "source": [
    "x = int(input(\"Enter length in inch\"))\n",
    "xf = int(x/12)\n",
    "xi = x - xf*12\n",
    "\"It'is, {}, feet {} inch\".format(xf,xi)"
   ]
  },
  {
   "cell_type": "code",
   "execution_count": null,
   "id": "2fa1c2bf",
   "metadata": {},
   "outputs": [],
   "source": [
    "## Module Math"
   ]
  },
  {
   "cell_type": "code",
   "execution_count": 2,
   "id": "6adb69da",
   "metadata": {},
   "outputs": [
    {
     "name": "stdout",
     "output_type": "stream",
     "text": [
      "Enter r : 10\n",
      "Enter h : 20\n"
     ]
    },
    {
     "data": {
      "text/plain": [
       "'Volume = 6283.185307179587'"
      ]
     },
     "execution_count": 2,
     "metadata": {},
     "output_type": "execute_result"
    }
   ],
   "source": [
    "import math\n",
    "r = float(input(\"Enter r : \"))\n",
    "h = float(input(\"Enter h : \"))\n",
    "\"Volume = {}\".format(math.pi*r*r*h)"
   ]
  },
  {
   "cell_type": "markdown",
   "id": "a0bd220b",
   "metadata": {},
   "source": [
    "# Python ControlFlow"
   ]
  },
  {
   "cell_type": "markdown",
   "id": "f08c25a1",
   "metadata": {},
   "source": [
    "## Boolean"
   ]
  },
  {
   "cell_type": "code",
   "execution_count": 9,
   "id": "f01f9f9f",
   "metadata": {},
   "outputs": [],
   "source": [
    "# True False เป็น Constants ต่างกับ true false"
   ]
  },
  {
   "cell_type": "code",
   "execution_count": 10,
   "id": "0ad869e8",
   "metadata": {},
   "outputs": [
    {
     "data": {
      "text/plain": [
       "False"
      ]
     },
     "execution_count": 10,
     "metadata": {},
     "output_type": "execute_result"
    }
   ],
   "source": [
    "a = 2\n",
    "b = 4\n",
    "a > b"
   ]
  },
  {
   "cell_type": "markdown",
   "id": "bea92261",
   "metadata": {},
   "source": [
    "## If statement"
   ]
  },
  {
   "cell_type": "code",
   "execution_count": 17,
   "id": "6a6adfe3",
   "metadata": {},
   "outputs": [
    {
     "name": "stdout",
     "output_type": "stream",
     "text": [
      "Input height : 140\n",
      "Free kids\n",
      "price = 0\n"
     ]
    }
   ],
   "source": [
    "height = input(\"Input height : \")\n",
    "price = 40\n",
    "if int(height) <= 140:\n",
    "    print(\"Free kids\")\n",
    "    price = 0\n",
    "print(\"price =\",price)"
   ]
  },
  {
   "cell_type": "code",
   "execution_count": null,
   "id": "c54c39f2",
   "metadata": {},
   "outputs": [],
   "source": []
  }
 ],
 "metadata": {
  "kernelspec": {
   "display_name": "Python 3 (ipykernel)",
   "language": "python",
   "name": "python3"
  },
  "language_info": {
   "codemirror_mode": {
    "name": "ipython",
    "version": 3
   },
   "file_extension": ".py",
   "mimetype": "text/x-python",
   "name": "python",
   "nbconvert_exporter": "python",
   "pygments_lexer": "ipython3",
   "version": "3.10.9"
  }
 },
 "nbformat": 4,
 "nbformat_minor": 5
}
