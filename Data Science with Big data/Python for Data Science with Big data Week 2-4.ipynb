{
 "cells": [
  {
   "cell_type": "markdown",
   "id": "b98c1677",
   "metadata": {},
   "source": [
    "# Introduction to Python\n",
    "\n",
    "## How to use Markdown\n",
    "\n",
    "**Mathematical symbols**<br>\n",
    "$ mathematical symbols $\n",
    "\n",
    "**Monospace font**<br>\n",
    "`string`\n",
    "\n",
    "**Indenting** <br>\n",
    "> Text that will be indented when the Markdown is rendered.\n",
    "\n",
    "**Bullets** <br>\n",
    "- Main bullet point\n",
    "     - Sub bullet point\n",
    "\n",
    "**Numbered lists** <br>\n",
    "1. Numbered item\n",
    "1. Numbered item\n",
    "1. Numbered item\n",
    "     1. Substep"
   ]
  },
  {
   "cell_type": "markdown",
   "id": "98757c70",
   "metadata": {},
   "source": [
    "# Start to Python Crash Course"
   ]
  },
  {
   "cell_type": "markdown",
   "id": "3ede6edd",
   "metadata": {},
   "source": [
    "### Basic Data Type\n",
    "- Integer\n",
    "- Float\n",
    "- String"
   ]
  },
  {
   "cell_type": "code",
   "execution_count": 134,
   "id": "7c003140",
   "metadata": {},
   "outputs": [
    {
     "data": {
      "text/plain": [
       "10"
      ]
     },
     "execution_count": 134,
     "metadata": {},
     "output_type": "execute_result"
    }
   ],
   "source": [
    "10"
   ]
  },
  {
   "cell_type": "code",
   "execution_count": 135,
   "id": "f82312bd",
   "metadata": {},
   "outputs": [
    {
     "data": {
      "text/plain": [
       "10.5"
      ]
     },
     "execution_count": 135,
     "metadata": {},
     "output_type": "execute_result"
    }
   ],
   "source": [
    "10.50"
   ]
  },
  {
   "cell_type": "code",
   "execution_count": 136,
   "id": "8dfe2d36",
   "metadata": {},
   "outputs": [
    {
     "data": {
      "text/plain": [
       "'Hello Python'"
      ]
     },
     "execution_count": 136,
     "metadata": {},
     "output_type": "execute_result"
    }
   ],
   "source": [
    "\"Hello Python\""
   ]
  },
  {
   "cell_type": "code",
   "execution_count": 137,
   "id": "8277d486",
   "metadata": {},
   "outputs": [
    {
     "data": {
      "text/plain": [
       "\"I'm Python\""
      ]
     },
     "execution_count": 137,
     "metadata": {},
     "output_type": "execute_result"
    }
   ],
   "source": [
    "\"I\\'m Python\""
   ]
  },
  {
   "cell_type": "code",
   "execution_count": 138,
   "id": "5a034e3c",
   "metadata": {},
   "outputs": [
    {
     "data": {
      "text/plain": [
       "\"My name is John, I'm 36\""
      ]
     },
     "execution_count": 138,
     "metadata": {},
     "output_type": "execute_result"
    }
   ],
   "source": [
    "\"My name is {}, I'm {}\".format(\"John\",36)"
   ]
  },
  {
   "cell_type": "markdown",
   "id": "d34b6ce1",
   "metadata": {},
   "source": [
    "## Operator Precedences (Calculate)"
   ]
  },
  {
   "cell_type": "code",
   "execution_count": 139,
   "id": "199f9f69",
   "metadata": {},
   "outputs": [
    {
     "data": {
      "text/plain": [
       "13.0"
      ]
     },
     "execution_count": 139,
     "metadata": {},
     "output_type": "execute_result"
    }
   ],
   "source": [
    "2+5*6/3+(7-2*3)"
   ]
  },
  {
   "cell_type": "code",
   "execution_count": 140,
   "id": "d706f982",
   "metadata": {},
   "outputs": [
    {
     "data": {
      "text/plain": [
       "256"
      ]
     },
     "execution_count": 140,
     "metadata": {},
     "output_type": "execute_result"
    }
   ],
   "source": [
    "# ** ยกกำลัง 2^(2^3)\n",
    "2**2**3"
   ]
  },
  {
   "cell_type": "markdown",
   "id": "038c800f",
   "metadata": {},
   "source": [
    "## Statement"
   ]
  },
  {
   "cell_type": "markdown",
   "id": "d02e7013",
   "metadata": {},
   "source": [
    "**Assignment (variable)**"
   ]
  },
  {
   "cell_type": "code",
   "execution_count": 141,
   "id": "91253c77",
   "metadata": {},
   "outputs": [],
   "source": [
    "x = 10+6"
   ]
  },
  {
   "cell_type": "code",
   "execution_count": 142,
   "id": "48a037be",
   "metadata": {},
   "outputs": [
    {
     "name": "stdout",
     "output_type": "stream",
     "text": [
      "16\n"
     ]
    }
   ],
   "source": [
    "print(x)"
   ]
  },
  {
   "cell_type": "code",
   "execution_count": 143,
   "id": "273a5337",
   "metadata": {},
   "outputs": [],
   "source": [
    "dic = {\"ABC\":\"I\\'m Dictionary\"}"
   ]
  },
  {
   "cell_type": "code",
   "execution_count": 144,
   "id": "e8fd512e",
   "metadata": {},
   "outputs": [
    {
     "data": {
      "text/plain": [
       "\"I'm Dictionary\""
      ]
     },
     "execution_count": 144,
     "metadata": {},
     "output_type": "execute_result"
    }
   ],
   "source": [
    "dic[\"ABC\"]"
   ]
  },
  {
   "cell_type": "code",
   "execution_count": 145,
   "id": "dfb6a6cf",
   "metadata": {},
   "outputs": [],
   "source": [
    "arr = [1,2,3,4]"
   ]
  },
  {
   "cell_type": "code",
   "execution_count": 146,
   "id": "be7619a6",
   "metadata": {},
   "outputs": [
    {
     "data": {
      "text/plain": [
       "[1, 2, 3, 4]"
      ]
     },
     "execution_count": 146,
     "metadata": {},
     "output_type": "execute_result"
    }
   ],
   "source": [
    "arr"
   ]
  },
  {
   "cell_type": "markdown",
   "id": "e6cbc896",
   "metadata": {},
   "source": [
    "## Convert Type"
   ]
  },
  {
   "cell_type": "code",
   "execution_count": 147,
   "id": "d2c7ccdf",
   "metadata": {},
   "outputs": [
    {
     "name": "stdout",
     "output_type": "stream",
     "text": [
      "<class 'int'>\n",
      "<class 'str'>\n",
      "<class 'float'>\n"
     ]
    }
   ],
   "source": [
    "a = 1\n",
    "print(type(a))\n",
    "a = str(a)\n",
    "print(type(a))\n",
    "a = float(a)\n",
    "print(type(a))"
   ]
  },
  {
   "cell_type": "markdown",
   "id": "7e3b28cf",
   "metadata": {},
   "source": [
    "## Input\n",
    "this is user input interface"
   ]
  },
  {
   "cell_type": "code",
   "execution_count": 148,
   "id": "117c6912",
   "metadata": {},
   "outputs": [
    {
     "name": "stdout",
     "output_type": "stream",
     "text": [
      "Enter length in inch14\n"
     ]
    },
    {
     "data": {
      "text/plain": [
       "\"It'is, 1, feet 2 inch\""
      ]
     },
     "execution_count": 148,
     "metadata": {},
     "output_type": "execute_result"
    }
   ],
   "source": [
    "x = int(input(\"Enter length in inch\"))\n",
    "xf = int(x/12)\n",
    "xi = x - xf*12\n",
    "\"It'is, {}, feet {} inch\".format(xf,xi)"
   ]
  },
  {
   "cell_type": "code",
   "execution_count": 149,
   "id": "2fa1c2bf",
   "metadata": {},
   "outputs": [],
   "source": [
    "## Module Math"
   ]
  },
  {
   "cell_type": "code",
   "execution_count": 150,
   "id": "6adb69da",
   "metadata": {},
   "outputs": [
    {
     "name": "stdout",
     "output_type": "stream",
     "text": [
      "Enter r : 14\n",
      "Enter h : 14\n"
     ]
    },
    {
     "data": {
      "text/plain": [
       "'Volume = 8620.530241450391'"
      ]
     },
     "execution_count": 150,
     "metadata": {},
     "output_type": "execute_result"
    }
   ],
   "source": [
    "import math\n",
    "r = float(input(\"Enter r : \"))\n",
    "h = float(input(\"Enter h : \"))\n",
    "\"Volume = {}\".format(math.pi*r*r*h)"
   ]
  },
  {
   "cell_type": "markdown",
   "id": "a0bd220b",
   "metadata": {},
   "source": [
    "# Python ControlFlow"
   ]
  },
  {
   "cell_type": "markdown",
   "id": "f08c25a1",
   "metadata": {},
   "source": [
    "## Boolean"
   ]
  },
  {
   "cell_type": "code",
   "execution_count": 151,
   "id": "f01f9f9f",
   "metadata": {},
   "outputs": [],
   "source": [
    "# True False เป็น Constants ต่างกับ true false"
   ]
  },
  {
   "cell_type": "code",
   "execution_count": 152,
   "id": "0ad869e8",
   "metadata": {},
   "outputs": [
    {
     "data": {
      "text/plain": [
       "False"
      ]
     },
     "execution_count": 152,
     "metadata": {},
     "output_type": "execute_result"
    }
   ],
   "source": [
    "a = 2\n",
    "b = 4\n",
    "a > b"
   ]
  },
  {
   "cell_type": "markdown",
   "id": "bea92261",
   "metadata": {},
   "source": [
    "# Week 3\n",
    "## If statement"
   ]
  },
  {
   "cell_type": "code",
   "execution_count": 153,
   "id": "6a6adfe3",
   "metadata": {},
   "outputs": [
    {
     "name": "stdout",
     "output_type": "stream",
     "text": [
      "Input height : 14\n",
      "Free kids\n",
      "price = 0 THB\n"
     ]
    }
   ],
   "source": [
    "height = input(\"Input height : \")\n",
    "price = 40\n",
    "if int(height) <= 140:\n",
    "    print(\"Free kids\")\n",
    "    price = 0\n",
    "else:\n",
    "    price = 149\n",
    "print(\"price = {} THB\".format(price))"
   ]
  },
  {
   "cell_type": "code",
   "execution_count": 154,
   "id": "ed65a0ba",
   "metadata": {},
   "outputs": [
    {
     "name": "stdout",
     "output_type": "stream",
     "text": [
      "Input score : 14\n",
      "Take grade F.\n"
     ]
    }
   ],
   "source": [
    "score = input(\"Input score : \")\n",
    "\n",
    "if int(score) <= 50:\n",
    "    print(\"Take grade F.\")\n",
    "elif int(score) > 50 and  int(score) <= 60:\n",
    "    print(\"Take grade D.\")\n",
    "elif int(score) > 60 and  int(score) <= 70:\n",
    "    print(\"Take grade C.\")\n",
    "elif int(score) > 70 and  int(score) <= 80:\n",
    "    print(\"Take grade B.\")\n",
    "else:\n",
    "    print(\"Take grade A.\")"
   ]
  },
  {
   "cell_type": "markdown",
   "id": "bcb0c185",
   "metadata": {},
   "source": [
    "## Loops"
   ]
  },
  {
   "cell_type": "code",
   "execution_count": 155,
   "id": "1e94dc92",
   "metadata": {},
   "outputs": [
    {
     "name": "stdout",
     "output_type": "stream",
     "text": [
      "1\n",
      "2\n",
      "3\n"
     ]
    }
   ],
   "source": [
    "#while loop\n",
    "i = 1\n",
    "while i < 6:\n",
    "  print(i)\n",
    "  if i == 3:\n",
    "    break #เตะออก เลิกทำ ไม่ต้องครบตามเงื่อนไข < 6\n",
    "  i += 1"
   ]
  },
  {
   "cell_type": "code",
   "execution_count": 156,
   "id": "38fee441",
   "metadata": {},
   "outputs": [
    {
     "name": "stdout",
     "output_type": "stream",
     "text": [
      "1\n",
      "2\n",
      "4\n",
      "5\n",
      "6\n"
     ]
    }
   ],
   "source": [
    "i = 0\n",
    "while i < 6:\n",
    "  i += 1\n",
    "  if i == 3:\n",
    "    continue # เตะออก แล้วทำต่อให้ครบเงื่อนไข < 6\n",
    "  print(i)"
   ]
  },
  {
   "cell_type": "markdown",
   "id": "46d28710",
   "metadata": {},
   "source": [
    "## Functions"
   ]
  },
  {
   "cell_type": "code",
   "execution_count": 157,
   "id": "fc86faa5",
   "metadata": {},
   "outputs": [
    {
     "name": "stdout",
     "output_type": "stream",
     "text": [
      "Hello from a function\n"
     ]
    }
   ],
   "source": [
    "#create \n",
    "def my_function():\n",
    "  print(\"Hello from a function\")\n",
    "\n",
    "#calling func\n",
    "my_function()"
   ]
  },
  {
   "cell_type": "code",
   "execution_count": 158,
   "id": "402450c2",
   "metadata": {},
   "outputs": [
    {
     "name": "stdout",
     "output_type": "stream",
     "text": [
      "Input base : 14\n",
      "Input height : 14\n",
      "function is working calculate\n",
      "Result of compute area is -> 98.0 \n"
     ]
    }
   ],
   "source": [
    "#func and Parameters\n",
    "def compute_area(baseInput,heightInput):\n",
    "    result = 0.5*baseInput*heightInput\n",
    "    print(\"function is working calculate\")\n",
    "    return result\n",
    "\n",
    "base = int(input(\"Input base : \"))\n",
    "height = int(input(\"Input height : \"))\n",
    "print(\"Result of compute area is -> {} \".format(compute_area(baseInput = base, heightInput = height)))"
   ]
  },
  {
   "cell_type": "code",
   "execution_count": 159,
   "id": "08ce71f5",
   "metadata": {},
   "outputs": [
    {
     "name": "stdout",
     "output_type": "stream",
     "text": [
      "Input hour : 14\n",
      "function is working calculate\n",
      "Result of 14 hour is 840 min\n"
     ]
    }
   ],
   "source": [
    "def compute_hourTomin(hour):\n",
    "    result = hour*60\n",
    "    print(\"function is working calculate\")\n",
    "    return result\n",
    "\n",
    "hour = int(input(\"Input hour : \"))\n",
    "\n",
    "print(\"Result of {} hour is {} min\".format(hour,compute_hourTomin(hour)))"
   ]
  },
  {
   "cell_type": "markdown",
   "id": "6f354cd3",
   "metadata": {},
   "source": [
    "## List (Array)"
   ]
  },
  {
   "cell_type": "code",
   "execution_count": 160,
   "id": "3511ba7d",
   "metadata": {},
   "outputs": [],
   "source": [
    "arrList = [1,2,3,4,5,6,7,8,9,10]"
   ]
  },
  {
   "cell_type": "code",
   "execution_count": 161,
   "id": "3189e6f8",
   "metadata": {},
   "outputs": [
    {
     "name": "stdout",
     "output_type": "stream",
     "text": [
      "value of array index 0 is -> 1\n",
      "4 in arrList is -> True\n",
      "count List -> 10\n"
     ]
    }
   ],
   "source": [
    "# get value index 0\n",
    "print(\"value of array index 0 is -> {}\".format(arrList[0]))\n",
    "\n",
    "#check value in arrList\n",
    "print(\"4 in arrList is -> {}\".format(4 in arrList))\n",
    "\n",
    "#Count Array\n",
    "print(\"count List -> {}\".format(len(arrList)))"
   ]
  },
  {
   "cell_type": "code",
   "execution_count": 162,
   "id": "53e2f180",
   "metadata": {},
   "outputs": [
    {
     "name": "stdout",
     "output_type": "stream",
     "text": [
      "value is -> 10, arrList last index is -> 10\n",
      "End loop because of value equal to arrList last index\n",
      "total is -> 55\n"
     ]
    }
   ],
   "source": [
    "#For loop List\n",
    "total = 0\n",
    "for value in arrList:\n",
    "    total += value\n",
    "    if value == arrList[len(arrList) - 1]:\n",
    "        print(\"value is -> {}, arrList last index is -> {}\".format(value, arrList[len(arrList) - 1]))\n",
    "        print(\"End loop because of value equal to arrList last index\")\n",
    "    \n",
    "print(\"total is ->\",format(total))"
   ]
  },
  {
   "cell_type": "code",
   "execution_count": 163,
   "id": "84e4b90f",
   "metadata": {},
   "outputs": [
    {
     "data": {
      "text/plain": [
       "1"
      ]
     },
     "execution_count": 163,
     "metadata": {},
     "output_type": "execute_result"
    }
   ],
   "source": [
    "min(arrList)"
   ]
  },
  {
   "cell_type": "code",
   "execution_count": 164,
   "id": "cb92d7f0",
   "metadata": {},
   "outputs": [
    {
     "data": {
      "text/plain": [
       "10"
      ]
     },
     "execution_count": 164,
     "metadata": {},
     "output_type": "execute_result"
    }
   ],
   "source": [
    "max(arrList)"
   ]
  },
  {
   "cell_type": "code",
   "execution_count": 165,
   "id": "490033e7",
   "metadata": {},
   "outputs": [
    {
     "data": {
      "text/plain": [
       "55"
      ]
     },
     "execution_count": 165,
     "metadata": {},
     "output_type": "execute_result"
    }
   ],
   "source": [
    "sum(arrList)"
   ]
  },
  {
   "cell_type": "markdown",
   "id": "e9d3c204",
   "metadata": {},
   "source": [
    "### add value into List"
   ]
  },
  {
   "cell_type": "code",
   "execution_count": 166,
   "id": "85630e47",
   "metadata": {},
   "outputs": [
    {
     "data": {
      "text/plain": [
       "[1, 2, 3, 4, 5, 6, 7, 8, 9, 10, 20]"
      ]
     },
     "execution_count": 166,
     "metadata": {},
     "output_type": "execute_result"
    }
   ],
   "source": [
    "arrList.append(20)\n",
    "arrList"
   ]
  },
  {
   "cell_type": "code",
   "execution_count": 167,
   "id": "33323312",
   "metadata": {},
   "outputs": [
    {
     "data": {
      "text/plain": [
       "[1, 2, 3, 4, 5, 6, 7, 8, 9, 10, 20, 98, 99]"
      ]
     },
     "execution_count": 167,
     "metadata": {},
     "output_type": "execute_result"
    }
   ],
   "source": [
    "arrListExtend = [98,99]\n",
    "arrList.extend(arrListExtend)\n",
    "arrList"
   ]
  },
  {
   "cell_type": "code",
   "execution_count": 168,
   "id": "f619a8d2",
   "metadata": {},
   "outputs": [
    {
     "data": {
      "text/plain": [
       "[1, 2, 999, 3, 4, 5, 6, 7, 8, 9, 10, 20, 98, 99]"
      ]
     },
     "execution_count": 168,
     "metadata": {},
     "output_type": "execute_result"
    }
   ],
   "source": [
    "arrList.insert(2, 999)\n",
    "arrList"
   ]
  },
  {
   "cell_type": "markdown",
   "id": "4f229c87",
   "metadata": {},
   "source": [
    "### remove value out of List"
   ]
  },
  {
   "cell_type": "code",
   "execution_count": 169,
   "id": "8fac3706",
   "metadata": {},
   "outputs": [
    {
     "data": {
      "text/plain": [
       "99"
      ]
     },
     "execution_count": 169,
     "metadata": {},
     "output_type": "execute_result"
    }
   ],
   "source": [
    "arrList.pop()"
   ]
  },
  {
   "cell_type": "code",
   "execution_count": 170,
   "id": "3ec2d9d3",
   "metadata": {},
   "outputs": [
    {
     "data": {
      "text/plain": [
       "[1, 2, 999, 3, 4, 5, 6, 7, 8, 10, 20, 98]"
      ]
     },
     "execution_count": 170,
     "metadata": {},
     "output_type": "execute_result"
    }
   ],
   "source": [
    "arrList.remove(9) # remove 9 in List\n",
    "arrList"
   ]
  },
  {
   "cell_type": "markdown",
   "id": "b9112f4a",
   "metadata": {},
   "source": [
    "### sort List"
   ]
  },
  {
   "cell_type": "code",
   "execution_count": 171,
   "id": "95cf0e53",
   "metadata": {},
   "outputs": [
    {
     "data": {
      "text/plain": [
       "[1, 2, 3, 4, 5, 6, 7, 8, 10, 20, 98, 999]"
      ]
     },
     "execution_count": 171,
     "metadata": {},
     "output_type": "execute_result"
    }
   ],
   "source": [
    "arrList.sort() #น้อยไปมาก\n",
    "arrList"
   ]
  },
  {
   "cell_type": "code",
   "execution_count": 172,
   "id": "455ac716",
   "metadata": {},
   "outputs": [
    {
     "data": {
      "text/plain": [
       "[999, 98, 20, 10, 8, 7, 6, 5, 4, 3, 2, 1]"
      ]
     },
     "execution_count": 172,
     "metadata": {},
     "output_type": "execute_result"
    }
   ],
   "source": [
    "arrList.sort(reverse=True) #มากไปน้อย\n",
    "arrList"
   ]
  },
  {
   "cell_type": "code",
   "execution_count": 173,
   "id": "d147c28f",
   "metadata": {},
   "outputs": [
    {
     "data": {
      "text/plain": [
       "[1, 2, 3, 4, 5, 6, 7, 8, 10, 20, 98, 999]"
      ]
     },
     "execution_count": 173,
     "metadata": {},
     "output_type": "execute_result"
    }
   ],
   "source": [
    "arrList.reverse() #ตามชื่อ method\n",
    "arrList"
   ]
  },
  {
   "cell_type": "markdown",
   "id": "0ac89899",
   "metadata": {},
   "source": [
    "### search value in List"
   ]
  },
  {
   "cell_type": "code",
   "execution_count": 182,
   "id": "fe6559c5",
   "metadata": {},
   "outputs": [
    {
     "data": {
      "text/plain": [
       "1"
      ]
     },
     "execution_count": 182,
     "metadata": {},
     "output_type": "execute_result"
    }
   ],
   "source": [
    "arrList.count(20) #นับว่ามี x ใน List กี่ตัว"
   ]
  },
  {
   "cell_type": "code",
   "execution_count": 200,
   "id": "7585f13a",
   "metadata": {},
   "outputs": [
    {
     "name": "stdout",
     "output_type": "stream",
     "text": [
      "[1, 2, 3, 4, 5, 6, 7, 8, 10, 20, 98, 999]\n"
     ]
    },
    {
     "data": {
      "text/plain": [
       "7"
      ]
     },
     "execution_count": 200,
     "metadata": {},
     "output_type": "execute_result"
    }
   ],
   "source": [
    "print(arrList)\n",
    "arrList.index(8) #return index ออกมาให้ ตาม x กรอก"
   ]
  },
  {
   "cell_type": "markdown",
   "id": "682b477b",
   "metadata": {},
   "source": [
    "### Slicing List"
   ]
  },
  {
   "cell_type": "code",
   "execution_count": 174,
   "id": "4d3e5a6d",
   "metadata": {},
   "outputs": [
    {
     "data": {
      "text/plain": [
       "[1, 2, 3, 4, 5, 6, 7, 8, 9, 10]"
      ]
     },
     "execution_count": 174,
     "metadata": {},
     "output_type": "execute_result"
    }
   ],
   "source": [
    "arrListInt = [1,2,3,4,5,6,7,8,9,10]\n",
    "arrListInt[0:len(arrListInt):1] #startIndex,stopIndex,step"
   ]
  },
  {
   "cell_type": "code",
   "execution_count": 175,
   "id": "c17e7c81",
   "metadata": {},
   "outputs": [
    {
     "data": {
      "text/plain": [
       "[2, 4, 6, 8, 10]"
      ]
     },
     "execution_count": 175,
     "metadata": {},
     "output_type": "execute_result"
    }
   ],
   "source": [
    "arrListInt[1:len(arrListInt):2]"
   ]
  },
  {
   "cell_type": "code",
   "execution_count": 176,
   "id": "cc51a1dd",
   "metadata": {},
   "outputs": [
    {
     "data": {
      "text/plain": [
       "['a', 'b', 'c', 'd', 'e', 'f', 'g', 'h']"
      ]
     },
     "execution_count": 176,
     "metadata": {},
     "output_type": "execute_result"
    }
   ],
   "source": [
    "arrListABC = [\"a\", \"b\", \"c\", \"d\", \"e\", \"f\", \"g\", \"h\"]\n",
    "arrListABC[0:len(arrListABC):1]"
   ]
  },
  {
   "cell_type": "code",
   "execution_count": 177,
   "id": "2f85dcd3",
   "metadata": {},
   "outputs": [
    {
     "data": {
      "text/plain": [
       "['e', 'f']"
      ]
     },
     "execution_count": 177,
     "metadata": {},
     "output_type": "execute_result"
    }
   ],
   "source": [
    "arrListABC[4:-2] # - คือนับจากข้างหลัง h g f, 0 -1 -2"
   ]
  },
  {
   "cell_type": "code",
   "execution_count": 178,
   "id": "74647903",
   "metadata": {},
   "outputs": [
    {
     "data": {
      "text/plain": [
       "['f', 'e']"
      ]
     },
     "execution_count": 178,
     "metadata": {},
     "output_type": "execute_result"
    }
   ],
   "source": [
    "arrListABC[5:3:-1]"
   ]
  },
  {
   "cell_type": "markdown",
   "id": "57e0086b",
   "metadata": {},
   "source": [
    "### String method"
   ]
  },
  {
   "cell_type": "code",
   "execution_count": 201,
   "id": "67876084",
   "metadata": {},
   "outputs": [],
   "source": [
    "lorem = \"Lorem Ipsum is simply dummy text of the printing and typesetting industry. Lorem Ipsum has been the industry's standard dummy text ever since the 1500s, when an unknown printer took a galley of type and scrambled it to make a type specimen book\""
   ]
  },
  {
   "cell_type": "code",
   "execution_count": 204,
   "id": "7b9667c6",
   "metadata": {},
   "outputs": [
    {
     "data": {
      "text/plain": [
       "\"LOREM IPSUM IS SIMPLY DUMMY TEXT OF THE PRINTING AND TYPESETTING INDUSTRY. LOREM IPSUM HAS BEEN THE INDUSTRY'S STANDARD DUMMY TEXT EVER SINCE THE 1500S, WHEN AN UNKNOWN PRINTER TOOK A GALLEY OF TYPE AND SCRAMBLED IT TO MAKE A TYPE SPECIMEN BOOK\""
      ]
     },
     "execution_count": 204,
     "metadata": {},
     "output_type": "execute_result"
    }
   ],
   "source": [
    "lorem = lorem.upper() #lower()\n",
    "lorem"
   ]
  },
  {
   "cell_type": "code",
   "execution_count": 208,
   "id": "f1440811",
   "metadata": {},
   "outputs": [
    {
     "data": {
      "text/plain": [
       "\"LOREM IPSUM IS SIMPLY DUMMY TEXT OF THE PRINTING AND TYPESETTING INDUSTRY. LOREM IPSUM HAS BEEN THE INDUSTRY'S STANDARD DUMMY TEXT EVER SINCE THE 1500S, WHEN AN UNKNOWN PRINTER TOOK A GALLEY OF TYPE AND SCRAMBLED IT TO MAKE A TYPE SPECIMEN BOOK\""
      ]
     },
     "execution_count": 208,
     "metadata": {},
     "output_type": "execute_result"
    }
   ],
   "source": [
    "lorem.strip()"
   ]
  },
  {
   "cell_type": "code",
   "execution_count": 210,
   "id": "f15be614",
   "metadata": {},
   "outputs": [
    {
     "data": {
      "text/plain": [
       "[\"LOREM IPSUM IS SIMPLY DUMMY TEXT OF THE PRINTING AND TYPESETTING INDUSTRY. LOREM IPSUM HAS BEEN THE INDUSTRY'S STANDARD DUMMY TEXT EVER SINCE THE 1500S\",\n",
       " ' WHEN AN UNKNOWN PRINTER TOOK A GALLEY OF TYPE AND SCRAMBLED IT TO MAKE A TYPE SPECIMEN BOOK']"
      ]
     },
     "execution_count": 210,
     "metadata": {},
     "output_type": "execute_result"
    }
   ],
   "source": [
    "lorem.split(\",\")"
   ]
  },
  {
   "cell_type": "markdown",
   "id": "98aef597",
   "metadata": {},
   "source": [
    "### Dictionary"
   ]
  },
  {
   "cell_type": "code",
   "execution_count": 14,
   "id": "578b61e4",
   "metadata": {},
   "outputs": [
    {
     "data": {
      "text/plain": [
       "{'Hello': '1234', 'World': '5678'}"
      ]
     },
     "execution_count": 14,
     "metadata": {},
     "output_type": "execute_result"
    }
   ],
   "source": [
    "dict = {\"Hello\":\"1234\",\"World\":\"5678\"}\n",
    "dict"
   ]
  },
  {
   "cell_type": "code",
   "execution_count": 15,
   "id": "63367708",
   "metadata": {},
   "outputs": [
    {
     "data": {
      "text/plain": [
       "'1234'"
      ]
     },
     "execution_count": 15,
     "metadata": {},
     "output_type": "execute_result"
    }
   ],
   "source": [
    "dict[\"Hello\"]"
   ]
  },
  {
   "cell_type": "code",
   "execution_count": 16,
   "id": "cf142dd7",
   "metadata": {},
   "outputs": [
    {
     "data": {
      "text/plain": [
       "True"
      ]
     },
     "execution_count": 16,
     "metadata": {},
     "output_type": "execute_result"
    }
   ],
   "source": [
    "\"Hello\" in dict"
   ]
  },
  {
   "cell_type": "code",
   "execution_count": 17,
   "id": "b34c5c1f",
   "metadata": {},
   "outputs": [
    {
     "data": {
      "text/plain": [
       "dict_keys(['Hello', 'World'])"
      ]
     },
     "execution_count": 17,
     "metadata": {},
     "output_type": "execute_result"
    }
   ],
   "source": [
    "dict.keys()"
   ]
  },
  {
   "cell_type": "code",
   "execution_count": 18,
   "id": "a3986d6e",
   "metadata": {},
   "outputs": [
    {
     "data": {
      "text/plain": [
       "dict_values(['1234', '5678'])"
      ]
     },
     "execution_count": 18,
     "metadata": {},
     "output_type": "execute_result"
    }
   ],
   "source": [
    "dict.values()"
   ]
  },
  {
   "cell_type": "code",
   "execution_count": 19,
   "id": "90a2555c",
   "metadata": {},
   "outputs": [
    {
     "data": {
      "text/plain": [
       "dict_items([('Hello', '1234'), ('World', '5678')])"
      ]
     },
     "execution_count": 19,
     "metadata": {},
     "output_type": "execute_result"
    }
   ],
   "source": [
    "dict.items()"
   ]
  },
  {
   "cell_type": "code",
   "execution_count": 20,
   "id": "4ae17a20",
   "metadata": {},
   "outputs": [
    {
     "data": {
      "text/plain": [
       "'5678'"
      ]
     },
     "execution_count": 20,
     "metadata": {},
     "output_type": "execute_result"
    }
   ],
   "source": [
    "dict.get(\"World\")"
   ]
  },
  {
   "cell_type": "code",
   "execution_count": 21,
   "id": "6bb5cde3",
   "metadata": {},
   "outputs": [
    {
     "data": {
      "text/plain": [
       "{'Hello': '1234', 'World': '5678', 'Python': '9999'}"
      ]
     },
     "execution_count": 21,
     "metadata": {},
     "output_type": "execute_result"
    }
   ],
   "source": [
    "dict[\"Python\"] = \"9999\"\n",
    "dict"
   ]
  },
  {
   "cell_type": "code",
   "execution_count": 22,
   "id": "089c9b35",
   "metadata": {},
   "outputs": [
    {
     "data": {
      "text/plain": [
       "{'Hello': '1234',\n",
       " 'World': '5678',\n",
       " 'Python': '9999',\n",
       " 'DictValueArr': [1, 2, 3, 4, 5]}"
      ]
     },
     "execution_count": 22,
     "metadata": {},
     "output_type": "execute_result"
    }
   ],
   "source": [
    "dict[\"DictValueArr\"] = [1,2,3,4,5]\n",
    "dict"
   ]
  },
  {
   "cell_type": "code",
   "execution_count": 24,
   "id": "6967745f",
   "metadata": {},
   "outputs": [
    {
     "data": {
      "text/plain": [
       "{'Hello': '1234',\n",
       " 'World': '5678',\n",
       " 'Python': '9999',\n",
       " 'DictValueArr': [1, 2, 3, 4, 5],\n",
       " 'DictValueDict': {'OS': ['iOS', 'Android']}}"
      ]
     },
     "execution_count": 24,
     "metadata": {},
     "output_type": "execute_result"
    }
   ],
   "source": [
    "dict[\"DictValueDict\"] = {\"OS\":[\"iOS\",\"Android\"]}\n",
    "dict"
   ]
  },
  {
   "cell_type": "code",
   "execution_count": 25,
   "id": "f773fe4f",
   "metadata": {},
   "outputs": [
    {
     "data": {
      "text/plain": [
       "'1234'"
      ]
     },
     "execution_count": 25,
     "metadata": {},
     "output_type": "execute_result"
    }
   ],
   "source": [
    "dict.pop(\"Hello\") #remove key \"Hello\"\n",
    "dict"
   ]
  },
  {
   "cell_type": "code",
   "execution_count": 27,
   "id": "2133a0bc",
   "metadata": {},
   "outputs": [
    {
     "data": {
      "text/plain": [
       "{'Python': '9999',\n",
       " 'DictValueArr': [1, 2, 3, 4, 5],\n",
       " 'DictValueDict': {'OS': ['iOS', 'Android']}}"
      ]
     },
     "execution_count": 27,
     "metadata": {},
     "output_type": "execute_result"
    }
   ],
   "source": [
    "del dict[\"World\"] #remove key \"World\"\n",
    "dict"
   ]
  },
  {
   "cell_type": "code",
   "execution_count": 32,
   "id": "1384401d",
   "metadata": {},
   "outputs": [
    {
     "name": "stdout",
     "output_type": "stream",
     "text": [
      "Python : 9999\n",
      "DictValueArr : [1, 2, 3, 4, 5]\n",
      "DictValueDict : {'OS': ['iOS', 'Android']}\n"
     ]
    }
   ],
   "source": [
    "for (key,valueDict) in dict.items():\n",
    "    print(key,\":\",valueDict)"
   ]
  },
  {
   "cell_type": "code",
   "execution_count": 35,
   "id": "73e79629",
   "metadata": {},
   "outputs": [
    {
     "name": "stdout",
     "output_type": "stream",
     "text": [
      "Key -> Python\n",
      "Key -> DictValueArr\n",
      "Key -> DictValueDict\n",
      "keyArr -> ['Python', 'DictValueArr', 'DictValueDict']\n"
     ]
    }
   ],
   "source": [
    "keyArr = []\n",
    "for key in dict.keys():\n",
    "    keyArr.append(key)\n",
    "    print(\"Key ->\",key)\n",
    "print(\"keyArr ->\", keyArr)"
   ]
  },
  {
   "cell_type": "code",
   "execution_count": 37,
   "id": "1581ffdb",
   "metadata": {},
   "outputs": [
    {
     "name": "stdout",
     "output_type": "stream",
     "text": [
      "value -> 9999\n",
      "value -> [1, 2, 3, 4, 5]\n",
      "value -> {'OS': ['iOS', 'Android']}\n",
      "keyValue -> ['9999', [1, 2, 3, 4, 5], {'OS': ['iOS', 'Android']}]\n"
     ]
    }
   ],
   "source": [
    "keyValue = []\n",
    "for value in dict.values():\n",
    "    keyValue.append(value)\n",
    "    print(\"value ->\",value)\n",
    "print(\"keyValue ->\", keyValue)"
   ]
  },
  {
   "cell_type": "code",
   "execution_count": null,
   "id": "567186de",
   "metadata": {},
   "outputs": [],
   "source": []
  }
 ],
 "metadata": {
  "kernelspec": {
   "display_name": "Python 3 (ipykernel)",
   "language": "python",
   "name": "python3"
  },
  "language_info": {
   "codemirror_mode": {
    "name": "ipython",
    "version": 3
   },
   "file_extension": ".py",
   "mimetype": "text/x-python",
   "name": "python",
   "nbconvert_exporter": "python",
   "pygments_lexer": "ipython3",
   "version": "3.10.8"
  }
 },
 "nbformat": 4,
 "nbformat_minor": 5
}
