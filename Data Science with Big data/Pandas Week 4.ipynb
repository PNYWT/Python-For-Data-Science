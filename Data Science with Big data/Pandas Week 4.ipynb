{
 "cells": [
  {
   "cell_type": "code",
   "execution_count": 4,
   "id": "dd566f8f",
   "metadata": {},
   "outputs": [],
   "source": [
    "import os"
   ]
  },
  {
   "cell_type": "code",
   "execution_count": 5,
   "id": "8012abf4",
   "metadata": {},
   "outputs": [],
   "source": [
    "import pandas as pd\n",
    "import numpy as np"
   ]
  },
  {
   "cell_type": "markdown",
   "id": "9996722f",
   "metadata": {},
   "source": [
    "### Import .csv file to dataframe(Table)"
   ]
  },
  {
   "cell_type": "code",
   "execution_count": 16,
   "id": "5ea4ba73",
   "metadata": {},
   "outputs": [
    {
     "ename": "AttributeError",
     "evalue": "'str' object has no attribute 'isnull'",
     "output_type": "error",
     "traceback": [
      "\u001b[1;31m---------------------------------------------------------------------------\u001b[0m",
      "\u001b[1;31mAttributeError\u001b[0m                            Traceback (most recent call last)",
      "Cell \u001b[1;32mIn[16], line 6\u001b[0m\n\u001b[0;32m      4\u001b[0m df \u001b[38;5;241m=\u001b[39m pd\u001b[38;5;241m.\u001b[39mread_csv(path)\n\u001b[0;32m      5\u001b[0m df \u001b[38;5;241m=\u001b[39m \u001b[38;5;124m\"\u001b[39m\u001b[38;5;124m\"\u001b[39m\n\u001b[1;32m----> 6\u001b[0m \u001b[38;5;28;01mif\u001b[39;00m \u001b[43mdf\u001b[49m\u001b[38;5;241;43m.\u001b[39;49m\u001b[43misnull\u001b[49m:\n\u001b[0;32m      7\u001b[0m     path \u001b[38;5;241m=\u001b[39m \u001b[38;5;124m\"\u001b[39m\u001b[38;5;124mhttps://raw.githubusercontent.com/PNYWT/Python-For-Data-Science/main/Data\u001b[39m\u001b[38;5;124m%\u001b[39m\u001b[38;5;124m20Science\u001b[39m\u001b[38;5;124m%\u001b[39m\u001b[38;5;124m20with\u001b[39m\u001b[38;5;124m%\u001b[39m\u001b[38;5;124m20Big\u001b[39m\u001b[38;5;132;01m%20d\u001b[39;00m\u001b[38;5;124mata/Datasets/players.csv\u001b[39m\u001b[38;5;124m\"\u001b[39m\n\u001b[0;32m      8\u001b[0m     df \u001b[38;5;241m=\u001b[39m pd\u001b[38;5;241m.\u001b[39mread_csv(path)\n",
      "\u001b[1;31mAttributeError\u001b[0m: 'str' object has no attribute 'isnull'"
     ]
    }
   ],
   "source": [
    "#Local data\n",
    "ROOT_DIR = os.path.abspath(os.curdir)\n",
    "path = \"{}{}\".format(ROOT_DIR,\"./Datasets/players.csv\")\n",
    "df = pd.read_csv(path)\n",
    "df = \"\"\n",
    "if df.isnull:\n",
    "    path = \"https://raw.githubusercontent.com/PNYWT/Python-For-Data-Science/main/Data%20Science%20with%20Big%20data/Datasets/players.csv\"\n",
    "    df = pd.read_csv(path)"
   ]
  },
  {
   "cell_type": "code",
   "execution_count": null,
   "id": "94bff09e",
   "metadata": {},
   "outputs": [],
   "source": [
    "df.head()"
   ]
  },
  {
   "cell_type": "markdown",
   "id": "31dc6720",
   "metadata": {},
   "source": [
    "### แสดง Index ทั้งหมด\n",
    "start, stop, step"
   ]
  },
  {
   "cell_type": "code",
   "execution_count": null,
   "id": "b2b1a838",
   "metadata": {},
   "outputs": [],
   "source": [
    "df.index"
   ]
  },
  {
   "cell_type": "markdown",
   "id": "90b5c7ed",
   "metadata": {},
   "source": [
    "### แสดง Columns ทั้งหมด <- น่าจะใช้บ่อยเวลาจะ select column"
   ]
  },
  {
   "cell_type": "code",
   "execution_count": null,
   "id": "2e6e42b8",
   "metadata": {},
   "outputs": [],
   "source": [
    "df.columns"
   ]
  },
  {
   "cell_type": "code",
   "execution_count": null,
   "id": "55b8f9a6",
   "metadata": {},
   "outputs": [],
   "source": [
    "df.shape #total index, total columns"
   ]
  },
  {
   "cell_type": "markdown",
   "id": "036286f9",
   "metadata": {},
   "source": [
    "### check type data"
   ]
  },
  {
   "cell_type": "code",
   "execution_count": null,
   "id": "6938a152",
   "metadata": {},
   "outputs": [],
   "source": [
    "df.info()"
   ]
  },
  {
   "cell_type": "markdown",
   "id": "39b90f91",
   "metadata": {},
   "source": [
    "### select column to use\n",
    "มี 2 วิธี<br>\n",
    ".loc(column_name)<br>\n",
    ".iloc(row_input,column_input) ค่าที่ input นับเหมือน index"
   ]
  },
  {
   "cell_type": "markdown",
   "id": "8f7578e1",
   "metadata": {},
   "source": [
    "#### iloc"
   ]
  },
  {
   "cell_type": "code",
   "execution_count": null,
   "id": "049e3741",
   "metadata": {},
   "outputs": [],
   "source": [
    "df.iloc[0,2]"
   ]
  },
  {
   "cell_type": "code",
   "execution_count": null,
   "id": "36f87efe",
   "metadata": {},
   "outputs": [],
   "source": [
    "df.iloc[0,:] #select all column of row 0\n",
    "#df.iloc[0] # <- ได้เหมือนกัน"
   ]
  },
  {
   "cell_type": "code",
   "execution_count": null,
   "id": "24d6b116",
   "metadata": {},
   "outputs": [],
   "source": [
    "df.iloc[[4,1,2,3],:] #select all column of row 4,1,2,3\n",
    "df.iloc[[4,1,2,3]] # ได้เหมือนกัน"
   ]
  },
  {
   "cell_type": "code",
   "execution_count": null,
   "id": "a1172eb9",
   "metadata": {},
   "outputs": [],
   "source": [
    "df.iloc[[4,1,2,3],:3] #select 0,1,2 column of row 4,1,2,3\n",
    "# df.iloc[[4,1,2,3],[0,1,2]]  #select 0,1,2 column of row 4,1,2,3"
   ]
  },
  {
   "cell_type": "code",
   "execution_count": null,
   "id": "4c9de7f9",
   "metadata": {},
   "outputs": [],
   "source": [
    "df.iloc[:11:2,:8] #เลือกเฉพาะ row คู่ ตั้งแต่ 0-10, column 0-7"
   ]
  },
  {
   "cell_type": "markdown",
   "id": "51e2478b",
   "metadata": {},
   "source": [
    "### set_Index"
   ]
  },
  {
   "cell_type": "code",
   "execution_count": null,
   "id": "1ff7cf73",
   "metadata": {},
   "outputs": [],
   "source": [
    "df = df.set_index(\"surname\") #surname ไปเป็น index\n",
    "df"
   ]
  },
  {
   "cell_type": "code",
   "execution_count": null,
   "id": "986a345d",
   "metadata": {},
   "outputs": [],
   "source": [
    "df.iloc[:,:8]"
   ]
  },
  {
   "cell_type": "markdown",
   "id": "d571dd37",
   "metadata": {},
   "source": [
    "#### loc\n",
    "*เวลา slide จะนับตัว stop มาแสดงด้วย"
   ]
  },
  {
   "cell_type": "code",
   "execution_count": null,
   "id": "5ab71a82",
   "metadata": {},
   "outputs": [],
   "source": [
    "df.loc['Abdoun',\"position\"]"
   ]
  },
  {
   "cell_type": "code",
   "execution_count": null,
   "id": "e3e7f0af",
   "metadata": {},
   "outputs": [],
   "source": [
    "df.loc[['Abdoun',\"Howard\",\"Messi\"],\"position\"]"
   ]
  },
  {
   "cell_type": "code",
   "execution_count": null,
   "id": "297cc56f",
   "metadata": {},
   "outputs": [],
   "source": [
    "df.loc[:\"Ghezzal\"]"
   ]
  },
  {
   "cell_type": "code",
   "execution_count": null,
   "id": "6f03ec1f",
   "metadata": {},
   "outputs": [],
   "source": [
    "df.loc[:\"Ghezzal\",:\"saves\"]"
   ]
  },
  {
   "cell_type": "markdown",
   "id": "fb724f36",
   "metadata": {},
   "source": [
    "### Short cuts loc, iloc\n",
    "พิมพ์ย่อแต่จะเลือกได้แค่ column ไม่สามารถเลือก index ได้"
   ]
  },
  {
   "cell_type": "code",
   "execution_count": null,
   "id": "a47d9760",
   "metadata": {},
   "outputs": [],
   "source": [
    "df[\"team\"] #select team column all row"
   ]
  },
  {
   "cell_type": "code",
   "execution_count": null,
   "id": "72fcff0e",
   "metadata": {},
   "outputs": [],
   "source": [
    "df[[\"team\", \"position\"]]"
   ]
  },
  {
   "cell_type": "code",
   "execution_count": null,
   "id": "1eaf6cb5",
   "metadata": {},
   "outputs": [],
   "source": [
    "df.team\n",
    "#df.position"
   ]
  },
  {
   "cell_type": "markdown",
   "id": "9d250023",
   "metadata": {},
   "source": [
    "### Boolean filtering"
   ]
  },
  {
   "cell_type": "code",
   "execution_count": null,
   "id": "b70596c2",
   "metadata": {},
   "outputs": [],
   "source": [
    "df.shots > 20"
   ]
  },
  {
   "cell_type": "code",
   "execution_count": null,
   "id": "54fed9e9",
   "metadata": {},
   "outputs": [],
   "source": [
    "df.loc[df.shots > 20]"
   ]
  },
  {
   "cell_type": "code",
   "execution_count": null,
   "id": "c7df538c",
   "metadata": {},
   "outputs": [],
   "source": [
    "df.loc[df[\"shots\"] > 20, \"passes\"]"
   ]
  },
  {
   "cell_type": "code",
   "execution_count": null,
   "id": "3aa607c5",
   "metadata": {},
   "outputs": [],
   "source": [
    "df.loc[df[\"team\"] == \"Spain\", :\"position\"].head(5)"
   ]
  },
  {
   "cell_type": "markdown",
   "id": "572f8b46",
   "metadata": {},
   "source": [
    "### Multiple Condition"
   ]
  },
  {
   "cell_type": "code",
   "execution_count": null,
   "id": "97a2d0a4",
   "metadata": {},
   "outputs": [],
   "source": [
    "#อยากรู้ว่า ใครผู้เล่นคนไหน shots > 15 ประตู และ passes > 200 พร้อมระบุทีมมาด้วยว่าอยู่ทีมอะไร\n",
    "df.loc[(df.shots > 15) & (df.passes > 200), :\"passes\"]"
   ]
  },
  {
   "cell_type": "code",
   "execution_count": null,
   "id": "4b5df5dc",
   "metadata": {},
   "outputs": [],
   "source": [
    "\"Thailand\".endswith(\"land\")"
   ]
  },
  {
   "cell_type": "code",
   "execution_count": null,
   "id": "aec1d15c",
   "metadata": {},
   "outputs": [],
   "source": [
    "df[df.team.str.endswith('land')].head()"
   ]
  },
  {
   "cell_type": "code",
   "execution_count": null,
   "id": "2b361d56",
   "metadata": {},
   "outputs": [],
   "source": [
    "df[df.position.str.contains('forward')].head()"
   ]
  },
  {
   "cell_type": "code",
   "execution_count": null,
   "id": "44ca3eaa",
   "metadata": {},
   "outputs": [],
   "source": [
    "df[df.index.str.contains(\"M\")].head()"
   ]
  },
  {
   "cell_type": "code",
   "execution_count": null,
   "id": "e2a31e5b",
   "metadata": {},
   "outputs": [],
   "source": [
    "df.loc[(df.index.str.contains(\"M\")) & (df.shots > 8) & (df.passes > 50), :\"passes\"]"
   ]
  },
  {
   "cell_type": "code",
   "execution_count": null,
   "id": "fa691ce6",
   "metadata": {},
   "outputs": [],
   "source": [
    "df.loc[((df.team == \"England\") | (df.team == \"Argentina\")) \n",
    "       & ((df.shots > 10) & (df.passes > 50) ) , :\"passes\"]"
   ]
  },
  {
   "cell_type": "code",
   "execution_count": null,
   "id": "8e905f8b",
   "metadata": {},
   "outputs": [],
   "source": [
    "df.query(\"shots >= 20\")[[\"team\",\"position\",\"minutes\",\"shots\",\"passes\"]]"
   ]
  },
  {
   "cell_type": "code",
   "execution_count": null,
   "id": "9f717ad7",
   "metadata": {},
   "outputs": [],
   "source": [
    "df.loc[(df.shots >= 20) , :\"passes\"]"
   ]
  },
  {
   "cell_type": "markdown",
   "id": "90c37b5a",
   "metadata": {},
   "source": [
    "###  method str.startswith() ร่วมกับการ slice"
   ]
  },
  {
   "cell_type": "code",
   "execution_count": null,
   "id": "18170450",
   "metadata": {},
   "outputs": [],
   "source": [
    "df[medals.team.str.startswith('A')]"
   ]
  },
  {
   "cell_type": "markdown",
   "id": "b06c0bd4",
   "metadata": {},
   "source": [
    "### reset_index คืนค่า index "
   ]
  },
  {
   "cell_type": "code",
   "execution_count": null,
   "id": "a2522ca6",
   "metadata": {},
   "outputs": [],
   "source": [
    "df = df.reset_index().head()\n",
    "df"
   ]
  },
  {
   "cell_type": "code",
   "execution_count": null,
   "id": "85b608f2",
   "metadata": {},
   "outputs": [],
   "source": []
  }
 ],
 "metadata": {
  "kernelspec": {
   "display_name": "Python 3 (ipykernel)",
   "language": "python",
   "name": "python3"
  },
  "language_info": {
   "codemirror_mode": {
    "name": "ipython",
    "version": 3
   },
   "file_extension": ".py",
   "mimetype": "text/x-python",
   "name": "python",
   "nbconvert_exporter": "python",
   "pygments_lexer": "ipython3",
   "version": "3.8.17"
  },
  "varInspector": {
   "cols": {
    "lenName": 16,
    "lenType": 16,
    "lenVar": 40
   },
   "kernels_config": {
    "python": {
     "delete_cmd_postfix": "",
     "delete_cmd_prefix": "del ",
     "library": "var_list.py",
     "varRefreshCmd": "print(var_dic_list())"
    },
    "r": {
     "delete_cmd_postfix": ") ",
     "delete_cmd_prefix": "rm(",
     "library": "var_list.r",
     "varRefreshCmd": "cat(var_dic_list()) "
    }
   },
   "types_to_exclude": [
    "module",
    "function",
    "builtin_function_or_method",
    "instance",
    "_Feature"
   ],
   "window_display": false
  }
 },
 "nbformat": 4,
 "nbformat_minor": 5
}
