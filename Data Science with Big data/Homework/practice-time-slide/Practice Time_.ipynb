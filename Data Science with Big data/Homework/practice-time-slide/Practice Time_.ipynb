{
 "cells": [
  {
   "cell_type": "markdown",
   "id": "0f8331b1",
   "metadata": {},
   "source": [
    "## 6614400266 Pakawat Tanyaphirom"
   ]
  },
  {
   "cell_type": "code",
   "execution_count": 1,
   "id": "570a1347",
   "metadata": {},
   "outputs": [],
   "source": [
    "import pandas as pd"
   ]
  },
  {
   "cell_type": "markdown",
   "id": "d19c7549",
   "metadata": {},
   "source": [
    "## 1"
   ]
  },
  {
   "cell_type": "code",
   "execution_count": 2,
   "id": "e369d397",
   "metadata": {},
   "outputs": [
    {
     "data": {
      "text/html": [
       "<div>\n",
       "<style scoped>\n",
       "    .dataframe tbody tr th:only-of-type {\n",
       "        vertical-align: middle;\n",
       "    }\n",
       "\n",
       "    .dataframe tbody tr th {\n",
       "        vertical-align: top;\n",
       "    }\n",
       "\n",
       "    .dataframe thead th {\n",
       "        text-align: right;\n",
       "    }\n",
       "</style>\n",
       "<table border=\"1\" class=\"dataframe\">\n",
       "  <thead>\n",
       "    <tr style=\"text-align: right;\">\n",
       "      <th></th>\n",
       "      <th>Time</th>\n",
       "      <th>Latitude</th>\n",
       "      <th>Longitude</th>\n",
       "      <th>Depth/Km</th>\n",
       "      <th>Magnitude</th>\n",
       "    </tr>\n",
       "  </thead>\n",
       "  <tbody>\n",
       "    <tr>\n",
       "      <th>2015</th>\n",
       "      <td>2016-09-16 03:08:26.980</td>\n",
       "      <td>42.8762</td>\n",
       "      <td>13.2630</td>\n",
       "      <td>9.8</td>\n",
       "      <td>2.0</td>\n",
       "    </tr>\n",
       "    <tr>\n",
       "      <th>7959</th>\n",
       "      <td>2016-11-29 02:32:24.750</td>\n",
       "      <td>43.0777</td>\n",
       "      <td>13.0848</td>\n",
       "      <td>7.8</td>\n",
       "      <td>2.0</td>\n",
       "    </tr>\n",
       "    <tr>\n",
       "      <th>5308</th>\n",
       "      <td>2016-11-04 03:30:38.050</td>\n",
       "      <td>43.0525</td>\n",
       "      <td>13.0582</td>\n",
       "      <td>9.9</td>\n",
       "      <td>2.1</td>\n",
       "    </tr>\n",
       "    <tr>\n",
       "      <th>3306</th>\n",
       "      <td>2016-10-29 05:15:23.660</td>\n",
       "      <td>42.8562</td>\n",
       "      <td>13.1587</td>\n",
       "      <td>9.4</td>\n",
       "      <td>2.1</td>\n",
       "    </tr>\n",
       "    <tr>\n",
       "      <th>1121</th>\n",
       "      <td>2016-08-28 02:41:46.060</td>\n",
       "      <td>42.8078</td>\n",
       "      <td>13.1502</td>\n",
       "      <td>10.3</td>\n",
       "      <td>2.6</td>\n",
       "    </tr>\n",
       "    <tr>\n",
       "      <th>1685</th>\n",
       "      <td>2016-09-05 11:07:23.770</td>\n",
       "      <td>42.8462</td>\n",
       "      <td>13.2093</td>\n",
       "      <td>7.6</td>\n",
       "      <td>2.8</td>\n",
       "    </tr>\n",
       "    <tr>\n",
       "      <th>1535</th>\n",
       "      <td>2016-09-03 01:44:05.110</td>\n",
       "      <td>42.5932</td>\n",
       "      <td>13.3113</td>\n",
       "      <td>11.6</td>\n",
       "      <td>2.0</td>\n",
       "    </tr>\n",
       "    <tr>\n",
       "      <th>692</th>\n",
       "      <td>2016-08-25 18:00:51.910</td>\n",
       "      <td>42.8285</td>\n",
       "      <td>13.2318</td>\n",
       "      <td>8.6</td>\n",
       "      <td>2.1</td>\n",
       "    </tr>\n",
       "    <tr>\n",
       "      <th>2374</th>\n",
       "      <td>2016-10-10 22:32:16.270</td>\n",
       "      <td>42.7528</td>\n",
       "      <td>13.1318</td>\n",
       "      <td>9.3</td>\n",
       "      <td>2.0</td>\n",
       "    </tr>\n",
       "    <tr>\n",
       "      <th>975</th>\n",
       "      <td>2016-08-27 02:03:25.050</td>\n",
       "      <td>42.6707</td>\n",
       "      <td>13.2747</td>\n",
       "      <td>10.4</td>\n",
       "      <td>2.4</td>\n",
       "    </tr>\n",
       "  </tbody>\n",
       "</table>\n",
       "</div>"
      ],
      "text/plain": [
       "                         Time  Latitude  Longitude  Depth/Km  Magnitude\n",
       "2015  2016-09-16 03:08:26.980   42.8762    13.2630       9.8        2.0\n",
       "7959  2016-11-29 02:32:24.750   43.0777    13.0848       7.8        2.0\n",
       "5308  2016-11-04 03:30:38.050   43.0525    13.0582       9.9        2.1\n",
       "3306  2016-10-29 05:15:23.660   42.8562    13.1587       9.4        2.1\n",
       "1121  2016-08-28 02:41:46.060   42.8078    13.1502      10.3        2.6\n",
       "1685  2016-09-05 11:07:23.770   42.8462    13.2093       7.6        2.8\n",
       "1535  2016-09-03 01:44:05.110   42.5932    13.3113      11.6        2.0\n",
       "692   2016-08-25 18:00:51.910   42.8285    13.2318       8.6        2.1\n",
       "2374  2016-10-10 22:32:16.270   42.7528    13.1318       9.3        2.0\n",
       "975   2016-08-27 02:03:25.050   42.6707    13.2747      10.4        2.4"
      ]
     },
     "execution_count": 2,
     "metadata": {},
     "output_type": "execute_result"
    }
   ],
   "source": [
    "df1 = pd.read_csv('./Datasets/italy_earthquakes_from_2016-08-24_to_2016-11-30.csv')\n",
    "df1.sample(10)"
   ]
  },
  {
   "cell_type": "markdown",
   "id": "0b604ac5",
   "metadata": {},
   "source": [
    "## 2"
   ]
  },
  {
   "cell_type": "code",
   "execution_count": 3,
   "id": "5fac959d",
   "metadata": {},
   "outputs": [
    {
     "data": {
      "text/html": [
       "<div>\n",
       "<style scoped>\n",
       "    .dataframe tbody tr th:only-of-type {\n",
       "        vertical-align: middle;\n",
       "    }\n",
       "\n",
       "    .dataframe tbody tr th {\n",
       "        vertical-align: top;\n",
       "    }\n",
       "\n",
       "    .dataframe thead th {\n",
       "        text-align: right;\n",
       "    }\n",
       "</style>\n",
       "<table border=\"1\" class=\"dataframe\">\n",
       "  <thead>\n",
       "    <tr style=\"text-align: right;\">\n",
       "      <th></th>\n",
       "      <th>Latitude</th>\n",
       "      <th>Longitude</th>\n",
       "      <th>Depth/Km</th>\n",
       "      <th>Magnitude</th>\n",
       "    </tr>\n",
       "    <tr>\n",
       "      <th>Timestamp</th>\n",
       "      <th></th>\n",
       "      <th></th>\n",
       "      <th></th>\n",
       "      <th></th>\n",
       "    </tr>\n",
       "  </thead>\n",
       "  <tbody>\n",
       "    <tr>\n",
       "      <th>2016-08-24 03:36:32.000</th>\n",
       "      <td>42.6983</td>\n",
       "      <td>13.2335</td>\n",
       "      <td>8.1</td>\n",
       "      <td>6.0</td>\n",
       "    </tr>\n",
       "    <tr>\n",
       "      <th>2016-08-24 03:37:26.580</th>\n",
       "      <td>42.7123</td>\n",
       "      <td>13.2533</td>\n",
       "      <td>9.0</td>\n",
       "      <td>4.5</td>\n",
       "    </tr>\n",
       "    <tr>\n",
       "      <th>2016-08-24 03:40:46.590</th>\n",
       "      <td>42.7647</td>\n",
       "      <td>13.1723</td>\n",
       "      <td>9.7</td>\n",
       "      <td>3.8</td>\n",
       "    </tr>\n",
       "    <tr>\n",
       "      <th>2016-08-24 03:41:38.900</th>\n",
       "      <td>42.7803</td>\n",
       "      <td>13.1683</td>\n",
       "      <td>9.7</td>\n",
       "      <td>3.9</td>\n",
       "    </tr>\n",
       "    <tr>\n",
       "      <th>2016-08-24 03:42:07.170</th>\n",
       "      <td>42.7798</td>\n",
       "      <td>13.1575</td>\n",
       "      <td>9.7</td>\n",
       "      <td>3.6</td>\n",
       "    </tr>\n",
       "    <tr>\n",
       "      <th>...</th>\n",
       "      <td>...</td>\n",
       "      <td>...</td>\n",
       "      <td>...</td>\n",
       "      <td>...</td>\n",
       "    </tr>\n",
       "    <tr>\n",
       "      <th>2016-11-30 18:39:27.600</th>\n",
       "      <td>42.8903</td>\n",
       "      <td>13.0197</td>\n",
       "      <td>10.7</td>\n",
       "      <td>2.0</td>\n",
       "    </tr>\n",
       "    <tr>\n",
       "      <th>2016-11-30 18:43:14.850</th>\n",
       "      <td>42.9443</td>\n",
       "      <td>13.2003</td>\n",
       "      <td>8.6</td>\n",
       "      <td>2.6</td>\n",
       "    </tr>\n",
       "    <tr>\n",
       "      <th>2016-11-30 20:18:27.550</th>\n",
       "      <td>43.0092</td>\n",
       "      <td>13.1288</td>\n",
       "      <td>8.0</td>\n",
       "      <td>2.2</td>\n",
       "    </tr>\n",
       "    <tr>\n",
       "      <th>2016-11-30 20:45:11.780</th>\n",
       "      <td>43.0197</td>\n",
       "      <td>13.1017</td>\n",
       "      <td>9.3</td>\n",
       "      <td>2.7</td>\n",
       "    </tr>\n",
       "    <tr>\n",
       "      <th>2016-11-30 20:54:35.890</th>\n",
       "      <td>42.9935</td>\n",
       "      <td>13.0753</td>\n",
       "      <td>9.5</td>\n",
       "      <td>2.3</td>\n",
       "    </tr>\n",
       "  </tbody>\n",
       "</table>\n",
       "<p>8086 rows × 4 columns</p>\n",
       "</div>"
      ],
      "text/plain": [
       "                         Latitude  Longitude  Depth/Km  Magnitude\n",
       "Timestamp                                                        \n",
       "2016-08-24 03:36:32.000   42.6983    13.2335       8.1        6.0\n",
       "2016-08-24 03:37:26.580   42.7123    13.2533       9.0        4.5\n",
       "2016-08-24 03:40:46.590   42.7647    13.1723       9.7        3.8\n",
       "2016-08-24 03:41:38.900   42.7803    13.1683       9.7        3.9\n",
       "2016-08-24 03:42:07.170   42.7798    13.1575       9.7        3.6\n",
       "...                           ...        ...       ...        ...\n",
       "2016-11-30 18:39:27.600   42.8903    13.0197      10.7        2.0\n",
       "2016-11-30 18:43:14.850   42.9443    13.2003       8.6        2.6\n",
       "2016-11-30 20:18:27.550   43.0092    13.1288       8.0        2.2\n",
       "2016-11-30 20:45:11.780   43.0197    13.1017       9.3        2.7\n",
       "2016-11-30 20:54:35.890   42.9935    13.0753       9.5        2.3\n",
       "\n",
       "[8086 rows x 4 columns]"
      ]
     },
     "execution_count": 3,
     "metadata": {},
     "output_type": "execute_result"
    }
   ],
   "source": [
    "df1.rename(columns={'Time':'Timestamp'},inplace = True)\n",
    "df1['Timestamp'] = pd.to_datetime(df1.Timestamp)\n",
    "df1 = df1.set_index('Timestamp')\n",
    "df1"
   ]
  },
  {
   "cell_type": "markdown",
   "id": "d31444ac",
   "metadata": {},
   "source": [
    "## 3"
   ]
  },
  {
   "cell_type": "code",
   "execution_count": 4,
   "id": "dd9aacbd",
   "metadata": {},
   "outputs": [
    {
     "data": {
      "text/plain": [
       "Timestamp\n",
       "2016-10-30 08:40:17.360    6.5\n",
       "Name: Magnitude, dtype: float64"
      ]
     },
     "execution_count": 4,
     "metadata": {},
     "output_type": "execute_result"
    }
   ],
   "source": [
    "df1['Magnitude'][df1.Magnitude == df1.Magnitude.max()]"
   ]
  },
  {
   "cell_type": "markdown",
   "id": "fde76276",
   "metadata": {},
   "source": [
    "## 4"
   ]
  },
  {
   "cell_type": "code",
   "execution_count": 5,
   "id": "f47289dc",
   "metadata": {},
   "outputs": [
    {
     "data": {
      "text/plain": [
       "389"
      ]
     },
     "execution_count": 5,
     "metadata": {},
     "output_type": "execute_result"
    }
   ],
   "source": [
    "df1.loc['2016-10-30'].count().max()"
   ]
  },
  {
   "cell_type": "markdown",
   "id": "4e5af683",
   "metadata": {},
   "source": [
    "## 5"
   ]
  },
  {
   "cell_type": "code",
   "execution_count": 6,
   "id": "8a84309e",
   "metadata": {},
   "outputs": [
    {
     "data": {
      "text/html": [
       "<div>\n",
       "<style scoped>\n",
       "    .dataframe tbody tr th:only-of-type {\n",
       "        vertical-align: middle;\n",
       "    }\n",
       "\n",
       "    .dataframe tbody tr th {\n",
       "        vertical-align: top;\n",
       "    }\n",
       "\n",
       "    .dataframe thead th {\n",
       "        text-align: right;\n",
       "    }\n",
       "</style>\n",
       "<table border=\"1\" class=\"dataframe\">\n",
       "  <thead>\n",
       "    <tr style=\"text-align: right;\">\n",
       "      <th></th>\n",
       "      <th>Latitude</th>\n",
       "      <th>Longitude</th>\n",
       "      <th>Depth/Km</th>\n",
       "      <th>Magnitude</th>\n",
       "    </tr>\n",
       "    <tr>\n",
       "      <th>Timestamp</th>\n",
       "      <th></th>\n",
       "      <th></th>\n",
       "      <th></th>\n",
       "      <th></th>\n",
       "    </tr>\n",
       "  </thead>\n",
       "  <tbody>\n",
       "    <tr>\n",
       "      <th>2016-10-30 07:01:14.060</th>\n",
       "      <td>42.8522</td>\n",
       "      <td>13.2443</td>\n",
       "      <td>8.9</td>\n",
       "      <td>2.4</td>\n",
       "    </tr>\n",
       "    <tr>\n",
       "      <th>2016-10-30 07:02:48.160</th>\n",
       "      <td>42.8538</td>\n",
       "      <td>13.2342</td>\n",
       "      <td>8.3</td>\n",
       "      <td>2.5</td>\n",
       "    </tr>\n",
       "    <tr>\n",
       "      <th>2016-10-30 07:14:48.470</th>\n",
       "      <td>42.8737</td>\n",
       "      <td>13.1502</td>\n",
       "      <td>9.2</td>\n",
       "      <td>2.4</td>\n",
       "    </tr>\n",
       "    <tr>\n",
       "      <th>2016-10-30 07:31:51.660</th>\n",
       "      <td>42.8753</td>\n",
       "      <td>13.0563</td>\n",
       "      <td>9.9</td>\n",
       "      <td>2.2</td>\n",
       "    </tr>\n",
       "    <tr>\n",
       "      <th>2016-10-30 08:04:07.760</th>\n",
       "      <td>42.7907</td>\n",
       "      <td>13.0872</td>\n",
       "      <td>10.2</td>\n",
       "      <td>2.4</td>\n",
       "    </tr>\n",
       "    <tr>\n",
       "      <th>2016-10-30 08:16:28.780</th>\n",
       "      <td>43.0622</td>\n",
       "      <td>13.0683</td>\n",
       "      <td>8.7</td>\n",
       "      <td>2.1</td>\n",
       "    </tr>\n",
       "    <tr>\n",
       "      <th>2016-10-30 08:31:19.890</th>\n",
       "      <td>42.9268</td>\n",
       "      <td>13.0287</td>\n",
       "      <td>10.8</td>\n",
       "      <td>2.0</td>\n",
       "    </tr>\n",
       "    <tr>\n",
       "      <th>2016-10-30 08:40:17.360</th>\n",
       "      <td>42.8322</td>\n",
       "      <td>13.1107</td>\n",
       "      <td>9.2</td>\n",
       "      <td>6.5</td>\n",
       "    </tr>\n",
       "    <tr>\n",
       "      <th>2016-10-30 08:41:17.010</th>\n",
       "      <td>42.7720</td>\n",
       "      <td>13.1358</td>\n",
       "      <td>9.3</td>\n",
       "      <td>4.3</td>\n",
       "    </tr>\n",
       "    <tr>\n",
       "      <th>2016-10-30 08:42:27.470</th>\n",
       "      <td>42.8795</td>\n",
       "      <td>13.0562</td>\n",
       "      <td>9.6</td>\n",
       "      <td>3.9</td>\n",
       "    </tr>\n",
       "    <tr>\n",
       "      <th>2016-10-30 08:43:08.810</th>\n",
       "      <td>42.7668</td>\n",
       "      <td>13.1383</td>\n",
       "      <td>9.7</td>\n",
       "      <td>4.0</td>\n",
       "    </tr>\n",
       "    <tr>\n",
       "      <th>2016-10-30 08:43:46.260</th>\n",
       "      <td>42.9000</td>\n",
       "      <td>13.1455</td>\n",
       "      <td>6.7</td>\n",
       "      <td>3.5</td>\n",
       "    </tr>\n",
       "    <tr>\n",
       "      <th>2016-10-30 08:44:30.670</th>\n",
       "      <td>42.8548</td>\n",
       "      <td>13.0853</td>\n",
       "      <td>8.3</td>\n",
       "      <td>4.6</td>\n",
       "    </tr>\n",
       "    <tr>\n",
       "      <th>2016-10-30 08:47:05.430</th>\n",
       "      <td>42.7868</td>\n",
       "      <td>13.1655</td>\n",
       "      <td>5.8</td>\n",
       "      <td>3.4</td>\n",
       "    </tr>\n",
       "    <tr>\n",
       "      <th>2016-10-30 08:48:27.160</th>\n",
       "      <td>42.7825</td>\n",
       "      <td>13.1632</td>\n",
       "      <td>10.8</td>\n",
       "      <td>3.8</td>\n",
       "    </tr>\n",
       "    <tr>\n",
       "      <th>2016-10-30 08:48:52.710</th>\n",
       "      <td>42.6828</td>\n",
       "      <td>13.2003</td>\n",
       "      <td>10.1</td>\n",
       "      <td>3.9</td>\n",
       "    </tr>\n",
       "    <tr>\n",
       "      <th>2016-10-30 08:50:43.710</th>\n",
       "      <td>42.8068</td>\n",
       "      <td>13.1952</td>\n",
       "      <td>10.5</td>\n",
       "      <td>3.6</td>\n",
       "    </tr>\n",
       "    <tr>\n",
       "      <th>2016-10-30 08:51:14.270</th>\n",
       "      <td>42.8925</td>\n",
       "      <td>13.0782</td>\n",
       "      <td>9.1</td>\n",
       "      <td>3.7</td>\n",
       "    </tr>\n",
       "    <tr>\n",
       "      <th>2016-10-30 08:51:55.240</th>\n",
       "      <td>42.7828</td>\n",
       "      <td>13.1332</td>\n",
       "      <td>10.1</td>\n",
       "      <td>3.8</td>\n",
       "    </tr>\n",
       "    <tr>\n",
       "      <th>2016-10-30 08:53:12.820</th>\n",
       "      <td>42.8090</td>\n",
       "      <td>13.0830</td>\n",
       "      <td>10.1</td>\n",
       "      <td>3.4</td>\n",
       "    </tr>\n",
       "    <tr>\n",
       "      <th>2016-10-30 08:53:54.740</th>\n",
       "      <td>42.7692</td>\n",
       "      <td>13.1643</td>\n",
       "      <td>10.8</td>\n",
       "      <td>3.2</td>\n",
       "    </tr>\n",
       "    <tr>\n",
       "      <th>2016-10-30 08:54:46.760</th>\n",
       "      <td>42.7958</td>\n",
       "      <td>13.2090</td>\n",
       "      <td>11.3</td>\n",
       "      <td>2.8</td>\n",
       "    </tr>\n",
       "    <tr>\n",
       "      <th>2016-10-30 08:55:41.060</th>\n",
       "      <td>42.7122</td>\n",
       "      <td>13.1968</td>\n",
       "      <td>10.8</td>\n",
       "      <td>4.1</td>\n",
       "    </tr>\n",
       "    <tr>\n",
       "      <th>2016-10-30 08:55:54.210</th>\n",
       "      <td>42.7508</td>\n",
       "      <td>13.2307</td>\n",
       "      <td>10.9</td>\n",
       "      <td>4.1</td>\n",
       "    </tr>\n",
       "    <tr>\n",
       "      <th>2016-10-30 08:56:05.780</th>\n",
       "      <td>42.7993</td>\n",
       "      <td>13.1077</td>\n",
       "      <td>10.5</td>\n",
       "      <td>4.2</td>\n",
       "    </tr>\n",
       "    <tr>\n",
       "      <th>2016-10-30 08:56:38.110</th>\n",
       "      <td>42.8437</td>\n",
       "      <td>13.1453</td>\n",
       "      <td>9.7</td>\n",
       "      <td>3.5</td>\n",
       "    </tr>\n",
       "    <tr>\n",
       "      <th>2016-10-30 08:57:21.560</th>\n",
       "      <td>42.8607</td>\n",
       "      <td>13.0922</td>\n",
       "      <td>9.5</td>\n",
       "      <td>3.8</td>\n",
       "    </tr>\n",
       "    <tr>\n",
       "      <th>2016-10-30 08:58:02.960</th>\n",
       "      <td>42.9078</td>\n",
       "      <td>13.1008</td>\n",
       "      <td>7.3</td>\n",
       "      <td>3.5</td>\n",
       "    </tr>\n",
       "    <tr>\n",
       "      <th>2016-10-30 08:59:31.500</th>\n",
       "      <td>42.8517</td>\n",
       "      <td>13.2118</td>\n",
       "      <td>9.9</td>\n",
       "      <td>3.9</td>\n",
       "    </tr>\n",
       "    <tr>\n",
       "      <th>2016-10-30 08:59:45.430</th>\n",
       "      <td>42.8235</td>\n",
       "      <td>13.1828</td>\n",
       "      <td>12.7</td>\n",
       "      <td>3.6</td>\n",
       "    </tr>\n",
       "  </tbody>\n",
       "</table>\n",
       "</div>"
      ],
      "text/plain": [
       "                         Latitude  Longitude  Depth/Km  Magnitude\n",
       "Timestamp                                                        \n",
       "2016-10-30 07:01:14.060   42.8522    13.2443       8.9        2.4\n",
       "2016-10-30 07:02:48.160   42.8538    13.2342       8.3        2.5\n",
       "2016-10-30 07:14:48.470   42.8737    13.1502       9.2        2.4\n",
       "2016-10-30 07:31:51.660   42.8753    13.0563       9.9        2.2\n",
       "2016-10-30 08:04:07.760   42.7907    13.0872      10.2        2.4\n",
       "2016-10-30 08:16:28.780   43.0622    13.0683       8.7        2.1\n",
       "2016-10-30 08:31:19.890   42.9268    13.0287      10.8        2.0\n",
       "2016-10-30 08:40:17.360   42.8322    13.1107       9.2        6.5\n",
       "2016-10-30 08:41:17.010   42.7720    13.1358       9.3        4.3\n",
       "2016-10-30 08:42:27.470   42.8795    13.0562       9.6        3.9\n",
       "2016-10-30 08:43:08.810   42.7668    13.1383       9.7        4.0\n",
       "2016-10-30 08:43:46.260   42.9000    13.1455       6.7        3.5\n",
       "2016-10-30 08:44:30.670   42.8548    13.0853       8.3        4.6\n",
       "2016-10-30 08:47:05.430   42.7868    13.1655       5.8        3.4\n",
       "2016-10-30 08:48:27.160   42.7825    13.1632      10.8        3.8\n",
       "2016-10-30 08:48:52.710   42.6828    13.2003      10.1        3.9\n",
       "2016-10-30 08:50:43.710   42.8068    13.1952      10.5        3.6\n",
       "2016-10-30 08:51:14.270   42.8925    13.0782       9.1        3.7\n",
       "2016-10-30 08:51:55.240   42.7828    13.1332      10.1        3.8\n",
       "2016-10-30 08:53:12.820   42.8090    13.0830      10.1        3.4\n",
       "2016-10-30 08:53:54.740   42.7692    13.1643      10.8        3.2\n",
       "2016-10-30 08:54:46.760   42.7958    13.2090      11.3        2.8\n",
       "2016-10-30 08:55:41.060   42.7122    13.1968      10.8        4.1\n",
       "2016-10-30 08:55:54.210   42.7508    13.2307      10.9        4.1\n",
       "2016-10-30 08:56:05.780   42.7993    13.1077      10.5        4.2\n",
       "2016-10-30 08:56:38.110   42.8437    13.1453       9.7        3.5\n",
       "2016-10-30 08:57:21.560   42.8607    13.0922       9.5        3.8\n",
       "2016-10-30 08:58:02.960   42.9078    13.1008       7.3        3.5\n",
       "2016-10-30 08:59:31.500   42.8517    13.2118       9.9        3.9\n",
       "2016-10-30 08:59:45.430   42.8235    13.1828      12.7        3.6"
      ]
     },
     "execution_count": 6,
     "metadata": {},
     "output_type": "execute_result"
    }
   ],
   "source": [
    "save_df = df1[\n",
    "    (df1.index >= '2016-10-30 07:00:00') & \n",
    "    (df1.index <= '2016-10-30 09:00:00')].sort_index(ascending=True)\n",
    "save_df"
   ]
  },
  {
   "cell_type": "markdown",
   "id": "f95f2d78",
   "metadata": {},
   "source": [
    "## 6"
   ]
  },
  {
   "cell_type": "code",
   "execution_count": 7,
   "id": "a2d4b0ac",
   "metadata": {},
   "outputs": [
    {
     "data": {
      "text/plain": [
       "TimedeltaIndex(['67 days 05:03:45.360000'], dtype='timedelta64[ns]', name='Timestamp', freq=None)"
      ]
     },
     "execution_count": 7,
     "metadata": {},
     "output_type": "execute_result"
    }
   ],
   "source": [
    "Ranking = df1['Magnitude'].sort_values(ascending=False)\n",
    "R1 = Ranking.iloc[0:1].index - Ranking.iloc[1:2].index\n",
    "R1"
   ]
  },
  {
   "cell_type": "markdown",
   "id": "62c5f94b",
   "metadata": {},
   "source": [
    "## 7"
   ]
  },
  {
   "cell_type": "code",
   "execution_count": 8,
   "id": "e9e159a5",
   "metadata": {},
   "outputs": [
    {
     "data": {
      "text/plain": [
       "Timestamp\n",
       "2016-10-30 07:01:14.060    NaN\n",
       "2016-10-30 07:02:48.160    0.1\n",
       "2016-10-30 07:14:48.470   -0.1\n",
       "2016-10-30 07:31:51.660   -0.2\n",
       "2016-10-30 08:04:07.760    0.2\n",
       "2016-10-30 08:16:28.780   -0.3\n",
       "2016-10-30 08:31:19.890   -0.1\n",
       "2016-10-30 08:40:17.360    4.5\n",
       "2016-10-30 08:41:17.010   -2.2\n",
       "2016-10-30 08:42:27.470   -0.4\n",
       "2016-10-30 08:43:08.810    0.1\n",
       "2016-10-30 08:43:46.260   -0.5\n",
       "2016-10-30 08:44:30.670    1.1\n",
       "2016-10-30 08:47:05.430   -1.2\n",
       "2016-10-30 08:48:27.160    0.4\n",
       "2016-10-30 08:48:52.710    0.1\n",
       "2016-10-30 08:50:43.710   -0.3\n",
       "2016-10-30 08:51:14.270    0.1\n",
       "2016-10-30 08:51:55.240    0.1\n",
       "2016-10-30 08:53:12.820   -0.4\n",
       "2016-10-30 08:53:54.740   -0.2\n",
       "2016-10-30 08:54:46.760   -0.4\n",
       "2016-10-30 08:55:41.060    1.3\n",
       "2016-10-30 08:55:54.210    0.0\n",
       "2016-10-30 08:56:05.780    0.1\n",
       "2016-10-30 08:56:38.110   -0.7\n",
       "2016-10-30 08:57:21.560    0.3\n",
       "2016-10-30 08:58:02.960   -0.3\n",
       "2016-10-30 08:59:31.500    0.4\n",
       "2016-10-30 08:59:45.430   -0.3\n",
       "Name: Magnitude, dtype: float64"
      ]
     },
     "execution_count": 8,
     "metadata": {},
     "output_type": "execute_result"
    }
   ],
   "source": [
    "save_df['Magnitude'].diff()"
   ]
  },
  {
   "cell_type": "markdown",
   "id": "195f4e1b",
   "metadata": {},
   "source": [
    "## 8"
   ]
  },
  {
   "cell_type": "code",
   "execution_count": 9,
   "id": "ef015d83",
   "metadata": {},
   "outputs": [
    {
     "data": {
      "text/plain": [
       "Timestamp\n",
       "1     440\n",
       "2     364\n",
       "3     431\n",
       "4     293\n",
       "5     309\n",
       "6     311\n",
       "7     280\n",
       "8     161\n",
       "9     202\n",
       "10    155\n",
       "11    141\n",
       "12    173\n",
       "13    132\n",
       "14    152\n",
       "15    124\n",
       "16    101\n",
       "17    111\n",
       "18     72\n",
       "19    113\n",
       "20     94\n",
       "21     92\n",
       "22     77\n",
       "23     68\n",
       "24    583\n",
       "25    303\n",
       "26    362\n",
       "27    594\n",
       "28    492\n",
       "29    313\n",
       "30    516\n",
       "31    527\n",
       "Name: Magnitude, dtype: int64"
      ]
     },
     "execution_count": 9,
     "metadata": {},
     "output_type": "execute_result"
    }
   ],
   "source": [
    "df1.groupby(df1.index.day)['Magnitude'].count()"
   ]
  },
  {
   "cell_type": "markdown",
   "id": "5e4979cf",
   "metadata": {},
   "source": [
    "## 9"
   ]
  },
  {
   "cell_type": "code",
   "execution_count": 10,
   "id": "2d5ab6de",
   "metadata": {},
   "outputs": [
    {
     "data": {
      "text/plain": [
       "Timestamp\n",
       "0     333\n",
       "1     303\n",
       "2     307\n",
       "3     303\n",
       "4     343\n",
       "5     395\n",
       "6     403\n",
       "7     401\n",
       "8     363\n",
       "9     388\n",
       "10    336\n",
       "11    327\n",
       "12    338\n",
       "13    315\n",
       "14    351\n",
       "15    331\n",
       "16    295\n",
       "17    317\n",
       "18    317\n",
       "19    340\n",
       "20    314\n",
       "21    310\n",
       "22    317\n",
       "23    339\n",
       "Name: Magnitude, dtype: int64"
      ]
     },
     "execution_count": 10,
     "metadata": {},
     "output_type": "execute_result"
    }
   ],
   "source": [
    "df1.groupby(df1.index.hour)['Magnitude'].count()"
   ]
  },
  {
   "cell_type": "markdown",
   "id": "5b28aa53",
   "metadata": {},
   "source": [
    "## 10"
   ]
  },
  {
   "cell_type": "code",
   "execution_count": 11,
   "id": "7930737c",
   "metadata": {},
   "outputs": [
    {
     "data": {
      "text/plain": [
       "5.4"
      ]
     },
     "execution_count": 11,
     "metadata": {},
     "output_type": "execute_result"
    }
   ],
   "source": [
    "df1['Magnitude'].resample('5min').mean().max()"
   ]
  },
  {
   "cell_type": "markdown",
   "id": "3638fa67",
   "metadata": {},
   "source": [
    "## 11"
   ]
  },
  {
   "cell_type": "code",
   "execution_count": 12,
   "id": "6e262af3",
   "metadata": {},
   "outputs": [
    {
     "data": {
      "text/plain": [
       "0"
      ]
     },
     "execution_count": 12,
     "metadata": {},
     "output_type": "execute_result"
    }
   ],
   "source": [
    "df1['Magnitude'][df1.Magnitude == 0].count()"
   ]
  },
  {
   "cell_type": "markdown",
   "id": "8adbc7b6",
   "metadata": {},
   "source": [
    "## 12"
   ]
  },
  {
   "cell_type": "code",
   "execution_count": 13,
   "id": "f1f9c7d9",
   "metadata": {},
   "outputs": [
    {
     "data": {
      "text/plain": [
       "Timestamp\n",
       "0     False\n",
       "1     False\n",
       "2     False\n",
       "3     False\n",
       "4     False\n",
       "5     False\n",
       "6     False\n",
       "7     False\n",
       "8     False\n",
       "9     False\n",
       "10    False\n",
       "11    False\n",
       "12    False\n",
       "13    False\n",
       "14    False\n",
       "15    False\n",
       "16    False\n",
       "17    False\n",
       "18    False\n",
       "19    False\n",
       "20    False\n",
       "21    False\n",
       "22    False\n",
       "23    False\n",
       "Name: Magnitude, dtype: bool"
      ]
     },
     "execution_count": 13,
     "metadata": {},
     "output_type": "execute_result"
    }
   ],
   "source": [
    "df1.groupby(df1.index.hour)['Magnitude'].count() == 0"
   ]
  },
  {
   "cell_type": "markdown",
   "id": "f057610d",
   "metadata": {},
   "source": [
    "## 13"
   ]
  },
  {
   "cell_type": "code",
   "execution_count": 14,
   "id": "78b7f963",
   "metadata": {},
   "outputs": [
    {
     "data": {
      "text/html": [
       "<div>\n",
       "<style scoped>\n",
       "    .dataframe tbody tr th:only-of-type {\n",
       "        vertical-align: middle;\n",
       "    }\n",
       "\n",
       "    .dataframe tbody tr th {\n",
       "        vertical-align: top;\n",
       "    }\n",
       "\n",
       "    .dataframe thead th {\n",
       "        text-align: right;\n",
       "    }\n",
       "</style>\n",
       "<table border=\"1\" class=\"dataframe\">\n",
       "  <thead>\n",
       "    <tr style=\"text-align: right;\">\n",
       "      <th></th>\n",
       "      <th>Latitude</th>\n",
       "      <th>Longitude</th>\n",
       "      <th>Depth/Km</th>\n",
       "      <th>Magnitude</th>\n",
       "    </tr>\n",
       "    <tr>\n",
       "      <th>Timestamp</th>\n",
       "      <th></th>\n",
       "      <th></th>\n",
       "      <th></th>\n",
       "      <th></th>\n",
       "    </tr>\n",
       "  </thead>\n",
       "  <tbody>\n",
       "    <tr>\n",
       "      <th>2016-08-24 04:33:28.890</th>\n",
       "      <td>42.7922</td>\n",
       "      <td>13.1507</td>\n",
       "      <td>8.0</td>\n",
       "      <td>5.4</td>\n",
       "    </tr>\n",
       "    <tr>\n",
       "      <th>2016-10-26 19:10:36.340</th>\n",
       "      <td>42.8802</td>\n",
       "      <td>13.1275</td>\n",
       "      <td>8.7</td>\n",
       "      <td>5.4</td>\n",
       "    </tr>\n",
       "    <tr>\n",
       "      <th>2016-10-26 21:18:05.850</th>\n",
       "      <td>42.9087</td>\n",
       "      <td>13.1288</td>\n",
       "      <td>7.5</td>\n",
       "      <td>5.9</td>\n",
       "    </tr>\n",
       "    <tr>\n",
       "      <th>2016-10-30 08:40:17.360</th>\n",
       "      <td>42.8322</td>\n",
       "      <td>13.1107</td>\n",
       "      <td>9.2</td>\n",
       "      <td>6.5</td>\n",
       "    </tr>\n",
       "  </tbody>\n",
       "</table>\n",
       "</div>"
      ],
      "text/plain": [
       "                         Latitude  Longitude  Depth/Km  Magnitude\n",
       "Timestamp                                                        \n",
       "2016-08-24 04:33:28.890   42.7922    13.1507       8.0        5.4\n",
       "2016-10-26 19:10:36.340   42.8802    13.1275       8.7        5.4\n",
       "2016-10-26 21:18:05.850   42.9087    13.1288       7.5        5.9\n",
       "2016-10-30 08:40:17.360   42.8322    13.1107       9.2        6.5"
      ]
     },
     "execution_count": 14,
     "metadata": {},
     "output_type": "execute_result"
    }
   ],
   "source": [
    "data = df1[\n",
    "    (df1['Magnitude'] > df1['Magnitude'].shift(1) + 2.0) &\n",
    "    (df1['Magnitude'] > df1['Magnitude'].shift(-1) + 2.0)\n",
    "]\n",
    "data"
   ]
  },
  {
   "cell_type": "markdown",
   "id": "fa5ee45b",
   "metadata": {},
   "source": [
    "## 14"
   ]
  },
  {
   "cell_type": "code",
   "execution_count": 15,
   "id": "308e5b98",
   "metadata": {},
   "outputs": [
    {
     "data": {
      "text/html": [
       "<div>\n",
       "<style scoped>\n",
       "    .dataframe tbody tr th:only-of-type {\n",
       "        vertical-align: middle;\n",
       "    }\n",
       "\n",
       "    .dataframe tbody tr th {\n",
       "        vertical-align: top;\n",
       "    }\n",
       "\n",
       "    .dataframe thead th {\n",
       "        text-align: right;\n",
       "    }\n",
       "</style>\n",
       "<table border=\"1\" class=\"dataframe\">\n",
       "  <thead>\n",
       "    <tr style=\"text-align: right;\">\n",
       "      <th></th>\n",
       "      <th>Latitude</th>\n",
       "      <th>Longitude</th>\n",
       "      <th>Depth/Km</th>\n",
       "      <th>Magnitude</th>\n",
       "      <th>hour_count</th>\n",
       "    </tr>\n",
       "    <tr>\n",
       "      <th>Timestamp</th>\n",
       "      <th></th>\n",
       "      <th></th>\n",
       "      <th></th>\n",
       "      <th></th>\n",
       "      <th></th>\n",
       "    </tr>\n",
       "  </thead>\n",
       "  <tbody>\n",
       "    <tr>\n",
       "      <th>2016-08-24 03:36:32.000</th>\n",
       "      <td>42.6983</td>\n",
       "      <td>13.2335</td>\n",
       "      <td>8.1</td>\n",
       "      <td>6.0</td>\n",
       "      <td>303</td>\n",
       "    </tr>\n",
       "    <tr>\n",
       "      <th>2016-08-24 03:37:26.580</th>\n",
       "      <td>42.7123</td>\n",
       "      <td>13.2533</td>\n",
       "      <td>9.0</td>\n",
       "      <td>4.5</td>\n",
       "      <td>303</td>\n",
       "    </tr>\n",
       "    <tr>\n",
       "      <th>2016-08-24 03:40:46.590</th>\n",
       "      <td>42.7647</td>\n",
       "      <td>13.1723</td>\n",
       "      <td>9.7</td>\n",
       "      <td>3.8</td>\n",
       "      <td>303</td>\n",
       "    </tr>\n",
       "    <tr>\n",
       "      <th>2016-08-24 03:41:38.900</th>\n",
       "      <td>42.7803</td>\n",
       "      <td>13.1683</td>\n",
       "      <td>9.7</td>\n",
       "      <td>3.9</td>\n",
       "      <td>303</td>\n",
       "    </tr>\n",
       "    <tr>\n",
       "      <th>2016-08-24 03:42:07.170</th>\n",
       "      <td>42.7798</td>\n",
       "      <td>13.1575</td>\n",
       "      <td>9.7</td>\n",
       "      <td>3.6</td>\n",
       "      <td>303</td>\n",
       "    </tr>\n",
       "    <tr>\n",
       "      <th>...</th>\n",
       "      <td>...</td>\n",
       "      <td>...</td>\n",
       "      <td>...</td>\n",
       "      <td>...</td>\n",
       "      <td>...</td>\n",
       "    </tr>\n",
       "    <tr>\n",
       "      <th>2016-11-30 18:39:27.600</th>\n",
       "      <td>42.8903</td>\n",
       "      <td>13.0197</td>\n",
       "      <td>10.7</td>\n",
       "      <td>2.0</td>\n",
       "      <td>317</td>\n",
       "    </tr>\n",
       "    <tr>\n",
       "      <th>2016-11-30 18:43:14.850</th>\n",
       "      <td>42.9443</td>\n",
       "      <td>13.2003</td>\n",
       "      <td>8.6</td>\n",
       "      <td>2.6</td>\n",
       "      <td>317</td>\n",
       "    </tr>\n",
       "    <tr>\n",
       "      <th>2016-11-30 20:18:27.550</th>\n",
       "      <td>43.0092</td>\n",
       "      <td>13.1288</td>\n",
       "      <td>8.0</td>\n",
       "      <td>2.2</td>\n",
       "      <td>314</td>\n",
       "    </tr>\n",
       "    <tr>\n",
       "      <th>2016-11-30 20:45:11.780</th>\n",
       "      <td>43.0197</td>\n",
       "      <td>13.1017</td>\n",
       "      <td>9.3</td>\n",
       "      <td>2.7</td>\n",
       "      <td>314</td>\n",
       "    </tr>\n",
       "    <tr>\n",
       "      <th>2016-11-30 20:54:35.890</th>\n",
       "      <td>42.9935</td>\n",
       "      <td>13.0753</td>\n",
       "      <td>9.5</td>\n",
       "      <td>2.3</td>\n",
       "      <td>314</td>\n",
       "    </tr>\n",
       "  </tbody>\n",
       "</table>\n",
       "<p>8086 rows × 5 columns</p>\n",
       "</div>"
      ],
      "text/plain": [
       "                         Latitude  Longitude  Depth/Km  Magnitude  hour_count\n",
       "Timestamp                                                                    \n",
       "2016-08-24 03:36:32.000   42.6983    13.2335       8.1        6.0         303\n",
       "2016-08-24 03:37:26.580   42.7123    13.2533       9.0        4.5         303\n",
       "2016-08-24 03:40:46.590   42.7647    13.1723       9.7        3.8         303\n",
       "2016-08-24 03:41:38.900   42.7803    13.1683       9.7        3.9         303\n",
       "2016-08-24 03:42:07.170   42.7798    13.1575       9.7        3.6         303\n",
       "...                           ...        ...       ...        ...         ...\n",
       "2016-11-30 18:39:27.600   42.8903    13.0197      10.7        2.0         317\n",
       "2016-11-30 18:43:14.850   42.9443    13.2003       8.6        2.6         317\n",
       "2016-11-30 20:18:27.550   43.0092    13.1288       8.0        2.2         314\n",
       "2016-11-30 20:45:11.780   43.0197    13.1017       9.3        2.7         314\n",
       "2016-11-30 20:54:35.890   42.9935    13.0753       9.5        2.3         314\n",
       "\n",
       "[8086 rows x 5 columns]"
      ]
     },
     "execution_count": 15,
     "metadata": {},
     "output_type": "execute_result"
    }
   ],
   "source": [
    "df_New_col = df1\n",
    "df_New_col['hour_count'] = 0\n",
    "for i in df_New_col.index.hour:\n",
    "        df_New_col.loc[df_New_col.index.hour == i, 'hour_count'] += 1\n",
    "df_New_col"
   ]
  },
  {
   "cell_type": "markdown",
   "id": "a3b9b361",
   "metadata": {},
   "source": [
    "## 15"
   ]
  },
  {
   "cell_type": "code",
   "execution_count": 16,
   "id": "d550af11",
   "metadata": {},
   "outputs": [
    {
     "data": {
      "text/plain": [
       "Timestamp\n",
       "0     333\n",
       "1     303\n",
       "2     307\n",
       "3     303\n",
       "4     343\n",
       "5     395\n",
       "6     403\n",
       "7     401\n",
       "8     363\n",
       "9     388\n",
       "10    336\n",
       "11    327\n",
       "12    338\n",
       "13    315\n",
       "14    351\n",
       "15    331\n",
       "16    295\n",
       "17    317\n",
       "18    317\n",
       "19    340\n",
       "20    314\n",
       "21    310\n",
       "22    317\n",
       "23    339\n",
       "Name: Magnitude, dtype: int64"
      ]
     },
     "execution_count": 16,
     "metadata": {},
     "output_type": "execute_result"
    }
   ],
   "source": [
    "df1.groupby(df1.index.hour)['Magnitude'].count()"
   ]
  },
  {
   "cell_type": "markdown",
   "id": "4abd8c99",
   "metadata": {},
   "source": [
    "## 16"
   ]
  },
  {
   "cell_type": "code",
   "execution_count": 17,
   "id": "a8e708d2",
   "metadata": {},
   "outputs": [
    {
     "data": {
      "text/plain": [
       "Timestamp\n",
       "2016-08-24 03:36:32.000    NaN\n",
       "2016-08-24 03:37:26.580    NaN\n",
       "2016-08-24 03:40:46.590    6.0\n",
       "2016-08-24 03:41:38.900    4.5\n",
       "2016-08-24 03:42:07.170    3.9\n",
       "                          ... \n",
       "2016-11-30 18:39:27.600    2.3\n",
       "2016-11-30 18:43:14.850    2.6\n",
       "2016-11-30 20:18:27.550    2.6\n",
       "2016-11-30 20:45:11.780    2.7\n",
       "2016-11-30 20:54:35.890    2.7\n",
       "Name: Magnitude, Length: 8086, dtype: float64"
      ]
     },
     "execution_count": 17,
     "metadata": {},
     "output_type": "execute_result"
    }
   ],
   "source": [
    "df1['Magnitude'].rolling(window=3).max()"
   ]
  },
  {
   "cell_type": "code",
   "execution_count": null,
   "id": "6b1f27da",
   "metadata": {},
   "outputs": [],
   "source": []
  }
 ],
 "metadata": {
  "kernelspec": {
   "display_name": "dl_env",
   "language": "python",
   "name": "dl_env"
  },
  "language_info": {
   "codemirror_mode": {
    "name": "ipython",
    "version": 3
   },
   "file_extension": ".py",
   "mimetype": "text/x-python",
   "name": "python",
   "nbconvert_exporter": "python",
   "pygments_lexer": "ipython3",
   "version": "3.10.12"
  }
 },
 "nbformat": 4,
 "nbformat_minor": 5
}
