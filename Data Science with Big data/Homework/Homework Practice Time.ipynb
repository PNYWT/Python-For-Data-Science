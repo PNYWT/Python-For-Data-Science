{
 "cells": [
  {
   "cell_type": "code",
   "execution_count": 1,
   "id": "830fade1",
   "metadata": {},
   "outputs": [],
   "source": [
    "import pandas as pd"
   ]
  },
  {
   "cell_type": "markdown",
   "id": "08a162fc",
   "metadata": {},
   "source": [
    "# 1 เปิดไฟล์ italy_earthquakes_from_2016-08-24_to_2016-11-30.csv"
   ]
  },
  {
   "cell_type": "code",
   "execution_count": 2,
   "id": "00f6dec1",
   "metadata": {},
   "outputs": [],
   "source": [
    "path = \"italy_earthquakes_from_2016-08-24_to_2016-11-30.csv\"\n",
    "df = pd.read_csv(path)"
   ]
  },
  {
   "cell_type": "code",
   "execution_count": 3,
   "id": "a38979c3",
   "metadata": {},
   "outputs": [
    {
     "data": {
      "text/html": [
       "<div>\n",
       "<style scoped>\n",
       "    .dataframe tbody tr th:only-of-type {\n",
       "        vertical-align: middle;\n",
       "    }\n",
       "\n",
       "    .dataframe tbody tr th {\n",
       "        vertical-align: top;\n",
       "    }\n",
       "\n",
       "    .dataframe thead th {\n",
       "        text-align: right;\n",
       "    }\n",
       "</style>\n",
       "<table border=\"1\" class=\"dataframe\">\n",
       "  <thead>\n",
       "    <tr style=\"text-align: right;\">\n",
       "      <th></th>\n",
       "      <th>Time</th>\n",
       "      <th>Latitude</th>\n",
       "      <th>Longitude</th>\n",
       "      <th>Depth/Km</th>\n",
       "      <th>Magnitude</th>\n",
       "    </tr>\n",
       "  </thead>\n",
       "  <tbody>\n",
       "    <tr>\n",
       "      <th>0</th>\n",
       "      <td>2016-08-24 03:36:32.000</td>\n",
       "      <td>42.6983</td>\n",
       "      <td>13.2335</td>\n",
       "      <td>8.1</td>\n",
       "      <td>6.0</td>\n",
       "    </tr>\n",
       "    <tr>\n",
       "      <th>1</th>\n",
       "      <td>2016-08-24 03:37:26.580</td>\n",
       "      <td>42.7123</td>\n",
       "      <td>13.2533</td>\n",
       "      <td>9.0</td>\n",
       "      <td>4.5</td>\n",
       "    </tr>\n",
       "    <tr>\n",
       "      <th>2</th>\n",
       "      <td>2016-08-24 03:40:46.590</td>\n",
       "      <td>42.7647</td>\n",
       "      <td>13.1723</td>\n",
       "      <td>9.7</td>\n",
       "      <td>3.8</td>\n",
       "    </tr>\n",
       "    <tr>\n",
       "      <th>3</th>\n",
       "      <td>2016-08-24 03:41:38.900</td>\n",
       "      <td>42.7803</td>\n",
       "      <td>13.1683</td>\n",
       "      <td>9.7</td>\n",
       "      <td>3.9</td>\n",
       "    </tr>\n",
       "    <tr>\n",
       "      <th>4</th>\n",
       "      <td>2016-08-24 03:42:07.170</td>\n",
       "      <td>42.7798</td>\n",
       "      <td>13.1575</td>\n",
       "      <td>9.7</td>\n",
       "      <td>3.6</td>\n",
       "    </tr>\n",
       "  </tbody>\n",
       "</table>\n",
       "</div>"
      ],
      "text/plain": [
       "                      Time  Latitude  Longitude  Depth/Km  Magnitude\n",
       "0  2016-08-24 03:36:32.000   42.6983    13.2335       8.1        6.0\n",
       "1  2016-08-24 03:37:26.580   42.7123    13.2533       9.0        4.5\n",
       "2  2016-08-24 03:40:46.590   42.7647    13.1723       9.7        3.8\n",
       "3  2016-08-24 03:41:38.900   42.7803    13.1683       9.7        3.9\n",
       "4  2016-08-24 03:42:07.170   42.7798    13.1575       9.7        3.6"
      ]
     },
     "execution_count": 3,
     "metadata": {},
     "output_type": "execute_result"
    }
   ],
   "source": [
    "df.head()"
   ]
  },
  {
   "cell_type": "code",
   "execution_count": 4,
   "id": "6124c075",
   "metadata": {},
   "outputs": [
    {
     "name": "stdout",
     "output_type": "stream",
     "text": [
      "<class 'pandas.core.frame.DataFrame'>\n",
      "RangeIndex: 8086 entries, 0 to 8085\n",
      "Data columns (total 5 columns):\n",
      " #   Column     Non-Null Count  Dtype  \n",
      "---  ------     --------------  -----  \n",
      " 0   Time       8086 non-null   object \n",
      " 1   Latitude   8086 non-null   float64\n",
      " 2   Longitude  8086 non-null   float64\n",
      " 3   Depth/Km   8086 non-null   float64\n",
      " 4   Magnitude  8086 non-null   float64\n",
      "dtypes: float64(4), object(1)\n",
      "memory usage: 316.0+ KB\n"
     ]
    }
   ],
   "source": [
    "df.info()"
   ]
  },
  {
   "cell_type": "code",
   "execution_count": 5,
   "id": "a1f7a013",
   "metadata": {},
   "outputs": [
    {
     "data": {
      "text/html": [
       "<div>\n",
       "<style scoped>\n",
       "    .dataframe tbody tr th:only-of-type {\n",
       "        vertical-align: middle;\n",
       "    }\n",
       "\n",
       "    .dataframe tbody tr th {\n",
       "        vertical-align: top;\n",
       "    }\n",
       "\n",
       "    .dataframe thead th {\n",
       "        text-align: right;\n",
       "    }\n",
       "</style>\n",
       "<table border=\"1\" class=\"dataframe\">\n",
       "  <thead>\n",
       "    <tr style=\"text-align: right;\">\n",
       "      <th></th>\n",
       "      <th>Time</th>\n",
       "      <th>Latitude</th>\n",
       "      <th>Longitude</th>\n",
       "      <th>Depth/Km</th>\n",
       "      <th>Magnitude</th>\n",
       "    </tr>\n",
       "  </thead>\n",
       "  <tbody>\n",
       "    <tr>\n",
       "      <th>0</th>\n",
       "      <td>2016-08-24 03:36:32.000</td>\n",
       "      <td>42.6983</td>\n",
       "      <td>13.2335</td>\n",
       "      <td>8.1</td>\n",
       "      <td>6.0</td>\n",
       "    </tr>\n",
       "    <tr>\n",
       "      <th>1</th>\n",
       "      <td>2016-08-24 03:37:26.580</td>\n",
       "      <td>42.7123</td>\n",
       "      <td>13.2533</td>\n",
       "      <td>9.0</td>\n",
       "      <td>4.5</td>\n",
       "    </tr>\n",
       "    <tr>\n",
       "      <th>2</th>\n",
       "      <td>2016-08-24 03:40:46.590</td>\n",
       "      <td>42.7647</td>\n",
       "      <td>13.1723</td>\n",
       "      <td>9.7</td>\n",
       "      <td>3.8</td>\n",
       "    </tr>\n",
       "    <tr>\n",
       "      <th>3</th>\n",
       "      <td>2016-08-24 03:41:38.900</td>\n",
       "      <td>42.7803</td>\n",
       "      <td>13.1683</td>\n",
       "      <td>9.7</td>\n",
       "      <td>3.9</td>\n",
       "    </tr>\n",
       "    <tr>\n",
       "      <th>4</th>\n",
       "      <td>2016-08-24 03:42:07.170</td>\n",
       "      <td>42.7798</td>\n",
       "      <td>13.1575</td>\n",
       "      <td>9.7</td>\n",
       "      <td>3.6</td>\n",
       "    </tr>\n",
       "  </tbody>\n",
       "</table>\n",
       "</div>"
      ],
      "text/plain": [
       "                     Time  Latitude  Longitude  Depth/Km  Magnitude\n",
       "0 2016-08-24 03:36:32.000   42.6983    13.2335       8.1        6.0\n",
       "1 2016-08-24 03:37:26.580   42.7123    13.2533       9.0        4.5\n",
       "2 2016-08-24 03:40:46.590   42.7647    13.1723       9.7        3.8\n",
       "3 2016-08-24 03:41:38.900   42.7803    13.1683       9.7        3.9\n",
       "4 2016-08-24 03:42:07.170   42.7798    13.1575       9.7        3.6"
      ]
     },
     "execution_count": 5,
     "metadata": {},
     "output_type": "execute_result"
    }
   ],
   "source": [
    "df[\"Time\"] = pd.to_datetime(df.Time) # แปลงคอลัมน์ \"Time\" เป็น datetime\n",
    "df.head()"
   ]
  },
  {
   "cell_type": "code",
   "execution_count": 6,
   "id": "3c753088",
   "metadata": {},
   "outputs": [
    {
     "data": {
      "text/html": [
       "<div>\n",
       "<style scoped>\n",
       "    .dataframe tbody tr th:only-of-type {\n",
       "        vertical-align: middle;\n",
       "    }\n",
       "\n",
       "    .dataframe tbody tr th {\n",
       "        vertical-align: top;\n",
       "    }\n",
       "\n",
       "    .dataframe thead th {\n",
       "        text-align: right;\n",
       "    }\n",
       "</style>\n",
       "<table border=\"1\" class=\"dataframe\">\n",
       "  <thead>\n",
       "    <tr style=\"text-align: right;\">\n",
       "      <th></th>\n",
       "      <th>Time</th>\n",
       "      <th>Latitude</th>\n",
       "      <th>Longitude</th>\n",
       "      <th>Depth/Km</th>\n",
       "      <th>Magnitude</th>\n",
       "    </tr>\n",
       "  </thead>\n",
       "  <tbody>\n",
       "    <tr>\n",
       "      <th>0</th>\n",
       "      <td>2016-08-24 03:36:32.000</td>\n",
       "      <td>42.6983</td>\n",
       "      <td>13.2335</td>\n",
       "      <td>8.1</td>\n",
       "      <td>6.0</td>\n",
       "    </tr>\n",
       "    <tr>\n",
       "      <th>1</th>\n",
       "      <td>2016-08-24 03:37:26.580</td>\n",
       "      <td>42.7123</td>\n",
       "      <td>13.2533</td>\n",
       "      <td>9.0</td>\n",
       "      <td>4.5</td>\n",
       "    </tr>\n",
       "    <tr>\n",
       "      <th>2</th>\n",
       "      <td>2016-08-24 03:40:46.590</td>\n",
       "      <td>42.7647</td>\n",
       "      <td>13.1723</td>\n",
       "      <td>9.7</td>\n",
       "      <td>3.8</td>\n",
       "    </tr>\n",
       "    <tr>\n",
       "      <th>3</th>\n",
       "      <td>2016-08-24 03:41:38.900</td>\n",
       "      <td>42.7803</td>\n",
       "      <td>13.1683</td>\n",
       "      <td>9.7</td>\n",
       "      <td>3.9</td>\n",
       "    </tr>\n",
       "    <tr>\n",
       "      <th>4</th>\n",
       "      <td>2016-08-24 03:42:07.170</td>\n",
       "      <td>42.7798</td>\n",
       "      <td>13.1575</td>\n",
       "      <td>9.7</td>\n",
       "      <td>3.6</td>\n",
       "    </tr>\n",
       "  </tbody>\n",
       "</table>\n",
       "</div>"
      ],
      "text/plain": [
       "                     Time  Latitude  Longitude  Depth/Km  Magnitude\n",
       "0 2016-08-24 03:36:32.000   42.6983    13.2335       8.1        6.0\n",
       "1 2016-08-24 03:37:26.580   42.7123    13.2533       9.0        4.5\n",
       "2 2016-08-24 03:40:46.590   42.7647    13.1723       9.7        3.8\n",
       "3 2016-08-24 03:41:38.900   42.7803    13.1683       9.7        3.9\n",
       "4 2016-08-24 03:42:07.170   42.7798    13.1575       9.7        3.6"
      ]
     },
     "execution_count": 6,
     "metadata": {},
     "output_type": "execute_result"
    }
   ],
   "source": [
    "df = df.sort_values(by='Time', ascending=True) \n",
    "df.head()"
   ]
  },
  {
   "cell_type": "markdown",
   "id": "41e5e8d5",
   "metadata": {},
   "source": [
    "# 2 ปรับคอลัมน์ Time ให้เป็น Timestamp และตั้งให้เป็น index"
   ]
  },
  {
   "cell_type": "code",
   "execution_count": 7,
   "id": "367aae0d",
   "metadata": {},
   "outputs": [
    {
     "data": {
      "text/html": [
       "<div>\n",
       "<style scoped>\n",
       "    .dataframe tbody tr th:only-of-type {\n",
       "        vertical-align: middle;\n",
       "    }\n",
       "\n",
       "    .dataframe tbody tr th {\n",
       "        vertical-align: top;\n",
       "    }\n",
       "\n",
       "    .dataframe thead th {\n",
       "        text-align: right;\n",
       "    }\n",
       "</style>\n",
       "<table border=\"1\" class=\"dataframe\">\n",
       "  <thead>\n",
       "    <tr style=\"text-align: right;\">\n",
       "      <th></th>\n",
       "      <th>Latitude</th>\n",
       "      <th>Longitude</th>\n",
       "      <th>Depth/Km</th>\n",
       "      <th>Magnitude</th>\n",
       "    </tr>\n",
       "    <tr>\n",
       "      <th>Time</th>\n",
       "      <th></th>\n",
       "      <th></th>\n",
       "      <th></th>\n",
       "      <th></th>\n",
       "    </tr>\n",
       "  </thead>\n",
       "  <tbody>\n",
       "    <tr>\n",
       "      <th>2016-08-24 03:36:32.000</th>\n",
       "      <td>42.6983</td>\n",
       "      <td>13.2335</td>\n",
       "      <td>8.1</td>\n",
       "      <td>6.0</td>\n",
       "    </tr>\n",
       "    <tr>\n",
       "      <th>2016-08-24 03:37:26.580</th>\n",
       "      <td>42.7123</td>\n",
       "      <td>13.2533</td>\n",
       "      <td>9.0</td>\n",
       "      <td>4.5</td>\n",
       "    </tr>\n",
       "    <tr>\n",
       "      <th>2016-08-24 03:40:46.590</th>\n",
       "      <td>42.7647</td>\n",
       "      <td>13.1723</td>\n",
       "      <td>9.7</td>\n",
       "      <td>3.8</td>\n",
       "    </tr>\n",
       "    <tr>\n",
       "      <th>2016-08-24 03:41:38.900</th>\n",
       "      <td>42.7803</td>\n",
       "      <td>13.1683</td>\n",
       "      <td>9.7</td>\n",
       "      <td>3.9</td>\n",
       "    </tr>\n",
       "    <tr>\n",
       "      <th>2016-08-24 03:42:07.170</th>\n",
       "      <td>42.7798</td>\n",
       "      <td>13.1575</td>\n",
       "      <td>9.7</td>\n",
       "      <td>3.6</td>\n",
       "    </tr>\n",
       "    <tr>\n",
       "      <th>...</th>\n",
       "      <td>...</td>\n",
       "      <td>...</td>\n",
       "      <td>...</td>\n",
       "      <td>...</td>\n",
       "    </tr>\n",
       "    <tr>\n",
       "      <th>2016-11-30 18:39:27.600</th>\n",
       "      <td>42.8903</td>\n",
       "      <td>13.0197</td>\n",
       "      <td>10.7</td>\n",
       "      <td>2.0</td>\n",
       "    </tr>\n",
       "    <tr>\n",
       "      <th>2016-11-30 18:43:14.850</th>\n",
       "      <td>42.9443</td>\n",
       "      <td>13.2003</td>\n",
       "      <td>8.6</td>\n",
       "      <td>2.6</td>\n",
       "    </tr>\n",
       "    <tr>\n",
       "      <th>2016-11-30 20:18:27.550</th>\n",
       "      <td>43.0092</td>\n",
       "      <td>13.1288</td>\n",
       "      <td>8.0</td>\n",
       "      <td>2.2</td>\n",
       "    </tr>\n",
       "    <tr>\n",
       "      <th>2016-11-30 20:45:11.780</th>\n",
       "      <td>43.0197</td>\n",
       "      <td>13.1017</td>\n",
       "      <td>9.3</td>\n",
       "      <td>2.7</td>\n",
       "    </tr>\n",
       "    <tr>\n",
       "      <th>2016-11-30 20:54:35.890</th>\n",
       "      <td>42.9935</td>\n",
       "      <td>13.0753</td>\n",
       "      <td>9.5</td>\n",
       "      <td>2.3</td>\n",
       "    </tr>\n",
       "  </tbody>\n",
       "</table>\n",
       "<p>8086 rows × 4 columns</p>\n",
       "</div>"
      ],
      "text/plain": [
       "                         Latitude  Longitude  Depth/Km  Magnitude\n",
       "Time                                                             \n",
       "2016-08-24 03:36:32.000   42.6983    13.2335       8.1        6.0\n",
       "2016-08-24 03:37:26.580   42.7123    13.2533       9.0        4.5\n",
       "2016-08-24 03:40:46.590   42.7647    13.1723       9.7        3.8\n",
       "2016-08-24 03:41:38.900   42.7803    13.1683       9.7        3.9\n",
       "2016-08-24 03:42:07.170   42.7798    13.1575       9.7        3.6\n",
       "...                           ...        ...       ...        ...\n",
       "2016-11-30 18:39:27.600   42.8903    13.0197      10.7        2.0\n",
       "2016-11-30 18:43:14.850   42.9443    13.2003       8.6        2.6\n",
       "2016-11-30 20:18:27.550   43.0092    13.1288       8.0        2.2\n",
       "2016-11-30 20:45:11.780   43.0197    13.1017       9.3        2.7\n",
       "2016-11-30 20:54:35.890   42.9935    13.0753       9.5        2.3\n",
       "\n",
       "[8086 rows x 4 columns]"
      ]
     },
     "execution_count": 7,
     "metadata": {},
     "output_type": "execute_result"
    }
   ],
   "source": [
    "df = df.set_index(\"Time\")\n",
    "df"
   ]
  },
  {
   "cell_type": "markdown",
   "id": "adab058c",
   "metadata": {},
   "source": [
    "# 3 เวลาที่เกิดแผ่นดินไหวแรงที่สุดคือวันเวลาไหน"
   ]
  },
  {
   "cell_type": "code",
   "execution_count": 8,
   "id": "8697e139",
   "metadata": {},
   "outputs": [
    {
     "data": {
      "text/plain": [
       "Timestamp('2016-10-30 08:40:17.360000')"
      ]
     },
     "execution_count": 8,
     "metadata": {},
     "output_type": "execute_result"
    }
   ],
   "source": [
    "# df[df['Magnitude'] == df['Magnitude'].max()]\n",
    "df['Magnitude'].idxmax()"
   ]
  },
  {
   "cell_type": "markdown",
   "id": "4b6904cd",
   "metadata": {},
   "source": [
    "# 4 ในวันที่เกิดแผ่นดินไหวแรงที่สุด มีแผ่นดินไหวกี่ครั้ง"
   ]
  },
  {
   "cell_type": "code",
   "execution_count": 9,
   "id": "bdc4502c",
   "metadata": {},
   "outputs": [
    {
     "data": {
      "text/plain": [
       "Timestamp('2016-10-30 08:40:17.360000')"
      ]
     },
     "execution_count": 9,
     "metadata": {},
     "output_type": "execute_result"
    }
   ],
   "source": [
    "max_magnitude_time = df['Magnitude'].idxmax()\n",
    "max_magnitude_time"
   ]
  },
  {
   "cell_type": "code",
   "execution_count": 10,
   "id": "faf64f1b",
   "metadata": {},
   "outputs": [
    {
     "data": {
      "text/html": [
       "<div>\n",
       "<style scoped>\n",
       "    .dataframe tbody tr th:only-of-type {\n",
       "        vertical-align: middle;\n",
       "    }\n",
       "\n",
       "    .dataframe tbody tr th {\n",
       "        vertical-align: top;\n",
       "    }\n",
       "\n",
       "    .dataframe thead th {\n",
       "        text-align: right;\n",
       "    }\n",
       "</style>\n",
       "<table border=\"1\" class=\"dataframe\">\n",
       "  <thead>\n",
       "    <tr style=\"text-align: right;\">\n",
       "      <th></th>\n",
       "      <th>Latitude</th>\n",
       "      <th>Longitude</th>\n",
       "      <th>Depth/Km</th>\n",
       "      <th>Magnitude</th>\n",
       "    </tr>\n",
       "    <tr>\n",
       "      <th>Time</th>\n",
       "      <th></th>\n",
       "      <th></th>\n",
       "      <th></th>\n",
       "      <th></th>\n",
       "    </tr>\n",
       "  </thead>\n",
       "  <tbody>\n",
       "    <tr>\n",
       "      <th>2016-10-30 00:03:07.710</th>\n",
       "      <td>42.8123</td>\n",
       "      <td>13.0938</td>\n",
       "      <td>10.7</td>\n",
       "      <td>2.8</td>\n",
       "    </tr>\n",
       "    <tr>\n",
       "      <th>2016-10-30 00:04:38.680</th>\n",
       "      <td>42.8428</td>\n",
       "      <td>13.1558</td>\n",
       "      <td>7.6</td>\n",
       "      <td>2.0</td>\n",
       "    </tr>\n",
       "    <tr>\n",
       "      <th>2016-10-30 00:08:08.510</th>\n",
       "      <td>42.8257</td>\n",
       "      <td>13.1005</td>\n",
       "      <td>9.9</td>\n",
       "      <td>3.2</td>\n",
       "    </tr>\n",
       "    <tr>\n",
       "      <th>2016-10-30 00:11:02.990</th>\n",
       "      <td>43.0243</td>\n",
       "      <td>13.0953</td>\n",
       "      <td>7.4</td>\n",
       "      <td>2.2</td>\n",
       "    </tr>\n",
       "    <tr>\n",
       "      <th>2016-10-30 00:14:03.170</th>\n",
       "      <td>42.8902</td>\n",
       "      <td>13.1648</td>\n",
       "      <td>7.6</td>\n",
       "      <td>2.2</td>\n",
       "    </tr>\n",
       "    <tr>\n",
       "      <th>...</th>\n",
       "      <td>...</td>\n",
       "      <td>...</td>\n",
       "      <td>...</td>\n",
       "      <td>...</td>\n",
       "    </tr>\n",
       "    <tr>\n",
       "      <th>2016-10-30 23:50:20.590</th>\n",
       "      <td>42.8813</td>\n",
       "      <td>13.0827</td>\n",
       "      <td>10.0</td>\n",
       "      <td>2.7</td>\n",
       "    </tr>\n",
       "    <tr>\n",
       "      <th>2016-10-30 23:52:53.570</th>\n",
       "      <td>42.8798</td>\n",
       "      <td>13.1907</td>\n",
       "      <td>10.3</td>\n",
       "      <td>2.8</td>\n",
       "    </tr>\n",
       "    <tr>\n",
       "      <th>2016-10-30 23:53:46.730</th>\n",
       "      <td>42.9847</td>\n",
       "      <td>13.0412</td>\n",
       "      <td>9.4</td>\n",
       "      <td>2.9</td>\n",
       "    </tr>\n",
       "    <tr>\n",
       "      <th>2016-10-30 23:56:01.260</th>\n",
       "      <td>42.8808</td>\n",
       "      <td>13.2010</td>\n",
       "      <td>7.5</td>\n",
       "      <td>2.6</td>\n",
       "    </tr>\n",
       "    <tr>\n",
       "      <th>2016-10-30 23:57:10.950</th>\n",
       "      <td>42.7847</td>\n",
       "      <td>13.0727</td>\n",
       "      <td>10.2</td>\n",
       "      <td>3.1</td>\n",
       "    </tr>\n",
       "  </tbody>\n",
       "</table>\n",
       "<p>389 rows × 4 columns</p>\n",
       "</div>"
      ],
      "text/plain": [
       "                         Latitude  Longitude  Depth/Km  Magnitude\n",
       "Time                                                             \n",
       "2016-10-30 00:03:07.710   42.8123    13.0938      10.7        2.8\n",
       "2016-10-30 00:04:38.680   42.8428    13.1558       7.6        2.0\n",
       "2016-10-30 00:08:08.510   42.8257    13.1005       9.9        3.2\n",
       "2016-10-30 00:11:02.990   43.0243    13.0953       7.4        2.2\n",
       "2016-10-30 00:14:03.170   42.8902    13.1648       7.6        2.2\n",
       "...                           ...        ...       ...        ...\n",
       "2016-10-30 23:50:20.590   42.8813    13.0827      10.0        2.7\n",
       "2016-10-30 23:52:53.570   42.8798    13.1907      10.3        2.8\n",
       "2016-10-30 23:53:46.730   42.9847    13.0412       9.4        2.9\n",
       "2016-10-30 23:56:01.260   42.8808    13.2010       7.5        2.6\n",
       "2016-10-30 23:57:10.950   42.7847    13.0727      10.2        3.1\n",
       "\n",
       "[389 rows x 4 columns]"
      ]
     },
     "execution_count": 10,
     "metadata": {},
     "output_type": "execute_result"
    }
   ],
   "source": [
    "earthquakes_on_max_magnitude_day = df[max_magnitude_time.date() == df.index.date]\n",
    "earthquakes_on_max_magnitude_day"
   ]
  },
  {
   "cell_type": "code",
   "execution_count": 11,
   "id": "b525d5ce",
   "metadata": {},
   "outputs": [
    {
     "data": {
      "text/plain": [
       "389"
      ]
     },
     "execution_count": 11,
     "metadata": {},
     "output_type": "execute_result"
    }
   ],
   "source": [
    "count_of_earthquakes_on_max_magnitude_day = len(earthquakes_on_max_magnitude_day)\n",
    "count_of_earthquakes_on_max_magnitude_day"
   ]
  },
  {
   "cell_type": "markdown",
   "id": "c867103d",
   "metadata": {},
   "source": [
    "# 5 แสดงข้อมูลตั้งแต่ 7 ถึง 9 โมงเช้าในวันที่เกิดแผ่นดินไหวแรงที่สุด"
   ]
  },
  {
   "cell_type": "code",
   "execution_count": 12,
   "id": "2bdb9085",
   "metadata": {},
   "outputs": [
    {
     "data": {
      "text/plain": [
       "Timestamp('2016-10-30 07:00:00.360000')"
      ]
     },
     "execution_count": 12,
     "metadata": {},
     "output_type": "execute_result"
    }
   ],
   "source": [
    "start_time = max_magnitude_time.replace(hour=7, minute=0, second=0)\n",
    "start_time"
   ]
  },
  {
   "cell_type": "code",
   "execution_count": 13,
   "id": "12b2e52b",
   "metadata": {},
   "outputs": [
    {
     "data": {
      "text/plain": [
       "Timestamp('2016-10-30 09:00:00.360000')"
      ]
     },
     "execution_count": 13,
     "metadata": {},
     "output_type": "execute_result"
    }
   ],
   "source": [
    "end_time = max_magnitude_time.replace(hour=9, minute=0, second=0)\n",
    "end_time"
   ]
  },
  {
   "cell_type": "code",
   "execution_count": 14,
   "id": "6f33662b",
   "metadata": {},
   "outputs": [
    {
     "data": {
      "text/html": [
       "<div>\n",
       "<style scoped>\n",
       "    .dataframe tbody tr th:only-of-type {\n",
       "        vertical-align: middle;\n",
       "    }\n",
       "\n",
       "    .dataframe tbody tr th {\n",
       "        vertical-align: top;\n",
       "    }\n",
       "\n",
       "    .dataframe thead th {\n",
       "        text-align: right;\n",
       "    }\n",
       "</style>\n",
       "<table border=\"1\" class=\"dataframe\">\n",
       "  <thead>\n",
       "    <tr style=\"text-align: right;\">\n",
       "      <th></th>\n",
       "      <th>Latitude</th>\n",
       "      <th>Longitude</th>\n",
       "      <th>Depth/Km</th>\n",
       "      <th>Magnitude</th>\n",
       "    </tr>\n",
       "    <tr>\n",
       "      <th>Time</th>\n",
       "      <th></th>\n",
       "      <th></th>\n",
       "      <th></th>\n",
       "      <th></th>\n",
       "    </tr>\n",
       "  </thead>\n",
       "  <tbody>\n",
       "    <tr>\n",
       "      <th>2016-10-30 07:01:14.060</th>\n",
       "      <td>42.8522</td>\n",
       "      <td>13.2443</td>\n",
       "      <td>8.9</td>\n",
       "      <td>2.4</td>\n",
       "    </tr>\n",
       "    <tr>\n",
       "      <th>2016-10-30 07:02:48.160</th>\n",
       "      <td>42.8538</td>\n",
       "      <td>13.2342</td>\n",
       "      <td>8.3</td>\n",
       "      <td>2.5</td>\n",
       "    </tr>\n",
       "    <tr>\n",
       "      <th>2016-10-30 07:14:48.470</th>\n",
       "      <td>42.8737</td>\n",
       "      <td>13.1502</td>\n",
       "      <td>9.2</td>\n",
       "      <td>2.4</td>\n",
       "    </tr>\n",
       "    <tr>\n",
       "      <th>2016-10-30 07:31:51.660</th>\n",
       "      <td>42.8753</td>\n",
       "      <td>13.0563</td>\n",
       "      <td>9.9</td>\n",
       "      <td>2.2</td>\n",
       "    </tr>\n",
       "    <tr>\n",
       "      <th>2016-10-30 08:04:07.760</th>\n",
       "      <td>42.7907</td>\n",
       "      <td>13.0872</td>\n",
       "      <td>10.2</td>\n",
       "      <td>2.4</td>\n",
       "    </tr>\n",
       "    <tr>\n",
       "      <th>2016-10-30 08:16:28.780</th>\n",
       "      <td>43.0622</td>\n",
       "      <td>13.0683</td>\n",
       "      <td>8.7</td>\n",
       "      <td>2.1</td>\n",
       "    </tr>\n",
       "    <tr>\n",
       "      <th>2016-10-30 08:31:19.890</th>\n",
       "      <td>42.9268</td>\n",
       "      <td>13.0287</td>\n",
       "      <td>10.8</td>\n",
       "      <td>2.0</td>\n",
       "    </tr>\n",
       "    <tr>\n",
       "      <th>2016-10-30 08:40:17.360</th>\n",
       "      <td>42.8322</td>\n",
       "      <td>13.1107</td>\n",
       "      <td>9.2</td>\n",
       "      <td>6.5</td>\n",
       "    </tr>\n",
       "    <tr>\n",
       "      <th>2016-10-30 08:41:17.010</th>\n",
       "      <td>42.7720</td>\n",
       "      <td>13.1358</td>\n",
       "      <td>9.3</td>\n",
       "      <td>4.3</td>\n",
       "    </tr>\n",
       "    <tr>\n",
       "      <th>2016-10-30 08:42:27.470</th>\n",
       "      <td>42.8795</td>\n",
       "      <td>13.0562</td>\n",
       "      <td>9.6</td>\n",
       "      <td>3.9</td>\n",
       "    </tr>\n",
       "    <tr>\n",
       "      <th>2016-10-30 08:43:08.810</th>\n",
       "      <td>42.7668</td>\n",
       "      <td>13.1383</td>\n",
       "      <td>9.7</td>\n",
       "      <td>4.0</td>\n",
       "    </tr>\n",
       "    <tr>\n",
       "      <th>2016-10-30 08:43:46.260</th>\n",
       "      <td>42.9000</td>\n",
       "      <td>13.1455</td>\n",
       "      <td>6.7</td>\n",
       "      <td>3.5</td>\n",
       "    </tr>\n",
       "    <tr>\n",
       "      <th>2016-10-30 08:44:30.670</th>\n",
       "      <td>42.8548</td>\n",
       "      <td>13.0853</td>\n",
       "      <td>8.3</td>\n",
       "      <td>4.6</td>\n",
       "    </tr>\n",
       "    <tr>\n",
       "      <th>2016-10-30 08:47:05.430</th>\n",
       "      <td>42.7868</td>\n",
       "      <td>13.1655</td>\n",
       "      <td>5.8</td>\n",
       "      <td>3.4</td>\n",
       "    </tr>\n",
       "    <tr>\n",
       "      <th>2016-10-30 08:48:27.160</th>\n",
       "      <td>42.7825</td>\n",
       "      <td>13.1632</td>\n",
       "      <td>10.8</td>\n",
       "      <td>3.8</td>\n",
       "    </tr>\n",
       "    <tr>\n",
       "      <th>2016-10-30 08:48:52.710</th>\n",
       "      <td>42.6828</td>\n",
       "      <td>13.2003</td>\n",
       "      <td>10.1</td>\n",
       "      <td>3.9</td>\n",
       "    </tr>\n",
       "    <tr>\n",
       "      <th>2016-10-30 08:50:43.710</th>\n",
       "      <td>42.8068</td>\n",
       "      <td>13.1952</td>\n",
       "      <td>10.5</td>\n",
       "      <td>3.6</td>\n",
       "    </tr>\n",
       "    <tr>\n",
       "      <th>2016-10-30 08:51:14.270</th>\n",
       "      <td>42.8925</td>\n",
       "      <td>13.0782</td>\n",
       "      <td>9.1</td>\n",
       "      <td>3.7</td>\n",
       "    </tr>\n",
       "    <tr>\n",
       "      <th>2016-10-30 08:51:55.240</th>\n",
       "      <td>42.7828</td>\n",
       "      <td>13.1332</td>\n",
       "      <td>10.1</td>\n",
       "      <td>3.8</td>\n",
       "    </tr>\n",
       "    <tr>\n",
       "      <th>2016-10-30 08:53:12.820</th>\n",
       "      <td>42.8090</td>\n",
       "      <td>13.0830</td>\n",
       "      <td>10.1</td>\n",
       "      <td>3.4</td>\n",
       "    </tr>\n",
       "    <tr>\n",
       "      <th>2016-10-30 08:53:54.740</th>\n",
       "      <td>42.7692</td>\n",
       "      <td>13.1643</td>\n",
       "      <td>10.8</td>\n",
       "      <td>3.2</td>\n",
       "    </tr>\n",
       "    <tr>\n",
       "      <th>2016-10-30 08:54:46.760</th>\n",
       "      <td>42.7958</td>\n",
       "      <td>13.2090</td>\n",
       "      <td>11.3</td>\n",
       "      <td>2.8</td>\n",
       "    </tr>\n",
       "    <tr>\n",
       "      <th>2016-10-30 08:55:41.060</th>\n",
       "      <td>42.7122</td>\n",
       "      <td>13.1968</td>\n",
       "      <td>10.8</td>\n",
       "      <td>4.1</td>\n",
       "    </tr>\n",
       "    <tr>\n",
       "      <th>2016-10-30 08:55:54.210</th>\n",
       "      <td>42.7508</td>\n",
       "      <td>13.2307</td>\n",
       "      <td>10.9</td>\n",
       "      <td>4.1</td>\n",
       "    </tr>\n",
       "    <tr>\n",
       "      <th>2016-10-30 08:56:05.780</th>\n",
       "      <td>42.7993</td>\n",
       "      <td>13.1077</td>\n",
       "      <td>10.5</td>\n",
       "      <td>4.2</td>\n",
       "    </tr>\n",
       "    <tr>\n",
       "      <th>2016-10-30 08:56:38.110</th>\n",
       "      <td>42.8437</td>\n",
       "      <td>13.1453</td>\n",
       "      <td>9.7</td>\n",
       "      <td>3.5</td>\n",
       "    </tr>\n",
       "    <tr>\n",
       "      <th>2016-10-30 08:57:21.560</th>\n",
       "      <td>42.8607</td>\n",
       "      <td>13.0922</td>\n",
       "      <td>9.5</td>\n",
       "      <td>3.8</td>\n",
       "    </tr>\n",
       "    <tr>\n",
       "      <th>2016-10-30 08:58:02.960</th>\n",
       "      <td>42.9078</td>\n",
       "      <td>13.1008</td>\n",
       "      <td>7.3</td>\n",
       "      <td>3.5</td>\n",
       "    </tr>\n",
       "    <tr>\n",
       "      <th>2016-10-30 08:59:31.500</th>\n",
       "      <td>42.8517</td>\n",
       "      <td>13.2118</td>\n",
       "      <td>9.9</td>\n",
       "      <td>3.9</td>\n",
       "    </tr>\n",
       "    <tr>\n",
       "      <th>2016-10-30 08:59:45.430</th>\n",
       "      <td>42.8235</td>\n",
       "      <td>13.1828</td>\n",
       "      <td>12.7</td>\n",
       "      <td>3.6</td>\n",
       "    </tr>\n",
       "  </tbody>\n",
       "</table>\n",
       "</div>"
      ],
      "text/plain": [
       "                         Latitude  Longitude  Depth/Km  Magnitude\n",
       "Time                                                             \n",
       "2016-10-30 07:01:14.060   42.8522    13.2443       8.9        2.4\n",
       "2016-10-30 07:02:48.160   42.8538    13.2342       8.3        2.5\n",
       "2016-10-30 07:14:48.470   42.8737    13.1502       9.2        2.4\n",
       "2016-10-30 07:31:51.660   42.8753    13.0563       9.9        2.2\n",
       "2016-10-30 08:04:07.760   42.7907    13.0872      10.2        2.4\n",
       "2016-10-30 08:16:28.780   43.0622    13.0683       8.7        2.1\n",
       "2016-10-30 08:31:19.890   42.9268    13.0287      10.8        2.0\n",
       "2016-10-30 08:40:17.360   42.8322    13.1107       9.2        6.5\n",
       "2016-10-30 08:41:17.010   42.7720    13.1358       9.3        4.3\n",
       "2016-10-30 08:42:27.470   42.8795    13.0562       9.6        3.9\n",
       "2016-10-30 08:43:08.810   42.7668    13.1383       9.7        4.0\n",
       "2016-10-30 08:43:46.260   42.9000    13.1455       6.7        3.5\n",
       "2016-10-30 08:44:30.670   42.8548    13.0853       8.3        4.6\n",
       "2016-10-30 08:47:05.430   42.7868    13.1655       5.8        3.4\n",
       "2016-10-30 08:48:27.160   42.7825    13.1632      10.8        3.8\n",
       "2016-10-30 08:48:52.710   42.6828    13.2003      10.1        3.9\n",
       "2016-10-30 08:50:43.710   42.8068    13.1952      10.5        3.6\n",
       "2016-10-30 08:51:14.270   42.8925    13.0782       9.1        3.7\n",
       "2016-10-30 08:51:55.240   42.7828    13.1332      10.1        3.8\n",
       "2016-10-30 08:53:12.820   42.8090    13.0830      10.1        3.4\n",
       "2016-10-30 08:53:54.740   42.7692    13.1643      10.8        3.2\n",
       "2016-10-30 08:54:46.760   42.7958    13.2090      11.3        2.8\n",
       "2016-10-30 08:55:41.060   42.7122    13.1968      10.8        4.1\n",
       "2016-10-30 08:55:54.210   42.7508    13.2307      10.9        4.1\n",
       "2016-10-30 08:56:05.780   42.7993    13.1077      10.5        4.2\n",
       "2016-10-30 08:56:38.110   42.8437    13.1453       9.7        3.5\n",
       "2016-10-30 08:57:21.560   42.8607    13.0922       9.5        3.8\n",
       "2016-10-30 08:58:02.960   42.9078    13.1008       7.3        3.5\n",
       "2016-10-30 08:59:31.500   42.8517    13.2118       9.9        3.9\n",
       "2016-10-30 08:59:45.430   42.8235    13.1828      12.7        3.6"
      ]
     },
     "execution_count": 14,
     "metadata": {},
     "output_type": "execute_result"
    }
   ],
   "source": [
    "earthquake_data = df[(df.index >= start_time) & (df.index <= end_time)]\n",
    "earthquake_data "
   ]
  },
  {
   "cell_type": "markdown",
   "id": "a383eafc",
   "metadata": {},
   "source": [
    "# 6 แผ่นดินไหวที่แรงที่สุดกับแรงเป็นที่ 2 ห่างกันเท่าไหร่ ตอบเป็นวัน-ชั่วโมง-นาที"
   ]
  },
  {
   "cell_type": "code",
   "execution_count": 15,
   "id": "ac942267",
   "metadata": {},
   "outputs": [],
   "source": [
    "from datetime import datetime, timedelta"
   ]
  },
  {
   "cell_type": "code",
   "execution_count": 16,
   "id": "bf943399",
   "metadata": {},
   "outputs": [
    {
     "data": {
      "text/plain": [
       "Time\n",
       "2016-10-30 08:40:17.360    6.5\n",
       "2016-08-24 03:36:32.000    6.0\n",
       "Name: Magnitude, dtype: float64"
      ]
     },
     "execution_count": 16,
     "metadata": {},
     "output_type": "execute_result"
    }
   ],
   "source": [
    "top2_magnitudes = df['Magnitude'].nlargest(2)\n",
    "top2_magnitudes"
   ]
  },
  {
   "cell_type": "code",
   "execution_count": 17,
   "id": "2b8c9cd1",
   "metadata": {},
   "outputs": [],
   "source": [
    "top_magnitude = top2_magnitudes.iloc[0]  # 1\n",
    "second_magnitude = top2_magnitudes.iloc[1]  # 2"
   ]
  },
  {
   "cell_type": "code",
   "execution_count": 18,
   "id": "ba4b3eec",
   "metadata": {},
   "outputs": [
    {
     "data": {
      "text/plain": [
       "Timedelta('67 days 05:03:45.360000')"
      ]
     },
     "execution_count": 18,
     "metadata": {},
     "output_type": "execute_result"
    }
   ],
   "source": [
    "top_magnitude_time = df[df['Magnitude'] == top_magnitude].index[0]\n",
    "second_magnitude_time = df[df['Magnitude'] == second_magnitude].index[0]\n",
    "time_difference = abs(top_magnitude_time - second_magnitude_time)\n",
    "time_difference"
   ]
  },
  {
   "cell_type": "code",
   "execution_count": 19,
   "id": "c57d4940",
   "metadata": {},
   "outputs": [
    {
     "name": "stdout",
     "output_type": "stream",
     "text": [
      "ความแตกต่างเวลาระหว่าง top_magnitude และ second_magnitude คือ 67 วัน 5 ชั่วโมง 3 นาที\n"
     ]
    }
   ],
   "source": [
    "days = time_difference.days\n",
    "seconds = time_difference.seconds\n",
    "hours, remainder = divmod(seconds, 3600)\n",
    "minutes, seconds = divmod(remainder, 60)\n",
    "print(f\"ความแตกต่างเวลาระหว่าง top_magnitude และ second_magnitude คือ {days} วัน {hours} ชั่วโมง {minutes} นาที\")"
   ]
  },
  {
   "cell_type": "markdown",
   "id": "627960d6",
   "metadata": {},
   "source": [
    "# 7 คำนวณความแรงของแผ่นดินไหวที่เปลี่ยนไปในแต่ละครั้ง ของข้อมูลในข้อ 5.\n",
    "หมายเหตุ: ใช้คำสั่ง shift() ช่วยเลื่อนแถวของคอลัมน์ Magnitude เพื่อคำนวณความแตกต่าง"
   ]
  },
  {
   "cell_type": "code",
   "execution_count": 20,
   "id": "c8774951",
   "metadata": {},
   "outputs": [
    {
     "name": "stderr",
     "output_type": "stream",
     "text": [
      "C:\\Users\\PP\\AppData\\Local\\Temp\\ipykernel_11856\\1227837147.py:1: SettingWithCopyWarning: \n",
      "A value is trying to be set on a copy of a slice from a DataFrame.\n",
      "Try using .loc[row_indexer,col_indexer] = value instead\n",
      "\n",
      "See the caveats in the documentation: https://pandas.pydata.org/pandas-docs/stable/user_guide/indexing.html#returning-a-view-versus-a-copy\n",
      "  earthquake_data['Magnitude_Difference'] = earthquake_data['Magnitude'].diff()\n"
     ]
    },
    {
     "data": {
      "text/html": [
       "<div>\n",
       "<style scoped>\n",
       "    .dataframe tbody tr th:only-of-type {\n",
       "        vertical-align: middle;\n",
       "    }\n",
       "\n",
       "    .dataframe tbody tr th {\n",
       "        vertical-align: top;\n",
       "    }\n",
       "\n",
       "    .dataframe thead th {\n",
       "        text-align: right;\n",
       "    }\n",
       "</style>\n",
       "<table border=\"1\" class=\"dataframe\">\n",
       "  <thead>\n",
       "    <tr style=\"text-align: right;\">\n",
       "      <th></th>\n",
       "      <th>Magnitude</th>\n",
       "      <th>Magnitude_Difference</th>\n",
       "    </tr>\n",
       "    <tr>\n",
       "      <th>Time</th>\n",
       "      <th></th>\n",
       "      <th></th>\n",
       "    </tr>\n",
       "  </thead>\n",
       "  <tbody>\n",
       "    <tr>\n",
       "      <th>2016-10-30 07:01:14.060</th>\n",
       "      <td>2.4</td>\n",
       "      <td>NaN</td>\n",
       "    </tr>\n",
       "    <tr>\n",
       "      <th>2016-10-30 07:02:48.160</th>\n",
       "      <td>2.5</td>\n",
       "      <td>0.1</td>\n",
       "    </tr>\n",
       "    <tr>\n",
       "      <th>2016-10-30 07:14:48.470</th>\n",
       "      <td>2.4</td>\n",
       "      <td>-0.1</td>\n",
       "    </tr>\n",
       "    <tr>\n",
       "      <th>2016-10-30 07:31:51.660</th>\n",
       "      <td>2.2</td>\n",
       "      <td>-0.2</td>\n",
       "    </tr>\n",
       "    <tr>\n",
       "      <th>2016-10-30 08:04:07.760</th>\n",
       "      <td>2.4</td>\n",
       "      <td>0.2</td>\n",
       "    </tr>\n",
       "    <tr>\n",
       "      <th>2016-10-30 08:16:28.780</th>\n",
       "      <td>2.1</td>\n",
       "      <td>-0.3</td>\n",
       "    </tr>\n",
       "    <tr>\n",
       "      <th>2016-10-30 08:31:19.890</th>\n",
       "      <td>2.0</td>\n",
       "      <td>-0.1</td>\n",
       "    </tr>\n",
       "    <tr>\n",
       "      <th>2016-10-30 08:40:17.360</th>\n",
       "      <td>6.5</td>\n",
       "      <td>4.5</td>\n",
       "    </tr>\n",
       "    <tr>\n",
       "      <th>2016-10-30 08:41:17.010</th>\n",
       "      <td>4.3</td>\n",
       "      <td>-2.2</td>\n",
       "    </tr>\n",
       "    <tr>\n",
       "      <th>2016-10-30 08:42:27.470</th>\n",
       "      <td>3.9</td>\n",
       "      <td>-0.4</td>\n",
       "    </tr>\n",
       "    <tr>\n",
       "      <th>2016-10-30 08:43:08.810</th>\n",
       "      <td>4.0</td>\n",
       "      <td>0.1</td>\n",
       "    </tr>\n",
       "    <tr>\n",
       "      <th>2016-10-30 08:43:46.260</th>\n",
       "      <td>3.5</td>\n",
       "      <td>-0.5</td>\n",
       "    </tr>\n",
       "    <tr>\n",
       "      <th>2016-10-30 08:44:30.670</th>\n",
       "      <td>4.6</td>\n",
       "      <td>1.1</td>\n",
       "    </tr>\n",
       "    <tr>\n",
       "      <th>2016-10-30 08:47:05.430</th>\n",
       "      <td>3.4</td>\n",
       "      <td>-1.2</td>\n",
       "    </tr>\n",
       "    <tr>\n",
       "      <th>2016-10-30 08:48:27.160</th>\n",
       "      <td>3.8</td>\n",
       "      <td>0.4</td>\n",
       "    </tr>\n",
       "    <tr>\n",
       "      <th>2016-10-30 08:48:52.710</th>\n",
       "      <td>3.9</td>\n",
       "      <td>0.1</td>\n",
       "    </tr>\n",
       "    <tr>\n",
       "      <th>2016-10-30 08:50:43.710</th>\n",
       "      <td>3.6</td>\n",
       "      <td>-0.3</td>\n",
       "    </tr>\n",
       "    <tr>\n",
       "      <th>2016-10-30 08:51:14.270</th>\n",
       "      <td>3.7</td>\n",
       "      <td>0.1</td>\n",
       "    </tr>\n",
       "    <tr>\n",
       "      <th>2016-10-30 08:51:55.240</th>\n",
       "      <td>3.8</td>\n",
       "      <td>0.1</td>\n",
       "    </tr>\n",
       "    <tr>\n",
       "      <th>2016-10-30 08:53:12.820</th>\n",
       "      <td>3.4</td>\n",
       "      <td>-0.4</td>\n",
       "    </tr>\n",
       "    <tr>\n",
       "      <th>2016-10-30 08:53:54.740</th>\n",
       "      <td>3.2</td>\n",
       "      <td>-0.2</td>\n",
       "    </tr>\n",
       "    <tr>\n",
       "      <th>2016-10-30 08:54:46.760</th>\n",
       "      <td>2.8</td>\n",
       "      <td>-0.4</td>\n",
       "    </tr>\n",
       "    <tr>\n",
       "      <th>2016-10-30 08:55:41.060</th>\n",
       "      <td>4.1</td>\n",
       "      <td>1.3</td>\n",
       "    </tr>\n",
       "    <tr>\n",
       "      <th>2016-10-30 08:55:54.210</th>\n",
       "      <td>4.1</td>\n",
       "      <td>0.0</td>\n",
       "    </tr>\n",
       "    <tr>\n",
       "      <th>2016-10-30 08:56:05.780</th>\n",
       "      <td>4.2</td>\n",
       "      <td>0.1</td>\n",
       "    </tr>\n",
       "    <tr>\n",
       "      <th>2016-10-30 08:56:38.110</th>\n",
       "      <td>3.5</td>\n",
       "      <td>-0.7</td>\n",
       "    </tr>\n",
       "    <tr>\n",
       "      <th>2016-10-30 08:57:21.560</th>\n",
       "      <td>3.8</td>\n",
       "      <td>0.3</td>\n",
       "    </tr>\n",
       "    <tr>\n",
       "      <th>2016-10-30 08:58:02.960</th>\n",
       "      <td>3.5</td>\n",
       "      <td>-0.3</td>\n",
       "    </tr>\n",
       "    <tr>\n",
       "      <th>2016-10-30 08:59:31.500</th>\n",
       "      <td>3.9</td>\n",
       "      <td>0.4</td>\n",
       "    </tr>\n",
       "    <tr>\n",
       "      <th>2016-10-30 08:59:45.430</th>\n",
       "      <td>3.6</td>\n",
       "      <td>-0.3</td>\n",
       "    </tr>\n",
       "  </tbody>\n",
       "</table>\n",
       "</div>"
      ],
      "text/plain": [
       "                         Magnitude  Magnitude_Difference\n",
       "Time                                                    \n",
       "2016-10-30 07:01:14.060        2.4                   NaN\n",
       "2016-10-30 07:02:48.160        2.5                   0.1\n",
       "2016-10-30 07:14:48.470        2.4                  -0.1\n",
       "2016-10-30 07:31:51.660        2.2                  -0.2\n",
       "2016-10-30 08:04:07.760        2.4                   0.2\n",
       "2016-10-30 08:16:28.780        2.1                  -0.3\n",
       "2016-10-30 08:31:19.890        2.0                  -0.1\n",
       "2016-10-30 08:40:17.360        6.5                   4.5\n",
       "2016-10-30 08:41:17.010        4.3                  -2.2\n",
       "2016-10-30 08:42:27.470        3.9                  -0.4\n",
       "2016-10-30 08:43:08.810        4.0                   0.1\n",
       "2016-10-30 08:43:46.260        3.5                  -0.5\n",
       "2016-10-30 08:44:30.670        4.6                   1.1\n",
       "2016-10-30 08:47:05.430        3.4                  -1.2\n",
       "2016-10-30 08:48:27.160        3.8                   0.4\n",
       "2016-10-30 08:48:52.710        3.9                   0.1\n",
       "2016-10-30 08:50:43.710        3.6                  -0.3\n",
       "2016-10-30 08:51:14.270        3.7                   0.1\n",
       "2016-10-30 08:51:55.240        3.8                   0.1\n",
       "2016-10-30 08:53:12.820        3.4                  -0.4\n",
       "2016-10-30 08:53:54.740        3.2                  -0.2\n",
       "2016-10-30 08:54:46.760        2.8                  -0.4\n",
       "2016-10-30 08:55:41.060        4.1                   1.3\n",
       "2016-10-30 08:55:54.210        4.1                   0.0\n",
       "2016-10-30 08:56:05.780        4.2                   0.1\n",
       "2016-10-30 08:56:38.110        3.5                  -0.7\n",
       "2016-10-30 08:57:21.560        3.8                   0.3\n",
       "2016-10-30 08:58:02.960        3.5                  -0.3\n",
       "2016-10-30 08:59:31.500        3.9                   0.4\n",
       "2016-10-30 08:59:45.430        3.6                  -0.3"
      ]
     },
     "execution_count": 20,
     "metadata": {},
     "output_type": "execute_result"
    }
   ],
   "source": [
    "earthquake_data['Magnitude_Difference'] = earthquake_data['Magnitude'].diff()\n",
    "earthquake_data[['Magnitude', 'Magnitude_Difference']]"
   ]
  },
  {
   "cell_type": "markdown",
   "id": "6e112a7e",
   "metadata": {},
   "source": [
    "# 8 มีแผ่นดินไหวเกิดขึ้นกี่ครั้งในแต่ละวัน"
   ]
  },
  {
   "cell_type": "code",
   "execution_count": 21,
   "id": "de2ef5d2",
   "metadata": {},
   "outputs": [
    {
     "data": {
      "text/plain": [
       "2016-08-24    508\n",
       "2016-08-25    240\n",
       "2016-08-26    212\n",
       "2016-08-27    140\n",
       "2016-08-28    110\n",
       "             ... \n",
       "2016-11-26     41\n",
       "2016-11-27     73\n",
       "2016-11-28     82\n",
       "2016-11-29     93\n",
       "2016-11-30     47\n",
       "Name: Magnitude, Length: 99, dtype: int64"
      ]
     },
     "execution_count": 21,
     "metadata": {},
     "output_type": "execute_result"
    }
   ],
   "source": [
    "df.groupby(df.index.date)['Magnitude'].count()"
   ]
  },
  {
   "cell_type": "markdown",
   "id": "5bde6672",
   "metadata": {},
   "source": [
    "# 9 ถ้าแยกเวลาเป็นช่วง ช่วงละหนึ่งชั่วโมง มีกี่ช่วงที่ไม่มีแผ่นดินไหวเกิดขึ้นเลยในชั่วโมงนั้น"
   ]
  },
  {
   "cell_type": "code",
   "execution_count": 22,
   "id": "8db5c36e",
   "metadata": {},
   "outputs": [
    {
     "data": {
      "text/plain": [
       "Time\n",
       "2016-08-24 03:00:00    19\n",
       "2016-08-24 04:00:00    61\n",
       "2016-08-24 05:00:00    72\n",
       "2016-08-24 06:00:00    55\n",
       "2016-08-24 07:00:00    54\n",
       "                       ..\n",
       "2016-11-30 16:00:00     2\n",
       "2016-11-30 17:00:00     3\n",
       "2016-11-30 18:00:00     3\n",
       "2016-11-30 19:00:00     0\n",
       "2016-11-30 20:00:00     3\n",
       "Freq: H, Name: Magnitude, Length: 2370, dtype: int64"
      ]
     },
     "execution_count": 22,
     "metadata": {},
     "output_type": "execute_result"
    }
   ],
   "source": [
    "earthquakes_per_hour = df['Magnitude'].resample('H').count()\n",
    "earthquakes_per_hour"
   ]
  },
  {
   "cell_type": "code",
   "execution_count": 23,
   "id": "cc7669c5",
   "metadata": {},
   "outputs": [
    {
     "data": {
      "text/plain": [
       "Time\n",
       "2016-08-31 10:00:00    0\n",
       "2016-09-01 09:00:00    0\n",
       "2016-09-02 05:00:00    0\n",
       "2016-09-02 06:00:00    0\n",
       "2016-09-02 10:00:00    0\n",
       "                      ..\n",
       "2016-11-27 16:00:00    0\n",
       "2016-11-29 15:00:00    0\n",
       "2016-11-30 06:00:00    0\n",
       "2016-11-30 13:00:00    0\n",
       "2016-11-30 19:00:00    0\n",
       "Name: Magnitude, Length: 759, dtype: int64"
      ]
     },
     "execution_count": 23,
     "metadata": {},
     "output_type": "execute_result"
    }
   ],
   "source": [
    "hours_with_no_earthquakes = earthquakes_per_hour[earthquakes_per_hour == 0]\n",
    "hours_with_no_earthquakes"
   ]
  },
  {
   "cell_type": "markdown",
   "id": "9bdca597",
   "metadata": {},
   "source": [
    "# 10 ถ้าแยกเวลาเป็นช่วง ช่วงละ 5 นาที ช่วงเวลาไหนมีค่าเฉลี่ยความรุนแรงของแผ่นดินไหวสูงที่สุด และค่าเฉลี่ยนั้นมีค่าเท่าไหร"
   ]
  },
  {
   "cell_type": "code",
   "execution_count": 24,
   "id": "3da04235",
   "metadata": {},
   "outputs": [
    {
     "data": {
      "text/plain": [
       "Time\n",
       "2016-08-24 03:35:00    5.250000\n",
       "2016-08-24 03:40:00    3.433333\n",
       "2016-08-24 03:45:00    3.266667\n",
       "2016-08-24 03:50:00    3.000000\n",
       "2016-08-24 03:55:00    3.166667\n",
       "                         ...   \n",
       "2016-11-30 20:30:00         NaN\n",
       "2016-11-30 20:35:00         NaN\n",
       "2016-11-30 20:40:00         NaN\n",
       "2016-11-30 20:45:00    2.700000\n",
       "2016-11-30 20:50:00    2.300000\n",
       "Freq: 5T, Name: Magnitude, Length: 28432, dtype: float64"
      ]
     },
     "execution_count": 24,
     "metadata": {},
     "output_type": "execute_result"
    }
   ],
   "source": [
    "earthquakes_per_5_minutes = df['Magnitude'].resample('5T').mean()\n",
    "earthquakes_per_5_minutes"
   ]
  },
  {
   "cell_type": "code",
   "execution_count": 25,
   "id": "e9516a3f",
   "metadata": {},
   "outputs": [
    {
     "data": {
      "text/plain": [
       "Timestamp('2016-10-26 19:10:00', freq='5T')"
      ]
     },
     "execution_count": 25,
     "metadata": {},
     "output_type": "execute_result"
    }
   ],
   "source": [
    "max_intensity_time = earthquakes_per_5_minutes.idxmax()\n",
    "max_intensity_time"
   ]
  },
  {
   "cell_type": "code",
   "execution_count": 26,
   "id": "4c24020c",
   "metadata": {},
   "outputs": [
    {
     "data": {
      "text/plain": [
       "5.4"
      ]
     },
     "execution_count": 26,
     "metadata": {},
     "output_type": "execute_result"
    }
   ],
   "source": [
    "max_intensity = earthquakes_per_5_minutes.max()\n",
    "max_intensity"
   ]
  },
  {
   "cell_type": "markdown",
   "id": "896c418d",
   "metadata": {},
   "source": [
    "# 11 ระยะเวลาที่ไม่มีแผ่นดินไหวเลยนานที่สุดคือเท่าไหร่"
   ]
  },
  {
   "cell_type": "code",
   "execution_count": 27,
   "id": "1871d6ae",
   "metadata": {},
   "outputs": [
    {
     "data": {
      "text/plain": [
       "Time\n",
       "2016-08-24 03:36:32.000                      NaT\n",
       "2016-08-24 03:37:26.580   0 days 00:00:54.580000\n",
       "2016-08-24 03:40:46.590   0 days 00:03:20.010000\n",
       "2016-08-24 03:41:38.900   0 days 00:00:52.310000\n",
       "2016-08-24 03:42:07.170   0 days 00:00:28.270000\n",
       "                                   ...          \n",
       "2016-11-30 18:39:27.600   0 days 00:30:10.680000\n",
       "2016-11-30 18:43:14.850   0 days 00:03:47.250000\n",
       "2016-11-30 20:18:27.550   0 days 01:35:12.700000\n",
       "2016-11-30 20:45:11.780   0 days 00:26:44.230000\n",
       "2016-11-30 20:54:35.890   0 days 00:09:24.110000\n",
       "Name: Time, Length: 8086, dtype: timedelta64[ns]"
      ]
     },
     "execution_count": 27,
     "metadata": {},
     "output_type": "execute_result"
    }
   ],
   "source": [
    "time_diff = df.index.to_series().diff()\n",
    "time_diff"
   ]
  },
  {
   "cell_type": "code",
   "execution_count": 28,
   "id": "da4d11a4",
   "metadata": {},
   "outputs": [
    {
     "data": {
      "text/plain": [
       "Timedelta('0 days 16:46:16.250000')"
      ]
     },
     "execution_count": 28,
     "metadata": {},
     "output_type": "execute_result"
    }
   ],
   "source": [
    "max_time_diff = time_diff.max()\n",
    "max_time_diff"
   ]
  },
  {
   "cell_type": "markdown",
   "id": "c99372a1",
   "metadata": {},
   "source": [
    "# 12 ระยะเวลาที่ไม่มีแผ่นดินไหวเลยนานที่สุดคือช่วงไหน ระบุเป็นเวลาเริ่มต้นและเวลาจบ"
   ]
  },
  {
   "cell_type": "code",
   "execution_count": 29,
   "id": "fc561587",
   "metadata": {},
   "outputs": [
    {
     "data": {
      "text/plain": [
       "Timestamp('2016-10-25 20:00:10.480000')"
      ]
     },
     "execution_count": 29,
     "metadata": {},
     "output_type": "execute_result"
    }
   ],
   "source": [
    "max_time_diff_index = time_diff.idxmax()\n",
    "max_time_diff_index"
   ]
  },
  {
   "cell_type": "code",
   "execution_count": 30,
   "id": "14f017fe",
   "metadata": {},
   "outputs": [
    {
     "name": "stdout",
     "output_type": "stream",
     "text": [
      "เริ่มต้น 2016-10-25 03:13:54.230000\n"
     ]
    }
   ],
   "source": [
    "start_time = max_time_diff_index - time_diff[max_time_diff_index]\n",
    "print(\"เริ่มต้น\", start_time)"
   ]
  },
  {
   "cell_type": "code",
   "execution_count": 31,
   "id": "63acfb64",
   "metadata": {},
   "outputs": [
    {
     "name": "stdout",
     "output_type": "stream",
     "text": [
      "จบ 2016-10-25 20:00:10.480000\n"
     ]
    }
   ],
   "source": [
    "end_time = max_time_diff_index\n",
    "print(\"จบ\", end_time)"
   ]
  },
  {
   "cell_type": "markdown",
   "id": "7d5c899f",
   "metadata": {},
   "source": [
    "# 13 . สมมติว่าเรานิยามแผ่นดินไหวที่รุนแรงนั้นต้องมี Magnitude มากกว่าการไหวครั้งก่อนและครั้งหลังอย่างน้อย 2.0 จงคัดเลือกเหตุการณ์แผ่นดินไหวที่รุนแรงออกมา"
   ]
  },
  {
   "cell_type": "code",
   "execution_count": 32,
   "id": "309b8d2a",
   "metadata": {},
   "outputs": [],
   "source": [
    "strong_earthquakes = df[(df['Magnitude'] > df['Magnitude'].shift(1) + 2.0) & \n",
    "                        (df['Magnitude'] > df['Magnitude'].shift(-1) + 2.0)]"
   ]
  },
  {
   "cell_type": "code",
   "execution_count": 33,
   "id": "6cc944b0",
   "metadata": {},
   "outputs": [
    {
     "data": {
      "text/html": [
       "<div>\n",
       "<style scoped>\n",
       "    .dataframe tbody tr th:only-of-type {\n",
       "        vertical-align: middle;\n",
       "    }\n",
       "\n",
       "    .dataframe tbody tr th {\n",
       "        vertical-align: top;\n",
       "    }\n",
       "\n",
       "    .dataframe thead th {\n",
       "        text-align: right;\n",
       "    }\n",
       "</style>\n",
       "<table border=\"1\" class=\"dataframe\">\n",
       "  <thead>\n",
       "    <tr style=\"text-align: right;\">\n",
       "      <th></th>\n",
       "      <th>Latitude</th>\n",
       "      <th>Longitude</th>\n",
       "      <th>Depth/Km</th>\n",
       "      <th>Magnitude</th>\n",
       "    </tr>\n",
       "    <tr>\n",
       "      <th>Time</th>\n",
       "      <th></th>\n",
       "      <th></th>\n",
       "      <th></th>\n",
       "      <th></th>\n",
       "    </tr>\n",
       "  </thead>\n",
       "  <tbody>\n",
       "    <tr>\n",
       "      <th>2016-08-24 04:33:28.890</th>\n",
       "      <td>42.7922</td>\n",
       "      <td>13.1507</td>\n",
       "      <td>8.0</td>\n",
       "      <td>5.4</td>\n",
       "    </tr>\n",
       "    <tr>\n",
       "      <th>2016-10-26 19:10:36.340</th>\n",
       "      <td>42.8802</td>\n",
       "      <td>13.1275</td>\n",
       "      <td>8.7</td>\n",
       "      <td>5.4</td>\n",
       "    </tr>\n",
       "    <tr>\n",
       "      <th>2016-10-26 21:18:05.850</th>\n",
       "      <td>42.9087</td>\n",
       "      <td>13.1288</td>\n",
       "      <td>7.5</td>\n",
       "      <td>5.9</td>\n",
       "    </tr>\n",
       "    <tr>\n",
       "      <th>2016-10-30 08:40:17.360</th>\n",
       "      <td>42.8322</td>\n",
       "      <td>13.1107</td>\n",
       "      <td>9.2</td>\n",
       "      <td>6.5</td>\n",
       "    </tr>\n",
       "  </tbody>\n",
       "</table>\n",
       "</div>"
      ],
      "text/plain": [
       "                         Latitude  Longitude  Depth/Km  Magnitude\n",
       "Time                                                             \n",
       "2016-08-24 04:33:28.890   42.7922    13.1507       8.0        5.4\n",
       "2016-10-26 19:10:36.340   42.8802    13.1275       8.7        5.4\n",
       "2016-10-26 21:18:05.850   42.9087    13.1288       7.5        5.9\n",
       "2016-10-30 08:40:17.360   42.8322    13.1107       9.2        6.5"
      ]
     },
     "execution_count": 33,
     "metadata": {},
     "output_type": "execute_result"
    }
   ],
   "source": [
    "strong_earthquakes "
   ]
  },
  {
   "cell_type": "markdown",
   "id": "572bf403",
   "metadata": {},
   "source": [
    "# 14 จากตารางข้อ 13. ให้เพิ่มคอลัมน์ใหม่ชื่อ hour_count แสดงจำนวนแผ่นดินไหวในชั่วโมงที่มีเหตุการณ์แผ่นดินไหวรุนแรงด้วย"
   ]
  },
  {
   "cell_type": "code",
   "execution_count": 34,
   "id": "b8ea3e8d",
   "metadata": {},
   "outputs": [],
   "source": [
    "for index, earthquake in strong_earthquakes.iterrows():\n",
    "    start_time = index - pd.DateOffset(hours=1)\n",
    "    end_time = index + pd.DateOffset(hours=1)\n",
    "    count = df[(df.index >= start_time) & (df.index <= end_time)].shape[0]\n",
    "    df.loc[index, 'hour_count'] = count"
   ]
  },
  {
   "cell_type": "code",
   "execution_count": 35,
   "id": "ac473842",
   "metadata": {},
   "outputs": [
    {
     "data": {
      "text/html": [
       "<div>\n",
       "<style scoped>\n",
       "    .dataframe tbody tr th:only-of-type {\n",
       "        vertical-align: middle;\n",
       "    }\n",
       "\n",
       "    .dataframe tbody tr th {\n",
       "        vertical-align: top;\n",
       "    }\n",
       "\n",
       "    .dataframe thead th {\n",
       "        text-align: right;\n",
       "    }\n",
       "</style>\n",
       "<table border=\"1\" class=\"dataframe\">\n",
       "  <thead>\n",
       "    <tr style=\"text-align: right;\">\n",
       "      <th></th>\n",
       "      <th>Latitude</th>\n",
       "      <th>Longitude</th>\n",
       "      <th>Depth/Km</th>\n",
       "      <th>Magnitude</th>\n",
       "      <th>hour_count</th>\n",
       "    </tr>\n",
       "    <tr>\n",
       "      <th>Time</th>\n",
       "      <th></th>\n",
       "      <th></th>\n",
       "      <th></th>\n",
       "      <th></th>\n",
       "      <th></th>\n",
       "    </tr>\n",
       "  </thead>\n",
       "  <tbody>\n",
       "    <tr>\n",
       "      <th>2016-08-24 03:36:32.000</th>\n",
       "      <td>42.6983</td>\n",
       "      <td>13.2335</td>\n",
       "      <td>8.1</td>\n",
       "      <td>6.0</td>\n",
       "      <td>NaN</td>\n",
       "    </tr>\n",
       "    <tr>\n",
       "      <th>2016-08-24 03:37:26.580</th>\n",
       "      <td>42.7123</td>\n",
       "      <td>13.2533</td>\n",
       "      <td>9.0</td>\n",
       "      <td>4.5</td>\n",
       "      <td>NaN</td>\n",
       "    </tr>\n",
       "    <tr>\n",
       "      <th>2016-08-24 03:40:46.590</th>\n",
       "      <td>42.7647</td>\n",
       "      <td>13.1723</td>\n",
       "      <td>9.7</td>\n",
       "      <td>3.8</td>\n",
       "      <td>NaN</td>\n",
       "    </tr>\n",
       "    <tr>\n",
       "      <th>2016-08-24 03:41:38.900</th>\n",
       "      <td>42.7803</td>\n",
       "      <td>13.1683</td>\n",
       "      <td>9.7</td>\n",
       "      <td>3.9</td>\n",
       "      <td>NaN</td>\n",
       "    </tr>\n",
       "    <tr>\n",
       "      <th>2016-08-24 03:42:07.170</th>\n",
       "      <td>42.7798</td>\n",
       "      <td>13.1575</td>\n",
       "      <td>9.7</td>\n",
       "      <td>3.6</td>\n",
       "      <td>NaN</td>\n",
       "    </tr>\n",
       "    <tr>\n",
       "      <th>...</th>\n",
       "      <td>...</td>\n",
       "      <td>...</td>\n",
       "      <td>...</td>\n",
       "      <td>...</td>\n",
       "      <td>...</td>\n",
       "    </tr>\n",
       "    <tr>\n",
       "      <th>2016-11-30 18:39:27.600</th>\n",
       "      <td>42.8903</td>\n",
       "      <td>13.0197</td>\n",
       "      <td>10.7</td>\n",
       "      <td>2.0</td>\n",
       "      <td>NaN</td>\n",
       "    </tr>\n",
       "    <tr>\n",
       "      <th>2016-11-30 18:43:14.850</th>\n",
       "      <td>42.9443</td>\n",
       "      <td>13.2003</td>\n",
       "      <td>8.6</td>\n",
       "      <td>2.6</td>\n",
       "      <td>NaN</td>\n",
       "    </tr>\n",
       "    <tr>\n",
       "      <th>2016-11-30 20:18:27.550</th>\n",
       "      <td>43.0092</td>\n",
       "      <td>13.1288</td>\n",
       "      <td>8.0</td>\n",
       "      <td>2.2</td>\n",
       "      <td>NaN</td>\n",
       "    </tr>\n",
       "    <tr>\n",
       "      <th>2016-11-30 20:45:11.780</th>\n",
       "      <td>43.0197</td>\n",
       "      <td>13.1017</td>\n",
       "      <td>9.3</td>\n",
       "      <td>2.7</td>\n",
       "      <td>NaN</td>\n",
       "    </tr>\n",
       "    <tr>\n",
       "      <th>2016-11-30 20:54:35.890</th>\n",
       "      <td>42.9935</td>\n",
       "      <td>13.0753</td>\n",
       "      <td>9.5</td>\n",
       "      <td>2.3</td>\n",
       "      <td>NaN</td>\n",
       "    </tr>\n",
       "  </tbody>\n",
       "</table>\n",
       "<p>8086 rows × 5 columns</p>\n",
       "</div>"
      ],
      "text/plain": [
       "                         Latitude  Longitude  Depth/Km  Magnitude  hour_count\n",
       "Time                                                                         \n",
       "2016-08-24 03:36:32.000   42.6983    13.2335       8.1        6.0         NaN\n",
       "2016-08-24 03:37:26.580   42.7123    13.2533       9.0        4.5         NaN\n",
       "2016-08-24 03:40:46.590   42.7647    13.1723       9.7        3.8         NaN\n",
       "2016-08-24 03:41:38.900   42.7803    13.1683       9.7        3.9         NaN\n",
       "2016-08-24 03:42:07.170   42.7798    13.1575       9.7        3.6         NaN\n",
       "...                           ...        ...       ...        ...         ...\n",
       "2016-11-30 18:39:27.600   42.8903    13.0197      10.7        2.0         NaN\n",
       "2016-11-30 18:43:14.850   42.9443    13.2003       8.6        2.6         NaN\n",
       "2016-11-30 20:18:27.550   43.0092    13.1288       8.0        2.2         NaN\n",
       "2016-11-30 20:45:11.780   43.0197    13.1017       9.3        2.7         NaN\n",
       "2016-11-30 20:54:35.890   42.9935    13.0753       9.5        2.3         NaN\n",
       "\n",
       "[8086 rows x 5 columns]"
      ]
     },
     "execution_count": 35,
     "metadata": {},
     "output_type": "execute_result"
    }
   ],
   "source": [
    "df"
   ]
  },
  {
   "cell_type": "markdown",
   "id": "9b20cedf",
   "metadata": {},
   "source": [
    "# 15 แสดงจำนวนแผ่นดินไหวแยกตาม 24 ชั่วโมง (เอาจำนวนแผ่นดินไหวของแต่ละชั่วโมง 0-23 ของทุกวันรวมกัน แสดงผลตามชั่วโมง)"
   ]
  },
  {
   "cell_type": "code",
   "execution_count": 36,
   "id": "e0ecc5de",
   "metadata": {},
   "outputs": [
    {
     "data": {
      "text/html": [
       "<div>\n",
       "<style scoped>\n",
       "    .dataframe tbody tr th:only-of-type {\n",
       "        vertical-align: middle;\n",
       "    }\n",
       "\n",
       "    .dataframe tbody tr th {\n",
       "        vertical-align: top;\n",
       "    }\n",
       "\n",
       "    .dataframe thead th {\n",
       "        text-align: right;\n",
       "    }\n",
       "</style>\n",
       "<table border=\"1\" class=\"dataframe\">\n",
       "  <thead>\n",
       "    <tr style=\"text-align: right;\">\n",
       "      <th></th>\n",
       "      <th>Latitude</th>\n",
       "      <th>Longitude</th>\n",
       "      <th>Depth/Km</th>\n",
       "      <th>Magnitude</th>\n",
       "      <th>hour_count</th>\n",
       "      <th>hour</th>\n",
       "    </tr>\n",
       "    <tr>\n",
       "      <th>Time</th>\n",
       "      <th></th>\n",
       "      <th></th>\n",
       "      <th></th>\n",
       "      <th></th>\n",
       "      <th></th>\n",
       "      <th></th>\n",
       "    </tr>\n",
       "  </thead>\n",
       "  <tbody>\n",
       "    <tr>\n",
       "      <th>2016-08-24 03:36:32.000</th>\n",
       "      <td>42.6983</td>\n",
       "      <td>13.2335</td>\n",
       "      <td>8.1</td>\n",
       "      <td>6.0</td>\n",
       "      <td>NaN</td>\n",
       "      <td>3</td>\n",
       "    </tr>\n",
       "    <tr>\n",
       "      <th>2016-08-24 03:37:26.580</th>\n",
       "      <td>42.7123</td>\n",
       "      <td>13.2533</td>\n",
       "      <td>9.0</td>\n",
       "      <td>4.5</td>\n",
       "      <td>NaN</td>\n",
       "      <td>3</td>\n",
       "    </tr>\n",
       "    <tr>\n",
       "      <th>2016-08-24 03:40:46.590</th>\n",
       "      <td>42.7647</td>\n",
       "      <td>13.1723</td>\n",
       "      <td>9.7</td>\n",
       "      <td>3.8</td>\n",
       "      <td>NaN</td>\n",
       "      <td>3</td>\n",
       "    </tr>\n",
       "    <tr>\n",
       "      <th>2016-08-24 03:41:38.900</th>\n",
       "      <td>42.7803</td>\n",
       "      <td>13.1683</td>\n",
       "      <td>9.7</td>\n",
       "      <td>3.9</td>\n",
       "      <td>NaN</td>\n",
       "      <td>3</td>\n",
       "    </tr>\n",
       "    <tr>\n",
       "      <th>2016-08-24 03:42:07.170</th>\n",
       "      <td>42.7798</td>\n",
       "      <td>13.1575</td>\n",
       "      <td>9.7</td>\n",
       "      <td>3.6</td>\n",
       "      <td>NaN</td>\n",
       "      <td>3</td>\n",
       "    </tr>\n",
       "    <tr>\n",
       "      <th>...</th>\n",
       "      <td>...</td>\n",
       "      <td>...</td>\n",
       "      <td>...</td>\n",
       "      <td>...</td>\n",
       "      <td>...</td>\n",
       "      <td>...</td>\n",
       "    </tr>\n",
       "    <tr>\n",
       "      <th>2016-11-30 18:39:27.600</th>\n",
       "      <td>42.8903</td>\n",
       "      <td>13.0197</td>\n",
       "      <td>10.7</td>\n",
       "      <td>2.0</td>\n",
       "      <td>NaN</td>\n",
       "      <td>18</td>\n",
       "    </tr>\n",
       "    <tr>\n",
       "      <th>2016-11-30 18:43:14.850</th>\n",
       "      <td>42.9443</td>\n",
       "      <td>13.2003</td>\n",
       "      <td>8.6</td>\n",
       "      <td>2.6</td>\n",
       "      <td>NaN</td>\n",
       "      <td>18</td>\n",
       "    </tr>\n",
       "    <tr>\n",
       "      <th>2016-11-30 20:18:27.550</th>\n",
       "      <td>43.0092</td>\n",
       "      <td>13.1288</td>\n",
       "      <td>8.0</td>\n",
       "      <td>2.2</td>\n",
       "      <td>NaN</td>\n",
       "      <td>20</td>\n",
       "    </tr>\n",
       "    <tr>\n",
       "      <th>2016-11-30 20:45:11.780</th>\n",
       "      <td>43.0197</td>\n",
       "      <td>13.1017</td>\n",
       "      <td>9.3</td>\n",
       "      <td>2.7</td>\n",
       "      <td>NaN</td>\n",
       "      <td>20</td>\n",
       "    </tr>\n",
       "    <tr>\n",
       "      <th>2016-11-30 20:54:35.890</th>\n",
       "      <td>42.9935</td>\n",
       "      <td>13.0753</td>\n",
       "      <td>9.5</td>\n",
       "      <td>2.3</td>\n",
       "      <td>NaN</td>\n",
       "      <td>20</td>\n",
       "    </tr>\n",
       "  </tbody>\n",
       "</table>\n",
       "<p>8086 rows × 6 columns</p>\n",
       "</div>"
      ],
      "text/plain": [
       "                         Latitude  Longitude  Depth/Km  Magnitude  hour_count  \\\n",
       "Time                                                                            \n",
       "2016-08-24 03:36:32.000   42.6983    13.2335       8.1        6.0         NaN   \n",
       "2016-08-24 03:37:26.580   42.7123    13.2533       9.0        4.5         NaN   \n",
       "2016-08-24 03:40:46.590   42.7647    13.1723       9.7        3.8         NaN   \n",
       "2016-08-24 03:41:38.900   42.7803    13.1683       9.7        3.9         NaN   \n",
       "2016-08-24 03:42:07.170   42.7798    13.1575       9.7        3.6         NaN   \n",
       "...                           ...        ...       ...        ...         ...   \n",
       "2016-11-30 18:39:27.600   42.8903    13.0197      10.7        2.0         NaN   \n",
       "2016-11-30 18:43:14.850   42.9443    13.2003       8.6        2.6         NaN   \n",
       "2016-11-30 20:18:27.550   43.0092    13.1288       8.0        2.2         NaN   \n",
       "2016-11-30 20:45:11.780   43.0197    13.1017       9.3        2.7         NaN   \n",
       "2016-11-30 20:54:35.890   42.9935    13.0753       9.5        2.3         NaN   \n",
       "\n",
       "                         hour  \n",
       "Time                           \n",
       "2016-08-24 03:36:32.000     3  \n",
       "2016-08-24 03:37:26.580     3  \n",
       "2016-08-24 03:40:46.590     3  \n",
       "2016-08-24 03:41:38.900     3  \n",
       "2016-08-24 03:42:07.170     3  \n",
       "...                       ...  \n",
       "2016-11-30 18:39:27.600    18  \n",
       "2016-11-30 18:43:14.850    18  \n",
       "2016-11-30 20:18:27.550    20  \n",
       "2016-11-30 20:45:11.780    20  \n",
       "2016-11-30 20:54:35.890    20  \n",
       "\n",
       "[8086 rows x 6 columns]"
      ]
     },
     "execution_count": 36,
     "metadata": {},
     "output_type": "execute_result"
    }
   ],
   "source": [
    "df['hour'] = df.index.hour\n",
    "df"
   ]
  },
  {
   "cell_type": "code",
   "execution_count": 37,
   "id": "39bc60df",
   "metadata": {},
   "outputs": [
    {
     "data": {
      "text/plain": [
       "hour\n",
       "0     333\n",
       "1     303\n",
       "2     307\n",
       "3     303\n",
       "4     343\n",
       "5     395\n",
       "6     403\n",
       "7     401\n",
       "8     363\n",
       "9     388\n",
       "10    336\n",
       "11    327\n",
       "12    338\n",
       "13    315\n",
       "14    351\n",
       "15    331\n",
       "16    295\n",
       "17    317\n",
       "18    317\n",
       "19    340\n",
       "20    314\n",
       "21    310\n",
       "22    317\n",
       "23    339\n",
       "dtype: int64"
      ]
     },
     "execution_count": 37,
     "metadata": {},
     "output_type": "execute_result"
    }
   ],
   "source": [
    "hourly_count = df.groupby('hour').size()\n",
    "hourly_count"
   ]
  },
  {
   "cell_type": "code",
   "execution_count": 38,
   "id": "fec1c562",
   "metadata": {},
   "outputs": [
    {
     "data": {
      "text/html": [
       "<div>\n",
       "<style scoped>\n",
       "    .dataframe tbody tr th:only-of-type {\n",
       "        vertical-align: middle;\n",
       "    }\n",
       "\n",
       "    .dataframe tbody tr th {\n",
       "        vertical-align: top;\n",
       "    }\n",
       "\n",
       "    .dataframe thead th {\n",
       "        text-align: right;\n",
       "    }\n",
       "</style>\n",
       "<table border=\"1\" class=\"dataframe\">\n",
       "  <thead>\n",
       "    <tr style=\"text-align: right;\">\n",
       "      <th></th>\n",
       "      <th>Hour</th>\n",
       "      <th>Earthquake Count</th>\n",
       "    </tr>\n",
       "  </thead>\n",
       "  <tbody>\n",
       "    <tr>\n",
       "      <th>0</th>\n",
       "      <td>0</td>\n",
       "      <td>333</td>\n",
       "    </tr>\n",
       "    <tr>\n",
       "      <th>1</th>\n",
       "      <td>1</td>\n",
       "      <td>303</td>\n",
       "    </tr>\n",
       "    <tr>\n",
       "      <th>2</th>\n",
       "      <td>2</td>\n",
       "      <td>307</td>\n",
       "    </tr>\n",
       "    <tr>\n",
       "      <th>3</th>\n",
       "      <td>3</td>\n",
       "      <td>303</td>\n",
       "    </tr>\n",
       "    <tr>\n",
       "      <th>4</th>\n",
       "      <td>4</td>\n",
       "      <td>343</td>\n",
       "    </tr>\n",
       "    <tr>\n",
       "      <th>5</th>\n",
       "      <td>5</td>\n",
       "      <td>395</td>\n",
       "    </tr>\n",
       "    <tr>\n",
       "      <th>6</th>\n",
       "      <td>6</td>\n",
       "      <td>403</td>\n",
       "    </tr>\n",
       "    <tr>\n",
       "      <th>7</th>\n",
       "      <td>7</td>\n",
       "      <td>401</td>\n",
       "    </tr>\n",
       "    <tr>\n",
       "      <th>8</th>\n",
       "      <td>8</td>\n",
       "      <td>363</td>\n",
       "    </tr>\n",
       "    <tr>\n",
       "      <th>9</th>\n",
       "      <td>9</td>\n",
       "      <td>388</td>\n",
       "    </tr>\n",
       "    <tr>\n",
       "      <th>10</th>\n",
       "      <td>10</td>\n",
       "      <td>336</td>\n",
       "    </tr>\n",
       "    <tr>\n",
       "      <th>11</th>\n",
       "      <td>11</td>\n",
       "      <td>327</td>\n",
       "    </tr>\n",
       "    <tr>\n",
       "      <th>12</th>\n",
       "      <td>12</td>\n",
       "      <td>338</td>\n",
       "    </tr>\n",
       "    <tr>\n",
       "      <th>13</th>\n",
       "      <td>13</td>\n",
       "      <td>315</td>\n",
       "    </tr>\n",
       "    <tr>\n",
       "      <th>14</th>\n",
       "      <td>14</td>\n",
       "      <td>351</td>\n",
       "    </tr>\n",
       "    <tr>\n",
       "      <th>15</th>\n",
       "      <td>15</td>\n",
       "      <td>331</td>\n",
       "    </tr>\n",
       "    <tr>\n",
       "      <th>16</th>\n",
       "      <td>16</td>\n",
       "      <td>295</td>\n",
       "    </tr>\n",
       "    <tr>\n",
       "      <th>17</th>\n",
       "      <td>17</td>\n",
       "      <td>317</td>\n",
       "    </tr>\n",
       "    <tr>\n",
       "      <th>18</th>\n",
       "      <td>18</td>\n",
       "      <td>317</td>\n",
       "    </tr>\n",
       "    <tr>\n",
       "      <th>19</th>\n",
       "      <td>19</td>\n",
       "      <td>340</td>\n",
       "    </tr>\n",
       "    <tr>\n",
       "      <th>20</th>\n",
       "      <td>20</td>\n",
       "      <td>314</td>\n",
       "    </tr>\n",
       "    <tr>\n",
       "      <th>21</th>\n",
       "      <td>21</td>\n",
       "      <td>310</td>\n",
       "    </tr>\n",
       "    <tr>\n",
       "      <th>22</th>\n",
       "      <td>22</td>\n",
       "      <td>317</td>\n",
       "    </tr>\n",
       "    <tr>\n",
       "      <th>23</th>\n",
       "      <td>23</td>\n",
       "      <td>339</td>\n",
       "    </tr>\n",
       "  </tbody>\n",
       "</table>\n",
       "</div>"
      ],
      "text/plain": [
       "    Hour  Earthquake Count\n",
       "0      0               333\n",
       "1      1               303\n",
       "2      2               307\n",
       "3      3               303\n",
       "4      4               343\n",
       "5      5               395\n",
       "6      6               403\n",
       "7      7               401\n",
       "8      8               363\n",
       "9      9               388\n",
       "10    10               336\n",
       "11    11               327\n",
       "12    12               338\n",
       "13    13               315\n",
       "14    14               351\n",
       "15    15               331\n",
       "16    16               295\n",
       "17    17               317\n",
       "18    18               317\n",
       "19    19               340\n",
       "20    20               314\n",
       "21    21               310\n",
       "22    22               317\n",
       "23    23               339"
      ]
     },
     "execution_count": 38,
     "metadata": {},
     "output_type": "execute_result"
    }
   ],
   "source": [
    "hourly_report = pd.DataFrame({\n",
    "    'Hour': hourly_count.index,\n",
    "    'Earthquake Count': hourly_count.values\n",
    "})\n",
    "hourly_report"
   ]
  },
  {
   "cell_type": "markdown",
   "id": "1423c83a",
   "metadata": {},
   "source": [
    "# 16  คำนวณค่าเฉลี่ยของความรุนแรงแผ่นดินไหวที่มากที่สุดในช่วง 3 วัน โดยหาความแรงของแผ่นดินไหวที่มากที่สุดในแต่ละวันก่อน แล้วใช้ sliding window หาค่าเฉลี่ยของทุก ๆ 3 วัน"
   ]
  },
  {
   "cell_type": "code",
   "execution_count": 39,
   "id": "7b5e3919",
   "metadata": {},
   "outputs": [],
   "source": [
    "import numpy as np"
   ]
  },
  {
   "cell_type": "code",
   "execution_count": 40,
   "id": "c1be4b62",
   "metadata": {},
   "outputs": [
    {
     "data": {
      "text/plain": [
       "Time\n",
       "2016-08-24    6.0\n",
       "2016-08-25    4.4\n",
       "2016-08-26    4.8\n",
       "2016-08-27    4.0\n",
       "2016-08-28    4.2\n",
       "             ... \n",
       "2016-11-26    3.2\n",
       "2016-11-27    3.9\n",
       "2016-11-28    3.6\n",
       "2016-11-29    4.4\n",
       "2016-11-30    3.1\n",
       "Freq: D, Name: Magnitude, Length: 99, dtype: float64"
      ]
     },
     "execution_count": 40,
     "metadata": {},
     "output_type": "execute_result"
    }
   ],
   "source": [
    "max_magnitude_per_day = df.resample('D')['Magnitude'].max()\n",
    "max_magnitude_per_day"
   ]
  },
  {
   "cell_type": "code",
   "execution_count": 41,
   "id": "67211244",
   "metadata": {},
   "outputs": [
    {
     "data": {
      "text/plain": [
       "Time\n",
       "2016-08-24    6.000000\n",
       "2016-08-25    5.200000\n",
       "2016-08-26    5.066667\n",
       "2016-08-27    4.400000\n",
       "2016-08-28    4.333333\n",
       "                ...   \n",
       "2016-11-26    3.066667\n",
       "2016-11-27    3.400000\n",
       "2016-11-28    3.566667\n",
       "2016-11-29    3.966667\n",
       "2016-11-30    3.700000\n",
       "Freq: D, Name: Magnitude, Length: 99, dtype: float64"
      ]
     },
     "execution_count": 41,
     "metadata": {},
     "output_type": "execute_result"
    }
   ],
   "source": [
    "rolling_average = max_magnitude_per_day.rolling(window=3, min_periods=1).mean()\n",
    "rolling_average"
   ]
  },
  {
   "cell_type": "code",
   "execution_count": null,
   "id": "bc5d4995",
   "metadata": {},
   "outputs": [],
   "source": []
  }
 ],
 "metadata": {
  "kernelspec": {
   "display_name": "Python 3 (ipykernel)",
   "language": "python",
   "name": "python3"
  },
  "language_info": {
   "codemirror_mode": {
    "name": "ipython",
    "version": 3
   },
   "file_extension": ".py",
   "mimetype": "text/x-python",
   "name": "python",
   "nbconvert_exporter": "python",
   "pygments_lexer": "ipython3",
   "version": "3.8.17"
  },
  "varInspector": {
   "cols": {
    "lenName": 16,
    "lenType": 16,
    "lenVar": 40
   },
   "kernels_config": {
    "python": {
     "delete_cmd_postfix": "",
     "delete_cmd_prefix": "del ",
     "library": "var_list.py",
     "varRefreshCmd": "print(var_dic_list())"
    },
    "r": {
     "delete_cmd_postfix": ") ",
     "delete_cmd_prefix": "rm(",
     "library": "var_list.r",
     "varRefreshCmd": "cat(var_dic_list()) "
    }
   },
   "types_to_exclude": [
    "module",
    "function",
    "builtin_function_or_method",
    "instance",
    "_Feature"
   ],
   "window_display": false
  }
 },
 "nbformat": 4,
 "nbformat_minor": 5
}
