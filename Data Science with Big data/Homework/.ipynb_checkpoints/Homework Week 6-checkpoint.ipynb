{
 "cells": [
  {
   "cell_type": "code",
   "execution_count": null,
   "id": "1f230255",
   "metadata": {},
   "outputs": [],
   "source": [
    "import pandas as pd\n",
    "import numpy as np"
   ]
  },
  {
   "cell_type": "markdown",
   "id": "68adbdb1",
   "metadata": {},
   "source": [
    "# 1. โหลดไฟล์ชื่อ olympics_cleaned.csv ขึ้นมาใน DataFrame ชื่อ medals"
   ]
  },
  {
   "cell_type": "code",
   "execution_count": null,
   "id": "b449b561",
   "metadata": {},
   "outputs": [],
   "source": [
    "medals = pd.read_csv('olympics_cleaned.csv')\n",
    "medals"
   ]
  },
  {
   "cell_type": "markdown",
   "id": "ee025169",
   "metadata": {},
   "source": [
    "# 2. โหลดไฟล์ชื่อ drinks.csv ขึ้นมาใน DataFrame ชื่อ drinks"
   ]
  },
  {
   "cell_type": "code",
   "execution_count": null,
   "id": "824a3d70",
   "metadata": {},
   "outputs": [],
   "source": [
    "drinks = pd.read_csv('drinks.csv')\n",
    "drinks"
   ]
  },
  {
   "cell_type": "markdown",
   "id": "118f071f",
   "metadata": {},
   "source": [
    "# 3. ใน drinks มีคอลัมน์ไหนที่ไม่มีข้อมูลบ้าง และไม่มีข้อมูลกี่ตำแหน่งในแต่ละคอลัมน์"
   ]
  },
  {
   "cell_type": "code",
   "execution_count": null,
   "id": "f16e01f5",
   "metadata": {},
   "outputs": [],
   "source": [
    "drinks.isnull().sum()"
   ]
  },
  {
   "cell_type": "markdown",
   "id": "e5dd7cd3",
   "metadata": {},
   "source": [
    "# 4. ลองเช็คว่าชื่อประเทศของตาราง medals ใดที่ไม่มีอยู่ในตาราง drinks\n",
    "1. ลองใช้คำสั่ง isin() ในการเช็คว่ามีประเทศใดใน medals ไม่มีอยู่ใน drinks"
   ]
  },
  {
   "cell_type": "code",
   "execution_count": null,
   "id": "d06002ed",
   "metadata": {},
   "outputs": [],
   "source": [
    "medals.Country.isin(drinks.country)"
   ]
  },
  {
   "cell_type": "code",
   "execution_count": null,
   "id": "2038a53a",
   "metadata": {},
   "outputs": [],
   "source": [
    "print(\"Country in medals table have in drinks table ->\",medals.Country.isin(drinks.country).value_counts()[True])\n",
    "print(\"Country in medals table don't have in drinks table ->\",medals.Country.isin(drinks.country).value_counts()[False])"
   ]
  },
  {
   "cell_type": "markdown",
   "id": "a3530c6d",
   "metadata": {},
   "source": [
    "# 5 แสดงชื่อประเทศขอตาราง drinks ที่ไม่มีอยู่ในตาราง medals\n",
    "1. นิสิตจะเห็นความแตกต่างของชื่อประเทศในตารางนี้ว่าเรียกชื่อประเทศไม่เหมือนกัน ตอนทำงานจริงนั้นต้องปรับชื่อให้ตรงกัน เช่น USA, United States ตามชื่อประเทศของ medals"
   ]
  },
  {
   "cell_type": "code",
   "execution_count": null,
   "id": "326d7cbe",
   "metadata": {},
   "outputs": [],
   "source": [
    "drinks[drinks.country.isin(medals.Country) == False]"
   ]
  },
  {
   "cell_type": "code",
   "execution_count": null,
   "id": "2628a7e7",
   "metadata": {},
   "outputs": [],
   "source": [
    "#drinks.country.replace({'USA': 'United States'})"
   ]
  },
  {
   "cell_type": "markdown",
   "id": "0cf36a42",
   "metadata": {},
   "source": [
    "# 6. นำคอลัมน์ที่ชื่อ continent ของ drinks ไปต่อกับตาราง medals ตามชื่อประเทศของ medals\n",
    "1. การที่จะ join ตารางได้นั้นต้องมีคอลัมน์ที่ตรงกันในทั้งสองตาราง ในที่นี้ให้ใช้ชื่อประเทศ<br>\n",
    "2. อย่าลืมว่าการ join ข้อมูลนั้นเราต้องการคงข้อมูลของประเทศที่มีในตาราง medals ไว้ ตารางที่ join แล้วจะมีจำนวนแถวเท่ากับตาราง medals"
   ]
  },
  {
   "cell_type": "code",
   "execution_count": null,
   "id": "b8f96d79",
   "metadata": {},
   "outputs": [],
   "source": [
    "drinks.rename(columns={'country': 'Country'}, inplace=True)\n",
    "drinks.head()"
   ]
  },
  {
   "cell_type": "code",
   "execution_count": null,
   "id": "84ef6c19",
   "metadata": {},
   "outputs": [],
   "source": [
    "dfNew = drinks[drinks.Country.isin(medals.Country) == True]\n",
    "dfNew"
   ]
  },
  {
   "cell_type": "code",
   "execution_count": null,
   "id": "86195427",
   "metadata": {},
   "outputs": [],
   "source": [
    "tryAddContinent =  pd.concat([medals.set_index(\"Country\"),dfNew.set_index(\"Country\").continent],\n",
    "          join=\"outer\", axis=1)\n",
    "tryAddContinent"
   ]
  },
  {
   "cell_type": "code",
   "execution_count": null,
   "id": "f41d22bc",
   "metadata": {},
   "outputs": [],
   "source": [
    "medals = tryAddContinent\n",
    "medals"
   ]
  },
  {
   "cell_type": "markdown",
   "id": "4616a08b",
   "metadata": {},
   "source": [
    "# 7. ในตาราง medals จงแสดงชื่อประเทศที่ยังไม่มีข้อมูลในคอลลัมน์ continent"
   ]
  },
  {
   "cell_type": "code",
   "execution_count": null,
   "id": "af4c78a2",
   "metadata": {},
   "outputs": [],
   "source": [
    "medals.loc[medals.continent.isnull() == True, \"continent\"]"
   ]
  },
  {
   "cell_type": "markdown",
   "id": "951c8cb3",
   "metadata": {},
   "source": [
    "# 8. นิสิตจะเห็นแนวทางการแก้ไขข้อมูลหรือรวมประเทศบางประเทศเข้าด้วยกัน แต่ในการบ้านนี้ยังไม่ต้องทำทั้งหมด แค่เติมข้อมูลทวีปที่ยังขาดหายไปในบางประเทศดังนี้ \n",
    "Australasia: OC<br>\n",
    "Canada/United States/Mexico: NA<br>\n",
    "Cuba/Jamaica: SA<br>\n",
    "Czech/Yugoslavia/Germany(ทั้งหมด)/Great Britain/Russia(ทั้งหมด)/Soviet: EU<br>\n",
    "ประเทศที่เหลือกำหนดเป็น OT\n",
    "1. ตารางนี้จะเป็นตารางแบบ wide ที่สมบรูณ์ ควรเก็บไว้เพื่อใช้คำนวณ"
   ]
  },
  {
   "cell_type": "code",
   "execution_count": null,
   "id": "b5e98ca1",
   "metadata": {},
   "outputs": [],
   "source": [
    "medals.head()"
   ]
  },
  {
   "cell_type": "code",
   "execution_count": null,
   "id": "1a66dcf5",
   "metadata": {},
   "outputs": [],
   "source": [
    "medals = medals.reset_index()\n",
    "medals.loc[(medals.Country == \"Australasia\") , \"continent\"]"
   ]
  },
  {
   "cell_type": "code",
   "execution_count": null,
   "id": "2aa3fe5f",
   "metadata": {},
   "outputs": [],
   "source": [
    "medals.loc[(medals.Country == \"Australasia\") , \"continent\"] = \"OC\"\n",
    "\n",
    "medals.loc[(medals.Country == \"Canada\") , \"continent\"] = \"NA\"\n",
    "medals.loc[(medals.Country == \"United States\") , \"continent\"] = \"NA\"\n",
    "medals.loc[(medals.Country == \"Mexico\") , \"continent\"] = \"NA\"\n",
    "\n",
    "medals.loc[(medals.Country == \"Cuba\") , \"continent\"] = \"SA\"\n",
    "medals.loc[(medals.Country == \"Jamaica\") , \"continent\"] = \"SA\"\n",
    "\n",
    "medals.loc[(medals.Country == \"Czech\") , \"continent\"] = \"EU\"\n",
    "medals.loc[(medals.Country == \"Yugoslavia\") , \"continent\"] = \"EU\"\n",
    "medals.loc[(medals.Country == \"Germany\") , \"continent\"] = \"EU\"\n",
    "medals.loc[(medals.Country == \"Great Britain\") , \"continent\"] = \"EU\"\n",
    "medals.loc[(medals.Country == \"Russia\") , \"continent\"] = \"EU\"\n",
    "medals.loc[(medals.Country == \"Soviet\") , \"continent\"] = \"EU\""
   ]
  },
  {
   "cell_type": "code",
   "execution_count": null,
   "id": "94f40705",
   "metadata": {},
   "outputs": [],
   "source": [
    "medals.loc[medals.continent.isnull() == True, \"continent\"] = \"OT\""
   ]
  },
  {
   "cell_type": "code",
   "execution_count": null,
   "id": "9636ace0",
   "metadata": {},
   "outputs": [],
   "source": [
    "medals.continent.isnull().sum()"
   ]
  },
  {
   "cell_type": "markdown",
   "id": "3c045e53",
   "metadata": {},
   "source": [
    "# 9. ตั้งให้ชื่อทวีปเป็น index ชั้นนอกและชื่อประเทศเป็น Index ชั้นใน"
   ]
  },
  {
   "cell_type": "code",
   "execution_count": null,
   "id": "2324b7d7",
   "metadata": {},
   "outputs": [],
   "source": [
    "medals = medals.reset_index()\n",
    "medals"
   ]
  },
  {
   "cell_type": "code",
   "execution_count": null,
   "id": "51dfbe99",
   "metadata": {},
   "outputs": [],
   "source": [
    "medals = medals.set_index([\"continent\",\"Country\"])\n",
    "medals"
   ]
  },
  {
   "cell_type": "markdown",
   "id": "05c697e7",
   "metadata": {},
   "source": [
    "# 10. เรียงลำดับชื่อทวีปจากมากไปน้อยและในทวีปเรียงลำดับชื่อประเทศจากน้อยไปมาก"
   ]
  },
  {
   "cell_type": "code",
   "execution_count": null,
   "id": "97ea4028",
   "metadata": {},
   "outputs": [],
   "source": [
    "medals.sort_index(ascending=[False,True])"
   ]
  },
  {
   "cell_type": "markdown",
   "id": "9c1a3305",
   "metadata": {},
   "source": [
    "# 14. แสดงจำนวนเหรียญทองโอลิมปิกฤดูร้อนรวมของแต่ละทวีปจากมากไปน้อย"
   ]
  },
  {
   "cell_type": "code",
   "execution_count": null,
   "id": "ce928d57",
   "metadata": {},
   "outputs": [],
   "source": [
    "medals.groupby(\"continent\").SummerGold.sum()"
   ]
  },
  {
   "cell_type": "markdown",
   "id": "5bee6a8d",
   "metadata": {},
   "source": [
    "# 15. นับว่าแต่ละทวีปมีกี่ประเทศ (ลองใช้คำสั่ง size() ต่อจากการ groupby())"
   ]
  },
  {
   "cell_type": "code",
   "execution_count": null,
   "id": "7f47bd54",
   "metadata": {},
   "outputs": [],
   "source": [
    "medals.groupby(\"continent\").size()"
   ]
  },
  {
   "cell_type": "markdown",
   "id": "40054b63",
   "metadata": {},
   "source": [
    "# 16. แสดงตารางรวมเหรียญฤดูร้อนแต่ละประเภทของทุกประเทศในทวีปเดียวกัน แสดงผลแยกตามทวีป"
   ]
  },
  {
   "cell_type": "code",
   "execution_count": null,
   "id": "af3597de",
   "metadata": {},
   "outputs": [],
   "source": [
    "medals.groupby('continent').agg({\n",
    "    \"SummerGold\":\"sum\",\n",
    "    \"SummerSilver\":\"sum\",\n",
    "    \"SummerBronze\":\"sum\"\n",
    "})"
   ]
  },
  {
   "cell_type": "markdown",
   "id": "45a295ac",
   "metadata": {},
   "source": [
    "# 17. แสดงตารางสรุปรวมเหรียญแต่ละประเภทของทุกประเทศแยกตามฤดูแข่งขัน"
   ]
  },
  {
   "cell_type": "code",
   "execution_count": null,
   "id": "f4d9fd79",
   "metadata": {},
   "outputs": [],
   "source": [
    "medals.head()"
   ]
  },
  {
   "cell_type": "code",
   "execution_count": null,
   "id": "1ee7dddf",
   "metadata": {},
   "outputs": [],
   "source": [
    "df_Coin = medals.reset_index()\n",
    "df_Coin"
   ]
  },
  {
   "cell_type": "code",
   "execution_count": null,
   "id": "6b2d740e",
   "metadata": {},
   "outputs": [],
   "source": [
    "BronzeSummer = df_Coin.SummerBronze.sum()\n",
    "BronzeSummer"
   ]
  },
  {
   "cell_type": "code",
   "execution_count": null,
   "id": "25c3d62a",
   "metadata": {},
   "outputs": [],
   "source": [
    "GoldSummer = df_Coin.SummerGold.sum()\n",
    "GoldSummer"
   ]
  },
  {
   "cell_type": "code",
   "execution_count": null,
   "id": "b61f12db",
   "metadata": {},
   "outputs": [],
   "source": [
    "GoldSilver= df_Coin.SummerSilver.sum()\n",
    "GoldSilver"
   ]
  },
  {
   "cell_type": "code",
   "execution_count": null,
   "id": "18fa681f",
   "metadata": {},
   "outputs": [],
   "source": [
    "BronzeWinter = df_Coin.WinterBronze.sum()\n",
    "BronzeWinter"
   ]
  },
  {
   "cell_type": "code",
   "execution_count": null,
   "id": "de67ddbd",
   "metadata": {},
   "outputs": [],
   "source": [
    "GoldWinter = df_Coin.WinterGold.sum()\n",
    "GoldWinter"
   ]
  },
  {
   "cell_type": "code",
   "execution_count": null,
   "id": "9dbbc8d0",
   "metadata": {},
   "outputs": [],
   "source": [
    "GoldWinter= df_Coin.WinterSilver.sum()\n",
    "GoldWinter"
   ]
  },
  {
   "cell_type": "code",
   "execution_count": null,
   "id": "55dc38ee",
   "metadata": {},
   "outputs": [],
   "source": [
    "data = {\n",
    "    'SeasonMedal': [\"Bronze\", \"Gold\", \"Silver\"],\n",
    "    \"Summer\": [BronzeSummer,GoldSummer,GoldSilver],\n",
    "    \"Winter\": [BronzeWinter,GoldWinter,GoldWinter],\n",
    "}"
   ]
  },
  {
   "cell_type": "code",
   "execution_count": null,
   "id": "65de1b47",
   "metadata": {},
   "outputs": [],
   "source": [
    "seasonMedal = pd.DataFrame(data)"
   ]
  },
  {
   "cell_type": "code",
   "execution_count": null,
   "id": "73c10be2",
   "metadata": {},
   "outputs": [],
   "source": [
    "seasonMedal.set_index(\"SeasonMedal\")"
   ]
  },
  {
   "cell_type": "markdown",
   "id": "f4575fcb",
   "metadata": {},
   "source": [
    "# 18. หาค่าเฉลี่ยของจำนวนเหรียญทองฤดูร้อนต่อประเทศที่เข้าร่วมแข่งขัน แยกตามทวีป"
   ]
  },
  {
   "cell_type": "code",
   "execution_count": null,
   "id": "24e93fa9",
   "metadata": {},
   "outputs": [],
   "source": [
    "medals.head()"
   ]
  },
  {
   "cell_type": "code",
   "execution_count": null,
   "id": "45099606",
   "metadata": {},
   "outputs": [],
   "source": [
    "medals.groupby(\"continent\").SummerGold.mean()"
   ]
  },
  {
   "cell_type": "markdown",
   "id": "ae7d875a",
   "metadata": {},
   "source": [
    "# 19. หาจำนวนประเทศที่เคยเข้าร่วมการแข่งโอลิมปิค แยกตามทวีปและฤดูแข่งขัน แสดงในตารางเดียวกัน\n",
    "\n",
    "\n",
    "ต้องแยกประเทศที่่เข้า SummerGame และ WinterGame ก่อน แล้วค่อยมา join กันทีหลัง"
   ]
  },
  {
   "cell_type": "code",
   "execution_count": null,
   "id": "ede4f234",
   "metadata": {},
   "outputs": [],
   "source": [
    "df_Coin.head()"
   ]
  },
  {
   "cell_type": "code",
   "execution_count": null,
   "id": "a590b480",
   "metadata": {},
   "outputs": [],
   "source": [
    "df_JoinOly = df_Coin.loc[:,[\"continent\",\"Country\",\"SummerGame\"]]\n",
    "df_JoinOly"
   ]
  },
  {
   "cell_type": "code",
   "execution_count": null,
   "id": "6c161fd4",
   "metadata": {},
   "outputs": [],
   "source": [
    "df_JoinOly = df_JoinOly.set_index( [\"continent\",\"Country\"] )\n",
    "df_JoinOly"
   ]
  },
  {
   "cell_type": "code",
   "execution_count": null,
   "id": "c19be0af",
   "metadata": {},
   "outputs": [],
   "source": [
    "df_JoinOly.groupby(\"continent\").size()"
   ]
  },
  {
   "cell_type": "code",
   "execution_count": null,
   "id": "1d4d9bbd",
   "metadata": {},
   "outputs": [],
   "source": [
    "df_JoinOly2 = df_Coin.loc[:,[\"continent\",\"Country\",\"WinterGame\"]]\n",
    "df_JoinOly2\n",
    "df_JoinOly2 = df_JoinOly2.set_index( [\"continent\",\"Country\"] )\n",
    "df_JoinOly2"
   ]
  },
  {
   "cell_type": "code",
   "execution_count": null,
   "id": "cb225334",
   "metadata": {},
   "outputs": [],
   "source": [
    "df_JoinOly2.WinterGame <= 0"
   ]
  },
  {
   "cell_type": "code",
   "execution_count": null,
   "id": "2285a30d",
   "metadata": {},
   "outputs": [],
   "source": [
    "df_JoinOly2.drop(df_JoinOly2[condition].index)"
   ]
  },
  {
   "cell_type": "code",
   "execution_count": null,
   "id": "f015957d",
   "metadata": {},
   "outputs": [],
   "source": []
  }
 ],
 "metadata": {
  "kernelspec": {
   "display_name": "Python 3 (ipykernel)",
   "language": "python",
   "name": "python3"
  },
  "language_info": {
   "codemirror_mode": {
    "name": "ipython",
    "version": 3
   },
   "file_extension": ".py",
   "mimetype": "text/x-python",
   "name": "python",
   "nbconvert_exporter": "python",
   "pygments_lexer": "ipython3",
   "version": "3.8.17"
  },
  "varInspector": {
   "cols": {
    "lenName": 16,
    "lenType": 16,
    "lenVar": 40
   },
   "kernels_config": {
    "python": {
     "delete_cmd_postfix": "",
     "delete_cmd_prefix": "del ",
     "library": "var_list.py",
     "varRefreshCmd": "print(var_dic_list())"
    },
    "r": {
     "delete_cmd_postfix": ") ",
     "delete_cmd_prefix": "rm(",
     "library": "var_list.r",
     "varRefreshCmd": "cat(var_dic_list()) "
    }
   },
   "types_to_exclude": [
    "module",
    "function",
    "builtin_function_or_method",
    "instance",
    "_Feature"
   ],
   "window_display": false
  }
 },
 "nbformat": 4,
 "nbformat_minor": 5
}
